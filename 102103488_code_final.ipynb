{
  "cells": [
    {
      "cell_type": "markdown",
      "source": [
        "Setting up requirements"
      ],
      "metadata": {
        "id": "hmIs--THQ-mm"
      }
    },
    {
      "cell_type": "code",
      "execution_count": 1,
      "metadata": {
        "id": "NfUhNi3ajaQH"
      },
      "outputs": [],
      "source": [
        "%matplotlib inline"
      ]
    },
    {
      "cell_type": "code",
      "execution_count": 2,
      "metadata": {
        "id": "ZJizIcnbjaQN",
        "outputId": "0c763374-e38e-4ce2-c2a1-6a44a53f47a8",
        "colab": {
          "base_uri": "https://localhost:8080/"
        }
      },
      "outputs": [
        {
          "output_type": "stream",
          "name": "stdout",
          "text": [
            "Looking in indexes: https://pypi.org/simple, https://download.pytorch.org/whl/cu117\n",
            "Collecting pydub\n",
            "  Downloading pydub-0.25.1-py2.py3-none-any.whl.metadata (1.4 kB)\n",
            "Collecting torch==1.13.1+cu117\n",
            "  Downloading https://download.pytorch.org/whl/cu117/torch-1.13.1%2Bcu117-cp310-cp310-linux_x86_64.whl (1801.8 MB)\n",
            "\u001b[2K     \u001b[90m━━━━━━━━━━━━━━━━━━━━━━━━━━━━━━━━━━━━━━━━\u001b[0m \u001b[32m1.8/1.8 GB\u001b[0m \u001b[31m844.4 kB/s\u001b[0m eta \u001b[36m0:00:00\u001b[0m\n",
            "\u001b[?25hCollecting torchvision==0.14.1+cu117\n",
            "  Downloading https://download.pytorch.org/whl/cu117/torchvision-0.14.1%2Bcu117-cp310-cp310-linux_x86_64.whl (24.3 MB)\n",
            "\u001b[2K     \u001b[90m━━━━━━━━━━━━━━━━━━━━━━━━━━━━━━━━━━━━━━━━\u001b[0m \u001b[32m24.3/24.3 MB\u001b[0m \u001b[31m67.5 MB/s\u001b[0m eta \u001b[36m0:00:00\u001b[0m\n",
            "\u001b[?25hCollecting torchaudio==0.13.1\n",
            "  Downloading https://download.pytorch.org/whl/cu117/torchaudio-0.13.1%2Bcu117-cp310-cp310-linux_x86_64.whl (4.2 MB)\n",
            "\u001b[2K     \u001b[90m━━━━━━━━━━━━━━━━━━━━━━━━━━━━━━━━━━━━━━━━\u001b[0m \u001b[32m4.2/4.2 MB\u001b[0m \u001b[31m94.7 MB/s\u001b[0m eta \u001b[36m0:00:00\u001b[0m\n",
            "\u001b[?25hRequirement already satisfied: typing-extensions in /usr/local/lib/python3.10/dist-packages (from torch==1.13.1+cu117) (4.12.2)\n",
            "Requirement already satisfied: numpy in /usr/local/lib/python3.10/dist-packages (from torchvision==0.14.1+cu117) (1.26.4)\n",
            "Requirement already satisfied: requests in /usr/local/lib/python3.10/dist-packages (from torchvision==0.14.1+cu117) (2.32.3)\n",
            "Requirement already satisfied: pillow!=8.3.*,>=5.3.0 in /usr/local/lib/python3.10/dist-packages (from torchvision==0.14.1+cu117) (9.4.0)\n",
            "Requirement already satisfied: charset-normalizer<4,>=2 in /usr/local/lib/python3.10/dist-packages (from requests->torchvision==0.14.1+cu117) (3.3.2)\n",
            "Requirement already satisfied: idna<4,>=2.5 in /usr/local/lib/python3.10/dist-packages (from requests->torchvision==0.14.1+cu117) (3.8)\n",
            "Requirement already satisfied: urllib3<3,>=1.21.1 in /usr/local/lib/python3.10/dist-packages (from requests->torchvision==0.14.1+cu117) (2.0.7)\n",
            "Requirement already satisfied: certifi>=2017.4.17 in /usr/local/lib/python3.10/dist-packages (from requests->torchvision==0.14.1+cu117) (2024.8.30)\n",
            "Downloading pydub-0.25.1-py2.py3-none-any.whl (32 kB)\n",
            "Installing collected packages: pydub, torch, torchvision, torchaudio\n",
            "  Attempting uninstall: torch\n",
            "    Found existing installation: torch 2.4.0+cu121\n",
            "    Uninstalling torch-2.4.0+cu121:\n",
            "      Successfully uninstalled torch-2.4.0+cu121\n",
            "  Attempting uninstall: torchvision\n",
            "    Found existing installation: torchvision 0.19.0+cu121\n",
            "    Uninstalling torchvision-0.19.0+cu121:\n",
            "      Successfully uninstalled torchvision-0.19.0+cu121\n",
            "  Attempting uninstall: torchaudio\n",
            "    Found existing installation: torchaudio 2.4.0+cu121\n",
            "    Uninstalling torchaudio-2.4.0+cu121:\n",
            "      Successfully uninstalled torchaudio-2.4.0+cu121\n",
            "Successfully installed pydub-0.25.1 torch-1.13.1+cu117 torchaudio-0.13.1+cu117 torchvision-0.14.1+cu117\n"
          ]
        }
      ],
      "source": [
        "!pip install pydub torch==1.13.1+cu117 torchvision==0.14.1+cu117 torchaudio==0.13.1 --extra-index-url https://download.pytorch.org/whl/cu117\n",
        "\n",
        "import torch\n",
        "import torch.nn as nn\n",
        "import torch.nn.functional as F\n",
        "import torch.optim as optim\n",
        "import torchaudio\n",
        "import sys\n",
        "\n",
        "import matplotlib.pyplot as plt\n",
        "import IPython.display as ipd\n",
        "\n",
        "from tqdm import tqdm"
      ]
    },
    {
      "cell_type": "code",
      "execution_count": 3,
      "metadata": {
        "id": "wu8Bs8hWjaQS",
        "outputId": "c13d35f1-bc6a-4054-926d-6b6442e8e4e7",
        "colab": {
          "base_uri": "https://localhost:8080/"
        }
      },
      "outputs": [
        {
          "output_type": "stream",
          "name": "stdout",
          "text": [
            "cuda\n"
          ]
        }
      ],
      "source": [
        "device = torch.device(\"cuda\" if torch.cuda.is_available() else \"cpu\")\n",
        "print(device)"
      ]
    },
    {
      "cell_type": "markdown",
      "source": [
        "Loading dataset"
      ],
      "metadata": {
        "id": "QFYqDtjpRF9P"
      }
    },
    {
      "cell_type": "code",
      "source": [
        "!pip install rarfile"
      ],
      "metadata": {
        "colab": {
          "base_uri": "https://localhost:8080/"
        },
        "id": "Ss86LosBgE0b",
        "outputId": "d03604b4-2717-4fc5-ef3a-6a93bc7c533d"
      },
      "execution_count": 4,
      "outputs": [
        {
          "output_type": "stream",
          "name": "stdout",
          "text": [
            "Collecting rarfile\n",
            "  Downloading rarfile-4.2-py3-none-any.whl.metadata (4.4 kB)\n",
            "Downloading rarfile-4.2-py3-none-any.whl (29 kB)\n",
            "Installing collected packages: rarfile\n",
            "Successfully installed rarfile-4.2\n"
          ]
        }
      ]
    },
    {
      "cell_type": "code",
      "source": [
        "import rarfile\n",
        "import os\n",
        "\n",
        "def extract_rar(rar_path, extract_to):\n",
        "    # Ensure the extract directory exists\n",
        "    if not os.path.exists(extract_to):\n",
        "        os.makedirs(extract_to)\n",
        "\n",
        "    # Open and extract the .rar file\n",
        "    with rarfile.RarFile(rar_path) as rf:\n",
        "        rf.extractall(path=extract_to)\n",
        "\n",
        "    print(f\"Extracted to {extract_to}\")\n",
        "\n",
        "# Path to your .rar file and where to extract\n",
        "rar_file_path = \"/content/recordings_v2.rar\"\n",
        "extract_to_path = \"/content\"\n",
        "\n",
        "# Extract the .rar file\n",
        "extract_rar(rar_file_path, extract_to_path)\n"
      ],
      "metadata": {
        "colab": {
          "base_uri": "https://localhost:8080/"
        },
        "id": "3IOOj-Eof5Ss",
        "outputId": "27cfa650-4384-4beb-f37f-bf41074d1f8e"
      },
      "execution_count": 5,
      "outputs": [
        {
          "output_type": "stream",
          "name": "stdout",
          "text": [
            "Extracted to /content\n"
          ]
        }
      ]
    },
    {
      "cell_type": "code",
      "source": [
        "import torchaudio\n",
        "from torchaudio.datasets import SPEECHCOMMANDS\n",
        "import os\n",
        "from torchaudio.transforms import Resample\n",
        "\n",
        "class SubsetSC(SPEECHCOMMANDS):\n",
        "    def __init__(self, subset: str = None, dataset_path: str = \"./\", target_sample_rate: int = 16000):\n",
        "        super().__init__(dataset_path, download=False)\n",
        "        self.target_sample_rate = target_sample_rate\n",
        "\n",
        "        def load_list(filename):\n",
        "            filepath = os.path.join(self._path, filename)\n",
        "            with open(filepath) as fileobj:\n",
        "                return [os.path.normpath(os.path.join(self._path, line.strip())) for line in fileobj]\n",
        "\n",
        "        if subset == \"validation\":\n",
        "            self._walker = load_list(\"validation_list.txt\")\n",
        "        elif subset == \"testing\":\n",
        "            self._walker = load_list(\"testing_list.txt\")\n",
        "        elif subset == \"training\":\n",
        "            excludes = load_list(\"validation_list.txt\") + load_list(\"testing_list.txt\")\n",
        "            excludes = set(excludes)\n",
        "            self._walker = [w for w in self._walker if w not in excludes]\n",
        "\n",
        "    def __getitem__(self, n):\n",
        "        # Load the waveform, sample rate, and metadata\n",
        "        fileid = self._walker[n]\n",
        "        waveform, sample_rate = torchaudio.load(fileid)\n",
        "\n",
        "        # Resample if necessary\n",
        "        if sample_rate != self.target_sample_rate:\n",
        "            resampler = Resample(orig_freq=sample_rate, new_freq=self.target_sample_rate)\n",
        "            waveform = resampler(waveform)\n",
        "\n",
        "        label = os.path.basename(os.path.dirname(fileid))\n",
        "        speaker_id = fileid.split(\"/\")[-2]  # Extract speaker ID from path\n",
        "        utterance_number = int(os.path.basename(fileid).split(\"_\")[-1].split(\".\")[0])\n",
        "\n",
        "        return waveform, self.target_sample_rate, label, speaker_id, utterance_number\n",
        "\n",
        "# Specify the path to your local dataset folder and target sample rate\n",
        "local_dataset_path = \"/content/recordings_v2\"\n",
        "target_sample_rate = 16000\n",
        "\n",
        "# Create training and testing split using the local folder and resampling\n",
        "train_set = SubsetSC(\"training\", dataset_path=local_dataset_path, target_sample_rate=target_sample_rate)\n",
        "test_set = SubsetSC(\"testing\", dataset_path=local_dataset_path, target_sample_rate=target_sample_rate)\n",
        "\n",
        "# Example usage: access the first sample\n",
        "waveform, sample_rate, label, speaker_id, utterance_number = train_set[-1]\n"
      ],
      "metadata": {
        "id": "7xuqmYj7eeY0"
      },
      "execution_count": 7,
      "outputs": []
    },
    {
      "cell_type": "markdown",
      "source": [
        "Showing waveform"
      ],
      "metadata": {
        "id": "8VSTwTqsR8Kj"
      }
    },
    {
      "cell_type": "code",
      "execution_count": 15,
      "metadata": {
        "id": "RPPss-V0jaQc",
        "outputId": "fb890567-201a-41c3-8acd-a250e9952ecd",
        "colab": {
          "base_uri": "https://localhost:8080/",
          "height": 482
        }
      },
      "outputs": [
        {
          "output_type": "stream",
          "name": "stdout",
          "text": [
            "Shape of waveform: torch.Size([2, 17280])\n",
            "Sample rate of waveform: 16000\n",
            "Label of waveform: zero\n"
          ]
        },
        {
          "output_type": "display_data",
          "data": {
            "text/plain": [
              "<Figure size 640x480 with 1 Axes>"
            ],
            "image/png": "[encoded data removed]"
          },
          "metadata": {}
        }
      ],
      "source": [
        "print(\"Shape of waveform: {}\".format(waveform.size()))\n",
        "print(\"Sample rate of waveform: {}\".format(sample_rate))\n",
        "print(\"Label of waveform: {}\".format(label))\n",
        "\n",
        "plt.plot(waveform.t().numpy(), color='green');"
      ]
    },
    {
      "cell_type": "markdown",
      "source": [
        "Showing labels in the dataset"
      ],
      "metadata": {
        "id": "AIdCpz-HSAF3"
      }
    },
    {
      "cell_type": "code",
      "execution_count": 16,
      "metadata": {
        "id": "75YsTJWMjaQe",
        "outputId": "4c913339-c2fd-440b-e0f6-4ef8f1b7db48",
        "colab": {
          "base_uri": "https://localhost:8080/"
        }
      },
      "outputs": [
        {
          "output_type": "execute_result",
          "data": {
            "text/plain": [
              "['backward',\n",
              " 'bed',\n",
              " 'bird',\n",
              " 'cat',\n",
              " 'dog',\n",
              " 'down',\n",
              " 'eight',\n",
              " 'five',\n",
              " 'follow',\n",
              " 'forward',\n",
              " 'four',\n",
              " 'go',\n",
              " 'happy',\n",
              " 'house',\n",
              " 'learn',\n",
              " 'left',\n",
              " 'marvin',\n",
              " 'nine',\n",
              " 'no',\n",
              " 'off',\n",
              " 'on',\n",
              " 'one',\n",
              " 'right',\n",
              " 'seven',\n",
              " 'sheila',\n",
              " 'six',\n",
              " 'stop',\n",
              " 'three',\n",
              " 'tree',\n",
              " 'two',\n",
              " 'up',\n",
              " 'visual',\n",
              " 'wow',\n",
              " 'yes',\n",
              " 'zero']"
            ]
          },
          "metadata": {},
          "execution_count": 16
        }
      ],
      "source": [
        "labels = sorted(list(set(datapoint[2] for datapoint in train_set)))\n",
        "labels"
      ]
    },
    {
      "cell_type": "markdown",
      "source": [
        "Checking Audios"
      ],
      "metadata": {
        "id": "LTXyPPtQSMKe"
      }
    },
    {
      "cell_type": "code",
      "execution_count": 17,
      "metadata": {
        "id": "XBWF8pMzjaQg",
        "outputId": "c53e5491-e3d0-42c6-dfc9-96b8cfac36fb",
        "colab": {
          "base_uri": "https://localhost:8080/",
          "height": 76
        }
      },
      "outputs": [
        {
          "output_type": "execute_result",
          "data": {
            "text/plain": [
              "<IPython.lib.display.Audio object>"
            ],
            "text/html": [
              "\n",
              "                <audio  controls=\"controls\" >\n",
              "                    <source src=\"data:audio/wav;base64,UklGRiReAQBXQVZFZm10IBAAAAABAAIAgD4AAAD6AAAEABAAZGF0YQBeAQAAAAAAAAAAAAAAAAAAAAAAAAAAAAAAAAAAAAAAAAAAAAAAAAAAAAAAAAAAAAAAAAAAAAAAAAAAAAAAAAAAAAAAAAAAAAAAAAAAAAAAAAAAAAAAAAAAAAAAAAAAAAAAAAAAAAAAAAAAAAAAAAAAAAAAAAAAAAAAAAAAAAAAAAAAAAAAAAAAAAAAAAAAAAAAAAAAAAAAAAAAAAAAAAAAAAAAAAAAAAAAAAAAAAAAAAAAAAAAAAAAAAAAAAAAAAAAAAAAAAAAAAAAAAAAAAAAAAAAAAAAAAAAAAAAAAAAAAAAAAAAAAAAAAAAAAAAAAAAAAAAAAAAAAAAAAAAAAAAAAAAAAAAAAAAAAAAAAAAAAAAAAAAAAAAAAAAAAAAAAAAAAAAAAAAAAAAAAAAAAAAAAAAAAAAAAAAAAAAAAAAAAAAAAAAAAAAAAAAAAAAAAAAAAAAAAAAAAAAAAAAAAAAAAAAAAAAAAAAAAAAAAAAAAAAAAAAAAAAAAAAAAAAAAAAAAAAAAAAAAAAAAAAAAAAAAAAAAAAAAAAAAAAAAAAAAAAAAAAAAAAAAAAAAAAAAAAAAAAAAAAAAAAAAAAAAAAAAAAAAAAAAAAAAAAAAAAAAAAAAAAAAAAAAAAAAAAAAAAAAAAAAAAAAAAAAAAAAAAAAAAAAAAAAAAAAAAAAAAAAAAAAAAAAAAAAAAAAAAAAAAAAAAAAAAAAAAAAAAAAAAAAAAAAAAAAAAAAAAAAAAAAAAAAAAAAAAAAAAAAAAAAAAAAAAAAAAAAAAAAAAAAAAAAAAAAAAAAAAAAAAAAAAAAAAAAAAAAAAAAAAAAAAAAAAAAAAAAAAAAAAAAAAAAAAAAAAAAAAAAAAAAAAAAAAAAAAAAAAAAAAAAAAAAAAAAAAAAAAAAAAAAAAAAAAAAAAAAAAAAAAAAAAAAAAAAAAAAAAAAAAAAAAAAAAAAAAAAAAAAAAAAAAAAAAAAAAAAAAAAAAAAAAAAAAAAAAAAAAAAAAAAAAAAAAAAAAAAAAAAAAAAAAAAAAAAAAAAAAAAAAAAAAAAAAAAAAAAAAAAAAAAAAAAAAAAAAAAAAAAAAAAAAAAAAAAAAAAAAAAAAAAAAAAAAAAAAAAAAAAAAAAAAAAAAAAAAAAAAAAAAAAAAAAAAAAAAAAAAAAAAAAAAAAAAAAAAAAAAAAAAAAAAAAAAAAAAAAAAAAAAAAAAAAAAAAAAAAAAAAAAAAAAAAAAAAAAAAAAAAAAAAAAAAAAAAAAAAAAAAAAAAAAAAAAAAAAAAAAAAAAAAAAAAAAAAAAAAAAAAAAAAAAAAAAAAAAAAAAAAAAAAAAAAAAAAAAAAAAAAAAAAAAAAAAAAAAAAAAAAAAAAAAAAAAAAAAAAAAAAAAAAAAAAAAAAAAAAAAAAAAAAAAAAAAAAAAAAAAAAAAAAAAAAAAAAAAAAAAAAAAAAAAAAAAAAAAAAAAAAAAAAAAAAAAAAAAAAAAAAAAAAAAAAAAAAAAAAAAAAAAAAAAAAAAAAAAAAAAAAAAAAAAAAAAAAAAAAAAAAAAAAAAAAAAAAAAAAAAAAAAAAAAAAAAAAAAAAAAAAAAAAAAAAAAAAAAAAAAAAAAAAAAAAAAAAAAAAAAAAAAAAAAAAAAAAAAAAAAAAAAAAAAAAAAAAAAAAAAAAAAAAAAAAAAAAAAAAAAAAAAAAAAAAAAAAAAAAAAAAAAAAAAAAAAAAAAAAAAAAAAAAAAAAAAAAAAAAAAAAAAAAAAAAAAAAAAAAAAAAAAAAAAAAAAAAAAAAAAAAAAAAAAAAAAAAAAAAAAAAAAAAAAAAAAAAAAAAAAAAAAAAAAAAAAAAAAAAAAAAAAAAAAAAAAAAAAAAAAAAAAAAAAAAAAAAAAAAAAAAAAAAAAAAAAAAAAAAAAAAAAAAAAAAAAAAAAAAAAAAAAAAAAAAAAAAAAAAAAAAAAAAAAAAAAAAAAAAAAAAAAAAAAAAAAAAAAAAAAAAAAAAAAAAAAAAAAAAAAAAAAAAAAAAAAAAAAAAAAAAAAAAAAAAAAAAAAAAAAAAAAAAAAAAAAAAAAAAAAAAAAAAAAAAAAAAAAAAAAAAAAAAAAAAAAAAAAAAAAAAAAAAAAAAAAAAAAAAAAAAAAAAAAAAAAAAAAAAAAAAAAAAAAAAAAAAAAAAAAAAAAAAAAAAAAAAAAAAAAAAAAAAAAAAAAAAAAAAAAAAAAAAAAAAAAAAAAAAAAAAAAAAAAAAAAAAAAAAAAAAAAAAAAAAAAAAAAAAAAAAAAAAAAAAAAAAAAAAAAAAAAAAAAAAAAAAAAAAAAAAAAAAAAAAAAAAAAAAAAAAAAAAAAAAAAAAAAAAAAAAAAAAAAAAAAAAAAAAAAAAAAAAAAAAAAAAAAAAAAAAAAAAAAAAAAAAAAAAAAAAAAAAAAAAAAAAAAAAAAAAAAAAAAAAAAAAAAAAAAAAAAAAAAAAAAAAAAAAAAAAAAAAAAAAAAAAAAAAAAAAAAAAAAAAAAAAAAAAAAAAAAAAAAAAAAAAAAAAAAAAAAAAAAAAAAAAAAAAAAAAAAAAAAAAAAAAAAAAAAAAAAAAAAAAAAAAAAAAAAAAAAAAAAAAAAAAAAAAAAAAAAAAAAAAAAAAAAAAAAAAAAAAAAAAAAAAAAAAAAAAAAAAAAAAAAAAAAAAAAAAAAAAAAAAAAAAAAAAAAAAAAAAAAAAAAAAAAAAAAAAAAAAAAAAAAAAAAAAAAAAAAAAAAAAAAAAAAAAAAAAAAAAAAAAAAAAAAAAAAAAAAAAAAAAAAAAAAAAAAAAAAAAAAAAAAAAAAAAAAAAAAAAAAAAAAAAAAAAAAAAAAAAAAAAAAAAAAAAAAAAAAAAAAAAAAAAAAAAAAAAAAAAAAAAAAAAAAAAAAAAAAAAAAAAAAAAAAAAAAAAAAAAAAAAAAAAAAAAAAAAAAAAAAAAAAAAAAAAAAAAAAAAAAAAAAAAAAAAAAAAAAAAAAAAAAAAAAAAAAAAAAAAAAAAAAAAAAAAAAAAAAAAAAAAAAAAAAAAAAAAAAAAAAAAAAAAAAAAAAAAAAAAAAAAAAAAAAAAAAAAAAAAAAAAAAAAAAAAAAAAAAAAAAAAAAAAAAAAAAAAAAAAAAAAAAAAAAAAAAAAAAAAAAAAAAAAAAAAAAAAAAAAAAAAAAAAAAAAAAAAAAAAAAAAAAAAAAAAAAAAAAAAAAAAAAAAAAAAAAAAAAAAAAAAAAAAAAAAAAAAAAAAAAAAAAAAAAAAAAAAAAAAAAAAAAAAAAAAAAAAAAAAAAAAAAAAAAAAAAAAAAAAAAAAAAAAAAAAAAAAAAAAAAAAAAAAAAAAAAAAAAAAAAAAAAAAAAAAAAAAAAAAAAAAAAAAAAAAAAAAAAAAAAAAAAAAAAAAAAAAAAAAAAAAAAAAAAAAAAAAAAAAAAAAAAAAAAAAAAAAAAAAAAAAAAAAAAAAAAAAAAAAAAAAAAAAAAAAAAAAAAAAAAAAAAAAAAAAAAAAAAAAAAAAAAAAAAAAAAAAAAAAAAAAAAAAAAAAAAAAAAAAAAAAAAAAAAAAAAAAAAAAAAAAAAAAAAAAAAAAAAAAAAAAAAAAAAAAAAAAAAAAAAAAAAAAAAAAAAAAAAAAAAAAAAAAAAAAAAAAAAAAAAAAAAAAAAAAAAAAAAAAAAAAAAAAAAAAAAAAAAAAAAAAAAAAAAAAAAAAAAAAAAAAAAAAMAAwAEAAQAAwADAAMAAwADAAMAAwADAAMAAwADAAMAAwADAAMAAwADAAMAAwADAAMAAwADAAMAAwADAAMAAwADAAMAAwADAAMAAwADAAMAAwADAAMAAwADAAMAAwADAAMAAwADAAMAAwADAAMAAwADAAMAAwADAAMAAwADAAMAAwADAAMAAwADAAMAAwADAAMAAwADAAMAAwADAAMAAwADAAMAAwADAAMAAwADAAMAAwADAAMAAwADAAMAAwADAAMAAwADAAMAAwADAAMAAwADAAMAAwADAAQABAACAAIAAAAAAAAAAAACAAIAAwADAAIAAgAEAAQAAwADAAMAAwADAAMAAwADAAMAAwAEAAQAAQABAAAAAAAAAAAA/f/9//////8AAAAAAAAAAAAAAAD9//3///////7//v/6//r//f/9//v/+//4//j/+f/5//j/+P/0//T/7v/u/+3/7f/u/+7/8v/y/+//7//t/+3/6v/q/+n/6f/n/+f/4//j/+D/4P/h/+H/5P/k/+r/6v/p/+n/5v/m/+D/4P/e/97/3v/e/9r/2v/d/93/3v/e/9n/2f/W/9b/2P/Y/93/3f/g/+D/4//j/+n/6f/p/+n/6//r/+f/5//i/+L/4f/h/+X/5f/p/+n/5f/l/+H/4f/j/+P/6P/o/+3/7f/5//n/+P/4/wAAAAAOAA4ABgAGAAQABAAJAAkABAAEAP7//v/9//3/AAAAAAAAAAAGAAYADgAOABUAFQAaABoAFgAWABkAGQAZABkAGwAbAB8AHwAXABcADgAOAP7//v8HAAcAFAAUACAAIAAiACIAGQAZAAcABwADAAMABQAFABEAEQAeAB4AGgAaAA0ADQADAAMABAAEAAgACAAcABwALAAsAC4ALgAoACgAFAAUAA8ADwANAA0ADAAMABYAFgAeAB4AIQAhABUAFQAcABwAJgAmACgAKAA6ADoASABIAEUARQA3ADcALAAsAB8AHwATABMADQANABYAFgAmACYALQAtADAAMABGAEYAQABAADgAOAA0ADQAMQAxADEAMQA0ADQANQA1ADcANwA0ADQAMgAyACoAKgAiACIAHAAcAAoACgA+AD4AWABYADkAOQA3ADcAMAAwACsAKwAbABsAEgASAA4ADgATABMAGgAaAB0AHQAjACMAGwAbAAMAAwDt/+3/6f/p//H/8f/u/+7/7f/t//D/8P/0//T/9v/2//H/8f/k/+T/3//f/9X/1f/R/9H/y//L/9r/2v/Y/9j/xP/E/8L/wv/H/8f/y//L/8r/yv/R/9H/2v/a/9z/3P/d/93/3v/e/+H/4f/S/9L/yv/K/73/vf/B/8H/wP/A/8j/yP/X/9f/4P/g/+n/6f/s/+z/4v/i/93/3f/Z/9n/0f/R/8r/yv/d/93/3//f/+L/4v/m/+b/5f/l/+L/4v/c/9z/2v/a/9v/2//d/93/1P/U/9f/1//l/+X/4P/g/9n/2f/W/9b/3P/c/97/3v/W/9b/2P/Y/9P/0//K/8r/yP/I/8D/wP/Q/9D/0//T/9b/1v/O/87/zv/O/9H/0f/L/8v/0//T/+D/4P/m/+b/5P/k/+P/4//s/+z/8P/w//T/9P/1//X/8//z//L/8v/4//j//v/+/xUAFQAZABkAGAAYABwAHAAnACcAOQA5ADsAOwBCAEIARQBFADwAPAA2ADYAMwAzADwAPAA4ADgANgA2ADcANwBMAEwAVQBVAGMAYwBvAG8AcwBzAG8AbwBZAFkARwBHAEQARABJAEkATgBOAEEAQQBJAEkARQBFAEUARQBaAFoAVwBXAE0ATQBMAEwATQBNAEIAQgAyADIAJAAkAB4AHgAnACcAJAAkAB0AHQAYABgADQANAPv/+/8IAAgADQANAAAAAAD2//b/9//3//b/9v/1//X/4//j/+T/5P/m/+b/8P/w//D/8P/v/+//9f/1//P/8//p/+n/3v/e/9r/2v/X/9f/1f/V/+v/6//2//b/CwALAA8ADwANAA0AHgAeACUAJQAeAB4ACwALAP7//v8AAAAA+P/4//v/+//3//f//P/8/wwADAAeAB4ANAA0ADwAPAA5ADkAMAAwACYAJgAjACMABAAEAOz/7P/l/+X/4P/g/+D/4P/n/+f/8//z/wIAAgAJAAkAEwATAAYABgDv/+//4//j/9T/1P/F/8X/sf+x/67/rv+3/7f/tP+0/6X/pf+Z/5n/o/+j/7P/s/++/77/t/+3/7D/sP+m/6b/nf+d/4r/iv9+/37/f/9//4X/hf+M/4z/lv+W/6X/pf+s/6z/sP+w/7T/tP+w/7D/qf+p/6v/q/+w/7D/sf+x/7X/tf+0/7T/xf/F/9f/1//s/+z/9f/1/+3/7f/y//L/7f/t/+H/4f/2//b//f/9//z//P8DAAMAEAAQAA8ADwAOAA4AGAAYACoAKgAnACcAJgAmACYAJgApACkAHgAeAB0AHQAqACoAOwA7AEQARABIAEgATQBNAEAAQAA5ADkAMgAyAC4ALgA1ADUANAA0AC8ALwA1ADUAPwA/ADsAOwBGAEYASgBKAFAAUABGAEYAMwAzACQAJAAWABYABQAFAAAAAAAQABAAJwAnAC4ALgAqACoAKQApAB0AHQAXABcAEgASAAwADAALAAsADQANABIAEgAVABUAIQAhACYAJgAmACYAKQApABkAGQAIAAgACgAKABAAEAAeAB4ALAAsADkAOQA9AD0APgA+AEUARQA2ADYAMAAwADgAOAArACsAIgAiABgAGAAUABQAEQARAB4AHgAqACoAOwA7AEUARQBBAEEAKgAqABMAEwABAAEACwALAA8ADwAFAAUACAAIAAQABAALAAsAEQARABMAEwATABMAEwATAAwADAAKAAoAAQABAPX/9f/3//f//////wkACQANAA0AFwAXAB8AHwAcABwAEgASAAwADAACAAIA/P/8/wUABQAGAAYACgAKAB0AHQATABMACgAKAAQABADy//L/7//v//X/9f/9//3/AwADAAAAAAABAAEA/v/+/+7/7v/b/9v/xv/G/8X/xf/I/8j/wv/C/9D/0P/L/8v/y//L/8//z//R/9H/1v/W/8X/xf+y/7L/rf+t/6z/rP+p/6n/ov+i/63/rf/K/8r/1//X/83/zf/M/8z/zv/O/8P/w/+5/7n/uv+6/7//v/+7/7v/rf+t/8H/wf/a/9r/9//3/xAAEAARABEAAAAAAOv/6//U/9T/v/+//7P/s/+v/6//uP+4/9D/0P/z//P/DgAOAAsACwAAAAAA+P/4/+D/4P/X/9f/2v/a/9P/0//S/9L/0//T/93/3f/t/+3/+f/5//P/8//v/+//5P/k/+f/5//r/+v/5v/m//H/8f/t/+3/8//z/woACgAnACcAJgAmAB4AHgAfAB8ADAAMAPT/9P/j/+P/2v/a/+X/5f/+//7/DAAMABMAEwAbABsAJgAmAC8ALwApACkAHgAeAAsACwAHAAcAAgACAPf/9//2//b//////wEAAQADAAMA/f/9/wMAAwAPAA8AIQAhADgAOABEAEQARABEAD8APwAtAC0ALwAvADMAMwA5ADkANQA1ADcANwA+AD4AOgA6ADMAMwBGAEYAWwBbAGEAYQBWAFYAUQBRAFUAVQBbAFsAWABYAFQAVABOAE4APwA/ADAAMAAkACQAFgAWAA4ADgARABEAFwAXABMAEwAZABkAEQARAAsACwAIAAgAAgACAPz//P/v/+//8f/x//j/+P/0//T/9//3//n/+f/2//b/6f/p/97/3v/b/9v/2f/Z/+L/4v/3//f/CQAJABoAGgAbABsAIQAhACIAIgAoACgAKQApACAAIAASABIABwAHAAMAAwANAA0ADwAPABIAEgAXABcAFwAXAB4AHgApACkAMgAyADAAMAAkACQAKAAoABIAEgAKAAoAAgACAPL/8v/g/+D/z//P/7//v/++/77/0f/R/+b/5v/4//j/AAAAAPv/+//3//f/6//r/+T/5P/f/9//0P/Q/8f/x//H/8f/zv/O/9v/2//g/+D/7f/t//T/9P/6//r/AQABAAwADAANAA0ABwAHAAYABgAAAAAAAAAAAAQABAADAAMADgAOABYAFgAVABUAIAAgABIAEgD+//7/6//r/9j/2P/Q/9D/zv/O/97/3v/o/+j/7v/u//L/8v/q/+r/3f/d/9z/3P/b/9v/zv/O/8H/wf+5/7n/t/+3/7z/vP+2/7b/rv+u/6z/rP+s/6z/vP+8/8z/zP/X/9f/8v/y/wAAAAARABEAEQARAP/////2//b/4//j/9j/2P/X/9f/5//n//n/+f8OAA4AJAAkACQAJAATABMABwAHAAoACgAQABAAFgAWABkAGQApACkAKgAqACIAIgAbABsAGgAaABsAGwAUABQA/v/+//T/9P/4//j/AAAAAPj/+P/5//n/DQANABkAGQApACkANgA2AD8APwBNAE0ASgBKADgAOAA2ADYAJQAlABUAFQAIAAgA/f/9/wIAAgARABEAIAAgADIAMgBAAEAAVABUAGEAYQBkAGQAWwBbAE0ATQA7ADsAKQApABQAFAD6//r/7P/s/+r/6v/y//L/9f/1//z//P/7//v/BQAFABYAFgAeAB4AHAAcAAwADAD9//3/9v/2/+n/6f/X/9f/3P/c/97/3v/f/9//5v/m/+v/6//8//z/CgAKAAsACwAFAAUABAAEAAwADAAWABYAJAAkADAAMAAsACwAGAAYABcAFwAfAB8ALgAuAC4ALgAlACUAKgAqACYAJgAeAB4AFgAWAA0ADQACAAIAAAAAAP7//v/8//z/BQAFAAsACwALAAsADAAMAPz//P/s/+z/2P/Y/8//z//B/8H/sP+w/7D/sP+t/63/tf+1/7n/uf/F/8X/zf/N/9T/1P/b/9v/2v/a/+H/4f/p/+n/4//j/+P/4//n/+f/6//r//D/8P/0//T/+//7/wIAAgADAAMAAgACABQAFAAcABwAGAAYACEAIQAcABwAKwArAEIAQgBEAEQAPgA+ADEAMQAkACQAFgAWAAIAAgD5//n/AAAAAAAAAAD2//b/9v/2/wEAAQAIAAgAAwADAPT/9P/u/+7/5P/k/9j/2P/c/9z/3v/e/93/3f/Q/9D/vf+9/73/vf/S/9L/2P/Y/9n/2f/R/9H/z//P/8X/xf+7/7v/xf/F/8//z//W/9b/4//j//D/8P/5//n/BAAEAAcABwAHAAcA/v/+/+r/6v/k/+T/6v/q//3//f//////8//z/+L/4v/r/+v/9//3/wUABQAhACEAOAA4AEgASAA/AD8AKgAqACgAKAAoACgAFAAUAAoACgAEAAQAAAAAAAAAAAADAAMABgAGABQAFAAsACwAQgBCAGMAYwBqAGoAXwBfAFEAUQA9AD0AJAAkABkAGQAMAAwABAAEAP/////9//3/EAAQABwAHAAmACYAIgAiAB8AHwAlACUAHQAdAAwADAAHAAcADgAOAAYABgDx//H/9P/0//3//f/0//T/6f/p/9z/3P/a/9r/2v/a/+L/4v/v/+//CAAIABAAEAAXABcAHwAfAB4AHgAfAB8AHgAeACcAJwAuAC4AJgAmACQAJAAcABwAJQAlACkAKQA7ADsAWQBZAGoAagBkAGQATwBPAE8ATwBQAFAASwBLAFEAUQBYAFgAYwBjAGAAYABCAEIAMgAyADIAMgAsACwAFQAVAAMAAwAFAAUABgAGAP/////4//j/5v/m/8v/y//H/8f/zP/M/8//z//K/8r/2f/Z/+n/6f/k/+T/0f/R/7j/uP+o/6j/mf+Z/4T/hP95/3n/i/+L/5n/mf+j/6P/pP+k/7r/uv/Y/9j/4f/h//H/8f/w//D/8f/x/+f/5//O/87/u/+7/7D/sP+i/6L/lf+V/5j/mP+n/6f/t/+3/8D/wP/a/9r/9v/2/wIAAgD4//j/9//3/+//7//U/9T/vP+8/6P/o/+l/6X/mv+a/5f/l/+h/6H/qf+p/7D/sP/B/8H/2P/Y/+D/4P/p/+n/6v/q//j/+P8FAAUABAAEAAcABwAMAAwAAAAAAOf/5//k/+T/8P/w//b/9v/9//3/CQAJAB0AHQBCAEIAVwBXAGMAYwBmAGYAYABgAEgASAAzADMAOwA7AEIAQgAzADMAHgAeACQAJAAhACEAJwAnADkAOQA0ADQAMQAxADYANgA8ADwAOgA6ADkAOQAxADEAKQApACAAIAAYABgAFQAVAAcABwD6//r//f/9//z//P/7//v/DQANAA8ADwAOAA4A+//7//r/+v8EAAQA+//7//X/9f/7//v//f/9/wAAAAAIAAgACQAJAPz//P/y//L/8f/x//f/9//3//f/6//r/+v/6//y//L/+//7/wMAAwADAAMACAAIAAkACQAFAAUAEwATACEAIQAlACUANQA1ACkAKQAWABYAGgAaAB0AHQAPAA8ACAAIAAsACwAnACcAPwA/AFQAVABnAGcAZgBmAFMAUwBJAEkASABIAD4APgAjACMADwAPABEAEQATABMAFgAWABYAFgALAAsAAwADAAEAAQD5//n//f/9/wUABQDy//L/4v/i/+L/4v/f/9//zf/N/8H/wf+m/6b/k/+T/4H/gf9x/3H/fP98/5T/lP+o/6j/uf+5/83/zf/N/83/v/+//6//r/+o/6j/l/+X/4L/gv9u/27/b/9v/4n/if+v/6//3//f//n/+f8TABMAHwAfABUAFQADAAMA9v/2/+//7//m/+b/7P/s/+//7/8AAAAADAAMACAAIAA1ADUAMgAyAD8APwBWAFYAUABQAEIAQgBBAEEAOQA5ACoAKgAiACIAEgASAAcABwALAAsAEwATABIAEgAeAB4AMgAyAEEAQQBCAEIANwA3AEQARABCAEIAOwA7ACkAKQATABMA/v/+//T/9P/4//j/AAAAAAgACAASABIAHQAdACIAIgAsACwALgAuADAAMAAzADMANQA1ACoAKgAaABoAAwADAPX/9f/4//j/8v/y/9//3//k/+T/6//r//v/+/8IAAgAGAAYABIAEgAMAAwADAAMAPr/+v/v/+//2//b/9L/0v/L/8v/yf/J/9X/1f/T/9P/2v/a/+L/4v/i/+L/5//n/+z/7P/0//T/+f/5//D/8P/x//H/+f/5//n/+f/w//D/8f/x//X/9f/u/+7/8P/w/9//3//n/+f/8P/w/+f/5//q/+r/9P/0//X/9f/1//X/8v/y//D/8P/r/+v/3f/d/9L/0v/I/8j/zf/N/8r/yv/C/8L/zP/M/9T/1P/M/8z/yv/K/8r/yv/A/8D/xP/E/9X/1f/l/+X/3f/d/83/zf/D/8P/yP/I/9b/1v/g/+D/5//n//H/8f//////+f/5//z//P8AAAAABgAGAAAAAADv/+//9v/2/wYABgAbABsALwAvADgAOAA/AD8AQQBBAEEAQQA9AD0AMgAyACcAJwAcABwAIAAgAB4AHgAQABAAGQAZACsAKwA/AD8AQABAAEoASgBHAEcANQA1ACsAKwAdAB0AEQARABIAEgAhACEAEgASAAMAAwALAAsAEwATABYAFgAXABcAEQARABAAEAANAA0AEAAQAB8AHwAiACIAEgASAPn/+f/p/+n/3//f/+H/4f/r/+v/9//3/woACgAQABAACwALAAAAAAD7//v/6f/p/9n/2f/U/9T/3v/e/+T/5P/o/+j/8f/x/wAAAAALAAsA//////n/+f/u/+7/1f/V/8j/yP/E/8T/2f/Z/+j/6P/s/+z/+//7/wEAAQAHAAcA+//7//v/+//8//z/7v/u/+3/7f/t/+3/9f/1//r/+v/+//7/AgACAAoACgAEAAQA8P/w/+r/6v/6//r/CgAKABQAFAAkACQAIwAjACYAJgAmACYACQAJAPX/9f/3//f/7//v/+n/6f/t/+3/7//v//X/9f8FAAUAFQAVACMAIwAjACMAEwATAA0ADQAQABAAEwATAAkACQAKAAoACgAKAAYABgAAAAAA/f/9/wMAAwANAA0AGQAZABUAFQAXABcALAAsADUANQA2ADYAPgA+AD4APgApACkAFgAWAAgACAAAAAAA/f/9//v/+//9//3/AwADABQAFAAXABcAHwAfACgAKAAgACAAHAAcAAcABwD2//b/7//v/9j/2P/D/8P/v/+//8b/xv/F/8X/t/+3/8P/w//W/9b/4P/g/+n/6f/r/+v/8f/x/+T/5P/H/8f/t/+3/77/vv+9/73/t/+3/77/vv/R/9H/4f/h/+z/7P8AAAAAAQABAAIAAgALAAsABAAEAAkACQASABIAGgAaABoAGgAaABoAFwAXABYAFgASABIAGwAbACQAJAAkACQALgAuADkAOQBDAEMAQgBCAEEAQQA6ADoAPAA8AD4APgA0ADQAKQApACIAIgAZABkAGAAYACUAJQAmACYAJwAnACgAKAAuAC4AJgAmABQAFAABAAEA7f/t/+b/5v/u/+7/9v/2/wgACAAPAA8ABAAEAPL/8v/g/+D/0P/Q/7z/vP+7/7v/x//H/87/zv/j/+P/7f/t//f/9/8AAAAA9//3/+r/6v/O/87/vv++/6//r/+v/6//u/+7/9X/1f/i/+L/2v/a/97/3v/a/9r/2f/Z/+b/5v/p/+n/9P/0/wAAAAAJAAkAEgASABQAFAAhACEAGQAZAAAAAADu/+7/4v/i/93/3f/m/+b/+P/4/w8ADwAmACYALwAvADoAOgBAAEAAOAA4ACcAJwARABEACAAIAPX/9f/Y/9j/1f/V/9D/0P/V/9X/4v/i/+P/4//u/+7//v/+/wQABAAAAAAAAgACAP/////t/+3/5v/m/+b/5v/b/9v/3f/d/9b/1v/U/9T/3f/d/9//3//m/+b/BAAEABYAFgAsACwARABEAEwATAA/AD8ANgA2ACgAKAATABMAHAAcACYAJgAxADEAPAA8AEsASwBfAF8AWgBaAFUAVQBYAFgAXABcAG0AbQB0AHQAgACAAI0AjQB8AHwAXwBfAE4ATgAzADMAIgAiAA0ADQAHAAcABQAFAPb/9v/z//P/AAAAAAQABAD+//7/8P/w//L/8v/2//b//f/9//P/8//h/+H/3f/d/9T/1P/P/8//0v/S/9T/1P/U/9T/wv/C/8L/wv/A/8D/u/+7/7n/uf+8/7z/0v/S/9//3//c/9z/2//b/+z/7P8AAAAA/f/9/+T/5P/W/9b/0P/Q/9L/0v/X/9f/3f/d//L/8v8EAAQAFwAXACAAIAAvAC8APAA8ABoAGgD9//3/7v/u/+D/4P/e/97/3//f/+j/6P/u/+7/6f/p/+3/7f8HAAcADwAPAA8ADwAOAA4AFgAWABgAGAAJAAkACQAJAAsACwANAA0AEgASABMAEwASABIAFgAWABkAGQASABIAFwAXAA4ADgABAAEA/v/+/woACgAZABkAJAAkACoAKgApACkAJAAkABQAFAD/////AAAAAP7//v///////v/+//T/9P///////P/8//P/8//t/+3/8P/w/+v/6//s/+z/7f/t/+7/7v/y//L/8P/w/+//7//6//r/9//3//T/9P/2//b/8f/x/+H/4f/X/9f/0f/R/8f/x/+//7//zf/N/+X/5f8CAAIAFwAXACIAIgAeAB4AFwAXABAAEAAFAAUA+v/6//T/9P/t/+3/7//v//r/+v8EAAQADgAOAB4AHgAvAC8AOAA4ADYANgAyADIAIAAgAAsACwAEAAQA/v/+/+7/7v/h/+H/2P/Y/9j/2P/l/+X/9v/2//v/+/8EAAQAAgACAPz//P/z//P/8v/y/wgACAAFAAUABQAFAA8ADwAYABgACQAJAP/////2//b/6P/o/9n/2f/H/8f/0f/R/9n/2f/j/+P/7P/s/+7/7v8AAAAAFAAUABsAGwAaABoAEAAQAAsACwAJAAkAAQABAPX/9f/f/9//2v/a/9v/2//t/+3///////n/+f/9//3/DgAOAAsACwD1//X/8P/w//L/8v/w//D/4f/h/9L/0v/J/8n/vf+9/7r/uv+//7//0//T//T/9P8EAAQAGQAZACMAIwAwADAAMwAzADUANQAzADMAJAAkABEAEQAEAAQAAgACAAAAAAAFAAUAAQABAP7//v/y//L/9f/1//3//f//////DQANABgAGAAgACAAHAAcACAAIAAaABoABgAGAPX/9f/1//X/7v/u/9X/1f/K/8r/0f/R/+f/5/8AAAAABwAHAAgACAANAA0AFQAVABEAEQAUABQAKQApADIAMgAtAC0AHQAdABcAFwANAA0AAAAAAP3//f8IAAgAGAAYACIAIgAzADMASQBJAFoAWgBfAF8ATwBPADMAMwAUABQAAwADAPj/+P/w//D/8v/y//b/9v8IAAgADgAOABQAFAAIAAgA+f/5/+T/5P/c/9z/y//L/8z/zP/X/9f/2v/a/97/3v/g/+D/8P/w//3//f8CAAIAEwATACcAJwA7ADsAQQBBADsAOwAzADMANQA1ADEAMQAiACIAGgAaABcAFwAnACcAMQAxADYANgBDAEMARQBFAEcARwA/AD8AOwA7ACwALAAeAB4ADQANAP/////p/+n/1//X/+f/5//4//j/AQABAAcABwAKAAoAFQAVAA8ADwAMAAwAAAAAAOT/5P/P/8//tf+1/5X/lf96/3r/d/93/4z/jP+o/6j/uv+6/9X/1f/i/+L/8v/y//L/8v/p/+n/6f/p/+X/5f/f/9//3v/e/9r/2v/P/8//1f/V/9v/2//R/9H/y//L/8r/yv/R/9H/2//b/+T/5P/1//X/BAAEABEAEQACAAIA+v/6//7//v/+//7/BwAHAPr/+v/q/+r/5f/l//H/8f/0//T/9//3/wQABAD6//r/AgACAB0AHQA0ADQAQgBCADwAPAAoACgAJgAmACMAIwAhACEAGwAbABEAEQANAA0ABQAFAAUABQAPAA8ABgAGAAAAAAAAAAAAEQARADAAMAA8ADwAPQA9ADsAOwAlACUAEgASAAcABwAFAAUAGAAYABcAFwANAA0ADQANACEAIQAwADAAIwAjAB0AHQAXABcAFwAXAAkACQDv/+//5P/k/9n/2f/P/8//x//H/9j/2P/4//j/AwADAPv/+/8BAAEACwALABAAEAAVABUAIgAiACsAKwAnACcAJAAkAC8ALwA1ADUAIQAhABUAFQAKAAoA/v/+/wwADAAbABsALQAtADgAOAA4ADgAMgAyADIAMgAsACwAJQAlACsAKwA3ADcARQBFAD4APgA2ADYAPAA8ADYANgAxADEAHQAdAAUABQDt/+3/5v/m//X/9f/0//T/6//r/+z/7P/u/+7/6//r/9v/2//I/8j/vf+9/6f/p/+N/43/kv+S/6D/oP+r/6v/vf+9/8j/yP/O/87/1f/V/+D/4P/g/+D/4P/g/+D/4P/T/9P/1f/V/9n/2f/a/9r/7v/u/wEAAQAeAB4AKgAqAC4ALgAhACEAKQApAC8ALwAjACMAIgAiACYAJgAkACQALgAuADkAOQA9AD0ASwBLAFoAWgBdAF0AYQBhAGQAZABjAGMAWgBaAE4ATgA+AD4ALwAvABIAEgD+//7/7f/t/93/3f/X/9f/yf/J/87/zv/Z/9n/2v/a/9H/0f/Q/9D/0P/Q/8j/yP+7/7v/q/+r/6z/rP+3/7f/vv++/8T/xP/R/9H/3//f/+j/6P/v/+//AAAAAAIAAgDx//H/1f/V/83/zf/T/9P/0v/S/9T/1P/e/97/6P/o/+n/6f/m/+b/9v/2/wAAAAAFAAUAGwAbACIAIgAlACUAHwAfABsAGwAMAAwA7f/t/9f/1//G/8b/v/+//7v/u/+3/7f/wP/A/8v/y//W/9b/6P/o/+7/7v/9//3/CQAJABEAEQAaABoAIQAhACUAJQAaABoAFwAXABIAEgAKAAoAAQABAPf/9//z//P/8f/x/wQABAAtAC0ARgBGAFMAUwBlAGUAZgBmAFIAUgA9AD0AKAAoACIAIgAhACEAGQAZABgAGAAiACIAMwAzACoAKgAXABcAEwATABkAGQAPAA8A9//3/+v/6//i/+L/5P/k/+f/5//q/+r/6f/p/+v/6//p/+n/8v/y//3//f8EAAQADwAPABMAEwAdAB0AHwAfACwALAAwADAAHwAfAAgACAD+//7/9v/2/+P/4//U/9T/wf/B/8T/xP/L/8v/yv/K/+H/4f8AAAAACwALAAUABQAPAA8ACQAJAPf/9//5//n/8f/x/+b/5v/a/9r/3//f/+X/5f/n/+f/5P/k/9r/2v/c/9z/2//b/9P/0//N/83/xf/F/7//v//D/8P/wv/C/8z/zP/l/+X/9//3//z//P/1//X//////wAAAAAAAAAA9v/2/+3/7f/n/+f/1v/W/9b/1v/d/93/3v/e/9L/0v/P/8//2P/Y/97/3v/s/+z/7v/u/wMAAwAMAAwADQANAAkACQD0//T/8f/x/+z/7P/e/97/z//P/9j/2P/k/+T/7//v//b/9v//////FgAWAB0AHQASABIABQAFAPD/8P/l/+X/6//r/wYABgAdAB0AJAAkACsAKwA2ADYATQBNAFgAWABSAFIATABMAEIAQgA9AD0APQA9AEAAQABBAEEATABMAE8ATwBGAEYAQABAADUANQA1ADUAMQAxADUANQAwADAAJgAmAC0ALQA4ADgANQA1AD0APQBPAE8AUQBRAFMAUwBGAEYANgA2ABYAFgD1//X/5P/k/9v/2//E/8T/vv++/87/zv/b/9v/4v/i/+H/4f/k/+T/6//r/+P/4//k/+T/2//b/8X/xf+1/7X/qv+q/6n/qf+s/6z/rP+s/6//r/+9/73/zP/M/93/3f/5//n/EAAQABEAEQAFAAUA8P/w/9H/0f/F/8X/xv/G/7z/vP++/77/xf/F/9T/1P/w//D/+f/5//n/+f/x//H/7f/t//D/8P/p/+n/2f/Z/8j/yP/L/8v/0f/R/+T/5P8CAAIAEgASABcAFwAXABcAGQAZAA0ADQALAAsADgAOAAMAAwAAAAAACwALABUAFQARABEAFQAVABIAEgD8//z/9v/2/+z/7P/l/+X/4P/g/+z/7P/y//L//P/8/wsACwARABEAGgAaAB8AHwAbABsAHwAfACMAIwAwADAAQABAAD0APQAxADEAEwATAPr/+v/k/+T/z//P/9T/1P/c/9z/9f/1/wQABAARABEAGgAaABoAGgAbABsAKgAqADkAOQBPAE8AbQBtAHUAdQBeAF4AQwBDACsAKwAYABgAFAAUAAoACgAEAAQABwAHABgAGAAZABkAHQAdACwALABFAEUAUABQAE0ATQBNAE0APwA/ADEAMQAjACMAIQAhABkAGQARABEACwALAAwADAAOAA4AEwATAAYABgANAA0AEQARAAUABQD+//7/AgACAAcABwAHAAcACgAKAAYABgDz//P/4//j/9T/1P/H/8f/0P/Q/9r/2v/j/+P/8P/w//f/9//3//f/5//n/9X/1f/R/9H/1P/U/8b/xv/D/8P/wP/A/63/rf+i/6L/m/+b/53/nf+q/6r/uf+5/8H/wf/R/9H/6v/q//L/8v/s/+z/3//f/87/zv+1/7X/mv+a/4T/hP9//3//eP94/4r/iv+Z/5n/qv+q/8b/xv/g/+D/+v/6/xMAEwAjACMAHgAeABcAFwAaABoAKwArADAAMAA1ADUAHgAeAAEAAQDm/+b/z//P/8D/wP/B/8H/1f/V/+b/5v8AAAAACgAKABMAEwAjACMAKgAqADQANAA6ADoAMgAyAD0APQA7ADsAMwAzADQANAAqACoAKQApACMAIwAdAB0ACAAIAAMAAwD7//v//f/9/wcABwAXABcAIQAhACoAKgA5ADkAUgBSAGEAYQBoAGgAaQBpAFwAXABIAEgANAA0ACcAJwAiACIAFgAWAAYABgAAAAAA/f/9/w8ADwAXABcAFgAWABwAHAAcABwACwALAAMAAwD+//7/9f/1//n/+f/+//7/CQAJABwAHAA4ADgASQBJAFYAVgBzAHMAiACIAIwAjACCAIIAYwBjAEgASAAwADAAGgAaAAsACwAAAAAA6P/o/93/3f/k/+T/9//3//r/+v/7//v//v/+/wAAAAD0//T/6f/p/9z/3P/M/8z/uP+4/5P/k/+B/4H/c/9z/27/bv9v/2//cP9w/3T/dP+P/4//r/+v/8L/wv/i/+L/9//3//7//v8AAAAA9P/0/+3/7f/s/+z/5//n/9n/2f++/77/xv/G/9D/0P/R/9H/1//X/9r/2v/d/93/7P/s/+z/7P/i/+L/5f/l/+D/4P/c/9z/3//f//D/8P/8//z/DwAPABcAFwASABIAEwATABMAEwAIAAgAAQABAAAAAAAAAAAABgAGAAkACQATABMAKQApADgAOAAtAC0AMAAwAC8ALwAaABoA/f/9/+7/7v/n/+f/3v/e/9//3//w//D/DAAMABkAGQAOAA4AAwADAPz//P/9//3/8f/x/9b/1v+s/6z/jf+N/4H/gf97/3v/fP98/47/jv+k/6T/sP+w/8f/x//j/+P/+f/5/wcABwAIAAgA9//3//L/8v/f/9//7//v/wMAAwANAA0AEAAQABAAEAAaABoAEwATABYAFgAQABAA//////X/9f/4//j/AAAAABwAHAAzADMANQA1ADkAOQA8ADwAOwA7AEMAQwBEAEQAPAA8ACwALAAmACYAJQAlAC0ALQAxADEAMgAyADkAOQAuAC4AJgAmAB4AHgAQABAA//////j/+P//////GAAYACkAKQA0ADQAOQA5ADQANAApACkAFgAWAAEAAQDn/+f/5v/m/+//7//l/+X/8P/w//f/9//5//n/+f/5//z//P8AAAAAAAAAAAAAAADt/+3/w//D/7D/sP+o/6j/rf+t/8b/xv/m/+b/+v/6/w4ADgAXABcAGgAaACoAKgA4ADgAQQBBACwALAAZABkACgAKAPX/9f/y//L/+P/4//z//P8PAA8AHwAfACwALAAtAC0AMQAxAC4ALgAsACwAPAA8ADYANgA4ADgAMQAxACAAIAAhACEAEQARAAAAAAD0//T/4P/g/8j/yP/N/83/yv/K/8v/y//h/+H/9v/2/w0ADQAjACMAJwAnADAAMAAtAC0AGAAYAAcABwD8//z/6//r/+T/5P/f/9//5f/l/+j/6P/d/93/6v/q/wIAAgAKAAoAGQAZACYAJgAiACIAHgAeABwAHAAOAA4A+v/6//L/8v/w//D/5v/m/+X/5f/c/9z/3P/c/+L/4v/p/+n/AQABAAcABwD2//b/9f/1//P/8//x//H/5P/k/8X/xf+z/7P/q/+r/5f/l/+K/4r/iP+I/5D/kP+t/63/0P/Q/+T/5P/8//z/BAAEAAwADAAdAB0AHAAcAAwADAD6//r/7v/u/+T/5P/i/+L/5//n//X/9f8GAAYAEgASABQAFAAnACcAPQA9AEMAQwA2ADYAHwAfAAoACgAAAAAACAAIAAgACAAYABgANAA0AEIAQgBJAEkARwBHAEcARwBbAFsAdAB0AI4AjgCnAKcAwADAAMQAxADGAMYAuQC5AKIAogCOAI4AdgB2AFAAUAAxADEAIQAhAAwADAD2//b/7//v//r/+v8JAAkAFQAVABwAHAAgACAAJgAmAB4AHgAFAAUA7f/t/9r/2v+9/73/q/+r/53/nf+L/4v/gP+A/4X/hf+V/5X/qP+o/8T/xP/N/83/0P/Q/9L/0v/V/9X/3v/e/9z/3P/a/9r/2P/Y/9j/2P/j/+P/6v/q/+n/6f/l/+X/4v/i/+n/6f/0//T/9f/1//X/9f/7//v/BgAGAAQABAD4//j/7//v/+b/5v/n/+f/+v/6/wQABAALAAsADQANACUAJQAqACoAGwAbAAsACwAAAAAAAAAAAPb/9v/6//r/AAAAAAoACgAaABoAKAAoADEAMQA/AD8ARABEADoAOgAqACoACAAIAPD/8P/d/93/3P/c/+b/5v/0//T/AgACAA8ADwAiACIAIQAhAB0AHQATABMADgAOAAsACwAHAAcAAQABAAQABAANAA0ACgAKAA4ADgAVABUAHwAfACQAJAAcABwAEQARAAcABwD2//b/2v/a/8//z//J/8n/z//P/+X/5f/h/+H/4P/g/+n/6f/z//P/8P/w//X/9f8AAAAADAAMACIAIgA3ADcATABMAF4AXgBWAFYATQBNAD0APQAnACcAHAAcAAsACwABAAEAAAAAAAQABAADAAMAEAAQAB0AHQAfAB8AKAAoAC8ALwA4ADgAOwA7ADcANwAsACwAGQAZAAYABgD5//n/+v/6//n/+f/z//P/4P/g/83/zf+2/7b/uv+6/8P/w//I/8j/2v/a/+7/7v/5//n//f/9//b/9v/x//H/8f/x/+r/6v/a/9r/0v/S/+b/5v/t/+3/8v/y//r/+v/z//P/8f/x//j/+P/9//3/AAAAAAoACgAeAB4AKAAoAC0ALQAuAC4AMwAzAC8ALwAgACAAEgASAAYABgAOAA4AEgASAB4AHgAuAC4AOQA5AD0APQA/AD8ASwBLAFAAUABZAFkASQBJADgAOAAmACYACgAKAPX/9f/t/+3/7v/u/+7/7v/1//X/8v/y//L/8v/v/+//4P/g/9b/1v/D/8P/qP+o/5r/mv+T/5P/kf+R/5X/lf+h/6H/rf+t/7r/uv/K/8r/0v/S/9H/0f/H/8f/yv/K/8X/xf+3/7f/wf/B/9P/0//j/+P/8//z//H/8f/o/+j/5v/m/9v/2//J/8n/w//D/8T/xP++/77/tf+1/7v/u//G/8b/zf/N/8j/yP/P/8//zv/O/8//z//b/9v/5f/l/+7/7v8BAAEABQAFAAgACAAXABcAEgASABoAGgAlACUALAAsADkAOQBGAEYAUABQAF0AXQBpAGkAZABkAF4AXgBSAFIAUABQAEcARwA7ADsANAA0ACMAIwAIAAgA9P/0/9//3//X/9f/3v/e/93/3f/b/9v/5P/k/+//7/8BAAEAGQAZACUAJQAhACEAFwAXABMAEwAHAAcA9v/2/9v/2/++/77/sv+y/6r/qv+j/6P/s/+z/7//v//O/87/3f/d/+v/6//0//T/AAAAAAAAAAAFAAUABAAEAPb/9v/y//L/6f/p/+n/6f/4//j/AQABAA4ADgAdAB0AMgAyAEYARgBFAEUALgAuAB8AHwAeAB4AGwAbABYAFgASABIAFQAVAB0AHQAPAA8ABwAHABEAEQAUABQAGgAaACcAJwBEAEQAYQBhAGYAZgBXAFcARQBFAC8ALwAXABcA/P/8/+L/4v/V/9X/zv/O/9H/0f/h/+H/7f/t//X/9f8BAAEABAAEAAAAAAD8//z/9f/1/+D/4P/T/9P/0f/R/8z/zP/H/8f/yf/J/9L/0v/S/9L/0//T/9j/2P/g/+D/4v/i//P/8/8KAAoAGQAZACIAIgAiACIAHQAdABAAEAALAAsACAAIAPv/+//w//D/6f/p/+3/7f/u/+7/+v/6//v/+/8BAAEACQAJAPb/9v/l/+X/6P/o//3//f8WABYAGQAZABkAGQAoACgAMgAyADgAOAA6ADoAMwAzACAAIAAPAA8ACwALABYAFgARABEADAAMAA8ADwAKAAoADQANABYAFgAoACgASQBJAGUAZQB3AHcAewB7AHMAcwBjAGMAWgBaAEYARgAtAC0ADAAMAAIAAgD2//b/BAAEAA4ADgD/////+v/6/+v/6//l/+X/4v/i/9//3//t/+3/+P/4//f/9//y//L/7f/t/+P/4//V/9X/yP/I/7j/uP+p/6n/rf+t/8T/xP/X/9f/7v/u/wMAAwAWABYAIgAiACkAKQAzADMAOAA4ADkAOQAsACwAFwAXAAkACQD8//z/7v/u/+n/6f/k/+T/1v/W/9D/0P/Y/9j/6f/p//j/+P/5//n/BQAFAAsACwACAAIA8P/w/+D/4P/P/8//vf+9/6r/qv+c/5z/o/+j/7P/s//B/8H/0P/Q/9r/2v/n/+f//////x8AHwAnACcAMAAwAEQARABTAFMAVABUAEoASgAtAC0AHwAfAB0AHQAKAAoACwALABIAEgAaABoADwAPAA0ADQAPAA8ACwALABEAEQABAAEA7v/u/+r/6v/p/+n/6v/q/+f/5//x//H//////wsACwAmACYANwA3ADMAMwAzADMAQQBBAEUARQA6ADoAIQAhABIAEgABAAEA8//z//H/8f/u/+7/6f/p//X/9f8MAAwAIAAgACkAKQAtAC0ALgAuAC8ALwAoACgAGQAZAA8ADwAPAA8AEQARACAAIAAiACIADgAOAAAAAAD4//j/9P/0/+b/5v/h/+H/5//n//P/8//x//H/6f/p/+3/7f/2//b/BwAHAB0AHQAkACQAIQAhACMAIwAgACAAJgAmADUANQAtAC0AHgAeAAoACgD/////+P/4//f/9//5//n//P/8/wAAAAAKAAoAHwAfACIAIgArACsAKQApABEAEQAFAAUA9//3/+7/7v/j/+P/5//n/+f/5//o/+j/6v/q/+T/5P/x//H/9v/2//X/9f/y//L/8P/w/8//z//H/8f/0v/S/9D/0P/V/9X/1v/W/8b/xv+7/7v/wv/C/8X/xf/W/9b/6P/o//f/9//+//7/CQAJAAAAAAD3//f/6v/q/8r/yv+n/6f/k/+T/5X/lf+Y/5j/jP+M/4T/hP+D/4P/mP+Y/7D/sP/J/8n/1P/U/+b/5v8AAAAAHwAfADQANAAhACEALQAtACMAIwATABMAGgAaACIAIgA0ADQAHgAeABUAFQAcABwAFQAVAB8AHwAgACAAIgAiACYAJgAuAC4ALwAvACUAJQApACkAHQAdACIAIgAqACoAMAAwADsAOwAgACAAJQAlADUANQArACsAHAAcAAQABAAhACEAQgBCADsAOwAyADIAPwA/ADMAMwAkACQAGAAYAA0ADQARABEADAAMAB8AHwAzADMANwA3ADMAMwBJAEkAPQA9ADwAPABIAEgAOQA5ADUANQA9AD0ANAA0ABYAFgAOAA4ADwAPAPr/+v/d/93/5P/k/9v/2//I/8j/vP+8/7z/vP+y/7L/m/+b/4//j/+L/4v/i/+L/5X/lf+P/4//nf+d/63/rf+w/7D/x//H/9H/0f/C/8L/zf/N/9X/1f+3/7f/qP+o/5j/mP+C/4L/b/9v/2X/Zf9w/3D/hP+E/6z/rP/D/8P/3f/d//n/+f8OAA4AGgAaABMAEwAHAAcA8P/w/9T/1P+y/7L/kP+Q/2//b/9l/2X/cP9w/3r/ev+H/4f/oP+g/7P/s/+6/7r/wP/A/83/zf/N/83/y//L/9j/2P/l/+X/5P/k/+P/4//t/+3/5//n/+X/5f/z//P/9f/1/+b/5v/l/+X/7v/u//n/+f//////9//3/+z/7P/p/+n/6v/q/+7/7v/h/+H/4//j//T/9P/3//f/AgACABMAEwAlACUAKQApACYAJgAnACcAIAAgABUAFQAFAAUAAwADAAcABwAUABQAFwAXABkAGQAPAA8AEAAQAAoACgD9//3//v/+/wUABQASABIAFQAVAA8ADwAIAAgA9P/0/+L/4v/X/9f/xP/E/67/rv+t/63/rf+t/6v/q/+3/7f/3//f/wQABAAnACcASgBKAFkAWQBnAGcAbQBtAGUAZQBiAGIAWgBaAEoASgBFAEUAPAA8ADEAMQAqACoAHQAdABEAEQAMAAwAFQAVACgAKABAAEAATQBNAFsAWwBmAGYAaABoAGsAawBgAGAAQwBDADAAMAAlACUAIQAhACYAJgAgACAAGwAbACcAJwAqACoAHAAcAB4AHgAcABwAHwAfACEAIQAaABoABAAEAP////8LAAsAAwADAPz//P/r/+v/2f/Z/8//z//R/9H/3f/d/+7/7v/4//j/+//7//n/+f8IAAgACAAIAAwADAACAAIA6v/q/+3/7f/c/9z/xP/E/7n/uf+p/6n/jv+O/4H/gf+K/4r/pv+m/7r/uv/T/9P/9v/2/xMAEwA9AD0AWQBZAGoAagBxAHEAZABkAEwATAAxADEACgAKAOr/6v/d/93/yf/J/8b/xv/N/83/2P/Y//P/8/8CAAIAEgASABgAGAAdAB0APQA9AEoASgBHAEcAPgA+ADEAMQAfAB8ADwAPAA8ADwAJAAkA9P/0/9n/2f/O/87/0//T/9n/2f/e/97/4//j/+n/6f/q/+r/6P/o/+P/4//u/+7/8f/x//b/9v8AAAAA/v/+//H/8f/c/9z/xv/G/7T/tP+w/7D/uv+6/87/zv/c/9z/2//b/9X/1f/O/87/x//H/9f/1//1//X/CwALABAAEAAeAB4ANAA0AEkASQBXAFcASwBLADcANwAtAC0AMgAyAD8APwBBAEEARQBFAEMAQwBKAEoAWABYAGIAYgBVAFUAWQBZAF4AXgBfAF8AbwBvAGwAbABhAGEAVwBXAFMAUwBHAEcAPQA9AD0APQA1ADUAJwAnACsAKwA4ADgASABIAE0ATQBGAEYAPAA8ACoAKgAcABwAAQABANr/2v/P/8//tf+1/6n/qf+8/7z/3v/e//3//f8JAAkAIwAjADUANQA5ADkAQABAAEMAQwBCAEIAKQApABQAFAAAAAAA7v/u/93/3f/V/9X/4f/h//b/9v/6//r/EAAQACgAKAA2ADYAOgA6ACoAKgAvAC8AKQApAA8ADwD6//r/5v/m/9v/2//W/9b/yP/I/8n/yf/V/9X/0//T/9n/2f/s/+z/7f/t//r/+v8EAAQABgAGAAEAAQACAAIAFQAVACUAJQAgACAAEwATABkAGQAbABsAIgAiAB4AHgAXABcAIgAiADIAMgBCAEIATwBPAEkASQBCAEIANQA1ACYAJgAcABwAGQAZABcAFwAXABcAEwATABgAGAAeAB4AJQAlACYAJgApACkAJQAlADIAMgA9AD0ANwA3ADMAMwArACsAGwAbAPr/+v/i/+L/0v/S/8j/yP+5/7n/sP+w/6n/qf+r/6v/tv+2/7r/uv/L/8v/1v/W/+H/4f/s/+z/8v/y/wIAAgAOAA4ADwAPABAAEAATABMADAAMAA4ADgAhACEAMgAyADgAOAA6ADoANAA0ACoAKgAeAB4AEAAQAAkACQAIAAgAEgASABwAHAAzADMAPQA9ADIAMgAnACcAHQAdABgAGAATABMAEQARAAUABQAAAAAA+f/5//n/+f8FAAUABwAHAAgACAARABEAEwATABIAEgAbABsALwAvADIAMgApACkAFQAVAAMAAwDw//D/6//r/9z/3P/M/8z/tf+1/6//r/+p/6n/nv+e/5j/mP+Z/5n/rP+s/8T/xP/q/+r/CgAKAB0AHQAtAC0AKgAqACgAKAAtAC0AHQAdAAcABwDi/+L/yv/K/7X/tf+u/67/rv+u/7n/uf/L/8v/1v/W/+L/4v/q/+r/+f/5//z//P/1//X/6f/p/9//3//f/9//6P/o//D/8P/8//z/DgAOAAsACwAOAA4AEwATAA4ADgACAAIAAAAAAPz//P8FAAUAIQAhADcANwA8ADwAOAA4ADAAMAAqACoAKQApAB8AHwAkACQALgAuAC0ALQAwADAANAA0ADcANwAoACgADwAPAAAAAADz//P/8v/y/+v/6//R/9H/vf+9/7P/s/+//7//1P/U/9//3//m/+b/9f/1/wUABQARABEAJAAkAC0ALQAkACQAGgAaAAIAAgAAAAAA+v/6//f/9/8CAAIABAAEAAsACwAUABQAEQARABMAEwAeAB4AJgAmACEAIQAWABYACwALAPz//P/z//P/7//v//H/8f/4//j/9P/0//n/+f8IAAgAGgAaACIAIgAhACEAEgASAAQABADy//L/3P/c/8r/yv/E/8T/wf/B/7//v//G/8b/xv/G/8H/wf+7/7v/wP/A/87/zv/a/9r/6v/q//H/8f8AAAAAAgACAAAAAAAEAAQA/f/9/+r/6v/Y/9j/wP/A/6n/qf+a/5r/nv+e/6j/qP+y/7L/yP/I/9j/2P/l/+X/4//j/+H/4f/i/+L/4//j/+7/7v/u/+7/3v/e/97/3v/d/93/3f/d/97/3v/a/9r/3f/d/+n/6f/k/+T/3//f/+b/5v/U/9T/u/+7/6f/p/+k/6T/r/+v/63/rf+s/6z/rf+t/7b/tv/J/8n/4P/g/+P/4//e/97/3P/c/9L/0v/L/8v/zv/O/9r/2v/Y/9j/2//b//H/8f8AAAAACwALAAMAAwD/////BAAEAAgACAADAAMAAAAAABAAEAAaABoAIwAjADgAOAA/AD8ARgBGAEkASQBIAEgAQgBCADgAOAA5ADkAPQA9AEkASQBTAFMAUgBSAF8AXwBbAFsASABIADMAMwAlACUADgAOAPv/+//3//f/9f/1//n/+f/9//3/CgAKABYAFgAdAB0AJwAnACkAKQAsACwAQgBCAFwAXABnAGcAZgBmAF0AXQBWAFYARABEACYAJgAXABcAAwADAOP/4//j/+P/6P/o//b/9v//////8P/w//D/8P/0//T//v/+/xkAGQAgACAAKAAoACYAJgAhACEAHwAfACgAKAAeAB4ABgAGAPn/+f/w//D/8f/x//f/9/8TABMAHgAeABkAGQAXABcAGgAaABQAFAAFAAUA+P/4/+3/7f/n/+f/2P/Y/8v/y//G/8b/wP/A/8j/yP/J/8n/0P/Q/8P/w/+5/7n/wP/A/8n/yf/d/93/5v/m/+7/7v/7//v/+v/6/+z/7P/i/+L/2//b/9b/1v/S/9L/z//P/83/zf+8/7z/qf+p/6b/pv+o/6j/lP+U/4r/iv+T/5P/mv+a/6T/pP+1/7X/wP/A/6r/qv+h/6H/ov+i/5r/mv+j/6P/sf+x/7//v//U/9T/5v/m/+//7/8CAAIACwALABQAFAAkACQAOQA5AEQARAA8ADwANAA0AC4ALgAtAC0AJQAlABUAFQAAAAAA+//7//P/8//r/+v/6P/o//D/8P8DAAMADwAPABYAFgAcABwAFQAVABsAGwAbABsAFwAXABwAHAAIAAgA+P/4/+3/7f/f/9//3v/e/9b/1v/I/8j/wP/A/8D/wP/c/9z/9v/2/wIAAgABAAEABAAEABEAEQAUABQAGQAZAB4AHgAnACcAKgAqACkAKQAjACMAKQApACsAKwAqACoALgAuADQANABBAEEAQwBDAD0APQAtAC0AGAAYAAgACADq/+r/4v/i/+r/6v/g/+D/6v/q/wgACAAhACEAQwBDAE0ATQAwADAAFwAXAPj/+P/W/9b/vv++/63/rf+m/6b/ov+i/6D/oP+s/6z/xP/E/9L/0v/f/9//6P/o/+7/7v/o/+j/3P/c/97/3v/h/+H/4//j/+v/6//v/+//6P/o/9//3//X/9f/4P/g/9b/1v/X/9f/3P/c/+H/4f/s/+z/8P/w//T/9P8KAAoACQAJABAAEAAKAAoAEgASACUAJQAlACUAKAAoAC8ALwAyADIAOwA7AD8APwA/AD8ARwBHAEIAQgBKAEoAXQBdAGAAYABqAGoAbQBtAGsAawBoAGgAWABYAEsASwBAAEAAPQA9AEoASgBbAFsAawBrAG8AbwBoAGgAZwBnAFMAUwA5ADkAHgAeAAkACQAAAAAA+v/6//n/+f/7//v/BQAFABIAEgATABMAHAAcACAAIAAWABYADAAMAAkACQD6//r/7P/s/9//3/++/77/sv+y/6X/pf+Y/5j/lf+V/5r/mv+l/6X/t/+3/9z/3P/5//n/DwAPACQAJAA2ADYAQQBBAD4APgA2ADYAIQAhAA4ADgAAAAAA+f/5//z//P/5//n/+f/5//n/+f/5//n/+f/5/wMAAwAQABAAIwAjACsAKwAsACwAIwAjAB4AHgARABEAAgACAPj/+P/j/+P/zv/O/8z/zP/V/9X/2v/a/+//7//6//r/BAAEAAcABwD+//7//////wYABgAIAAgACwALAAQABAAAAAAA6v/q/8//z/+9/73/q/+r/5T/lP+P/4//nP+c/5//n/+4/7j/zv/O/9z/3P/o/+j/3//f/+H/4f/W/9b/xf/F/8P/w//G/8b/x//H/8r/yv/Z/9n/2P/Y/9n/2f/e/97/0v/S/83/zf/L/8v/y//L/8n/yf/V/9X/9P/0/xYAFgAuAC4ANAA0ADYANgAzADMAKAAoABMAEwAAAAAA/P/8//X/9f/x//H//////xIAEgAiACIALgAuADUANQA6ADoARwBHAFQAVABOAE4AQABAAEMAQwAxADEAMwAzADcANwAyADIAKgAqABgAGAAeAB4AEQARAAYABgAEAAQACAAIABcAFwAhACEAHgAeACIAIgAdAB0AEgASAAEAAQDp/+n/2f/Z/8//z//O/87/x//H/8z/zP/W/9b/2//b/9r/2v/R/9H/wP/A/7j/uP/C/8L/zP/M/9z/3P/1//X/EAAQACgAKAAoACgAIAAgABUAFQACAAIA/P/8/+//7//t/+3/7f/t//D/8P/5//n/CAAIABIAEgARABEAAQABAOT/5P/K/8r/xv/G/7z/vP+x/7H/r/+v/7r/uv/F/8X/2P/Y/+v/6//y//L//f/9//n/+f/o/+j/3v/e/97/3v/e/97/4P/g/+T/5P/2//b/BwAHAA8ADwARABEAAQABAAIAAgAEAAQAAwADAP/////9//3/AAAAAAoACgAMAAwACwALAA0ADQD6//r//P/8/wYABgD2//b/BAAEAAoACgAKAAoAGwAbACgAKAAtAC0ALAAsABcAFwAKAAoADQANABcAFwAeAB4AFAAUABQAFAAXABcAJAAkADUANQA7ADsAQABAAEgASABNAE0APgA+ADIAMgAnACcACwALAPv/+//n/+f/0f/R/9H/0f/b/9v/4//j/+3/7f/o/+j/5f/l/+b/5v/j/+P/6v/q//f/9//+//7/BAAEAPr/+v/+//7//P/8//T/9P/y//L/7f/t/+X/5f/W/9b/z//P/8z/zP/M/8z/1//X/+P/4//u/+7/6v/q//T/9P/+//7/AwADAAkACQATABMAFwAXABYAFgAXABcAGgAaAB0AHQAeAB4AEAAQAAIAAgD5//n/7v/u/+X/5f/d/93/1f/V/8f/x/+7/7v/xP/E/8j/yP/W/9b/1v/W/8f/x//J/8n/xf/F/83/zf/N/83/zv/O/9P/0//U/9T/1f/V/8v/y//L/8v/y//L/9f/1//l/+X/6f/p//L/8v8BAAEACAAIAAsACwAPAA8AFwAXAB4AHgAdAB0AFgAWABoAGgARABEAAgACAPP/8//e/97/0v/S/8//z//T/9P/3P/c//H/8f8KAAoAJAAkADsAOwA8ADwAQQBBAEUARQBEAEQAOwA7ADYANgA9AD0APQA9ADIAMgAfAB8AEwATAAcABwDz//P/1v/W/8b/xv/S/9L/8//z/w8ADwApACkATwBPAGsAawBuAG4AZQBlAGcAZwBcAFwASgBKADUANQATABMA+//7/+3/7f/r/+v/7v/u//H/8f/x//H/9f/1//3//f/5//n/+P/4//H/8f/o/+j/3//f/9//3//l/+X/5//n/+n/6f/k/+T/2v/a/8v/y//G/8b/yv/K/8b/xv/F/8X/0//T/9//3//m/+b/8v/y//////8KAAoAGAAYAB8AHwAlACUAKQApADYANgA5ADkAPQA9AD4APgAyADIAFwAXAAAAAAAOAA4AEAAQABYAFgAmACYAKQApAC8ALwA0ADQAMQAxADUANQA1ADUAMgAyABsAGwAYABgAIwAjABoAGgATABMAAAAAAPP/8//p/+n/4v/i//D/8P/8//z/+f/5//b/9v/Y/9j/vP+8/6j/qP+h/6H/m/+b/5T/lP+Y/5j/lv+W/5X/lf+Y/5j/pv+m/8n/yf/q/+r/BQAFABMAEwAQABAACAAIAPT/9P/Y/9j/x//H/8D/wP+9/73/vv++/7L/sv+u/67/wv/C/9L/0v/P/8//0//T/97/3v/7//v/BAAEAAcABwAMAAwABgAGAAQABAAKAAoACgAKABYAFgAjACMALQAtADIAMgBAAEAAWwBbAGYAZgBqAGoAbgBuAGwAbABnAGcAYwBjAGgAaABjAGMAUQBRAEsASwBPAE8AQgBCAEsASwBWAFYAaABoAH8AfwCPAI8AlQCVAH0AfQBeAF4ALgAuAAAAAADg/+D/u/+7/7T/tP/K/8r/2f/Z/+3/7f/5//n/CAAIAAsACwAFAAUA9P/0/9f/1//J/8n/xP/E/8X/xf/c/9z/5v/m/+r/6v/8//z/BAAEAAUABQD9//3/+//7/+z/7P/i/+L/5//n//j/+P/x//H/7f/t/+v/6//u/+7/9v/2/+z/7P/p/+n/9P/0/wAAAAAPAA8AJgAmADIAMgBCAEIARgBGADcANwAtAC0AHwAfABMAEwAVABUAJwAnADMAMwBAAEAASABIAFIAUgBQAFAASQBJAE8ATwBMAEwATQBNAEUARQA7ADsAKQApAAwADAAAAAAA8f/x/9//3//K/8r/yP/I/8v/y//Z/9n/4f/h/9r/2v/n/+f/8P/w//P/8//m/+b/1//X/8f/x/+1/7X/wv/C/7f/t/+l/6X/qP+o/6z/rP+p/6n/uf+5/+P/4/8IAAgAIwAjADgAOABIAEgAWwBbAGQAZABbAFsAQABAACYAJgAFAAUA4v/i/9T/1P/R/9H/1P/U//X/9f8WABYALgAuAEAAQABMAEwAPgA+AC8ALwAYABgABAAEAPb/9v/h/+H/3v/e/93/3f/V/9X/2f/Z/+j/6P/v/+//AwADABEAEQAqACoANQA1AEAAQABVAFUAXwBfAGoAagBbAFsAOwA7AB0AHQAAAAAA8//z/+n/6f/u/+7/6v/q/9n/2f/W/9b/1//X/+D/4P/h/+H/5P/k/+7/7v/r/+v/5f/l/+D/4P/w//D/8f/x//f/9//9//3//P/8//L/8v/t/+3/9f/1//X/9f/0//T/6//r/+L/4v/m/+b/8f/x//b/9v/7//v//f/9/wAAAAAGAAYAEgASACMAIwAmACYAIwAjABwAHAAWABYAFAAUAAgACAACAAIABAAEAPv/+/8AAAAAFgAWAAoACgAGAAYA7//v/83/zf+5/7n/p/+n/6T/pP+h/6H/ov+i/6j/qP+t/63/sf+x/7n/uf/E/8T/zv/O/9b/1v/o/+j/+P/4/wAAAAAAAAAA+//7/+j/6P/U/9T/vv++/5r/mv+I/4j/hv+G/5j/mP+z/7P/xf/F/9v/2//s/+z/9//3//f/9//w//D/9P/0//P/8//u/+7/5P/k/9j/2P/S/9L/1P/U/9r/2v/X/9f/5P/k/+3/7f/y//L/9f/1//r/+v8CAAIADgAOABMAEwAWABYAFQAVABkAGQAcABwAHwAfABoAGgAaABoAFgAWACAAIAA6ADoATQBNAGAAYABrAGsAXwBfAE8ATwA9AD0AJQAlACIAIgAXABcAFwAXACkAKQArACsALwAvACgAKAAsACwALgAuAC8ALwA1ADUARwBHAFoAWgBgAGAAUwBTAEUARQBCAEIAMQAxAC8ALwAxADEAKwArACoAKgAvAC8AOAA4ADIAMgAvAC8AMAAwACkAKQAtAC0AMgAyADEAMQA0ADQAOAA4ADgAOAAiACIADgAOAPz//P/h/+H/3v/e/97/3v/i/+L/5v/m/97/3v/p/+n/AwADAA8ADwAZABkAFQAVAPz//P/l/+X/0f/R/87/zv/P/8//0v/S/8b/xv/A/8D/xP/E/8L/wv+4/7j/qf+p/5P/k/+F/4X/nf+d/7f/t//O/87/8f/x/xwAHAAsACwAOwA7AEMAQwAzADMAGgAaAAkACQAAAAAA+//7/+//7//a/9r/x//H/8X/xf/H/8f/z//P/9D/0P/J/8n/3f/d//D/8P8HAAcAJQAlADcANwAxADEAIgAiAAoACgDy//L/4P/g/8//z//L/8v/y//L/8//z//e/97/5f/l/+L/4v/g/+D/2//b/+L/4v/V/9X/3v/e//n/+f8HAAcAFwAXAC8ALwBEAEQAUwBTAEwATAAzADMAJAAkACIAIgAaABoABQAFAPr/+v/z//P/8f/x//r/+v8HAAcAEgASACYAJgAxADEANQA1ADIAMgAuAC4AMgAyACUAJQAeAB4ADgAOAPf/9//u/+7/6f/p//D/8P/1//X/9f/1/+7/7v/l/+X/4f/h/97/3v/e/97/2//b/+L/4v/y//L/EgASADcANwA9AD0APQA9AD4APgA9AD0AJAAkABEAEQAPAA8ACQAJAO3/7f/Q/9D/u/+7/6j/qP+l/6X/q/+r/8j/yP/a/9r/6P/o/wAAAAD9//3/BgAGABAAEAAGAAYA9//3/+f/5//n/+f/7//v//////8GAAYAHQAdADsAOwBJAEkAUABQAD4APgArACsAIgAiABoAGgATABMAEwATAAwADAAHAAcAAgACAPz//P/6//r/+f/5//L/8v8BAAEAAAAAAP3//f8AAAAAAQABAAIAAgD5//n/+v/6//T/9P/l/+X/2f/Z/9L/0v/T/9P/2P/Y/9r/2v/e/97/7//v/wcABwAqACoAQwBDAE0ATQBJAEkARgBGAEUARQAvAC8ALwAvADYANgA1ADUAOAA4AEcARwBGAEYAOQA5ACwALAAZABkAHAAcAB8AHwAiACIAHgAeACYAJgA0ADQANgA2ADYANgAtAC0AJgAmABIAEgABAAEA7v/u/9n/2f/V/9X/0v/S/+b/5v/j/+P/6P/o//H/8f/x//H/7P/s/+L/4v/V/9X/yf/J/8v/y//U/9T/zv/O/9T/1P/W/9b/2f/Z/+H/4f/i/+L/2P/Y/8T/xP+x/7H/pf+l/6z/rP+//7//zv/O/9r/2v/v/+//+//7//3//f8JAAkADwAPABUAFQAhACEALwAvADkAOQA6ADoARABEAEkASQBMAEwAUgBSAFEAUQBCAEIAOAA4ADQANAAfAB8ADgAOABYAFgAjACMAKQApADEAMQAlACUAHgAeABwAHAAWABYAFwAXAAoACgD5//n/8//z/+//7//r/+v/5//n/+L/4v/k/+T/+f/5/xEAEQAnACcAMgAyACwALAAWABYABAAEAPD/8P/V/9X/vP+8/6b/pv+S/5L/gv+C/4b/hv+O/47/kv+S/6H/of+7/7v/zf/N/9n/2f/n/+f/6f/p/97/3v/a/9r/4//j/+3/7f8BAAEAJgAmADUANQAzADMANQA1ADEAMQA7ADsAOwA7AEAAQABSAFIAVQBVAEsASwA+AD4AOgA6AC0ALQAtAC0AJgAmAB8AHwAPAA8ADwAPABIAEgADAAMA/f/9//v/+//x//H/6P/o/9z/3P/T/9P/y//L/7z/vP+1/7X/rP+s/7X/tf+3/7f/wf/B/83/zf/K/8r/zv/O/87/zv/I/8j/vv++/7v/u/+t/63/n/+f/5H/kf+D/4P/kv+S/6z/rP+//7//zv/O/93/3f/i/+L/6v/q/+v/6//o/+j/8v/y//v/+/8JAAkACwALAAQABAD+//7/8f/x/87/zv/B/8H/yf/J/9b/1v/k/+T/9//3//7//v8LAAsAEwATAAoACgACAAIA/f/9//z//P/1//X//v/+//7//v/8//z//f/9//7//v8AAAAA//////3//f8EAAQACQAJABYAFgAbABsAGwAbABIAEgAIAAgA9//3/+v/6//k/+T/3v/e//r/+v8NAA0AEgASAA4ADgABAAEABQAFAAgACAADAAMA9f/1/+H/4f/T/9P/0v/S/9D/0P/c/9z/3P/c/9z/3P/X/9f/3//f/9//3//V/9X/w//D/7X/tf+o/6j/pv+m/6//r/+6/7r/xP/E/9j/2P/4//j/AwADAAAAAAAGAAYACAAIABEAEQAIAAgABgAGAAgACAD6//r/+//7/wAAAAAEAAQAGAAYACcAJwA+AD4AUABQAGEAYQBrAGsAYABgAGEAYQBaAFoAVABUADsAOwAzADMAOgA6ADMAMwAkACQAJQAlACYAJgAmACYAIQAhABMAEwATABMADwAPAA8ADwARABEAEAAQAA8ADwAFAAUADgAOAPv/+//5//n/BAAEAAMAAwAGAAYA//////f/9//m/+b/1f/V/7z/vP+m/6b/p/+n/7r/uv/d/93/BQAFAB0AHQAoACgAGgAaAP7//v/i/+L/2f/Z/8z/zP/J/8n/0P/Q/+X/5f/+//7/GwAbACUAJQAuAC4AKgAqABsAGwARABEA+P/4/+7/7v/x//H/5P/k/+H/4f/v/+//9f/1/+3/7f/v/+//7f/t//P/8//7//v/AAAAAAgACAAEAAQACwALABEAEQD6//r/6v/q/9f/1//F/8X/wP/A/8P/w//P/8//1//X/9//3//3//f/AQABAB0AHQAqACoALAAsACoAKgAeAB4AIAAgACcAJwAqACoAKwArADAAMAAsACwAKQApABoAGgASABIAEAAQAPr/+v/n/+f/3//f/93/3f/h/+H/7//v//X/9f/x//H/8//z/wAAAAAPAA8AGQAZACsAKwA0ADQAPwA/AD4APgAsACwAIgAiABUAFQD9//3/6//r/9L/0v/J/8n/wP/A/7n/uf+s/6z/mv+a/5n/mf+S/5L/iv+K/5P/k/+z/7P/0//T/+//7/8FAAUABwAHAAsACwAJAAkA+//7/+b/5v/V/9X/xf/F/8T/xP/T/9P/5f/l//n/+f8KAAoAIgAiADcANwBBAEEAPAA8AC4ALgAeAB4AFAAUAAQABADw//D/4f/h/+T/5P8AAAAAEwATADEAMQBJAEkAUwBTAGUAZQBwAHAAcwBzAG0AbQBkAGQAWQBZAE4ATgA/AD8ANgA2AEIAQgBQAFAAZwBnAF8AXwBlAGUAWgBaAEwATABLAEsASQBJAFIAUgBPAE8ASwBLAEQARAA2ADYANQA1ACoAKgAXABcACQAJAPD/8P/e/97/zP/M/8z/zP/O/87/1f/V/+z/7P/9//3/BQAFABYAFgApACkAIgAiAB4AHgAUABQA8v/y/93/3f/M/8z/vf+9/7j/uP+z/7P/v/+//8P/w//G/8b/2//b/9//3//r/+v/9//3/wQABAAOAA4AHwAfACoAKgAqACoAKgAqACMAIwAZABkADwAPAAwADAAJAAkACAAIABIAEgAJAAkAAQABAAIAAgDr/+v/y//L/6j/qP+e/57/pv+m/77/vv/R/9H/6//r/woACgAqACoAQABAAEkASQBRAFEASQBJAEkASQA7ADsAFQAVAPT/9P/d/93/xf/F/6b/pv+W/5b/lv+W/57/nv+u/67/zP/M//f/9/8YABgAIwAjACcAJwAiACIAIgAiABYAFgAOAA4ADwAPAA8ADwACAAIAAQABAAEAAQD5//n//f/9//j/+P/x//H/5f/l/9j/2P/T/9P/z//P/8v/y//Y/9j/9P/0/w4ADgAhACEAHQAdABMAEwATABMADAAMAAMAAwADAAMAAwADAAcABwAEAAQACQAJAB0AHQAzADMAQgBCAFEAUQBBAEEANAA0AC0ALQAgACAAHwAfAC0ALQBFAEUAUgBSAFMAUwBQAFAATgBOAD4APgAnACcACgAKAP7//v/1//X//f/9/xUAFQAoACgALgAuACUAJQAhACEAGQAZABIAEgAPAA8AFAAUABcAFwAbABsAIgAiABwAHAAMAAwACwALAAIAAgD+//7//f/9/+b/5v/Q/9D/u/+7/7//v//Q/9D/1v/W/93/3f/f/9//1//X/9b/1v/p/+n/9f/1/wMAAwAXABcAJQAlACMAIwAoACgAHQAdAB0AHQAWABYA+//7/+v/6//c/9z/y//L/8P/w//G/8b/0P/Q/+H/4f/w//D//////wMAAwAHAAcAEQARAAsACwALAAsAAwADAO3/7f/W/9b/y//L/87/zv/g/+D/+f/5/wwADAAXABcAIQAhACAAIAAVABUABwAHAAMAAwACAAIACQAJABIAEgAaABoAGQAZAA8ADwAbABsAHgAeACIAIgAaABoAEAAQABcAFwArACsAMQAxADYANgAxADEAHQAdAAwADADi/+L/yP/I/7r/uv+w/7D/s/+z/8P/w//W/9b/4P/g//P/8/8AAAAA+//7//3//f/0//T/7f/t/+b/5v/X/9f/0f/R/8v/y/+//7//sP+w/57/nv+K/4r/ev96/3X/df+C/4L/jv+O/6P/o//D/8P/3f/d//H/8f/9//3/AQABAPX/9f/t/+3/6//r/+L/4v/l/+X/4f/h/+z/7P/2//b//////wsACwAKAAoAAAAAAPr/+v/0//T/9P/0/wUABQAPAA8ABwAHABUAFQAsACwAKQApAC8ALwAwADAAIQAhACgAKAAqACoALAAsADMAMwA1ADUANgA2ADkAOQAzADMAPgA+AE4ATgBYAFgAXgBeAGAAYABiAGIAVQBVAEQARAAzADMAJAAkABYAFgALAAsADAAMABAAEAAQABAAAwADAPX/9f/p/+n/5f/l/+P/4//y//L/AQABAA0ADQAiACIAMQAxADMAMwAbABsA9f/1/83/zf+1/7X/pv+m/6X/pf+1/7X/u/+7/8X/xf/X/9f/7P/s/wEAAQAUABQAHgAeABsAGwAVABUAGQAZABIAEgAFAAUA//////D/8P/i/+L/5v/m//r/+v8DAAMADQANAB0AHQAhACEANQA1AEAAQABBAEEAQABAAD0APQA7ADsANgA2AC4ALgAcABwAFwAXAAkACQDq/+r/6P/o//H/8f8HAAcAIQAhACcAJwAYABgAAgACAAMAAwABAAEAAgACAAQABAD5//n//////w8ADwAgACAAKQApADoAOgBJAEkARQBFAEMAQwAvAC8AFgAWAAQABAD9//3/9v/2//X/9f/1//X/9v/2//3//f/5//n/+f/5//n/+f/9//3/AwADAAAAAAD/////AwADAAMAAwD7//v/9v/2/wAAAAATABMAKAAoADsAOwBTAFMAVABUAE4ATgBEAEQALgAuABwAHAAHAAcA4//j/9L/0v/P/8//yP/I/8r/yv/R/9H/2P/Y/+f/5//v/+//+f/5/wgACAAPAA8ADAAMAAcABwANAA0ADAAMAAkACQAPAA8AEwATABIAEgARABEAEQARAP7//v/0//T//f/9//v/+///////CgAKAAgACAAJAAkAEQARABQAFAAPAA8AHAAcACMAIwAiACIAHgAeAAoACgD2//b/3v/e/9f/1//m/+b/9P/0//3//f/2//b/8f/x/wIAAgACAAIAAAAAAAwADAATABMADgAOAAgACAD7//v/4//j/9H/0f+4/7j/rv+u/6r/qv+8/7z/3f/d//7//v8KAAoA/v/+/+z/7P/c/9z/x//H/7T/tP+Z/5n/e/97/1//X/9h/2H/ev96/4f/h/+K/4r/nf+d/7X/tf/A/8D/zv/O/9z/3P/s/+z//P/8/wYABgD+//7/7P/s/+n/6f/n/+f/0//T/9T/1P/m/+b/AQABACcAJwA7ADsATABMAFsAWwBbAFsAWABYAD4APgAqACoAFAAUAAoACgD5//n/6//r/+3/7f8AAAAAHQAdACsAKwAsACwAJgAmAC8ALwApACkAHQAdAAwADAAJAAkAEAAQAAoACgADAAMA9f/1/+L/4v/i/+L/3v/e/+b/5v/7//v/BwAHABUAFQAeAB4AHgAeACMAIwAuAC4ARABEAFsAWwBwAHAAfQB9AHMAcwBkAGQAQQBBABQAFAD0//T/1f/V/9j/2P/q/+r/9f/1/wIAAgAQABAALwAvAFAAUABeAF4AXQBdAFQAVABKAEoAQwBDADoAOgAeAB4AEgASAAkACQADAAMAAgACAAgACAAdAB0AIwAjADIAMgAxADEAKQApADEAMQAxADEANwA3ADIAMgAmACYAJgAmAB8AHwAOAA4AAAAAAOr/6v/S/9L/0P/Q/9j/2P/g/+D/2v/a/8//z/+4/7j/pv+m/6X/pf+f/5//k/+T/5j/mP+e/57/r/+v/7v/u/+0/7T/vP+8/73/vf+5/7n/v/+//77/vv+3/7f/uP+4/7T/tP+9/73/0f/R/+n/6f8DAAMADQANABoAGgAmACYALQAtACoAKgAhACEACwALAAEAAQD8//z/+//7//r/+v/y//L/7f/t/+L/4v/l/+X/6v/q/+X/5f/h/+H/6P/o//T/9P/y//L/6f/p//T/9P/v/+//4P/g/9P/0/+2/7b/m/+b/5D/kP+C/4L/c/9z/3L/cv+C/4L/nP+c/9D/0P/0//T/GwAbADYANgA7ADsAMgAyACUAJQAaABoA/////+7/7v/b/9v/z//P/9L/0v/Y/9j/6P/o/+r/6v/n/+f/6//r//r/+v8UABQADwAPAA4ADgATABMAEAAQAB8AHwAhACEAJQAlADcANwBHAEcAVQBVAF8AXwBjAGMAZQBlAFIAUgBIAEgANwA3AC0ALQAoACgAKQApAC4ALgArACsAMAAwADwAPAAvAC8AGwAbAAkACQD2//b/5f/l/9X/1f/d/93/8P/w/wEAAQAGAAYAAQABAAMAAwD5//n/5P/k/9P/0/+//7//wv/C/9//3//y//L/BQAFAA8ADwAZABkAJAAkACYAJgAhACEAEQARAAIAAgDs/+z/0v/S/7//v/+w/7D/qf+p/6D/oP+u/67/wf/B/9v/2//8//z/EAAQAA8ADwD/////8//z/97/3v/G/8b/r/+v/5r/mv+V/5X/mf+Z/6f/p/+v/6//uv+6/8v/y//a/9r/3//f/9r/2v/W/9b/1f/V/9L/0v/X/9f/3v/e/+3/7f8IAAgAFQAVABsAGwAhACEABAAEAOb/5v/U/9T/wP/A/7r/uv/E/8T/5v/m/+//7//w//D//////wYABgADAAMA+v/6//n/+f/w//D/7P/s//j/+P/4//j/+//7//3//f/w//D/6v/q/+b/5v/e/97/2//b/+D/4P/o/+j/AgACABYAFgAhACEAJAAkABsAGwAvAC8APAA8AE0ATQBkAGQAbwBvAHcAdwB6AHoAdAB0AHEAcQB5AHkAbABsAFoAWgBXAFcASwBLAEEAQQBJAEkAVwBXAF4AXgBMAEwAPgA+ACcAJwAWABYADwAPABsAGwAlACUAMQAxAEUARQBVAFUAVwBXAE4ATgBDAEMAJwAnAB0AHQAaABoAJAAkADUANQA0ADQALwAvACUAJQAEAAQA5//n/9L/0v+1/7X/pf+l/6D/oP+k/6T/s/+z/8n/yf/x//H/EgASACcAJwAxADEAJQAlAAkACQDp/+n/z//P/7//v/+3/7f/rv+u/7//v//D/8P/1//X/+7/7v8CAAIAFQAVABwAHAAbABsAEQARAA0ADQD9//3/+P/4//j/+P8AAAAAEgASABIAEgAPAA8AGgAaAC0ALQAqACoALwAvADoAOgAxADEAIgAiAAoACgD0//T/5P/k//D/8P/u/+7/8v/y//j/+P/6//r/9P/0//H/8f/d/93/zv/O/8X/xf/A/8D/xf/F/9X/1f/s/+z/+v/6/wUABQALAAsAAwADAP3//f/u/+7/0v/S/9P/0//K/8r/wv/C/8b/xv/W/9b/5v/m/+n/6f/1//X/AgACABwAHAArACsAOQA5AEEAQQA1ADUAKAAoABUAFQD6//r/6v/q/+n/6f/g/+D/4//j//T/9P/1//X/9f/1/+//7//x//H/6//r/+7/7v/8//z/BwAHAB0AHQAZABkAIAAgACsAKwAiACIAEQARAPr/+v/k/+T/0v/S/77/vv+9/73/yf/J/9X/1f/t/+3//////xgAGAAzADMARgBGAFEAUQBIAEgAQQBBADoAOgAjACMAGwAbACIAIgAeAB4AGgAaABAAEAAIAAgACQAJAAAAAAD/////9v/2//T/9P/+//7/AgACAPv/+//2//b/8f/x//P/8//x//H/8//z//j/+P8FAAUADwAPAAQABAABAAEABwAHAPf/9//x//H/+P/4//r/+v8BAAEAAgACAAQABAAAAAAAAAAAAAAAAAD2//b/7v/u/+D/4P/Y/9j/yf/J/8v/y//O/87/y//L/8b/xv+4/7j/qP+o/5L/kv+E/4T/ev96/3f/d/9p/2n/av9q/4D/gP+W/5b/wv/C/9r/2v/0//T/CwALAAoACgAEAAQAAgACAAAAAAAFAAUADQANABYAFgAXABcAHQAdABwAHAAQABAACwALAAMAAwD2//b//////w8ADwAfAB8ALwAvAEkASQBYAFgAWgBaAFwAXABQAFAAOQA5ACIAIgASABIA/f/9/+z/7P/l/+X/5P/k//v/+/8XABcAMQAxADoAOgA8ADwAOAA4AC0ALQAYABgABwAHAPv/+//y//L/9//3/wkACQAPAA8AEgASABkAGQAeAB4AGwAbABsAGwAUABQA8//z/+H/4f/q/+r//P/8/w0ADQAUABQAHgAeABcAFwAKAAoA9P/0/+X/5f/Z/9n/wv/C/8H/wf/K/8r/3P/c/+b/5v/z//P/CQAJABoAGgA2ADYASgBKAFIAUgBRAFEAQQBBADMAMwAsACwAIwAjACUAJQAjACMAKAAoACwALAAmACYALAAsAC4ALgAnACcAHQAdACYAJgA1ADUAQQBBADcANwAhACEABgAGAN//3//C/8L/s/+z/53/nf+e/57/rf+t/8D/wP/V/9X/6f/p/wEAAQADAAMADwAPABYAFgAIAAgA7//v/9r/2v/U/9T/z//P/9f/1//Q/9D/1P/U/9v/2//W/9b/2f/Z/+H/4f/i/+L/8P/w/wgACAAUABQAFwAXABYAFgAQABAA/v/+/+T/5P/d/93/2P/Y/8//z//P/8//0f/R/+L/4v/v/+//AgACABIAEgAhACEAIgAiABkAGQAWABYAHAAcAB8AHwAaABoAHgAeABoAGgAUABQAHQAdAAwADAAKAAoAEAAQAA8ADwATABMAEwATABIAEgAVABUAGgAaABEAEQAAAAAA6//r/9f/1//M/8z/zf/N/9D/0P/X/9f/2//b/93/3f/m/+b/5f/l/83/zf/D/8P/uP+4/6T/pP+s/6z/s/+z/7//v//J/8n/0v/S/9n/2f/j/+P/6//r/+3/7f/0//T/BwAHABgAGAAhACEAHwAfACYAJgAhACEAGAAYABYAFgAdAB0AMwAzAEEAQQBLAEsAWABYAGQAZABfAF8AXgBeAGEAYQBTAFMAOAA4ABgAGAAGAAYA9f/1/+3/7f/Y/9j/yP/I/8f/x//P/8//2v/a/+T/5P/y//L//f/9/wcABwAJAAkA+v/6/+v/6//k/+T/2//b/9H/0f/H/8f/zP/M/9j/2P/f/9//6v/q//b/9v8IAAgAFAAUABwAHAAuAC4ASgBKAFgAWABZAFkAaABoAGQAZABgAGAAYgBiAFEAUQBJAEkAPAA8ACwALAAlACUAKgAqADgAOABFAEUAQQBBADYANgAtAC0AFAAUAAwADAAUABQAHAAcACcAJwArACsAMAAwADUANQAtAC0AJQAlAB4AHgAQABAABwAHAAsACwAZABkAHwAfAB8AHwArACsAMwAzADUANQAnACcACQAJAAAAAAAGAAYACwALABMAEwAmACYAOAA4AC4ALgAhACEAFgAWAAEAAQDy//L/6v/q/+X/5f/p/+n/7v/u/+r/6v/q/+r/4P/g/9X/1f/P/8//zP/M/9X/1f/j/+P/9//3/w4ADgAhACEAJwAnADsAOwA5ADkALQAtABUAFQABAAEA/f/9/+//7//q/+r/8v/y//X/9f/9//3/CgAKAP3//f/6//r//f/9//r/+v/y//L/5//n//H/8f/r/+v/2//b/9v/2//S/9L/x//H/8v/y//D/8P/x//H/7//v/+5/7n/w//D/7//v//D/8P/y//L/9v/2//d/93/1f/V/9L/0v/c/9z/8v/y/wIAAgAJAAkACwALAAoACgD6//r/6P/o/9P/0//H/8f/zv/O/9z/3P/x//H/AgACABYAFgAqACoANAA0ACkAKQAiACIAHgAeABIAEgAeAB4AKwArAEIAQgBTAFMAXgBeAGsAawBuAG4AcwBzAHIAcgBmAGYAUwBTADIAMgAQABAA/f/9/+//7//j/+P/4//j//D/8P8DAAMAFQAVACkAKQBBAEEAQABAADsAOwA3ADcAMQAxADEAMQAkACQAGwAbABIAEgAAAAAA7v/u/+n/6f/r/+v/8P/w//T/9P//////CAAIABkAGQAbABsAGwAbABQAFAAGAAYA+f/5/93/3f/V/9X/0v/S/8T/xP/H/8f/y//L/9P/0//b/9v/5//n//P/8//9//3/9v/2/+b/5v/h/+H/5//n/+T/5P/H/8f/xv/G/8n/yf+8/7z/xv/G/8n/yf/A/8D/w//D/8P/w//U/9T/9P/0/wQABAASABIAIQAhACsAKwA4ADgAUQBRAE0ATQA5ADkAKAAoABQAFAAFAAUAAAAAAPT/9P/1//X/+f/5//P/8//x//H/8P/w//D/8P/2//b/8f/x//T/9P/z//P/7f/t//T/9P/v/+//7P/s/+n/6f/z//P/AgACAAYABgAVABUAKQApAEEAQQBPAE8AWgBaAFwAXABOAE4AQwBDACIAIgAAAAAA6f/p/97/3v/m/+b/5f/l/+7/7v/9//3/AAAAAP7//v8AAAAAAAAAAAAAAAAEAAQAAAAAAPn/+f/5//n/8f/x//L/8v/o/+j/3//f/9j/2P/N/83/1v/W/9z/3P/i/+L/3//f/+D/4P/m/+b/8P/w/wIAAgAPAA8AJAAkADMAMwA3ADcAQABAAD0APQA+AD4ANAA0AB4AHgARABEA/////wQABAAPAA8AFQAVAA8ADwAUABQAFAAUAAcABwD9//3/9//3/+f/5//c/9z/0f/R/8D/wP+x/7H/pv+m/6L/ov+U/5T/kP+Q/53/nf+0/7T/0f/R/9//3//j/+P/3P/c/9z/3P/i/+L/2//b/93/3f/V/9X/1//X/+b/5v/w//D/9//3//3//f8BAAEACgAKAA4ADgALAAsACwALABEAEQAcABwAHQAdAAsACwD9//3/9v/2/+f/5//m/+b/4f/h/+j/6P/s/+z/5v/m/+b/5v/g/+D/6//r/+v/6//t/+3/+P/4/wUABQANAA0ADgAOAAUABQD7//v/6f/p/9H/0f+5/7n/sv+y/67/rv++/77/2//b//b/9v8JAAkAIgAiADMAMwBEAEQAOgA6ADEAMQArACsAHQAdACoAKgAsACwAMwAzAEUARQBGAEYAWABYAGMAYwBuAG4AcQBxAHMAcwB0AHQAXwBfAFMAUwBHAEcAQQBBADcANwA1ADUANgA2ADgAOAAvAC8AKAAoACIAIgAbABsAHAAcACsAKwAyADIAOAA4AEMAQwBGAEYASQBJAD4APgAqACoAGAAYAPr/+v/h/+H/4v/i/+v/6//u/+7/5v/m/9f/1//O/87/x//H/7j/uP+h/6H/if+J/4b/hv+N/43/jf+N/4X/hf96/3r/jP+M/6j/qP/F/8X/0f/R/9P/0//o/+j/7v/u//T/9P/5//n/+f/5//f/9//v/+//6//r/9//3//c/9z/5//n/+v/6//x//H/AQABAAwADAAYABgALAAsADgAOAA5ADkAOgA6AEQARABCAEIAQwBDAEMAQwAqACoAIgAiABcAFwACAAIA7v/u/9P/0//G/8b/w//D/8n/yf/S/9L/6f/p//7//v8FAAUABwAHAP7//v8AAAAABAAEAAQABAD/////7//v/+3/7f/q/+r/9//3//n/+f/4//j/9f/1/+n/6f/z//P/+//7//z//P/+//7/+v/6/+b/5v/w//D/8v/y/9r/2v/G/8b/u/+7/8D/wP/J/8n/1v/W/9L/0v/Y/9j/2//b/+P/4//q/+r/9v/2/wMAAwANAA0AHwAfABwAHAAPAA8ACgAKAPX/9f/T/9P/u/+7/6f/p/+o/6j/s/+z/7j/uP/G/8b/1//X/9//3//m/+b/6//r//P/8//z//P/8f/x//H/8f/t/+3/7v/u/+n/6f/q/+r/4f/h/8r/yv/K/8r/y//L/8//z//d/93/+v/6/xoAGgA0ADQATgBOAFsAWwBgAGAAXgBeAGYAZgBhAGEAWQBZAFQAVABQAFAASQBJAEAAQAA5ADkAJgAmACIAIgAmACYAKAAoAC0ALQAxADEANAA0AEIAQgBAAEAAPAA8AD4APgBCAEIARwBHAFoAWgBlAGUAbQBtAHYAdgBqAGoAZgBmAF8AXwBTAFMASgBKAEEAQQAzADMAKQApABoAGgAYABgAIAAgACwALAA5ADkAQwBDAEoASgBCAEIANQA1ADUANQAkACQABgAGAP7//v/z//P/3P/c/9P/0/+7/7v/pP+k/47/jv91/3X/cP9w/27/bv96/3r/jP+M/5P/k/+k/6T/vv++/87/zv/O/87/z//P/83/zf/G/8b/v/+//7n/uf+0/7T/tv+2/7z/vP++/77/zf/N/9b/1v/j/+P/9f/1//X/9f/6//r/CQAJABsAGwAkACQAMAAwACYAJgAZABkACQAJAPb/9v/6//r//f/9/wEAAQATABMALQAtAD0APQBLAEsARABEAC8ALwAVABUA+//7/+z/7P/i/+L/4f/h/9f/1//b/9v/3v/e/9j/2P/I/8j/wv/C/8P/w//A/8D/tP+0/7D/sP+5/7n/x//H/9D/0P/a/9r/5v/m/+X/5f/w//D/6f/p/9z/3P/F/8X/q/+r/53/nf+J/4n/hv+G/5n/mf+0/7T/0P/Q/+z/7P/6//r/BAAEABgAGAAdAB0AJgAmACoAKgApACkAKgAqACUAJQAbABsADwAPAP////8AAAAAEwATACIAIgAiACIAMwAzAE8ATwBfAF8AYwBjAGYAZgBhAGEAYwBjAFYAVgBDAEMANgA2ADUANQBBAEEAUABQAFAAUABWAFYAVABUAD0APQAeAB4ACAAIAPT/9P/o/+j/3v/e/9T/1P/d/93/8v/y/wIAAgASABIAJgAmADYANgApACkAFwAXAA0ADQANAA0ABwAHAPv/+//u/+7/3f/d/9b/1v/M/8z/y//L/8r/yv/Y/9j/8f/x//L/8v/8//z/BwAHAAMAAwAEAAQA/f/9/+//7//f/9//3P/c/+v/6//z//P//////xEAEQAhACEAFgAWAA8ADwATABMABwAHAPP/8//b/9v/2P/Y/+j/6P/u/+7/8f/x/+7/7v/k/+T/4P/g/9b/1v/W/9b/1//X/9//3//g/+D/4f/h/+b/5v/m/+b/6v/q/97/3v/U/9T/zf/N/8T/xP/C/8L/v/+//8r/yv/c/9z/3P/c/93/3f/l/+X/6v/q//X/9f8AAAAABwAHAAkACQARABEACQAJAAkACQD7//v/7//v/+P/4//U/9T/y//L/8j/yP/E/8T/yf/J/9f/1//e/97/6P/o/+//7/8GAAYAIQAhADUANQA5ADkAMwAzACkAKQAiACIAIgAiABAAEAD9//3/7f/t/+D/4P/f/9//8P/w/wYABgASABIAGgAaABsAGwAdAB0AFAAUABAAEAAgACAAMQAxACUAJQAaABoAGgAaAB4AHgAsACwANQA1ACoAKgAMAAwA8//z/9X/1f/F/8X/wv/C/8j/yP/H/8f/1f/V/+//7/8KAAoAGwAbABAAEAAAAAAA9v/2//f/9/8CAAIAFAAUACIAIgAsACwAMwAzAD8APwBIAEgAQgBCAEUARQA5ADkAOAA4AEcARwBNAE0AWQBZAF8AXwBjAGMAbwBvAHMAcwBvAG8AYQBhAGMAYwBnAGcAagBqAHUAdQBnAGcAWABYAFAAUAA7ADsANQA1ADkAOQA1ADUALwAvABQAFAD5//n/6//r/+L/4v/V/9X/2f/Z/97/3v/w//D/EAAQABwAHAAmACYAIgAiABgAGADz//P/x//H/7P/s/+g/6D/lP+U/4f/h/98/3z/fv9+/3n/ef9+/37/e/97/4T/hP+R/5H/nP+c/7P/s/+9/73/yf/J/8z/zP/C/8L/qv+q/5f/l/+O/47/lv+W/6L/ov+t/63/vv++/8z/zP/d/93/9//3//r/+v/t/+3/7v/u/+r/6v/3//f/AAAAAO7/7v/V/9X/zv/O/9T/1P/e/97//f/9/xAAEAAYABgAKAAoACwALAA7ADsANwA3AC0ALQArACsAIQAhABoAGgAYABgAGgAaABsAGwAZABkAEAAQAAwADAD2//b/9v/2/w8ADwAkACQAOwA7AFMAUwBcAFwAYABgAFIAUgAvAC8AFQAVAAgACAAOAA4ABgAGAAUABQANAA0AGQAZACIAIgAmACYAJQAlACcAJwAgACAAIwAjADEAMQAhACEAHgAeACoAKgAgACAACQAJAP3//f8GAAYAHgAeACoAKgAoACgALQAtACMAIwAlACUAHwAfAA0ADQAGAAYA/v/+//L/8v/b/9v/vP+8/6f/p/+p/6n/vP+8/8D/wP/F/8X/0f/R/+z/7P8EAAQAGQAZAC4ALgA6ADoAOQA5AC0ALQAfAB8ADwAPAAMAAwD8//z/7f/t/9v/2//L/8v/0v/S/9r/2v/g/+D/5P/k/+z/7P/w//D/+f/5//T/9P/4//j/BgAGABQAFAAVABUAEgASAA0ADQD/////9v/2/+7/7v/i/+L/z//P/8D/wP+//7//wP/A/8X/xf/H/8f/1P/U/+P/4//l/+X/4P/g/9P/0//U/9T/2f/Z/+P/4//q/+r/+P/4/woACgAXABcAGwAbABgAGAAWABYAEAAQABQAFAAbABsAGgAaAB4AHgAbABsAHQAdACEAIQAfAB8AJQAlABYAFgAEAAQABAAEAAAAAAD+//7/BgAGAAcABwAQABAAIwAjACkAKQAuAC4ALQAtACMAIwAkACQALAAsADAAMAAtAC0AMQAxACQAJAAQABAAAAAAAAUABQAKAAoAFwAXAB8AHwAXABcADAAMABMAEwAHAAcAAgACAAIAAgD0//T/8f/x/wAAAAAWABYAEQARAA8ADwAYABgAHgAeACUAJQAhACEAJwAnADUANQA7ADsAQABAAEEAQQBBAEEASgBKAFUAVQBYAFgAUQBRAEYARgA9AD0AQQBBAEkASQBOAE4ASgBKAEAAQAA2ADYAMgAyADQANAAjACMAHAAcAAsACwABAAEA8f/x/93/3f/M/8z/vf+9/7b/tv+z/7P/rP+s/67/rv+4/7j/wv/C/8P/w//H/8f/w//D/7j/uP+5/7n/u/+7/8j/yP/g/+D/4v/i/+D/4P/U/9T/yf/J/8j/yP/Q/9D/2P/Y/+X/5f/h/+H/0P/Q/7//v/+t/63/ov+i/5z/nP+M/4z/iv+K/5//n/+v/6//zv/O/+b/5v/1//X/AgACAAMAAwADAAMABwAHAAIAAgDy//L/4f/h/9r/2v/b/9v/2//b/9v/2//l/+X/7P/s//H/8f/y//L/AAAAAAwADAAfAB8AOwA7AEkASQBdAF0AZwBnAGcAZwBpAGkAaQBpAFgAWAA6ADoAGgAaAPz//P/n/+f/3v/e/+b/5v/m/+b/4P/g/+r/6v/o/+j/5f/l/+b/5v/j/+P/4v/i//D/8P8EAAQAHQAdADEAMQA7ADsASwBLAEcARwBFAEUARgBGADUANQAbABsACQAJAAQABAAIAAgAAAAAAPz//P8DAAMADQANABcAFwAjACMAJgAmACIAIgAZABkACAAIAAAAAAAKAAoACwALAAgACAD+//7/9P/0/+//7//t/+3/9f/1//3//f/+//7/BwAHAA4ADgANAA0A+v/6/9//3//S/9L/yv/K/8f/x//T/9P/8//z/w4ADgAWABYAJwAnAEQARABCAEIAQQBBADUANQAvAC8AKgAqABoAGgAgACAAKwArADAAMAA0ADQAQgBCAFEAUQBLAEsAQABAAD4APgA0ADQALQAtACwALAA0ADQAOAA4ADgAOAA8ADwALQAtACAAIAAOAA4AAgACAAUABQALAAsACQAJAA4ADgAZABkAFwAXABkAGQAcABwADQANAP3//f/n/+f/yv/K/7r/uv+i/6L/l/+X/5L/kv+d/53/sv+y/7z/vP/I/8j/yP/I/77/vv+0/7T/ov+i/5L/kv+A/4D/gf+B/4j/iP+U/5T/pf+l/77/vv/J/8n/x//H/9H/0f/Y/9j/3P/c/+T/5P/s/+z/8//z//7//v8LAAsABQAFAP3//f/0//T/4P/g/8r/yv/B/8H/wv/C/8r/yv/L/8v/2//b//f/9/8DAAMADgAOAB4AHgAiACIAJAAkACwALAAzADMASABIAFUAVQBlAGUAcwBzAGsAawBdAF0ATQBNAE8ATwBEAEQAQwBDAEIAQgA8ADwAPwA/AEsASwBbAFsAYABgAF0AXQBIAEgAJAAkAAcABwDo/+j/zf/N/8r/yv/D/8P/x//H/9j/2P/w//D/AAAAAA4ADgAQABAADAAMAAsACwALAAsACQAJAA4ADgASABIAHgAeACMAIwAQABAAGwAbAC0ALQAuAC4AHgAeABIAEgAPAA8AAAAAAPL/8v/t/+3/5v/m/+n/6f/u/+7/+P/4//3//f8BAAEABwAHAP3//f/z//P/6//r/+n/6f/s/+z//f/9/w4ADgAWABYAFwAXABcAFwAcABwAJAAkABcAFwACAAIA7v/u/93/3f/X/9f/0v/S/9b/1v/S/9L/0f/R/9b/1v/b/9v/5//n//H/8f8DAAMAFgAWACMAIwAmACYAJgAmABEAEQAAAAAA9v/2/9//3//h/+H/2v/a/9b/1v/e/97/5//n/+3/7f/1//X///////3//f/4//j/9f/1/+3/7f/m/+b/7f/t/+v/6//w//D//P/8//v/+//5//n/8f/x/+X/5f/m/+b/1f/V/8b/xv+//7//uP+4/8j/yP/e/97/+//7/xEAEQAYABgADwAPAPX/9f/X/9f/uf+5/6X/pf+p/6n/rv+u/7b/tv+6/7r/0P/Q/+T/5P/q/+r/+f/5//r/+v/1//X/AAAAABMAEwALAAsAFQAVACgAKAAxADEAMgAyAC0ALQAtAC0AHwAfACcAJwAtAC0AHwAfABgAGAAPAA8ABwAHAAcABwAIAAgADAAMAAUABQAIAAgADQANABYAFgAlACUALgAuADIAMgAtAC0AGAAYAAkACQACAAIAAAAAAPv/+//s/+z/4//j/+b/5v/p/+n/6f/p/+3/7f/q/+r/5f/l/+f/5//U/9T/x//H/8P/w/+8/7z/wP/A/8r/yv/L/8v/2//b//D/8P8AAAAADgAOAA8ADwAPAA8ACwALAPn/+f/b/9v/wP/A/6v/q/+a/5r/l/+X/6j/qP+1/7X/2P/Y//H/8f/8//z/CAAIAA8ADwAWABYADwAPAA8ADwAUABQAIwAjAC4ALgBDAEMAQwBDADgAOAA7ADsALQAtACEAIQAaABoAFQAVAA8ADwAWABYAIgAiADIAMgBEAEQAUwBTAFwAXABZAFkATwBPADsAOwAfAB8AEAAQAAoACgAQABAAEwATABYAFgAkACQAJQAlABQAFAACAAIA8f/x/9T/1P+9/73/uv+6/8D/wP/Q/9D/5v/m//j/+P/+//7/9P/0/9//3//Y/9j/xf/F/7L/sv+4/7j/y//L/+j/6P/+//7/AAAAAAcABwALAAsAAwADAPz//P/z//P/7f/t//H/8f/4//j//v/+/wAAAAAFAAUADwAPACAAIAApACkAJAAkADEAMQA1ADUAMQAxAC0ALQAcABwACwALAP7//v/q/+r/3v/e/+D/4P/z//P/DgAOAB8AHwA9AD0AUABQAFAAUABVAFUAQgBCACYAJgAcABwADgAOAAUABQACAAIACQAJAA0ADQAYABgAGwAbABwAHAANAA0A/P/8//D/8P/g/+D/1v/W/9b/1v/q/+r/AQABAA8ADwAEAAQA+v/6/+b/5v/I/8j/rP+s/5f/l/+Z/5n/n/+f/63/rf+3/7f/xv/G/8v/y//Q/9D/1v/W/9D/0P/Q/9D/2//b/+b/5v/0//T/BwAHABQAFAAaABoAHwAfABwAHAAfAB8AJQAlACgAKAAzADMARwBHAFcAVwBcAFwAaQBpAG8AbwBvAG8AZgBmAE4ATgBAAEAALAAsABQAFAADAAMA6//r/97/3v/m/+b/+f/5/wYABgALAAsADAAMABQAFAAUABQABgAGAPL/8v/g/+D/0//T/8r/yv/B/8H/u/+7/7L/sv+6/7r/rv+u/6X/pf+b/5v/jv+O/4L/gv+D/4P/iP+I/5b/lv+p/6n/tf+1/7T/tP+q/6r/nv+e/5n/mf+H/4f/lP+U/53/nf+n/6f/w//D/9X/1f/p/+n/7v/u//v/+/8AAAAA+f/5//b/9v/v/+//3//f/8v/y//A/8D/tv+2/73/vf/O/87/2//b/+v/6//3//f/CQAJACIAIgA3ADcATQBNAFcAVwBfAF8AagBqAHEAcQBzAHMAcgByAGgAaABjAGMAawBrAGQAZABdAF0AWQBZAFkAWQBcAFwAVQBVAEgASAA3ADcAKgAqACwALAAuAC4AOAA4AEgASABbAFsAZABkAFoAWgBYAFgAUABQAD4APgAnACcAHQAdACEAIQAgACAAGwAbAB8AHwAeAB4AJQAlAB8AHwAQABAADgAOAAcABwAHAAcAAQABAAMAAwAEAAQADQANABYAFgAtAC0APQA9AFAAUABiAGIAYABgAFcAVwBeAF4AWwBbAE0ATQBKAEoAOAA4ACgAKAAaABoABQAFAPb/9v/q/+r/7f/t//X/9f8TABMAKwArADYANgA+AD4ANgA2ACoAKgApACkAFwAXAP3//f/h/+H/yv/K/8j/yP/M/8z/zv/O/9P/0//h/+H/7P/s//L/8v/4//j/AAAAAA4ADgAUABQADwAPABQAFAAfAB8AGAAYABoAGgAHAAcA3//f/8n/yf++/77/t/+3/7v/u/+1/7X/tf+1/7v/u//K/8r/2f/Z/9f/1//S/9L/1v/W/9r/2v/O/87/w//D/7//v//D/8P/wf/B/7z/vP/K/8r/3f/d//D/8P/4//j/6//r/9j/2P/B/8H/t/+3/6v/q/+l/6X/nf+d/6n/qf+8/7z/zv/O/9j/2P/i/+L/6f/p/+X/5f/u/+7/8f/x/9z/3P/j/+P/6v/q/+z/7P/6//r/AwADABcAFwAoACgAJgAmABgAGAAcABwALQAtADYANgArACsAGQAZAAQABADw//D/3f/d/9D/0P/K/8r/vv++/77/vv/K/8r/1P/U/9//3//j/+P/6v/q/+L/4v/Z/9n/2f/Z/87/zv/V/9X/2v/a/9v/2//c/9z/1v/W/9X/1f/H/8f/tP+0/6z/rP+t/63/vf+9/9n/2f/l/+X/8P/w/woACgAoACgAPgA+AFEAUQBLAEsAPAA8AC0ALQAbABsABwAHAPn/+f/g/+D/1P/U/9//3//u/+7/AAAAAAcABwARABEAHgAeAC4ALgBDAEMAQgBCAC8ALwAsACwAIwAjAAEAAQD7//v/+v/6//r/+v8PAA8AKgAqAEAAQABVAFUAUQBRAE4ATgA0ADQAHwAfABkAGQARABEAGQAZABsAGwAYABgAHwAfACgAKAA2ADYASgBKAEcARwBNAE0AQABAAC8ALwAgACAAFQAVABEAEQANAA0ACAAIAAMAAwAKAAoADwAPABgAGAAeAB4AFAAUABUAFQAaABoADgAOAAAAAAD8//z/AAAAAAoACgAbABsAKAAoACEAIQAYABgAHQAdACAAIAApACkAKQApABoAGgANAA0ABQAFAPn/+f8AAAAAAwADAAUABQAPAA8ACQAJAAUABQD7//v/9P/0/+7/7v/z//P/AwADABIAEgApACkAUABQAGEAYQBzAHMAbABsAE0ATQA6ADoAJgAmABsAGwANAA0A+//7//D/8P/m/+b/4f/h/+L/4v/d/93/zv/O/83/zf/b/9v/5f/l/+b/5v/k/+T/2P/Y/9b/1v/I/8j/vf+9/6b/pv+L/4v/dP90/13/Xf9d/13/U/9T/1//X/91/3X/kv+S/7L/sv/M/8z/3v/e/+j/6P/t/+3/9v/2//n/+f/4//j//f/9//D/8P/y//L/+v/6//////8EAAQA/////wYABgAOAA4AFwAXABcAFwAfAB8ALwAvADQANAA/AD8ASwBLAE8ATwBSAFIATwBPAEsASwBQAFAATQBNAEkASQA0ADQAIwAjAB0AHQASABIACAAIAAkACQALAAsACwALAAsACwAOAA4AEwATABEAEQAOAA4ADAAMAAkACQD7//v//P/8/wMAAwAFAAUABgAGAAAAAAD0//T/3v/e/9H/0f/D/8P/uf+5/6v/q/+s/6z/t/+3/7r/uv/K/8r/0f/R/8T/xP+//7//rv+u/7b/tv/F/8X/1P/U/97/3v/l/+X/4v/i/97/3v/b/9v/yv/K/7v/u/+5/7n/xf/F/9j/2P/m/+b/7f/t//X/9f/1//X//P/8//3//f/0//T/6f/p//X/9f8AAAAAEAAQAC0ALQBDAEMAWABYAGsAawBzAHMAbgBuAHkAeQCBAIEAjgCOAJYAlgCRAJEAmACYAKMAowCkAKQAlQCVAIAAgAB1AHUAaQBpAGgAaABoAGgAVABUAFMAUwBSAFIAUABQAFMAUwBWAFYAWABYAFgAWABUAFQATwBPAEgASAA+AD4ANwA3ADMAMwA4ADgAOgA6AEYARgBQAFAAUgBSAE0ATQBPAE8AVABUAEwATAA+AD4ANgA2AC4ALgAMAAwA/P/8/+3/7f/F/8X/pv+m/6H/of+T/5P/lv+W/57/nv+s/6z/sP+w/7//v//D/8P/x//H/8z/zP/B/8H/uf+5/6z/rP+d/53/if+J/33/ff9x/3H/cv9y/47/jv+h/6H/uf+5/9v/2/8JAAkAJgAmACgAKAAfAB8AEAAQAPv/+//w//D/4v/i/9z/3P/I/8j/uv+6/8L/wv/B/8H/tf+1/7v/u//P/8//2v/a/9b/1v/U/9T/2v/a/8n/yf+4/7j/q/+r/6j/qP+p/6n/s/+z/83/zf/b/9v/2P/Y/+X/5f/4//j/BAAEAAsACwAfAB8AKwArAD4APgBWAFYAcgByAIMAgwCaAJoAyQDJAOYA5gATARMBOAE4AVEBUQFuAW4BkQGRAbMBswHLAcsB1gHWAeMB4wHpAekB4wHjAeQB5AHrAesB6QHpAdwB3AHhAeEB8wHzAQMCAwIJAgkC/wH/AfQB9AHjAeMBwQHBAYIBggEYARgBsgCyAFoAWgD3//f/rv+u/4L/gv9o/2j/SP9I/yP/I//4/vj+wP7A/ob+hv5F/kX+CP4I/sX9xf2F/YX9OP04/fP88/yx/LH8bfxt/DD8MPwH/Af84/vj+9P70/vU+9T71/vX++X75fvl++X78/vz+/P78/vx+/H7/vv++xj8GPw8/Dz8UvxS/Gv8a/yP/I/8v/y//Pn8+fw3/Tf9ef15/c79zv0o/ij+hf6F/uP+4/4q/yr/av9q/5X/lf+8/7z/5//n/w0ADQA3ADcAZQBlAKwArAD/AP8AQgFCAX0BfQGvAa8B2QHZAfgB+AEgAiACRwJHAnMCcwKeAp4CvQK9AusC6wITAxMDQwNDA24DbgOUA5QDtQO1A9gD2AP5A/kDEgQSBDUENQRkBGQEhQSFBKQEpATVBNUE+AT4BBoFGgU8BTwFSQVJBVQFVAVaBVoFXgVeBWMFYwVQBVAFQgVCBTEFMQULBQsF4QThBKoEqgRkBGQEIAQgBM8DzwNyA3IDBwMHA5QClAIZAhkCigGKARUBFQGjAKMALwAvALr/uv8+/z7/r/6v/ij+KP6u/a79K/0r/a38rfwe/B78gfuB+/D68Ppz+nP6CfoJ+rX5tfld+V35Ifkh+ev46/jS+NL4pfil+IX4hfhi+GL4S/hL+FH4UfhX+Ff4cPhw+Jv4m/jT+NP4/Pj8+Er5Svmi+aL5AvoC+ln6Wfq1+rX6GPsY+3v7e/vo++j7SfxJ/Kf8p/wB/QH9T/1P/aL9ov0J/gn+Wv5a/rP+s/4K/wr/b/9v/8v/y/8hACEAaQBpAKYApgDSANIACAEIATcBNwFNAU0BaAFoAYEBgQGYAZgBqgGqAcEBwQHaAdoB9wH3ASICIgJiAmIClgKWAt8C3wIoAygDdAN0A74DvgPsA+wDMQQxBHYEdgStBK0E8ATwBEUFRQWiBaIFEwYTBpQGlAYQBxAHfAd8B+kH6QdTCFMIqgiqCOgI6AgpCSkJbAlsCaIJognLCcsJ7QntCfsJ+wnrCesJ3QndCagJqAleCV4JBwkHCaEIoQg4CDgItQe1ByYHJgeEBoQGxwXHBQcFBwU3BDcETANMA1ICUgJiAWIBXgBeAFX/Vf9W/lb+S/1L/Tn8Ofwl+yX7Ifoh+h/5H/kx+DH4S/dL93T2dPan9af17vTu9Ez0TPTB88HzVfNV8/vy+/Ky8rLyevJ68l/yX/Jj8mPybfJt8oLygvK28rbyBfMF83nzefMG9Ab0pPSk9Ef1R/Xv9e/1jPaM9jn3OfcF+AX4sPiw+Fb5VvkI+gj6wfrB+oX7hftD/EP86vzq/If9h/0I/gj+fP58/uv+6/5M/0z/nf+d/+T/5P8eAB4ATgBOAIsAiwC7ALsA2wDbAO8A7wD5APkACAEIARIBEgEiASIBLAEsASoBKgEzATMBPQE9AUMBQwFQAVABYwFjAY0BjQHBAcEBCgIKAkwCTAKbApsC8gLyAlEDUQOyA7IDMgQyBLcEtwREBUQF/AX8BbIGsgZyB3IHNAg0COII4giMCYwJNAo0CtAK0AppC2kLDgwODLQMtAxSDVIN7Q3tDYEOgQ4YDxgPhg+GD9sP2w8BEAEQDhAOEPoP+g/HD8cPgQ+BDxkPGQ+ZDpkOCg4KDngNeA3ZDNkMHgweDDYLNgspCikK+wj7CMAHwAdoBmgG7wTvBHADcAPuAe4BewB7AP3+/f6K/Yr9Jfwl/MH6wfph+WH5D/gP+MH2wfZ49Xj1QPRA9BrzGvMT8hPyKPEo8XPwc/DN783vPu8+78juyO5s7mzuHO4c7u3t7e3w7fDtEO4Q7kbuRu6k7qTuHe8d77fvt+9w8HDwPvE+8RvyG/L78vvy3/Pf8830zfTZ9dn12fbZ9sz3zPe3+Lf4l/mX+W/6b/o9+z37BfwF/NH80fyM/Yz9Nf41/sf+x/46/zr/sv+y/x0AHQCAAIAAxQDFAP4A/gAlASUBMwEzAUgBSAFiAWIBfQF9AZUBlQGWAZYBhwGHAYIBggF/AX8BhAGEAYcBhwGCAYIBlwGXAcABwAHuAe4BNgI2AoYChgLQAtACJQMlA3YDdgPMA8wDIwQjBIMEgwQEBQQFkwWTBTMGMwbnBucGmQeZB0UIRQjnCOcIlgmWCVoKWgocCxwL0wvTC4AMgAwYDRgNpw2nDSsOKw6eDp4OAA8AD1APUA+KD4oPsQ+xD8MPww/CD8IPsg+yD30PfQ89Dz0P5w7nDmcOZw7YDdgNMA0wDWIMYgyHC4cLjgqOCnUJdQlMCEwIAwcDB6QFpAVIBEgE4QLhAnYBdgEZABkAtf61/lX9Vf0R/BH8tvq2+lD5UPnV99X3W/Zb9u307fSE84TzKvIq8vHw8fDs7+zvGO8Y72vua+7U7dTtTO1M7eDs4Oyb7Jvsd+x37HXsdex87Hzspeyl7PLs8uxd7V3t8O3w7Z3une5z73PvZ/Bn8GbxZvFv8m/ygPOA85/0n/TC9cL12PbY9tr32vfN+M34xPnE+b36vfqw+7D7pPyk/If9h/1Q/lD+EP8Q/7v/u/9KAEoAuAC4ABwBHAFqAWoBnQGdAcABwAHFAcUBxwHHAcYBxgG8AbwBswGzAZ8BnwGAAYABdAF0AV4BXgFMAUwBXAFcAWYBZgFzAXMBjwGPAbQBtAH4AfgBSAJIAqACoAIFAwUDbwNvA/MD8wOEBIQEFQUVBagFqAU3BjcG0wbTBowHjAdnCGcINQk1CRQKFAr2CvYK0wvTC7sMuwyRDZENTA5MDtsO2w5eD14P3Q/dD0QQRBCYEJgQ2xDbEOoQ6hDpEOkQ5hDmENMQ0xCqEKoQdBB0ECoQKhDSD9IPYg9iD+kO6Q5ZDlkOnw2fDdwM3AzzC/ML9Qr1Ct8J3wm0CLQIdgd2BxgGGAayBLIEUANQA+oB6gGGAIYAK/8r/739vf1b/Fv89/r3+oj5iPkv+C/4zPbM9nP1c/Uv9C/06/Lr8s/xz/G18LXwxe/F7/nu+e4o7ijuau1q7cnsyexM7Ezs6uvq66/rr+uQ65Drpeul68zrzOsG7Absbext7Obs5uyA7YDtF+4X7rPus+5z73PvS/BL8CXxJfES8hLyF/MX8x/0H/Qb9Rv1LPYs9jr3Ovc7+Dv4N/k3+R/6H/r7+vv6uvu6+2v8a/z9/P38h/2H/RL+Ev6Y/pj+Mv8y/8H/wf87ADsAqQCpABsBGwGFAYUB7AHsAUoCSgKaApoC0gLSAg0DDQNUA1QDkwOTA9wD3AMlBCUEagRqBLwEvAQbBRsFjAWMBQYGBgZ6BnoG/Qb9BnsHewfuB+4HXQhdCMMIwwgkCSQJhwmHCd0J3QksCiwKgAqACsMKwwoKCwoLTwtPC44LjgvVC9ULGgwaDGAMYAyfDJ8M5AzkDBwNHA0/DT8NWg1aDWINYg1dDV0NTg1ODScNJw31DPUMxAzEDJUMlQxeDF4MMwwzDA4MDgzPC88LgguCCx8LHwuwCrAKMwozCq0JrQkZCRkJbQhtCK8HrwffBt8GDgYOBioFKgUnBCcEFgMWA/sB+wHCAMIAgf+B/zf+N/74/Pj8svuy+2H6YfoT+RP5uPe491X2Vfbw9PD0nvOe81zyXPIo8SjxAfAB8PPu8+767frtIe0h7X7sfuz06/TrgOuA6zPrM+sP6w/rGusa6zvrO+uE64Tr5Ovk60fsR+zG7MbsWu1a7QXuBe617rXug++D733wffCM8YzxlPKU8p/zn/O79Lv00fXR9fL28vYM+Az4Hvke+TL6Mvos+yz7//v/+8n8yfyU/ZT9Vf5V/iH/If/x//H/tAC0AHYBdgEhAiECrgKuAkIDQgPUA9QDVQRVBMYExgQ2BTYFnwWfBQ8GDwZ/Bn8G4AbgBkYHRgesB6wH8gfyBzkIOQh+CH4IxQjFCA4JDglRCVEJlgmWCeIJ4gk7CjsKjQqNCuEK4QotCy0LcgtyC6sLqwvRC9EL7AvsC/4L/gsbDBsMOAw4DEkMSQxNDE0MWgxaDF8MXwxgDGAMWQxZDFYMVgxaDFoMTAxMDEAMQAxHDEcMRQxFDEEMQQw3DDcMIwwjDAYMBgzZC9kLkguSC0ULRQvzCvMKogqiCkgKSArcCdwJbgluCfEI8QhfCF8IxAfEBw8HDwdHBkcGZwVnBX8EfwR3A3cDVAJUAiMBIwHS/9L/Z/5n/u/87/x6+3r79/n3+Xn4efgG9wb3lvWW9Sj0KPTJ8snyffF98S3wLfDn7ufuxu3G7b3svezZ69nrIesh63Xqder46fjpiumK6UDpQOkp6SnpNOk06XLpcunO6c7pUupS6vzq/Oq567nrg+yD7F7tXu1L7kvuRe9F71bwVvBq8Wrxj/KP8szzzPMS9RL1WPZY9pL3kvfG+Mb49vn2+Q/7D/sp/Cn8Qf1B/Uz+TP5B/0H/IgAiAPIA8gC/Ab8BegJ6Ah8DHwO/A78DSQRJBMEEwQQ7BTsFqAWoBR8GHwaSBpIGBQcFB3QHdAfTB9MHKggqCIIIggjSCNIICwkLCUMJQwmLCYsJ1AnUCSIKIgpxCnEKtwq3Cv8K/wpAC0ALeAt4C6ULpQvMC8wL9Qv1CyQMJAxODE4Mdwx3DKEMoQzJDMkM8AzwDO8M7wzYDNgMvgy+DKwMrAyqDKoMrwyvDJwMnAyVDJUMkwyTDH0MfQxlDGUMQwxDDB0MHQziC+ILiguKC0ELQQsCCwILvwq/CnwKfAohCiEKuQm5CTcJNwmmCKYIEQgRCGoHage6BroG8QXxBRkFGQUuBC4ETQNNA2YCZgJsAWwBVABUACv/K//2/fb9tvy2/Gr7avsa+hr6x/jH+Hf3d/cl9iX2xPTE9G7zbvMj8iPy2/Db8Kfvp++G7obui+2L7bfst+wE7ATscOtw6+fq5+qF6oXqPeo96vbp9unZ6dnp1unW6fDp8Okd6h3qcepx6ufq5+p263brLOws7PLs8uzV7dXtv+6/7qfvp++r8KvwoPGg8Z/yn/Kz87Pzy/TL9On16fX39vf2BvgG+Av5C/kJ+gn6A/sD+/b79vv3/Pf89f31/fX+9f7c/9z/uQC5AIUBhQEsAiwC0wLTAm4DbgMFBAUErQStBFMFUwXwBfAFkAaQBjQHNAfXB9cHcwhzCBIJEgmdCZ0JGAoYCp0KnQoiCyILqQupCyAMIAyjDKMMGg0aDY8Njw3/Df8NZA5kDsMOww4rDysPkg+SD/IP8g9REFEQkxCTEMkQyRDnEOcQ+BD4EAgRCBEFEQUR6hDqEMAQwBCTEJMQRhBGEPsP+w+1D7UPRg9GD9YO1g5dDl0O2g3aDWINYg3wDPAMhAyEDAcMBwxwC3AL0QrRCjEKMQqMCYwJzwjPCBAIEAhWB1YHmwabBuAF4AUwBTAFcwRzBKcDpwPWAtYCAAIAAhQBFAEuAC4ANv82/zP+M/4y/TL9I/wj/A37Dfve+d75tvi2+I/3j/dj9mP2P/U/9RH0EfT08vTy2vHa8drw2vDW79bvze7N7tbt1u3r7OvsFOwU7EPrQ+uQ6pDq9en16WTpZOn+6P7ovui+6KXopei36LfoAOkA6Xfpd+n56fnpiOqI6hTrFOuk66TrTexN7P3s/ezS7dLtv+6/7rfvt+++8L7wy/HL8efy5/IE9AT0HvUe9Ur2SvZs92z3g/iD+KT5pPm1+rX6t/u3+7L8svyu/a79mf6Z/ov/i/96AHoAYgFiAVsCWwJIA0gDKQQpBAEFAQXFBcUFdQZ1BicHJwfYB9gHggiCCCgJKAnVCdUJhwqHCiYLJgvXC9cLdQx1DBENEQ2iDaINHQ4dDpkOmQ4PDw8Pcw9zD9EP0Q8lECUQdRB1ELkQuRD0EPQQJhEmEVQRVBF1EXURfBF8EWsRaxFREVERKREpEegQ6BCkEKQQURBREPkP+Q+jD6MPPw8/D9EO0Q5WDlYOzg3ODUINQg2kDKQMDgwODIELgQv0CvQKZApkCtMJ0wk6CToJpgimCBYIFgiEB4QH8gbyBlIGUgazBbMFCwULBV8EXwSoA6gD2ALYAh4CHgJXAVcBdwB3AJ7/nv+w/rD+tP20/a78rvy5+7n7r/qv+o/5j/lk+GT4PPc89xX2Ffbs9Oz0xvPG86nyqfKW8ZbxhvCG8H7vfu+F7oXule2V7cPsw+wC7ALsTutO67bqtuok6iTqs+mz6WTpZOkr6SvpJekl6TnpOelu6W7pvum+6SfqJ+qh6qHqO+s76wPsA+zK7Mrsq+2r7ajuqO6w77Dv0PDQ8Ozx7PEH8wfzIvQi9Dn1OfVR9lH2ffd997T4tPjm+eb5HPsc+078Tvxx/XH9fv5+/nf/d/+EAIQAkwGTAZACkAJ6A3oDSgRKBBIFEgXfBd8FoQahBlcHVwcBCAEIoAigCCsJKwm8CbwJUgpSCt8K3wpwC3AL7AvsC1wMXAzGDMYMHw0fDW0NbQ25DbkN/w3/DUkOSQ6NDo0Oyw7LDvEO8Q4CDwIPEw8TDyAPIA8xDzEPNg82DzgPOA8rDysPIg8iDyEPIQ8bDxsPAA8AD9oO2g65DrkOiQ6JDkwOTA4LDgsOvA28DWsNaw0DDQMNiQyJDPwL/At4C3gLAwsDC4YKhgoICggKjQmNCQUJBQl0CHQI2AfYBx8HHwddBl0GlQWVBcgEyATxA/EDDwMPAx4CHgIvAS8BVQBVAIP/g/+t/q3+1P3U/fH88fwN/A38KPso+zr6Ovpc+Vz5g/iD+J73nvfG9sb25fXl9QT1BPVB9EH0f/N/88/yz/In8ifyZPFk8ZzwnPDg7+DvKO8o73zufO7g7eDtUu1S7dfs1+xs7GzsDOwM7NPr0+vA68DryevJ6/3r/es47DjsjeyN7Pzs/Oxt7W3t7u3u7YXuhe427zbv8e/x78LwwvC18bXxp/Kn8q7zrvPP9M/09fX19RL3Evcg+CD4LPks+TL6Mvo1+zX7R/xH/E79Tv1L/kv+WP9Y/1IAUgA2ATYBCgIKAsICwgKCA4IDPgQ+BPwE/AS5BbkFYAZgBvwG/AamB6YHPQg9CLkIuQg4CTgJqQmpCR8KHwqfCp8KHgseC5QLlAsCDAIMagxqDMMMwwwQDRANUA1QDYMNgw2lDaUNvw2/DeEN4Q0EDgQOEg4SDioOKg5MDkwOZw5nDo0OjQ6wDrAOwA7ADsgOyA6+Dr4OrA6sDpIOkg5YDlgOCQ4JDq4Nrg1KDUoN1gzWDGcMZwwDDAMMnwufCyULJQuhCqEKJQolCqIJogkGCQYJUQhRCJAHkAfMBswG7wXvBQQFBAUhBCEEOAM4A1cCVwJ2AXYBnACcAMr/yv/7/vv+Tf5N/pD9kP3P/M/8DfwN/Ff7V/uv+q/6GPoY+pb5lvkY+Rj5nvie+B74Hvil96X3HPcc95P2k/YL9gv2ivWK9Rj1GPWj9KP0N/Q39M3zzfNf81/z8fLx8oHygfIQ8hDyl/GX8SjxKPHH8Mfwa/Br8CHwIfDx7/Hvx+/H76vvq++a75rvm++b77fvt+/j7+PvIPAg8HbwdvDl8OXwYPFg8f/x//Gg8qDyXvNe8zP0M/QC9QL14PXg9bb2tvam96b3qfip+KT5pPmh+qH6ivuK+3v8e/xb/Vv9Kf4p/uH+4f6D/4P/JwAnALsAuwBQAVAB+wH7AaICogIyAzIDvAO8A0gESATXBNcEYwVjBd8F3wVTBlMGvga+BjEHMQecB5wHBAgECHAIcAjNCM0IKAkoCYgJiAnwCfAJYwpjCt8K3wpOC04Luwu7Cx4MHgx9DH0M2AzYDBsNGw1XDVcNkg2SDboNug3SDdIN1A3UDcINwg3BDcENsg2yDY8Njw1cDVwNDg0ODcgMyAyCDIIMNAw0DMcLxwtMC0wL0QrRCjkKOQqiCaIJCwkLCWUIZQi4B7gHCAcIB1YGVgaQBZAFzwTPBBIEEgRdA10DsAKwAvgB+AFRAVEBtAC0AC0ALQCv/6//Nf81/7L+sv4q/ir+qf2p/Sj9KP2c/Jz8I/wj/Lj7uPtY+1j7EfsR+8j6yPqD+oP6TPpM+hn6Gfrh+eH5tfm1+W35bfkf+R/5y/jL+Gz4bPgZ+Bn4u/e792z3bPcW9xb3wfbB9mn2afYX9hf2yPXI9Xb1dvUU9RT1q/Sr9EP0Q/TW89bzfvN+8zbzNvMJ8wnz9vL28gDzAPMU8xTzOvM683Pzc/O287bzBfQF9E30TfSb9Jv08fTx9Fn1WfXU9dT1ZvZm9hP3E/fD98P3f/h/+EH5QfkB+gH6xfrF+oH7gfs//D/8Bf0F/b39vf1j/mP+D/8P/63/rf9EAEQA4gDiAIEBgQEEAgQCfAJ8AuYC5gJRA1EDxAPEAy8ELwSnBKcEGAUYBYwFjAUBBgEGeAZ4BvsG+wZrB2sHyQfJByIIIgh7CHsIzwjPCBoJGglPCU8JggmCCbgJuAnzCfMJMQoxCnAKcAqmCqYK3wrfCgcLBwsmCyYLPws/C0ELQQspCykLEwsTC/QK9ArDCsMKnQqdCmgKaApBCkEKCQoJCtcJ1wmiCaIJaglqCSsJKwnXCNcIcAhwCAMIAwiYB5gHLwcvB7sGuwZFBkUG0AXQBVYFVgXbBNsEXgReBOUD5QNdA10DxQLFAiUCJQKDAYMB4ADgAEsASwDJ/8n/Rv9G/8L+wv40/jT+tf21/UX9Rf3j/OP8hfyF/B38Hfy7+7v7Y/tj+xj7GPvf+t/6nfqd+mf6Z/oq+ir68/nz+cH5wfmQ+ZD5c/lz+Un5Sfkk+ST5//j/+Nn42fik+KT4Xfhd+BP4E/jI98j3cvdy9xv3G/fA9sD2ZvZm9iX2Jfbh9eH1r/Wv9Zf1l/V89Xz1XPVc9Ur1SvUu9S71LvUu9VL1UvWM9Yz10PXQ9Sn2KfaS9pL2BfcF95v3m/c7+Dv45vjm+I/5j/k8+jz68frx+o/7j/st/C380vzS/HH9cf0Q/hD+rP6s/kH/Qf/l/+X/hgCGABcBFwGhAaEBHAIcAoMCgwLiAuICLwMvA2gDaAOhA6ED4APgAxoEGgRbBFsEjASMBLUEtQTIBMgE3QTdBP4E/gQHBQcFFgUWBR8FHwUyBTIFbgVuBaoFqgXqBeoFIQYhBkYGRgZpBmkGnQadBtIG0gYYBxgHYQdhB5YHlgfXB9cHEwgTCDsIOwhjCGMIggiCCKMIowixCLEInwifCHEIcQgsCCwI6QfpB6AHoAd7B3sHTwdPBxoHGgfvBu8GpQalBl0GXQYZBhkGwQXBBVgFWAXSBNIENgQ2BK8DrwMwAzADwwLDAnECcQIAAgACewF7AfEA8QBPAE8Asf+x//r++v49/j3+iP2I/df81/xM/Ez83Pvc+6f7p/uJ+4n7gfuB+4D7gPtx+3H7evt6+5H7kfuh+6H7qvuq+7b7tvuz+7P7w/vD+9z73PsX/Bf8e/x7/Lz8vPzx/PH88/zz/OL84vy7/Lv8cfxx/B38Hfyf+5/7GPsY+6j6qPpM+kz68fnx+ZT5lPlA+UD5BPkE+cH4wfhr+Gv49Pf09473jvdy93L3efd597j3uPcY+Bj4d/h3+AP5A/mv+a/5VPpU+hj7GPut+637Ovw6/Mn8yfxH/Uf93v3e/Xz+fP47/zv/7P/s/5cAlwBAAUABvQG9ARkCGQIfAh8CDAIMAgoCCgLqAeoBvwG/AZMBkwF5AXkBjAGMAZ0BnQFwAXABNQE1AfwA/ADcANwA0wDTAM4AzgDWANYABwEHAVUBVQGqAaoB/wH/AW4CbgLrAusCcwNzA9oD2gMUBBQEXwRfBLgEuAQ1BTUFwAXABTgGOAaqBqoGFgcWB1kHWQd1B3UHkAeQB44HjgeMB4wHhQeFB04HTgcnBycHGAcYBxUHFQcaBxoHBgcGB9oG2gaWBpYGYwZjBjcGNwYDBgMG4AXgBYgFiAViBWIFTQVNBScFJwUGBQYFqwSrBEUERQThA+EDkQORAwUDBQN9An0CCgIKAn8BfwEOAQ4BXwBfALn/uf8//z//4f7h/m/+b/7p/en9Tf1N/ab8pvxf/F/8+Pv4+2j7aPsi+yL75Prk+sb6xvqb+pv6Ofo5+hv6G/pv+m/6CfsJ+3f7d/vI+8j7yvvK+9X71fsm/Cb8JPwk/C78LvwV/BX85Pvk+8L7wvuy+7L7jPuM+zj7OPvh+uH6UPpQ+ur56vmo+aj5Ovk6+a74rvgb+Bv4svey96T3pPfu9+73+/f79/H38fca+Br4O/g7+IX4hfjD+MP4t/i3+Oj46Pgc+Rz5b/lv+fD58PmU+pT6KPso+6L7ovsq/Cr8UvxS/Pz8/PzL/cv9Iv4i/pf+l/6q/qr+uP64/kz/TP+v/6//2v/a/18AXwC/AL8AVAFUASECIQK6AroCQANAA5MDkwOoA6gDqAOoAwUEBQSNBI0EIgUiBZMFkwXRBdEF4wXjBYoGigb1BvUG/Qb9BkQHRAfoBugGFgcWB+YG5gaeBp4GigaKBlEGUQaoBqgGsAawBisHKwfeB94HGwgbCDwIPAgaCBoIvAe8B0AIQAg2CTYJ/wn/CRALEAusC6wL/gv+C0MMQwy1C7UL6grqCpMKkwo0CTQJkAeQB9AF0AUzBDMEIgMiAz0CPgL4//n/oPyg/CX9Jf2E/IT8g/yD/J35nfk78Tvx0O7Q7mjwaPCa9Jr0CvgK+GX5ZfmY+pj6+/77/vID8gP/Bf8F5wbnBqIFogWpB6kHLAwsDDAPMA8qECoQ2xDbENsS2xLnFecVnRmdGbMYsxikFKQUHxAfEBAJEAlFBEUEpwCnACP7I/sW9xb3gfKA8hbuFu6F6YXpXeRd5DrfOt/t1+3XZNFk0Q7LDssOxw7HTsVOxfLF8sXryevJ1s7WzqTVpNX22vbajeGN4bfpt+nS8tLyIPog+mgAaABtCG0IbhBuEBMbExsNJA0kpyunK5sxmzHmNOY0xDbENjk1OTXKMMowHCocKh0hHSGtF60XgA+AD4MHgwclACUA4Pfg98Puw+5F5kXmt9+332LZYtml0qXSrs2uzabLpsuIzojOb9Rv1JXcldyS5JLkke2R7eT25PaFAIUALwkvCSEPIQ8xFTEVCBkIGTMdMx07IjsidiZ2JqEooShfKV8peid6J0gjSCNSHlIeiBiIGBUUFRT2D/YPnwufC10HXQdSBVIFJgQmBFICUgJh/2H/lvuW+4r4ivia9pr2WPVY9X31ffUd+B34U/tT++X/5f9eA14DhgeGByILIgtPDE8MswyzDKMMowwCEQIRexV7FZAZkBmQHJAcoB+gH6EioSJyJHIk0yTTJPgf+B8FGgUavBO8E8YPxg+dDJ0MbgpuCtcH1wdrBWsF5gPmA/z8/PyV8JXwrOCs4LHUsdQEzQTN8MHwwWawZrDbpNuk66rrqvm8+bwozCjMhdKF0gTZBNkB5gHmMfYx9mMAYwCcBZwFQAdABx4KHgodER0RsBiwGFAfUB+6ILogRR1FHekU6RRODk4OMAswC3AGcAZe+1774+7j7lTpVOk77DvsPPE88Zvwm/At7S3tvem96aLnoucB5wHn2ura6krwSvD28/bz6/fr9wgACAAFCwULOhM6E1AVUBUVEhUS+gv6C2UCZQKR+pH6Ofk5+en66fqN+I34rPCs8C3tLe2s8qzywfrB+r38vfyQ+ZD5g/iD+Hr7evuEAoQC7wrvCqcSpxIlFSUVAhICEoUOhQ6TDpMODQ8ND2gLaAvBA8EDNf01/Rf+F/7eA94DdQl1CSQLJAtNCU0JLQctB9wI3AiuDK4MARABEA8RDxF9EH0QlRKVEr0YvRiEH4Qf2iDaIDIdMh0kGCQYZRRlFJYRlhHnDecNsQmxCZQFlAVaAloC6/7r/p/9n/3y/vL+twC3ADICMgJ2BHYEQgxCDLQWtBa3Hrce0iHSIWskayRmKGYoFisWK2UoZShVIlUibh1uHcIcwhzdHd0dlxmXGU0MTQzz9vP25+Hn4WzQbNBJwUnBh6yHrC+XL5eKjYqNhJaElreqt6rmv+a/adBp0DXeNd4T7xPvLP8s/7kMuQxgFGAUDxcPF70XvReBG4Eb1CHUIW8mbyZwInAibhVuFaUFpQXN+s36mvSa9J7tnu2X5Jfkvty+3D/cP9yX4pfiy+rL6p7vnu+B8IHw/Oz87JDqkOoa7hruGvca938AfwBfBl8GTglOCSoNKg1bEVsRWBFYERQLFAtkAGQAUvNS88fox+g25DbkX+Vf5RvnG+dJ5Enk4+Lj4g/mD+bT7NPshvOG80n7SftWA1YDOg46DsoayhpaJlomkS+RLxIyEjL8K/wr8B/wH1ASUBI3BjcGKP0o/YL0gvT87vzui+6L7pTylPKN9433BvwG/KX+pf5bAVsBQgZCBoQNhA0bFhsWsB2wHa4iriKvJa8l+Sj5KHkpeSlDJUMl5x3nHYcVhxUgDyAPygvKCzEKMQoJCAkINAQ0BEoASgBE/kT+vf69/lP/U/+O/o7+bf5t/sUDxQNDDUMN0BjQGHQjdCOvKa8p/Cj8KHUrdSvIMcgxqTKpMn8tfy1JJ0kn1iXWJXUmdSYmJiYmtxy3HMYGxgbN483jWsRaxE20TbSfp5+nXJNckz6DPoPBiMGI1qLWokrBSsH71vvWpOWk5X31ffXXB9cHFxkXGT8kPyRpJWklEiMSI8ogyiAlHiUeOhc6F5oPmg/OAs4Cye3J7fHZ8dlW01bTStdK12fYZ9gq0irSLM8sz6XWpdZl4GXgMeYx5iPqI+qD8IPwtvK28gH2AfbCAMIAiBCIEHcZdxmXGZcZxxbHFvIU8hT9EP0Q9gb2BrT8tPy98r3y7ebt5lbcVtwr3CvcOeM545Pnk+fT49Pju9+73z/mP+aR9ZH1cwJzAhkOGQ4/HD8c0yjTKD4xPjHzNfM1mDaYNmcuZy7hHOEcVQlVCfT79Pv29Pb0t/C38CPsI+xo6WjpCOwI7K/zr/Ot+637TAFMARwEHATaB9oHTxBPEN8b3xuUJpQmfyx/LNcs1yxyKnIqGigaKM4kziREHkQeQxRDFIcKhwqMBIwEewJ7AoECgQI0AjQC8v/y/5v8m/y6+rr6uPu4+wIAAgAYBRgFXwlfCVkQWRCeGZ4ZrSStJCkuKS5fMl8y8jHyMYMxgzGMMowyhjGGMXErcSt6Inoi6B3oHfMd8x3UHNQcgxSDFBD/EP8t3S3dRb5FvhqqGqr2mPaYK4griAGAAYBQiVCJZKVkpc/Iz8ji5+LnzwDPAAESARKwHbAdRShFKIUuhS4XKxcrByIHIoAZgBnXEtcSYg5iDsQHxAeR+JH4J+Qn5JHSkdKuya7JrMesxzrIOshwynDKXdBd0AncCdwY6hjqNfc19+8A7wCLBIsEOAM4AxwDHAOOBo4GhAyEDIkRiRH5E/kTpxSnFIsSixIkCyQLRP5E/sPuw+7e3t7eL9Av0FLIUsgDyQPJktCS0Pvb+9vQ59DnW/Rb9Pb/9v+9Cb0JAxQDFB8iHyL9Lv0uKTcpN206bTq5Obk5gzODMzomOiblEuUS9/v3+53nneeU2JTYBNEE0Q/RD9F413jXk+KT4tbw1vCl/qX+iwqLCpMUkxTtHe0doSWhJW4rbisrMSsxITQhNFszWzMdLx0vhyiHKL8fvx+0FLQU2QfZB6P8o/xd9133FPYU9lf2V/Zu+G744fzh/LQBtAF/Bn8G7QntCWQLZAtVDVUNABEAEdIX0hdUIVQhJigmKNgs2Cy3MrcyHjUeNfYx9jGlK6Ur/iX+JaMhoyEYHBgcXhReFKIPog/zDfMNFQ0VDfoE+gRo6mjqCsQKxK+pr6knpCekzKHMoZGUkZSAiYCJ5pzmnOTL5Msq9ir2Pgk+CWoRahE3HDcccipyKh4wHjDiKOIoWRxZHK4QrhD5BvkGtP60/iv4K/is76zvZuFm4W3Nbc0wwDDAfMF8wafLp8u70bvR3NTc1Ibfht9783vzTQdNB5YQlhA1EjUS4hLiEo0SjRKsEKwQWBFYEcYTxhP+Ev4SvQ29DX4HfgfF/8X/tPO0847jjuMY1RjVg8uDy+3C7cLxv/G/L8ovyovei96w8LDwzPrM+rMDswPcEdwR5SHlIdQs1CxYNFg0YjliOYk6iTrkNeQ1KSwpLJMekx5EC0QLTfJN8qXZpdmxybHJzcTNxLbItsg00jTSsd+x37LxsvERBhEGAhcCFx0kHSSKLoou5TXlNY05jTkpOyk71TrVOv01/TVZLFksGSAZIKoTqhMmBiYGgviC+IXvhe/87Pzswu7C7jbyNvIr9yv3z/7P/u0I7Qj/EP8QixSLFK4WrhbXGdcZkB2QHeQe5B44HzgfaCNoIzIpMikgKiAq8SnxKT0tPS1jLmMuxijGKGkeaR7xFvEWABYAFkoUShSsCawJJP0k/dj62PrZ/Nn87+7v7sjOyM5/uH+4Y7ZjthGzEbMEoASgD5MPk3Okc6R/y3/LWOxY7Oj66PqYBpgGfBd8F98l3yWKJYolXBlcGWAKYAqK/4r/SPdI90rvSu+I6ojqvei96HLicuKY1ZjVDM4MzijQKNDA1MDUMtYy1rXatdon5yfnzPvM+y8QLxAbHRsdOiA6IB0dHR3XF9cX+RL5EvIN8g3gA+ADovii+Gvza/NR9FH01/DX8JrmmuY42jjajNGM0e3M7cx+yX7JQctBy2TYZNjw7fDtZgBmACsOKw6HHIccYytjK5QzlDMuNS41CjYKNlw1XDWNL40vfSR9JJMYkxgbDBsMEfwR/D3oPejz1vPWwszCzL/Kv8r40PjQDt0O3Q7tDu3I/8j/IhMiE0AjQCPSL9IvGjgaOJ87nzu6O7o7NDo0Oi82LzZ1LXUtLiAuIEwTTBPsCOwIxP3E/SDzIPMn7Sftw+zD7C3xLfFi+WL54QLhAo8MjwydFJ0UNBk0GakaqRp7HHscCR4JHvQe9B4fHR8dbxpvGsodyh3rJeslKikqKVklWSVFIkUiDB8MH2UbZRt9GH0YzRfNF0USRRIsCCwIQwJDAmMIYwj5EfkRfgl+CSbqJuryx/LHZLtku4+8j7yEtIS0T51PnWKSYpLIpcilksuSy4vpi+ns9+z3OAI4AoAOgA4oGSgZ0RvRG8MXwxdWDVYNHwEfAZr2mvbG8MbwO+477hbrFutM4Uzh69Tr1KjRqNE01jTWrdmt2W7cbtzh4+HjrO6s7r/7v/vkCeQJQBVAFdsZ2xnPF88XDRINEggLCAu+A74DSfxJ/KX2pfZe817zTu9O783mzeYI3AjcGtga2CzaLNoP2g/aDdUN1W/Ub9Rf4F/gm/Ob8z0DPQOuD64P8RvxG0QkRCS0KrQqbjJuMgA3ADf4MvgyYSdhJ2UXZRf1B/UHIfwh/KXxpfHC48LjANcA10HSQdID1wPXM+Iz4nvxe/EIAggCgRGBERkgGSDpLOksfDd8N8A+wD6WP5Y/YDlgOdUw1TCjJ6MnMxwzHBwPHA+rA6sDAfsB+2H0YfTn8Ofw+fL58oH5gflvAm8CcghyCE4MTgwmEyYTSRtJG5Yflh/GHsYeOhw6HHgbeBu/HL8cshuyG0AaQBo0GzQbeRx5HKEboRtTHFMcMh8yH0MfQx8GHAYczhbOFocVhxUiGCIY8BjwGDUSNRK4CbgJdQV1BZj/mP9R7lHumdSZ1N/C38KKt4q3Oas5q/iZ+JmSkpKSG6EbofrB+sHe397fWfFZ8ecA5wASExIT7iHuIfwi/CLcF9wXVghWCOX/5f+T+JP4FfAV8BnoGegG4wbjGtwa3PjT+NN6z3rPa9Br0P/T/9PX1dfV69vr25HrkesDAwMDnRSdFD4bPhuXGpca1xjXGFwUXBRQDFAMnQKdAln5Wfn58PnwPus+6wrnCudu4m7ih96H3vfb99s12zXb4Nng2RTYFNid2Z3ZxOXE5Qf5B/miCqIK5hbmFgIhAiGKLIosTThNOGY+Zj6QOpA6NzA3MIoiiiI3FTcVBQoFCt7+3v5d8F3wEOIQ4tHZ0dlR2VHZp9+n377qvuqJ+In4iQWJBeES4RITIhMinDCcMEI4QjjlN+U3dTN1M78uvy58KXwpNSE1IfsV+xXJCskK9wH3AZ37nftk+GT4gPiA+Nz63PrA/sD+MwQzBAkLCQvZE9kT8BvwG64erh6FHIUcAxkDGR0WHRa4FrgWgRiBGNMX0xcaFhoWsxazFogWiBbeF94X/xz/HKwhrCFNH00fuhi6GNMV0xXZFtkWqBaoFgATABOeDp4ODw0PDSwRLBFSDlIOu/i7+N7Y3tiqw6rDSbhJuD6pPqnHkceR44XjhZGXkZdrvWu9R95H3qLyovIsBCwEdRZ1FpcjlyNDIUMhwBLAEhwEHATV/tX+x/nH+YjwiPAW6BbodOR05AfeB95A00DTgMqAyuHI4cjTzNPMbNFs0V7ZXtkv6i/q6ALoAnkVeRVYG1gb1hjWGC4ULhRpDGkMZQFlAZL1kvVh7WHtIuoi6ovoi+hR5lHmMuUy5f/m/+YF6AXoy+TL5JzdnN3L18vXQttC23zpfOlc+lz6NQc1B/0S/RKDIYMhcjByMAY5BjmAOIA4GTIZMoIpgimeH54ffhJ+EigFKAV6+nr6YPBg8JDlkOU73zvfYd9h3wbkBuT07PTsivmK+RMJEwnEGsQaOys7K8k1yTVDO0M7CD0IPQw6DDr9Mv0ywinCKcYexh4pEykTQApAChcFFwXUAdQByf7J/qX9pf2U/5T/HQUdBXgNeA2nFKcUPBk8GSocKhz1HfUdCh0KHZcalxpWF1YXNhQ2FJ8SnxIvEi8SfhN+E70XvRcBHQEdix+LH0cgRyBLIEsgcyJzIqIkoiQ2IDYgexV7Fe8L7wveCd4JhQ6FDl0PXQ+kAaQBUuhS6DbRNtFwxXDFiLuIu9ip2KksliyWvJC8kGygbKDtvu2+g92D3fnz+fPqBeoFKRcpF4QihCJQI1AjJx4nHlYUVhRzBXMFJfYl9qTtpO2P6Y/pYuNi443XjddHzEfMG8kbybLMssyGz4bPm9Gb0U3YTdhT5VPlZPZk9mAEYATrDOsMfhF+EdIR0hF8C3wLsgGyAXz5fPlC9EL0hu+G75Hpkemu4q7iHN0c3Q/dD92s4azhLOMs4wzfDN8X3Bfc29/b3y7qLupi+GL4BwcHB+gT6BMWIBYgvyq/Kr8xvzF7NHs0oDOgM34vfi8vJi8muhW6FYEEgQQF+QX5YvBi8FznXOfR4NHgt+C34Ivmi+bB8MHwNP40/rUNtQ3FG8UbqiaqJqYtpi2nMKcwrTGtMUAxQDEJLQktkSSRJA4cDhw/FT8Vig+KD+8K7wodBx0HXgReBPQC9ALAA8ADYAhgCP4O/g6KFIoURBdEFzsYOxj4GfgZfRx9HOUa5RoSFhIWjxKPEhoSGhL0E/QT+xb7Fk8aTxplHGUcnB6cHlUgVSDlIeUhGCIYIhQiFCIzIDMg/hr+Go8VjxU1FTUVjBaMFmoQahA2/zb/UuVS5d3N3c09vT29V7FXsTqmOqYBngGe6p7qnhawFrDXy9fL/uX+5RL5EvkjBiMGaBFoEe0Y7RjnGucaYhdiFy4QLhC0BbQF+vr6+tXy1fK+7L7sX+Vf5TzZPNk5zTnNxMnEyerN6s0P0w/TWtha2Mfex96M54znEvQS9E8ATwAgBiAGBQYFBq4ErgTtAu0CVgBWALj9uP2X+pf6AfUB9WDtYO0F5gXmyuHK4czgzOBg3mDeBdkF2cfVx9XZ2NnYbuFu4Xfsd+yH94f3mAOYA/AR8BFSH1IfFigWKMwtzC3UMdQxojKiMiEtIS0IIggiCBQIFK8FrwUq+Cr4ke2R7S3mLeZd4l3ifON840noSehM8Uzx+v/6/+EQ4RADHgMetia2Jugr6CsjLyMvvDC8MHYvdi86KjoqWCJYIoUahRqeFJ4UAREBERQOFA5VC1ULEAkQCfIH8gejCaMJaw5rDg0TDROjFKMUbRNtE5gRmBF5EXkRpRClEI8Pjw+LD4sP/BD8EDIVMhW4HbgddSV1JWUoZShaJlomaiNqI/Ak8CSBJ4EnkSKRIvsV+xXHDccNERAREIMVgxU7DzsPGPwY/EjmSObs1uzWHcgdyK60rrQgoSChpZulmxKoEqh8vXy9q9Or04Ppg+ll/mX+sAywDMASwBJ5EnkStBC0EF0MXQxfBl8GNv82/1b7Vvtp+mn6V/lX+UbzRvMT6RPp0N7Q3vXW9dby0PLQrs+uz5/Wn9Zd4V3hq+ur6+/z7/NO+k76P/0//Tb+Nv5C/UL9Yvpi+rj2uPaS95L3PPw8/Pv++/63/Lf8U/lT+V7zXvPN5s3mZtlm2cDQwNCGzYbN/dD90CvbK9t153XnM/Yz9l8HXweDFoMWsB2wHVkfWR8mIiYifCV8JSUkJSSeIJ4gpx6nHq8arxpzEnMS+wf7B9/73/uC74LvI+cj5+rk6uSQ6ZDpdfN185v/m/9VDFUMRBdEF30efR4uIy4jgySDJHsheyH/HP8crhmuGbgXuBeKF4oXbRhtGJkXmRcRFhEWKhUqFXsUexSSEpISNhE2EfAS8BIyFTIVtBO0EzcQNxAYDhgO2QvZC4ALgAvMDcwN/BH8EZ0XnRf4HvgeESURJeQo5ChcK1wrqyyrLDkpOSk1ITUhqRupG8EawRqdGp0aphemF/oT+hMTDxMPRgNGA9fs1+xxznHOO7A7sIWfhZ9qoWqhia2JrQ28DbyrzqvOJOQk5Ez2TPavAK8ARAdEB+0K7Qr2CPYI9AL0AssAywDjBOMEbwpvCkULRQu+BL4ElfmV+fHs8ewq4Srh+Nb41ijRKNEi0iLSd9t321TnVOf38Pfw6Pbo9ov5i/mq9qr2X/Bf8Obr5uvC68LrGe0Z7b/vv+9C9kL2dP50/vYC9gK8BLwEigSKBFr8Wvzf6t/qONs421nWWdaW2JbYkduR27zevN6d5p3mgfOB85UClQLmDeYNpxOnE9AV0BUWFxYXXhZeFmoWahbfGN8Y/Rn9GQQVBBXBC8ELNwI3AqD7oPsK+Ar4X/Vf9Vj0WPQt9y33M/4z/uYG5gbkD+QPUBdQF+Yb5htyHHIcbhluGSwVLBX8EvwSmROZE/oV+hXGGMYYyRrJGjIcMhyHHocemyCbIB0gHSDmHOYcqhmqGWIXYhc2EzYTcgtyCy0DLQNi/2L/Yf9h//X/9f+IAogCjwqPChAWEBYOIQ4hbSptKh4yHjKPN483KzkrOfY29jZjLmMumCOYIzIbMhupF6kXABMCE9gK2AoE+wT7UuJS4kbCRsI+pT6lP5k/mb6evp5UrVStF70XvajRqNEp5ynnmfuZ+64IrggUEBQQWA5YDoUIhQiEA4QD7wLvAhgEGATWB9YHwgzCDBkLGQsLAQsBePB48HLfct8G0QbR+Mr4ygHOAc7C2sLaZOlk6Vb1VvUK/Qr9aQFpAcX/xf/L+Mv4l++X7/Dn8OdH5EfkF+cX59Hu0e649rj2K/wr/AMBAwETAxMDxPvE+wHqAepR2VHZYdRh1CbYJtgh3SHd1eTV5IzyjPL9AP0AzAvMC/ER8REQFBAUAhMCE3QTdBPlFOUUiRaJFugY6BjvHO8cbRttG/YQ9hAPAw8D7vfu96Luou6f6J/oGOoY6tXy1fIw/zD/XAtcC0sXSxc0ITQhpSWlJVkjWSO/Hb8d6BboFpgRmBHrEOsQWxRbFJcXlxcaGBoYsBawFsAVwBUwFjAWUxZTFgcVBxVPFE8UhxSHFL8TvxNfEF8QEwwTDNwI3AjgBeAFJAQkBL0FvQXmC+YLdhR2FDEeMR43JjcmZi1mLTcyNzL5M/kzjDKMMh0vHS81KjUq3yTfJAAiACKYHZgdvhK+Egj6CPpt123XgbGBsQ+YD5hSkVKR5pzmnG6vbq9lw2XDs9ez17fqt+rU+dT5XAFcAVcFVwXVBdUFJAYkBnwFfAVbClsK1RLVEuQd5B2dIp0iLB0sHTkMOQxx9XH1fuB+4KbTptOb0ZvRIdgh2GrjauN17HXsDPMM8/r2+va/97/3xvDG8BjlGOVr3GvcgtyC3CPjI+Ou7a7tTvlO+aEAoQABAQEBnv6e/gf6B/o78DvwzeDN4DrTOtPDz8PPVNZU1q3frd+B6YHp6vPq8539nf3OBM4EZghmCOsK6wqPDo8OpROlE/sY+xiFHoUeCCIIIiciJyLCG8IbTw9PD68BrwHP98/31+/X7wzqDOoH6gfqiO+I7+z37PdzAXMBIAsgC+kS6RJ2F3YXNxg3GNIX0hfwF/AX/Rj9GAcbBxtvHm8ejCGMIRMiEyJzIHMgqx6rHlQeVB6sHawdLxovGswUzBQpESkRtw63DpELkQsfCB8ITwVPBa4BrgEq/ir+df51/iwELASfDJ8M0RTRFBMcExxzI3MjPis+K1QyVDKmNqY28jbyNks0SzRSL1Iv6ynrKfUj9SPnGOcY3QHdAePh4+EjwCPALqkuqdyg3KDcpNykeq56rsG6wbq5xbnFGc8Zz0LZQtlj5GPkW/Bb8JT5lPmaAJoAPwU/BXsMewx7FXsVlSCVIEomSiaXI5cjKBcoF5wFnAVJ80nzyebJ5sjjyON76HvoY+9j7/3x/fF28XbxmO6Y7unq6eqP5I/kR95H3nrZetng2eDZf99/38/pz+n89fz1lQCVAEQFRAXRAtEC9vr2+inwKfDh5eHlxd3F3fjZ+NkO3A7cNOI04mroaugE7wTvLfct90j+SP7YAdgBpgSmBF8JXwnDDsMO6xXrFYofih/UJtQm7yfvJ3UjdSN7Gnsa0A3QDWYCZgLd+t36ZfZl9tzz3PND9EP0svay9uH54fme/Z79RAFEAZQDlAOvA68DjgOOA9oF2gVFDEUMvxS/FIgdiB3/JP8k7yjvKMAowCg7JjsmOiQ6JJ0jnSNrI2sjrCCsIBccFxwbFxsX5BHkEW0LbQtjBWMF9P/0/w/7D/vS+dL5IP4g/koGSgZ0D3QP9Rj1GFYgViC2JbYllymXKQEtAS25LrkuwS/BL/kv+S9cL1wvGiwaLCEkISR4E3gTPPo8+kXdRd1yxXLFKbkpuey27Lafup+6EsISwkjKSMp7znvOP9A/0NjS2NK817zXkt2S3VDmUOYr8Svxsfyx/GoIagi5FLkU2hzaHH8dfx29Fr0W5wrnCgD9AP2B8oHy1+/X76T0pPRU/FT8/QH9AZ0DnQP3//f/5vbm9s3qzeqN4I3gHtse26jbqNvZ4dnhpOqk6oHxgfGG9ob2aPpo+qb5pvkE8gTyuem56YPjg+Oj3qPettu22/re+t6U5JTkrOis6E7qTuqk66Trs+uz62jsaOxW8VbxOvo6+hAEEAShDaEN5RjlGNsh2yHKJsomQydDJ8IkwiS0HbQd2hXaFZwPnA9hC2ELDggOCIsFiwW2ArYCyv7K/qT7pPv6+Pr4afdp9/H28fbM98z3IPkg+RH8EfwPAQ8BMwczB1EOUQ7VFdUVGxwbHCIfIh84ITgh6iPqI/sm+yaKKIoo+yf7J1wlXCWwH7AfgxeDF04OTg4nBycH9gL2AhwCHAIKAwoDrAWsBVQIVAgRDBEMOxE7EYIXghc9HT0d5iHmITskOySlJKUkqiWqJWknaSdrKGso8STxJNQc1ByKD4oPOwA7APHu8e5733vf6dPp0wPOA842zDbMNs02zSbQJtDM0szSzdTN1K/Vr9VD10PXudi52FDeUN6+577nZ/Nn81H9Uf2nBacFRQtFC+IM4gxHCkcKNwU3BRkAGQA9+j36qfap9kX3Rfd//H/8fgF+AT8EPwSkAqQCt/y3/Pv0+/T87/zv0e7R7kTwRPDb89vzdPh0+Cz8LPyK/or+0//T/4n+if4Z+hn62fPZ8xvsG+yS5JLkV+BX4Nff19/84fzh5uTm5BXmFeap46njCeEJ4THgMeDX4dfhE+YT5iruKu6n96f3YgFiAVkLWQsXFRcVSRxJHNQg1CCKI4ojTSNNIyYgJiB8HHwcQBpAGn8YfxgPFw8XxxTHFKUQpRAcChwKvQO9A6D+oP76+vr63Pjc+Pr4+vid+p36gv2C/Y8BjwFkBmQGAgsCC5cOlw7BEMEQ4RHhEYsTixO0FrQWjRmNGWwZbBlwFnAWEhISEvwM/AxECEQIwwXDBTcFNwWSBZIFUAZQBjcINwh1C3ULpQ+lD90T3ROwF7AXLhkuGVkZWRnYGdgZ2hraGt8a3xpNGk0aZBlkGdAX0Bf+FP4U6hDqEA4MDgzCBMIEovyi/H30ffS57bntI+gj6NPl0+W+5L7keuN64w3iDeJQ4VDhOOE44evh6+Gi5KLkIOgg6NPr0+sD7gPuc/Bz8HDxcPHu8e7xM/Iz8kbzRvOC84LznfOd84j0iPSQ9ZD1JfYl9nP1c/Xa9Nr0SPRI9Nf01/Ry9XL1zvbO9gH4AfhH+Uf5lPqU+of8h/zf/t/+oQGhAZQElAQwBzAHuwi7CKEIoQiaBpoG1ALUAgP+A/7b+Nv4s/Oz85bulu6H6Yfp3OTc5Hfhd+Ez3zPfa95r3mPfY9+k4qTiYOdg54vti+0h9SH11P3U/aEFoQWlC6ULfRB9EPsT+xMhFSEVkhSSFDIUMhRjE2MTfxF/EWoPag8VDhUOYQ1hDXsMewxkC2QL5AnkCbUItQiNCI0IJwknCbwJvAm1CrUKQQxBDIQMhAwfDB8MTwxPDPQN9A3jDuMOTw5PDnUMdQxnCmcKEQgRCHQFdAVSA1ID5QHlAaIBogEpAikCuwO7AzAGMAZ9CX0JZAxkDGcOZw7DD8MPNRA1EMUPxQ9YDlgOgQyBDJkKmQoHCgcK2ArYCtUL1QulDKUMuwy7DPgL+AtoCmgKpwinCDMGMwaPBI8ESwRLBGcEZwRhA2EDKgEqATv+O/5Z+1n77Pns+Yz5jPmf+Z/5Lvku+bz4vPjK+Mr44fnh+fn6+fro+uj6oPmg+dD30Pft9e31x/TH9O/07/RJ9Un18fPx84Pxg/GF74Xv7u3u7SDsIOy/6r/qmOmY6RHoEegx5zHnyufK573pvek+7D7sEPAQ8L30vfRk+WT5I/0j/bL/sv++AL4A6ADoAJMBkwEhAiECiAGIAZv/m/83/Tf9I/oj+rr2uvaI84jzdvF28STxJPEW8hby1vPW8/P18/Xh+OH4u/u7+x7+Hv4KAAoAoQGhAVUCVQLVAdUBGgEaAd4A3gBLAUsBcgFyAc0BzQFUAlQC+wL7AogDiAPSA9IDggOCAyIDIgM5AzkDogOiA6UEpQTlBeUFCwcLB9AH0AeQCJAIOQk5CRoJGgnJB8kH7wXvBZoEmgSsA6wDhwOHA3oEegTjBeMFwQbBBk0HTQdQCFAIjAqMCqENoQ1MEEwQCRIJErwSvBJjEmMSihCKEGQNZA0XChcKjQeNB1IFUgXLA8sDnAOcA5wEnASwBbAFigaKBlsHWwdeCF4I3wjfCBsJGwn4CfgJMAswC8sLywtgC2ALLQotCh0IHQjpBekFqgOqA2QBZAG4/rj+FvwW/F/6X/o9+j36Mfsx+xv8G/wp/Cn8RftF+zz6PPrS+dL5VvpW+v36/foZ+xn7Pfs9+9f71/sT/BP8/fr9+iv5K/kJ9wn3W/Rb9BnxGfE47jjui+yL7ELsQuyQ7ZDt7O/s78HywfKa9Zr1Kvgq+C/6L/o//D/8H/4f/nj/eP+MAIwAlACUABr/Gv9t/G38EvoS+i/4L/gJ9wn3GPYY9kT1RPWq9Kr04/Tj9JP1k/UN9g32dfZ19pr2mvZw9nD20PXQ9eb15vXR9tH2vvi++JD6kPos/Cz8z/3P/RoAGgAbAhsCUgNSA18EXwSIBYgFtga2Bn4HfgehCKEIXQpdCgkMCQx2DHYMBgwGDB4LHgt1CXUJXwdfB4wFjAXcA9wD9AH0AaQApAAkACQA+v/6/34AfgAAAgACowOjAyIFIgXRB9EHLgsuCz4OPg5JEEkQlBGUESURJREmDyYPHAwcDA0JDQlDBkMGWARYBO8D7wOpBKkEQgVCBTcFNwUYBRgFpgSmBFwEXASGBIYEEwYTBl0IXQjhCuEKqgyqDI8Njw0ZDRkNwAvAC5QJlAlMBkwGaQJpAhH/Ef+a/Jr89Pr0+gT7BPsX/Bf8k/2T/WP+Y/7P/s/+vv6+/oP+g/7z/fP9NP00/ar8qvyE/IT8wvzC/Mn8yfxA/ED85Prk+lT5VPlI90j38vTy9OPy4/L58fnxI/Ij8nLzcvOV9ZX1tPe09035Tfnn+ef5mPmY+dT41PhI+Ej4AfgB+CT4JPjv+O/4CfoJ+rD6sPr1+vX6+vr6+sP6w/ov+i/6uvm6+V/5X/lm+Wb5XPlc+WP5Y/nM+cz5/fr9+oH7gft5+nn6ufi5+HH3cff/9v/2DfcN9/L38vci+SL5vfq9+if8J/x6/Xr9d/53/vL/8v9oAWgBdAJ0AgMEAwTDBsMGuAm4CckLyQsNDQ0NUQ1RDVQMVAwGCgYKWgdaB/EE8QRBA0EDTgJOAskByQFXAVcBVQFVAckByQEtAi0CRQJFAgkDCQODBIME/wX/BacHpwfOCc4JnAucCw8MDwzcCtwKVAhUCGwFbAU+Az4DDAIMAsEBwQGSApICMQQxBKAFoAUaBhoGqwWrBfME8wRcBFwEIAQgBFwEXATEBMQECAUIBSwFLAVJBUkFEAUQBWIEYgRoA2gDcwJzAmoBagFjAGMAIAAgAN4A3gAtAi0CnwOfA9sE2wQwBTAF3gTeBCwELATYAtgCKgEqAcH/wf/L/sv+w/3D/Z38nfx9+337W/pb+i75LvlO+E74FPgU+E74Tvjt+O34nvme+Vj6WPrj+uP67/vv+wT9BP0p/Sn94fvh++j56Pk5+Dn4I/cj9yz3LPev96/3Kfgp+Fn4Wfjb+Nv4Xvle+Sv6K/oF+wX7zfvN+0z8TPym/Kb8E/0T/XP9c/0u/i7+H/8f/4L/gv+6/rr+t/23/WD8YPyN+o36+Pj4+IP4g/iV+JX46Pjo+H/5f/mR+pH6+vv6+5H9kf0h/yH/hwCHAK4BrgHMAswC3APcA9AE0ASgBaAFKQYpBkgGSAabBZsFkgSSBH0DfQNiAmICkwCTABz/HP/W/tb+ff99/10AXQCsAawBRgNGA18EXwT4BPgEUQVRBZgFmAWVBZUFhwWHBYsFiwWoBagFxAXEBeoF6gUXBhcGIgYiBh8GHwYEBgQGGwYbBgMGAwaQBZAF+wT7BKgEqARmBGYEAAQABEsDSwMxAjEC0gDSAJn/mf/0/vT+yP7I/hj/GP8YABgAdAF0AXUCdQIeAx4DrQOtA00ETQTKBMoENwU3BWEFYQVRBVEF3wTfBBgEGAQcAxwD2gHaAZ8AnwBQ/1D/Zf5l/mT+ZP75/vn+tv62/pX9lf2H/If8i/uL+9b61vpG+kb6AfoB+tb51vlQ+lD6F/sX+6b7pvu1+7X7Kvsq+w36Dfq0+LT47/fv96n3qffJ98n3qveq99L30vcE+AT4RvhG+Gz4bPgU+RT5SfpJ+n77fvuV/JX8f/1//Vz+XP78/vz+d/93/2H/Yf8N/w3/j/6P/iz+LP7r/ev9uv26/XP9c/0Y/Rj95fzl/BP9E/2V/ZX9Lv4u/sz+zP6j/6P/7QDtAE4CTgJ6A3oDlASUBI4FjgXTBdMFkQWRBXMFcwV/BX8FJAUkBWUEZQRWA1YDZAJkAr4BvgE1ATUB5gDmAPoA+gCIAYgBXgJeAkgDSAP9A/0DXwRfBCYEJgRPA08DPAI8AnMBcwHuAO4AaQBpADoAOgCEAIQA+wD7AHQBdAEUAhQCvwK/AgcDBwM9Az0DjAOMA8kDyQOqA6oDZgNmAwkDCQNSAlICPgE+Adv/2/+1/rX+1f3V/V39Xf0a/Rr9mv2a/aL+ov78//z/WAFYAYcChwJlA2UDygPKA/4D/gPhA+EDsgOyAwkDCQMjAiMCHAEcATAAMABp/2n/B/8H/6L+ov7C/cL9yvzK/EX8Rfw//D/8P/w//FT8VPyO/I786fzp/Gr9av0Q/hD+q/6r/ir/Kv+O/47/bf9t//b+9v59/n3+x/3H/eD84Pz7+/v7TPtM+6H6ofop+in6hPmE+QH5Afn9+P34fvl++U/6T/pi+2L7evx6/DL9Mv2j/aP9Kv4q/t7+3v5g/2D/kv+S/6H/of+I/4j/dv92/5//n//i/+L/FQAVABQAFADR/9H/Yv9i/zT/NP9M/0z/w//D/5wAnADfAd8BNAM0AxYEFgSGBIYEEAUQBWEFYQX6BPoEPwQ/BKEDoQM9Az0DRQNFA6gDqAPbA9sD2QPZA9QD1AOsA6wDOwM7A/YC9gLBAsECJQIlAk0BTQHrAOsA5ADkANUA1QCJAIkAPAA8AOf/5/++/77/z//P/1cAVwBpAWkB3gLeAisEKwTxBPEEGAUYBXYEdgRwA3ADXgJeAqEBoQH7APsA1QDVAOcA5wDYANgAdgB2AAQABACY/5j/Ov86/wn/Cf/c/tz+6v7q/j3/Pf+v/6//JwAnAJcAlwDGAMYAqwCrAAoACgDw/vD+n/2f/ar8qvwi/CL8DfwN/DX8NfyR/JH85fzl/Cb9Jv1k/WT9ef15/YT9hP3a/dr9mf6Z/jX/Nf+J/4n/if+J/1n/Wf/h/uH+a/5r/vj9+P2E/YT9Uf1R/WH9Yf21/bX99v32/Qf+B/7G/cb9Hv0e/Rv8G/xW+1b7Jvsm+3X7dfs0/DT8R/1H/Sn+Kf6N/o3+t/63/tb+1v78/vz+Yv9i/xEAEQCxALEAHgEeAZ0BnQE0AjQCqAKoAowCjAL+Af4BTAFMAaMAowArACsA8P/w/+3/7f/l/+X/NAA0AKAAoAD/AP8AHQEdAUABQAGHAYcB3wHfAUYCRgKTApMC3wLfAkMDQwPIA8gDFwQXBBQEFAS7A7sDNQM1A20CbQKlAaUBvQC9ANv/2/8Z/xn/2v7a/iL/Iv+S/5L/JQAlAMoAygAnAScBRwFHAbEBsQEfAh8COAI4Ah0CHQLrAesBsQGxAX0BfQF0AXQBVQFVAeoA6gBvAG8ALwAvABgAGAAiACIAcQBxAMgAyAAjASMBSwFLATYBNgHsAOwAoQChAFUAVQAKAAoA6P/o/ywALACEAIQAhACEADEAMQDS/9L/iv+K/xv/G/+k/qT+R/5H/jH+Mf4A/gD+of2h/TH9Mf0K/Qr9+vz6/OD84Pzo/Oj8Pv0+/bT9tP34/fj97v3u/eD94P0H/gf+A/4D/gj+CP44/jj+uP64/kT/RP/S/9L/EQARAOj/6P+g/6D/NP80/4z+jP7L/cv9c/1z/Wv9a/2C/YL9eP14/Zn9mf23/bf95P3k/Tb+Nv7M/sz+j/+P/10AXQBlAWUBcgJyAmMDYwOyA7IDbwNvA7MCswLQAdAB7QDtADQANACb/5v/Jv8m//3+/f4n/yf/pP+k/wQABAAVABUABgAGAPP/8//+//7/VgBWAPwA/ADIAcgBpgKmAnQDdAPZA9kDyQPJA5kDmQNaA1oDDgMOA8QCxAKSApICXAJcAtgB2AEaARoBdAB0AAUABQCs/6z/ev96/5L/kv/q/+r/gQCBAC0BLQG6AboB8gHyAbUBtQFBAUEB9gD2ANoA2gDGAMYA3gDeAA8BDwECAQIBuAC4AHEAcQBKAEoALAAsAOD/4P+r/6v/yP/I/x0AHQCIAIgA1QDVAPgA+AD1APUAuQC5ADYANgC3/7f/Tv9O/wH/Af+k/qT+eP54/nD+cP6M/oz+rP6s/pb+lv5d/l3+Iv4i/gX+Bf7p/en91P3U/eT95P0s/iz+Wf5Z/l/+X/5m/mb+Vv5W/jz+PP4X/hf+Rf5F/pL+kv7Q/tD+9P70/iX/Jf86/zr/Bv8G/8n+yf6O/o7+Mf4x/sT9xP2v/a/9q/2r/az9rP3J/cn97f3t/dv92/2Y/Zj9Zv1m/UD9QP2X/Zf9gf6B/sD/wP/eAN4A2QHZAZ4CngIfAx8DQANAAx8DHwPBAsECIQIhAoUBhQEBAQEBmACYAE0ATQA3ADcAGgAaAAcABwAKAAoACgAKAOf/5//B/8H/vf+9/wgACAB0AHQA7gDuADgBOAE4ATgBAAEAAaQApAB2AHYAlgCWAN4A3gAFAQUBAAEAAQMBAwFVAVUBowGjAcYBxgGoAagBbgFuASQBJAHyAPIA3gDeAPwA/ABAAUABTgFOAV4BXgF9AX0BbwFvASUBJQHGAMYAdAB0ADwAPABHAEcAaQBpAJ8AnwAIAQgBhgGGAdoB2gH3AfcBEQIRAt0B3QF/AX8BPgE+AUMBQwEvAS8BGwEbARwBHAEIAQgBqQCpAAsACwCO/47/V/9X/3z/fP+2/7b/8v/y/w0ADQAoACgASABIADcANwDV/9X/Wf9Z//b+9v5q/mr+9/33/cz9zP2j/aP9VP1U/Rj9GP3z/PP8D/0P/Vb9Vv2g/aD91/3X/Rv+G/5W/lb+fv5+/p3+nf7B/sH+2f7Z/sz+zP6p/qn+Q/5D/qr9qv0x/TH94/zj/Jj8mPxs/Gz8jvyO/A/9D/3h/eH9Bf8F/1EAUQBLAUsB7AHsAUECQQJKAkoCAgICAoABgAH7APsAhACEAAUABQCi/6L/ZP9k/w7/Dv/e/t7+2v7a/gv/C/9B/0H/u/+7/2IAYgDeAN4AHQEdAUQBRAFVAVUBNgE2AegA6AB2AHYACAAIALz/vP+3/7f/0f/R//r/+v9FAEUAxADEAEMBQwHEAcQBHwIfAkMCQwJ8AnwCxwLHAt0C3QKiAqICPgI+AsIBwgE4ATgBuwC7AIYAhgCDAIMAmACYAKkAqQC7ALsA2gDaANkA2QC3ALcAdQB1ADQANAASABIACwALABAAEAAxADEAbABsAFsAWwD5//n/lv+W/3n/ef92/3b/lv+W/+z/7P9GAEYAkgCSAMkAyQDgAOAAFAEUAVUBVQF0AXQBYQFhATgBOAElASUBEAEQAdYA1gCAAIAABQAFAIf/h/8I/wj/kf6R/hj+GP7L/cv92P3Y/fr9+v1V/lX+0P7Q/jb/Nv9a/1r/UP9Q/yX/Jf8e/x7/Of85/3D/cP+h/6H/r/+v/4v/i/9O/07/7/7v/mj+aP7x/fH9tv22/br9uv3X/df9JP4k/pr+mv4m/yb/rv+u/ygAKACQAJAA2QDZABMBEwEzATMBOgE6ASUBJQElASUBMwEzAQUBBQGUAJQAFQAVAKH/of8z/zP/yP7I/qD+oP6z/rP+2v7a/gX/Bf8m/yb/A/8D/+r+6v76/vr+0P7Q/p/+n/6L/ov+vP68/gD/AP+H/4f/PwA/AAYBBgGOAY4B1wHXASYCJgJXAlcCWwJbAlMCUwJsAmwCWwJbAhYCFgKiAaIBOgE6AbkAuQA0ADQAx//H/5v/m/+N/43/i/+L/8j/yP8SABIAQQBBADQANAACAAIAyP/I/4f/h/8+/z7/8/7z/q3+rf5v/m/+Wv5a/m/+b/6h/qH+Cf8J/5j/mP8+AD4A2QDZAFcBVwG9Ab0B8gHyARgCGAJIAkgCigKKAssCywLmAuYC+QL5AgADAAPMAswCVAJUArsBuwEzATMBsACwACUAJQCL/4v/8P7w/mz+bP4P/g/+7v3u/ev96/3//f/9FP4U/hn+Gf44/jj+Yv5i/ob+hv6t/q3+1f7V/gP/A/9E/0T/mv+a/9D/0P/q/+r/7//v/8z/zP+I/4j/av9q/5r/mv/q/+r/PgA+AI4AjgC6ALoAyQDJANMA0wDfAN8A3wDfAMUAxQDEAMQA3gDeAAMBAwEmASYBNgE2AS0BLQERAREB0wDTAHcAdwAAAAAAnv+e/3j/eP+P/4//z//P/wMAAwAAAAAAzP/M/43/jf9K/0r/EP8Q/+L+4v7h/uH+/v7+/lL/Uv+r/6v/+P/4/ywALAAvAC8AEwATACAAIABfAF8AqACoAO0A7QAYARgBJQElAREBEQHbANsAWQBZANf/1/9n/2f/O/87/xn/Gf8T/xP/Kv8q/zL/Mv8a/xr/9/73/uT+5P7B/sH+tf61/rj+uP7F/sX+2/7b/v/+//4c/xz/Lv8u/z7/Pv9U/1T/Vv9W/0b/Rv9B/0H/eP94/9L/0v8lACUAlQCVAAYBBgFHAUcBVQFVAUsBSwFOAU8BRQFFAR4BHgHxAPEA0QDRALgAuACXAJcAVQBVAB0AHQAOAA4ADwAPAB0AHQBEAEQAjACMALkAuQC9AL0AmgCaAHEAcQA3ADcABAAEAMv/y/+Z/5n/gf+B/33/ff+d/53/8P/w/1YAVgCoAKgAyQDJANgA2AD/AP8AJQElASsBKwEeAR4BAgECAd0A3QCxALEAkgCSAHQAdABIAEgALAAsABAAEAAKAAoAJQAlAGYAZgCjAKMA1QDVAA4BDgEpASkBGgEaAf0A/QDUANQAswCzAIUAhQBRAFEAIgAiAO3/7f+v/6//hf+F/3r/ev9F/0X/8P7w/sH+wf7M/sz+8v7y/ib/Jv9S/1L/nf+d//P/8/9HAEcAgACAAMUAxQATARMBWgFaAZsBmwHDAcMB/AH8ASQCJAJLAksCkQKRAuEC4QIeAx4DKQMpA+YC5gJyAnIC6QHpAV0BXQG4ALgABwAHAGz/bP/z/vP+n/6f/mn+af5B/kH+C/4L/rD9sP1b/Vv9B/0H/aX8pfxD/EP87/vv+5j7mPsy+zL75frl+qf6p/ps+mz6PPo8+jT6NPpL+kv6fPp8+rv6u/oC+wL7bPts+/f79/uJ/In8DP0M/X79fv3t/e39b/5v/ub+5v5X/1f/tP+0//f/9/9BAEEAXQBdAGsAawCdAJ0A8QDxAH0BfQEoAigCzgLOAmcDZwPZA9kDCwQLBCMEIwQ1BDUEOAQ4BD8EPwQ6BDoEKwQrBO4D7gOnA6cDLAMsA5ICkgL5AfkBagFqAfwA/ACXAJcAbwBvAFwAXABHAEcAKQApAAcABwDK/8r/XP9c//3+/f6p/qn+cf5x/nj+eP7L/sv+Ov86/6D/oP8kACQA2ADYAMQBxAHeAt4CHQQdBGQFZAW7BrsGCQgJCFAJUAl6CnoKYgtiCygMKAzGDMYMJQ0lDVQNVA1mDWYNRA1EDQUNBQ2UDJQM6gvqC+YK5gpdCV0JZwdnBwwFDAUyAjIC2v7a/h37HftQ91D3n/Of8+jv6O9s7GzsTulO6ZzmnOZ85HzkB+MH41HiUeJQ4lDi7+Lv4jHkMeT+5f7lQOhA6OLq4uqE7YTtFvAW8JnymfIb9Rv1sPew94v6i/qm/ab9/wD/AKMEowRnCGcIMQwxDNYP1g8/Ez8TMRYxFm8YbxgEGgQaxxrHGqMaoxqIGYgZfBd8F3kUeRSmEKYQRwxHDKYHpgfFAsUC1f3V/UD5QPk49Tj1w/HD8f/u/+7q7Orsa+tr62fqZ+r/6f/pLeot6rTqtOqf65/r5Ozk7IXuhe5r8Gvwn/Kf8j31PfUn+Cf4RvtG+6X+pf5GAkYCDQYNBt4J3gmlDaUNRRFFEX4UfhQlFyUXOBk4GagaqBpcG1wbTxtPG5calxpMGUwZexd7F0YVRhXjEuMSWBBYELwNvA0cCxwLzAjMCNgG2AYjBSMFnwOfA0MCQwInAScBPgA+AHX/df/O/s7+Wv5a/ib+Jv5D/kP+qP6o/n3/ff+rAKsAJwInAsEDwQNsBWwF+wb7BkQIRAgUCRQJMQkxCZ8InwhEB0QHCgUKBQgCCAKE/oT+j/qP+lD2UPYO8g7yFu4W7pXqleqs56znU+VT5bXjteO54rniPeI94iLiIuJU4lTiueK54kfjR+P44/jj4uTi5CDmIObP58/n9+n36ajsqOwD8APwBvQG9K74rvjm/eb9hwOHA1cJVwkvDy8PuBS4FH8ZfxlTHVMd+R/5H1shWyFvIW8hKiAqINkd2R2rGqsavxa/FloSWhK4DbgN9gj2CCQEJARu/27/9/r3+rf2t/a48rjyB+8H76rrquub6Jvo1+XX5YTjhOOv4a/hceBx4O7f7t9T4FPgr+Gv4QrkCuRc51zni+uL607wTvCH9Yf1C/sL+4UAhQDLBcsF1grWCoUPhQ+9E70TZBdkF5YalhpCHUIdVh9WH9wg3CDmIeYhWyJbIjQiNCKFIYUhRiBGIG4ebh7pG+kboxijGMoUyhSDEIMQ/Av8C28HbwcVAxUDM/8z/+f75/tj+WP5t/e399H20fa19rX2Nfc19zL4Mvin+af5ivuK+8D9wP0uAC4AoAKgAgoFCgVVB1UHhgmGCaULpQuUDZQNUg9SD7gQuBC6EboRMhIyEgASABLlEOUQ4w7jDiAMIAyPCI8IJwQnBDX/Nf/u+e75bPRs9Onu6e696b3pDuUO5fXg9eBw3XDdk9qT2mvYa9jC1sLWrdWt1TPVM9VQ1VDVI9Yj1rjXuNfs2ezZ2NzY3JDgkOAt5S3ljuqO6prwmvBM90z3eP54/tsF2wUWDRYN6RPpE/QZ9BnwHvAeoyKjIvEk8SQBJgEm6SXpJaskqyRtIm0ieR95H+kb6RvaF9oXkBOQEx4PHg9+Cn4KvAW8BfIA8gD6+/r76/br9tTx1PG67Lrspuem56Pio+Lm3ebdxNnE2YTWhNaD1IPUEtQS1DTVNNUO2A7Ybdxt3CXiJeLO6M7oBfAF8Hr3evfG/sb+ewV7BZcLlwsDEQMRnRWdFXsZexmrHKscXB9cH5ohmiFbI1sjtCS0JLElsSVUJlQmkCaQJkcmRyYxJTElRiNGI3kgeSDRHNEcSxhLGP4S/hIxDTENMwczB5IBkgGn/Kf8nfid+KX1pfW487jzuvK68rDysPKW85bzPvU+9WX3Zffj+eP5lPyU/G//b/9MAkwCUQVRBXgIeAiqC6oL9w73DnYSdhICFgIWexl7Gdsc2xzUH9QfJyInIogjiCOGI4Yj1SHVIVUeVR4lGSUZbhJuEngKeAqqAaoBhfiF+J/vn+9k52TnEeAR4PjZ+NlY1VjVDdIN0vTP9M/VztXOS85LzvvN+82YzZjNBc0FzXPMc8wJzAnMHcwdzBDNEM1Fz0XPDtMO05TYlNjX39ffk+iT6HXydfL0/PT8cgdyBzwRPBHiGeIZ5CDkIAgmCCYuKS4pZCpkKvQp9Ck/KD8olSWVJT0iPSKUHpQe0RrRGvwW/BYRExETBg8GD7gKuArtBe0FjwCPAJ36nfoY9Bj0J+0n7QDmAOYf3x/f7tju2PDT8NOC0ILQ5M7kzkDPQM+O0Y7Rr9Wv1VXbVdsP4g/iX+lf6d7w3vAu+C746P7o/ugE6AQ6CjoK1w7XDt4S3hKUFpQWMxozGtcd1x2lIaUhfSV9JT4pPimGLIYsBC8EL2gwaDA9MD0wVS5VLtAq0CrDJcMlbR9tHzIYMhijEKMQSglKCZ0CnQL9/P38x/jH+B/2H/bM9Mz0nfSd9FL1UvWA9oD24/fj90j5SPmz+rP6EfwR/IL9gv00/zT/WwFbASkEKQScB5wH1QvVC8IQwhAnFicWvBu8GxkhGSHGJcYlUClQKYErgSsSLBIs0yrTKvgn+Cd3I3cjaR1pHfYV9hVqDWoNWwRbBCb7Jvst8i3yuum66QPiA+IU2xTb9dT11KHPoc8/yz/LwMfAxwLFAsXywvLCgMGAwcHAwcC+wL7AqcGpwY3DjcOcxpzGBMsEy9HQ0dAE2ATYdOB04Njp2OnR89Hzzv3O/V8HXwcvEC8Q4BfgFyMeIx7eIt4iBiYGJsInwic9KD0ooCegJ14mXia5JLkksCKwIj4gPiBNHU0duhm6GUIVQhXPD88Pewl7CUUCRQJH+kf6zvHO8UTpROkl4SXh+dn52U3UTdR50HnQq86rzt3O3c7t0O3QmdSZ1KnZqdm137XfTeZN5hTtFO2487jzEvoS+vr/+v+HBYcFugq6CpQPlA9AFEAUpBikGMgcyBysIKwgQSRBJFMnUyecKZwpDysPK4griCvlKuUqBikGKf4l/iXVIdUhuxy7HOkW6Ra3ELcQcwpzCnkEeQQR/xH/X/pf+of2h/a087Tz5vHm8SbxJvFb8VvxaPJo8h/0H/RU9lT2+vj6+AD8APyC/4L/jQONAwYIBgjcDNwM7hHuESwXLBdlHGUcfSF9IUAmQCZ/Kn8q+C34LVwwXDCfMZ8xhjGGMQUwBTA4LTgtOCk4KRYkFiTZHdkdfBZ8FvoN+g1cBFwE9vn2+RnvGe8w5DDkoNmg2fvP+8+ex57H7cDtwBW8FbxQuVC5eLh4uEC5QLlau1q7Tb5NvrbBtsE/xT/F88jzyNHM0cwZ0RnRI9Yj1ivcK9xV41Xjz+vP64T1hPUCAAIA2QrZCnQVdBX/Hv8e9Sb1JsssyywzMDMwKDEoMdAv0C+SLJIs3ifeJzsiOyJYHFgcrBasFlERURFIDEgMUwdTBzcCNwKY/Jj8UfZR9nXvde896D3o4uDi4MvZy9mG04bTqs6qzo3LjcuTypPK4Mvgy0rPSs9V1FXUkdqR2q7hruEx6THprvCu8A74Dvgl/yX/sgWyBeYL5gvYEdgRiBeIF+Ic4hzXIdchLiYuJpQplCnbK9srGS0ZLS8tLy3wK/ArmSmZKVsmWyZiImIi0R3RHRsZGxlNFE0UeA94D6oKqgoSBhIG5gHmAUP+Q/46+zr7/vj++HT3dPem9qb2pPak9mn3affz+PP4NPs0+wP+A/5RAVEBAQUBBesI6wgrDSsNsRGxEWYWZhYiGyIb1B/UHyMkIyTgJ+An9ir2Kj4tPi2HLocuxC7ELt8t3y3NK80rnCicKHUkdSSRH5EfBBoEGgQUBBScDZwNmgaaBvT+9P579nv2He0d7RfjF+Ov2K/Yhc6FzhrFGsUpvSm9Jrcmt3GzcbNHskeyp7Ons1O3U7e5vLm8LcMtwwnKCcrA0MDQ2dbZ1nDccNyi4aLh0ebR5lrsWux08nTyRvlG+dcA1wDaCNoIExETEesY6xjGH8Yf/ST9JCIoIij5KPkojCeMJ0wkTCShH6EfEBoQGg4UDhQmDiYOrQitCM8DzwN5/3n/kvuS+5v3m/dM80zzcO5w7jLpMunB48Hjkt6S3hvaG9rZ1tnWQtVC1YXVhdWt163Xq9ur2zThNOGl56Xnhu6G7nf1d/UW/Bb8IQIhAs4HzgcSDRIN9BH0EXMWcxbXGtca0B7QHj8iPyIKJQol8ybzJqonqicaJxongSWBJREjESPIH8gfDBwMHEgYSBh3FHcU5BDkEKMNow25CrkKBQgFCGoFagXNAs0CPAA8AKX9pf1T+1P7ePl4+Uf4R/gO+A746fjp+Ob65vrq/er9xgHGAUkGSQYLCwsLmQ+ZD6oTqhMeFx4X+xn7GSscKxz7Hfsdhh+GH+Qg5CANIg0iHiMeI+wj7CMrJCskvCO8I5QilCJoIGggPh0+HVwZXBnuFO4UFBAUEBwLHAs6BjoGQQFBAf37/fsw9jD2su+y7yToJOjg3+DfS9dL1xHPEc/Bx8HHPsI+wuO+477ovei9Pb89v87CzsL8x/zH8c3xzQTUBNRx2XHZu9273cfgx+A/4z/jkuWS5Xroeuhr7Gvsz/HP8Wf4Z/jo/+j/zwfPB5MPkw8kFiQW6hrqGkYdRh0lHSUdmRqZGkEWQRb+EP4QoguiC6YGpgaFAoUCVf9V/+j86PwP+w/7WflZ+WL3Yvet9K30L/Ev8cvsy+zx5/HnGeMZ4xbfFt9W3Fbcadtp22LcYtxQ31Dfv+O/40HpQelE70TvX/Vf9eP64/q7/7v/CAQIBPUH9QdrC2sLxw7HDmgSaBIxFjEW4RnhGU8dTx1sIGwgfyJ/IjgjOCOtIq0iIiEiIYwejB6aG5obsRixGAsWCxZgE2AT6RDpEJ4Ong5IDEgMygnKCWgHaAcBBQEFhQKFAi8ALwBl/mX+kv2S/cb9xv0p/yn/hwGHAYcEhwSyB7IH3greCroNug1SEFIQchJyEiIUIhRTFVMVQhZCFh8XHxdMGEwYvRm9GWsbaxs2HTYdxx7HHtQf1B9FIEUg+x/7H7EesR5CHEIcsBiwGG4UbhS5D7kPPgs+C1sHWwdHBEcEvAG8AaL/ov93/Xf93Prc+kb3Rvdp8mnyz+vP68bjxuPi2uLaBtIG0mfKZ8r6xPrET8JPwlXCVcKvxK/E3MjcyCLOIs59033TXNhc2A7cDtx53nneqt+q35TglOAp4iniIOUg5bDpsOne797vBfcF91/+X/40BTQF1ArUCgQPBA83ETcRYhFiEQAQABDLDcsNKAsoC98I3whoB2gHqwarBgsGCwY7BTsFwAPAA3EBcQEd/h3+Gvoa+rb1tvVF8UXxPe097Q3qDepE6ETo6+fr5/bo9ugG6wbrvu2+7ZjwmPBe817zxvXG9Qr4Cvgm+ib6Q/xD/IP+g/5PAU8BkASQBHsIewjjDOMMdhF2EcUVxRVyGXIZAhwCHFodWh19HX0dbhxuHHAacBrHF8cXAhUCFUYSRhLfD98P6w3rDX0MfQwGCwYLiQmJCQEIAQiTBpMGGQUZBQoECgRqA2oDPwM/A4gDiAOABIAEDQYNBv8H/wc2CjYKXAxcDDkOOQ6wD7APGREZEYoSihJNFE0UWBZYFqgYqBjJGskaphymHO0d7R2gHqAehB6EHrMdsx0THBMc6xnrGWYXZhfUFNQUZBJkEigQKBD5DfkNnQudCzUJNQmzBrMGLQQtBJsBmwEs/yz/iPyI/KP5o/la9lr2qvKq8hXuFe6j6KPoMeIx4hzbHNvM08zTSs1KzXvIe8gcxhzGJcYlxmHIYcgzzDPM/9D/0OrV6tVP2k/a9N303ZPgk+Bh4mHip+On42LlYuU86Dzoquyq7GzybPJR+VH5MQAxAHIGcgY5CzkLnA6cDloQWhC6ELoQFRAVEP4O/g7EDcQNrQytDOwL7AtKC0oLaApoCpgImAjeBd4FHwIfAtL90v0x+TH5+vT69I7xjvEv7y/vzO3M7ZXtle0Z7hnuKO8o7zLwMvAr8Svx7PHs8Z/yn/KM84zzI/Uj9XP3c/eB+oH6Df4N/gwCDAJABkAGVQpVCkkOSQ7bEdsRrRStFKcWpxbgF+AXUxhTGC8YLxiMF4wXnhaeFhYVFhU5EzkTERERERoPGg8qDSoNuwu7C6YKpgrNCc0J0wjTCO0H7QcSBxIHPQY9BpMFkwU1BTUFPQU9BbIFsgXMBswGmQiZCB4LHgviDeINyhDKEF8TXxOmFaYVXhdeF8cYxxjbGdsZqhqqGgEbARsCGwIbmhqaGu0Z7Rn3GPcY1hfWF18WXxaaFJoUnBKcEoYQhhCADoAOaAxoDFsKWwrdB90HKgUqBTQCNAJj/2P/wPzA/Kn6qfrn+Of4QvdC92/1b/Vy83Lz+PD48Njt2O3f6d/pDOUM5Znfmd/02fTZANUA1YXRhdEh0CHQrNCs0L/Sv9Ka1ZrVs9iz2HnbedvI3cjdf99/39Tg1OAE4gTiguOC4+zl7OWX6ZfphO6E7oH0gfTF+sX6eQB5AOgE6ATOB84HSQlJCbIJsgljCWMJCwkLCeUI5QhGCUYJ5AnkCaoKqgoeCx4L1wrXCkUJRQmPBo8G+AL4AgP/A/87+zv7LPgs+A/2D/bH9Mf0NPQ09AD0APTj8+PzZvNm88ryyvLz8fPxbvFu8VbxVvFR8lHyOPQ49Dr3Ove8+rz6nP6c/iQCJAJdBV0F0gfSB7YJtgkeCx4LZgxmDLoNug0/Dz8PIREhEewS7BJsFGwUMRUxFTEVMRX2E/YTQRJBEh8QHxAxDjEOfQx9DIoLigsACwAL8ArwCvoK+gozCzMLVQtVCzULNQsDCwMLzQrNCsQKxAr8CvwK0wvTCxMNEw28DrwOXRBdEP8R/xFNE00TVxRXFOcU5xRXFVcVlxWXFZsVmxVwFXAVPRU9FcQUxBTFE8UTZhJmEqkQqRB8DnwOOQw5DFsKWwrjCOMIxAfEB8kGyQbNBc0FfgR+BMoCygLBAMEAkf6R/jH8Mfze+d75rfet95X1lfW187Xz9PH08TjwOPAQ7hDuMusy657nnuec45zje9973/nb+duB2YHZgdiB2OrY6the2l7aYdxh3ITehN564HrgA+ID4j/jP+Mu5C7kdOV05V3nXec26jbq5+3n7YPyg/Jz93P3R/xH/GQAZACGA4YDcwVzBX4GfgYiByIHmQeZB1cIVwhxCXEJ5QrlCgQMBAylDKUMTgxODBkLGQvXCNcIBwYHBtUC1QK8/7z/4/zj/L/6v/o6+Tr5RvhG+JX3lff89vz2I/Yj9gL1AvXq8+rzQfNB84nzifO59Ln0/fb99sj5yPm+/L78Hv8e/0kBSQHKAsoC7APsA8gEyAQxBjEG4QfhBw8KDwqcDJwMkw+TD/YR9hFbE1sTjhOOE2wSbBI5EDkQmQ2ZDXoLegvRCdEJFQkVCQwJDAm8CbwJIAogClYKVgrvCe8JIAkgCYMHgwe6BboFIAQgBF4DXgOWA5YD3QTdBPwG/AaJCYkJDwwPDB4OHg6rD6sPqhCqEHkReREnEicSARMBE5cTlxMpFCkUahRqFCsUKxQHEwcTchFyEXcPdw+cDZwN7gvuC+MK4wpqCmoKVQpVCj4KPgqbCZsJCAgICGYFZgUVAhUCGf4Z/i36LfrU9tT2vvS+9Kvzq/OA84DzbfNt8yzzLPMo8ijyH/Af8Nzs3OzP6M/okeSR5Kvgq+Bz3XPdjduN22nbaduc3Jzcud653tfg1+Bi4mLiLOMs45Pjk+Ph4+HjuuS65JHmkeaa6ZrphO2E7drx2vE59jn2Z/pn+j7+Pv5LAUsBXANcA4QEhAR0BXQFnwafBi0ILQhVClUK7QztDFoPWg+dEJ0QkRCREAoPCg99DH0MYgliCTAGMAYAAwADOwA7AAX+Bf5v/G/8Nvs2+yn6KfoH+Qf5nvee9/b19vVI9Ej0MfMx8w7zDvMt9C30KvYq9rH4sfgo+yj7cv1y/Tz/PP/UANQA6QHpARoDGgNhBGEEPAY8BmEIYQjhCuEKoA2gDfoP+g9YEVgRvhG+EWARYBEyEDIQDA8MD0kOSQ4kDiQOAA4ADjMOMw49Dj0O3w3fDaEMoQwXCxcLJwknCTEHMQdvBW8FnQSdBNYE1gQOBg4GEggSCDEKMQr+C/4LBA0EDYINgg1iDWINIg0iDf8M/wyJDYkNhQ6FDugP6A8sESwRRhJGErcStxI+Ej4S1BDUEOsO6w7rDOsMMwszCxQKFApbCVsJzgjOCCwILAhDB0MHbwVvBcoCygK4/7j/iPyI/Er5Svmf9p/25vTm9D30PfQh9CH0FfQV9InzifM18jXyP/A/8KXtpe206rTqtee15/vk++Sd4p3imOCY4DnfOd/o3ujedd9135vgm+Cf4Z/hWeJZ4hHjEeMp5Cnk5+Xn5U/oT+h063TrDO8M747yjvJm9Wb1yffJ9yb6Jvrc/Nz8k/+T/xgCGAKPBI8ELAcsB+IJ4gmbDJsMFA8UD/sQ+xD/Ef8RxBHEEVQQVBDxDfENgguCC2UJZQmDB4MHiQWJBYkDiQOFAYUBcv9y/zf9N/36+vr6/Pj8+Dj3OPe+9b71nvSe9Af0B/Q09DT0L/Uv9X/2f/bD98P3+Pj4+Aj6CPrw+vD6tfu1+638rfxc/lz+yADIAJADkAOxBrEG3QndCacMpwyqDqoO1g/WDzIQMhD8D/wPsQ+xD48Pjw+VD5UPmQ+ZD+AP4A8jECMQBBAEECEPIQ/9Df0NawxrDMAKwAofCR8J7gfuB2kHaQePB48HJQglCNII0ghgCWAJpAmkCb4JvgmyCbIJzgnOCSUKJQoCCwILLQwtDI4Njg2sDqwOdg92D5MPkw/7DvsOqg2qDS8MLwy5CrkKjQmNCcUIxQhACEAIwQfBBykHKQdNBk0G7QTtBDADMAMxATEBI/8j/wT9BP00+zT73/nf+UH5Qfnv+O/4efh5+GX3ZffG9cb1rPOs83HxcfE87zzvTO1M7abrpusN6g3qZOhk6Jbmlubv5O/kBuQG5AnkCeR25Hbk8uTy5EHlQeXH5cflc+Zz5mnnaefO6M7owerB6hntGe2c75zv8vHy8Un0SfQS9xL3XPpc+r39vf2zALMAIAMgA/YE9gR9Bn0G0wfTB/8I/wgvCi8KXwtfC0EMQQxqDGoM4AvgC/EK8QrXCdcJdQh1CL0GvQbCBMIErQKtAokAiQBt/m3+d/x3/Mb6xvp1+XX5UfhR+C/3L/ci9iL2WPVY9d703vTd9N30UPVQ9Uz2TPbV99X3n/mf+Vv7W/st/S39If8h/0ABQAF/A38D3AXcBTIIMggxCjEKzgvOC/YM9gy7DbsNVA5UDkIPQg9LEEsQKxErEdkR2RFnEmcShBKEEhkSGRJYEVgRaxBrEDQPNA+7DbsNLAwsDLUKtQqlCaUJDgkOCQUJBQkzCTMJjwmPCcUJxQncCdwJugm6CZ0JnQnJCckJQgpCCsMKwwr0CvQK6QrpCqMKowomCiYKewl7CegI6AiVCJUIhwiHCIgIiAh1CHUIKwgrCNUH1QdyB3IH2gbaBucF5wXGBMYEoAOgA2sCawIZARkByP/I/5b+lv6I/Yj9jPyM/Fr7WvvE+cT5/Pf890X2Rfa+9L70WvNa8+fx5/Fh8GHwbu5u7g7sDuwr6SvpVeZV5hbkFuTz4vPio+Kj4tfi1+IZ4xnjdeN149Pj0+Nx5HHkbOVs5c3mzea96L3oAesB65jtmO028DbwEPMQ8yv2K/ak+aT59fz1/P3//f9uAm4CowSjBJ8GnwauCK4IywrLCt8M3wyqDqoO1w/XD0sQSxDxD/EP8A7wDpENkQ0WDBYMbQptCowIjAg1BjUGlQOVA8UAxQAc/hz+nfud+275bvle9173sPWw9TH0MfT18vXyCPII8r3xvfHz8fPxivKK8ijzKPPN883zivSK9Lj1uPW897z3ePp4+qb9pv35APkASgRKBPcG9wZJCUkJNgs2C0oNSg1hD2EPahFqERUTFRNSFFIU5xTnFBIVEhUAFQAV2xTbFG4UbhSgE6AThhKGEigRKBHfD98Prw6vDuwN7A02DTYNlgyWDLcLtwt0CnQKuAi4CPkG+QaPBY8FuQS5BE0ETQQUBBQE6QPpA80DzQOuA64DigOKA2cDZwN3A3cD3QPdA1oEWgTUBNQEKQUpBXYFdgWIBYgFigWKBU4FTgXyBPIEggSCBDoEOgTzA/MDrAOsA18DXwMGAwYDaAJoAnsBewFGAEYAwv7C/gP9A/0r+yv7d/l3+dX31fcu9i72RfRF9CryKvLA78DvKO0o7Z/qn+pf6F/oqeap5qTlpOVO5U7lRuVG5SjlKOX15PXk1+TX5Ovk6+Qn5SflzOXM5R3nHece6R7pneud63/uf+6C8YLxffR99Hv3e/ec+pz6kv2S/WMAYwAUAxQDxgXGBXEIcQjvCu8KJA0kDfYO9g5hEGEQPBE8EYERgREoESgRUhBSECIPIg/JDckNMgwyDFgKWAoyCDII9AX0Ba4DrgOBAYEBXP9c/z/9P/0W+xb7CvkK+RX3FfdX9Vf12PPY88TyxPIz8jPyFPIU8lbyVvLq8ury9PP085P1k/Xi9+L3fPp8+iz9LP23/7f/WwJbAgAFAAWmB6YHIgoiCqQMpAwiDyIPghGCEVUTVROXFJcUlxWXFZgWmBa6F7oXphimGDIZMhk5GTkZ6RjpGBMYExjIFsgW+hT6FBsTGxM9ET0RWg9aDzgNOA3yCvIK0gjSCAIHAgeDBYMFLwQvBOoC6gKWAZYBNAA0ALr+uv5P/U/9MPww/HX7dfsF+wX76/rr+u767voF+wX7Nfs1+337ffvs++z7hPyE/Dz9PP37/fv9pP6k/kj/SP/h/+H/SQBJAHUAdQBoAGgAUABQAEwATABKAEoAQwBDACkAKQDc/9z/Of85/xb+Fv5p/Gn8e/p7+oj4iPiw9rD2+/T79HPzc/Mq8iryIPEg8SfwJ/AS7xLv3O3c7YXshews6yzrDuoO6onpiema6ZrpVOpU6orriusX7Rfti+6L7sfvx+/Y8Njw0/HT8f7y/vKR9JH0nfad9vX49fhy+3L7DP4M/p8AnwDcAtwCmASYBNAF0AWuBq4GSwdLB7YHtgfyB/IHQwhDCJQIlAjmCOYIIAkgCSMJIwndCN0IWghaCLMHswe1BrUGaQVpBfkD+QObApsCTwFPAR4AHgD1/vX+2/3b/dz83Pws/Cz8zPvM+6D7oPvF+8X7R/xH/Oj86PyY/Zj9Rf5F/gv/C/8GAAYAQAFAAb4CvgJCBEIE7AXsBZoHmgdUCVQJygrKCv8L/wsPDQ8NHQ4dDjYPNg9JEEkQLxEvEdYR1hFNEk0SXhJeEkQSRBIAEgASrBGsEQURBREsECwQ8Q7xDogNiA0RDBEM4wrjCrwJvAmACIAIMAcwB3IFcgV0A3QDgAGAAdr/2v9d/l3+Lf0t/Sr8Kvw4+zj7UvpS+r/5v/lb+Vv5CPkI+cX4xfiJ+In4O/g7+P/3//ca+Br4dvh2+PH48fhl+WX5xfnF+RX6FfqO+o76P/s/+zv8O/w+/T79J/4n/qb+pv6z/rP+i/6L/mT+ZP5J/kn+Sv5K/lL+Uv5f/l/+Vv5W/iP+I/6d/Z397fzt/C38LfxZ+1n7gfqB+r/5v/lJ+Un5KPko+U75Tvli+WL5Pfk9+dX41fhz+HP43ffd9y/3L/el9qX2d/Z39pz2nPbc9tz2E/cT9yr3Kvcn9yf3A/cD9+D24Pa69rr20fbR9iv3K/e497j3X/hf+Af5B/mh+aH5WPpY+hL7Evu8+7z7WfxZ/PL88vx7/Xv9C/4L/rD+sP5Z/1n/+P/4/3sAewDnAOcARAFEAZEBkQHSAdIBEQIRAncCdwLxAvECYANgA8QDxAMFBAUESQRJBIoEigTCBMIE4QThBB0FHQWTBZMFTAZMBgkHCQejB6MHBwgHCFcIVwh6CHoIlAiUCMIIwgj0CPQIPgk+CZgJmAndCd0J+wn7CRcKFwpQClAKfAp8CmkKaQo0CjQK0AnQCV4JXgn3CPcIzAjMCK0IrQiICIgIQwhDCMIHwgffBt8G0wXTBbIEsgScA5wDsQKxAgYCBgJ/AX8BJwEnAegA6AC0ALQAdwB3AA8ADwCV/5X/4P7g/hf+F/5Y/Vj9nPyc/Ob75vtX+1f78/rz+tj62Prs+uz6F/sX+zv7O/tu+277uvu6+/v7+/so/Cj8U/xT/Hf8d/yp/Kn88fzx/Cr9Kv1T/VP9hv2G/dz93P0i/iL+Sf5J/mL+Yv6J/on+z/7P/hr/Gv9Y/1j/hf+F/6T/pP/U/9T/0//T/6L/ov88/zz/p/6n/uv96/0c/Rz9bfxt/Ov76/uD+4P7Ifsh+6f6p/rt+e35F/kX+Tf4N/h593n32fbZ9nz2fPZC9kL2FfYV9vH18fXc9dz15fXl9QD2APYZ9hn2WvZa9sf2x/Zu9273Hvge+Nf41/ie+Z75Wvpa+gj7CPuO+477/Pv8+3D8cPzf/N/8RP1E/Yf9h/3W/db9YP5g/jf/N/8rACsAAQEBAbUBtQFIAkgCrgKuAv0C/QJmA2YD2QPZA3EEcQQIBQgFkwWTBfsF+wVZBlkGzQbNBjkHOQemB6YH9Qf1BzsIOwhjCGMIYwhjCF8IXwhnCGcIbAhsCHwIfAiHCIcIpAikCJ8Inwh9CH0IPQg9COIH4geIB4gHOwc7B/AG8AaJBokG/AX8BVIFUgWrBKsEGwQbBNYD1gPEA8QDxwPHA64DrgNbA1sDygLKAiUCJQJ3AXcB0gDSAD8APwC//7//T/9P/wL/Av/T/tP+1v7W/t7+3v7w/vD+zv7O/oj+iP5K/kr+FP4U/gT+BP4L/gv+Hf4d/iL+Iv4s/iz+R/5H/nn+ef7U/tT+Vf9V/8j/yP8zADMAiACIANYA1gA4ATgBqAGoARsCGwJsAmwCnwKfArUCtQKrAqsChgKGAlgCWAIzAjMCNgI2AjYCNgIsAiwCAgICAqkBqQEmASYBhwCHAMr/yv/y/vL+I/4j/mz9bP3B/MH8E/wT/HD7cPvi+uL6Zvpm+v75/vmN+Y35BfkF+Yb4hvgc+Bz41PfU97b3tvfN9833+vf69zb4Nvhz+HP4rfit+OL44vg2+Tb5lvmW+QP6A/pu+m760frR+iH7Iftu+277t/u3+wn8Cfxm/Gb81vzW/Gz9bP0A/gD+p/6n/ir/Kv+i/6L/AAAAAFEAUQCmAKYA+QD5AE8BTwGtAa0B8AHwATACMAJZAlkCcwJzAp0CnQLJAskC9gL2Ah8DHwNDA0MDawNrA6UDpQPlA+UDIwQjBDYENgQhBCEE+wP7A8wDzAOlA6UDlQOVA5IDkgOZA5kDkAOQA18DXwP+Av4CiQKJAikCKQLiAeIBpAGkAVoBWgEVARUBwgDCAG0AbQALAAsArf+t/0f/R//q/ur+mv6a/l7+Xv4x/jH+Of45/lL+Uv5Z/ln+Sv5K/h3+Hf7x/fH92v3a/e/97/0w/jD+qf6p/hn/Gf9v/2//r/+v/8r/yv/V/9X/8v/y/wcABwAeAB4AVwBXAI8AjwDIAMgACAEIAVEBUQGUAZQBuAG4AaIBogFkAWQBNQE1ARABEAEUARQBKgEqAVkBWQGkAaQB/wH/AT4CPgJNAk0CQwJDAk4CTgJgAmACeAJ4ApICkgKvAq8C3gLeAgIDAgMaAxoD+QL5AqgCqAJXAlcC+wH7AaEBoQFQAVAB/AD8AMMAwwCUAJQAeAB4AFoAWgAqACoA/////+b/5v/L/8v/rP+s/23/bf8U/xT/wP7A/nD+cP4r/iv+/v3+/fj9+P0c/hz+df51/tr+2v5F/0X/t/+3/yYAJgCIAIgAvgC+AMUAxQDDAMMA2ADYAAcBBwFVAVUBuAG4ARICEgKNAo0C9gL2AhQDFANKA0oDXgNeA6sDqwPvA+8DIgQiBCUEJQQgBCAEFQQVBAwEDATzA/MDsQOxA4sDiwNzA3MDcwNzA2QDZAM0AzQD+gL6AswCzAKPAo8CUAJQAgACAAKmAaYBTQFNAfYA9gCYAJgADAAMAGb/Zv+u/q7++v36/Wf9Z/35/Pn8qfyp/Fv8W/wc/Bz87vvu++H74fvS+9L7rPus+4T7hPtn+2f7W/tb+1L7Uvtu+277pful+wn8CfyN/I38A/0D/UD9QP14/Xj9sv2y/fP98/0T/hP+I/4j/jj+OP5H/kf+Sf5J/j3+Pf4z/jP+Jv4m/iX+Jf4d/h3+6/3r/a79rv2X/Zf9m/2b/bP9s/2q/ar9sf2x/dL90v0B/gH+Of45/k3+Tf5S/lL+VP5U/m3+bf6k/qT+4P7g/hX/Ff9L/0v/kP+Q/9v/2/8WABYAQwBDAGIAYgBYAFgAPQA9ABEAEQDY/9j/qf+p/53/nf+s/6z/of+h/4T/hP9m/2b/O/87/wz/DP/V/tX+k/6T/kz+TP4W/hb+1/3X/ar9qv2a/Zr9l/2X/b39vf3k/eT9Ff4V/jn+Of53/nf+rP6s/q/+r/6+/r7+3/7f/jr/Ov/I/8j/VwBXAPAA8ABqAWoBvgG+AQMCAwIkAiQCOAI4AlcCVwJ+An4CqgKqAt4C3gIcAxwDXQNdA4wDjAOkA6QDnQOdA4oDigN6A3oDawNrA3IDcgODA4MDhwOHA38DfwNdA10DLwMvAwwDDAPvAu8C0wLTAqcCpwJyAnICUwJTAkUCRQJDAkMCOQI5AhgCGALUAdQBgwGDATgBOAELAQsBAgECARQBFAEyATIBOAE4ASwBLAEnAScBKQEpATIBMgFOAU4BfgF+Ab4BvgERAhECUgJSAk8CTwInAicCBwIHAvwB/AESAhICGAIYAhMCEwIQAhACKwIrAksCSwJRAlECMQIxAgkCCQL5AfkB6wHrAb0BvQFpAWkBCAEIAccAxwCxALEAnwCfAGkAaQAnACcA5v/m/8H/wf+1/7X/pv+m/4z/jP9R/1H/Kf8p/xP/E/8O/w7//f79/s3+zf6K/or+ZP5k/mT+ZP5Y/lj+IP4g/rL9sv1G/Ub9F/0X/fz8/Pzj/OP8pfyl/H/8f/yO/I78vPy8/ML8wvx5/Hn8K/wr/Pn7+fsD/AP89vv2+8T7xPuC+4L7Zvtm+3n7efuW+5b7l/uX+4L7gvug+6D75Pvk+yr8KvxL/Ev8SvxK/F/8X/yI/Ij8u/y7/OH84fwA/QD9G/0b/T79Pv1m/Wb9lP2U/cn9yf0c/hz+dP50/rT+tP7p/un+Av8C/wv/C/8U/xT/K/8r/2P/Y/+1/7X/8v/y/wMAAwD//////////yIAIgBZAFkAggCCAJQAlAChAKEArACsALQAtAC1ALUAnQCdAJIAkgCKAIoAgACAAHEAcQBOAE4AJQAlAO7/7v/I/8j/sP+w/7T/tP/a/9r/AwADADYANgBBAEEAIAAgAP////8FAAUALAAsAGkAaQCiAKIArQCtALUAtQDUANQADAEMAUQBRAFSAVIBWAFYAZ8BnwElAiUCnwKfArUCtQJjAmMCLwIvAn0CfQInAycDcgNyAw4DDgNwAnACVAJUAqkCqQLVAtUCggKCAkUCRQKpAqkCgAOAA2EDYQPNAc0B3v/e/2T/ZP/eAN4AeQJ5AsMCwwK3AbcBNgE2AcsBywG7ArsCWQJZAv0A/QB4AHgApgGmAS4DLgPiAuIC0QDRAPD+8P46/zr/6gDqAOYB5gEXARcB9f/1/wYABgAiASIBdgF2ARoAGgBR/lH+Bf4F/mP/Y/9xAHEA1P/U/zT+NP5e/V79Ff4V/hv/G//0/vT+9/33/Xr9ev2N/o3+7v/u/0oASgA+/z7/Nv42/lX+Vf5o/2j/JAAkANf/1/9b/1v/fP98/3IAcgAiASIB8wDzADUANQDS/9L/RwBHAO0A7QAUARQBtAC0AFIAUgBJAEkAagBqAEkASQDa/9r/cP9w/3b/dv+w/7D/z//P/5D/kP8x/zH/B/8H/y7/Lv9U/1T/Nv82//b+9v6e/p7+h/6H/qz+rP7H/sf+r/6v/nj+eP46/jr+Of45/mb+Zv6K/or+sP6w/sD+wP7P/s/+1f7V/rn+uf5s/mz+Kv4q/h/+H/51/nX+4v7i/ij/KP8v/y//Cv8K/+P+4/7K/sr+yv7K/tv+2/4i/yL/nv+e/yIAIgBNAE0AIwAjANT/1P/A/8D/CAAIAG0AbQCxALEA0QDRAAoBCgFYAVgBgAGAATwBPAHIAMgAqACoAPEA8QBiAWIBhAGEAUgBSAETARMBJQElAWABYAFWAVYBEgESAfcA9wA5ATkBsgGyAcEBwQFdAV0BzgDOAJkAmQCxALEAwgDCAKcApwByAHIAcwBzAKMAowC0ALQAcQBxAA8ADwDT/9P/4f/h/+v/6//Q/9D/jv+O/1j/WP9y/3L/rv+u/8n/yf+v/6//n/+f/6D/oP/C/8L/1P/U/8P/w/+r/6v/wP/A/xQAFABaAFoAcwBzAF4AXgBBAEEAUwBTAGgAaABxAHEAbwBvAIIAggDAAMAA9gD2ABABEAHqAOoAugC6AK8ArwCzALMApgCmAJAAkABxAHEAegB6AJEAkQCUAJQAZgBmAC4ALgAbABsAJAAkAD0APQAyADIAJQAlADQANABZAFkAYABgADEAMQDm/+b/uv+6/8z/zP8UABQAWwBbAIIAggC4ALgA+AD4ACQBJAEbARsB6ADoANMA0wD7APsATwFPAZIBkgGFAYUBYQFhAVEBUQFmAWYBegF6AW4BbgFiAWIBbgFuAYcBhwFsAWwBJQElAdMA0wC6ALoAzgDOANYA1gCfAJ8AVABUACcAJwA8ADwAVABUADwAPAABAAEA3P/c/9n/2f/J/8n/tP+0/5T/lP+W/5b/zf/N/wIAAgDq/+r/pP+k/2f/Z/9y/3L/qv+q/9P/0//j/+P/2v/a//n/+f8XABcAJQAlAAkACQADAAMASgBKAKQApADOAM4AnACcAD4APgAIAAgAKgAqAFUAVQBsAGwAbQBtAGMAYwBVAFUAOAA4AM//z/9Z/1n/Gv8a/yP/I/9d/13/hf+F/3v/e/8v/y//z/7P/n3+ff5U/lT+Pv4+/kH+Qf44/jj+R/5H/mb+Zv6f/p/+tf61/o/+j/5U/lT+I/4j/ij+KP5H/kf+a/5r/ov+i/7B/sH+/v7+/h7/Hv/l/uX+m/6b/nP+c/6Y/pj+7P7s/iP/I/8S/xL/6P7o/s/+z/67/rv+qv6q/nf+d/5p/mn+h/6H/uX+5f4n/yf/Mv8y//j++P62/rb+lf6V/rT+tP4D/wP/TP9M/4P/g/+W/5b/s/+z/+H/4f8wADAAaQBpAIwAjACxALEA8wDzAEQBRAFyAXIBYQFhAToBOgFKAUoBjwGPAcgByAG9Ab0BpAGkAbEBsQEBAgECLQItAu0B7QFkAWQBBAEEAQABAAEfAR8B9QD1AJcAlwBvAG8ApwCnAOUA5QC8ALwAIwAjAJ//n/+x/7H/HwAfAG0AbQAzADMA3v/e/83/zf8MAAwAQwBDACoAKgANAA0AOAA4ALwAvAAbARsBBAEEAZsAmwBfAF8AgACAAM4AzgD4APgA5gDmAOEA4QAXARcBTQFNAU4BTgEkASQB6wDrAPgA+AAtAS0BOgE6AfYA9gCHAIcANwA3ADIAMgBIAEgARwBHAAsACwC7/7v/kv+S/3//f/9w/3D/S/9L/xL/Ev8E/wT/LP8s/1n/Wf9l/2X/Tf9N/y//L/8k/yT/Nv82/z7/Pv8p/yn/H/8f/xH/Ef8U/xT/Ef8R//z+/P7z/vP+CP8I/zf/N/9a/1r/Xv9e/w3/Df+o/qj+Yf5h/kf+R/5b/lv+Vv5W/iD+IP7R/dH9nP2c/Yj9iP2J/Yn9i/2L/YX9hf2e/Z791P3U/dD90P2J/Yn9MP0w/Rn9Gf1r/Wv94P3g/Sn+Kf4j/iP+Bf4F/hb+Fv48/jz+Wv5a/of+h/7i/uL+cv9y/+r/6v/z//P/rP+s/2//b/+D/4P/3P/c/xwAHAA+AD4AZABkAKEAoQDiAOIA2gDaALYAtgC5ALkAAwEDAVYBVgFYAVgBEwETAeEA4QDhAOEA+QD5ANsA2wCUAJQAewB7AMEAwQAiASIBHwEfAcIAwgBiAGIATgBOAHYAdgCLAIsAVgBWADEAMQBUAFQAqQCpALAAsABcAFwA9P/0/+z/7P9LAEsArgCuAL8AvwCFAIUAeAB4ALEAsQDlAOUA1gDWAJ4AngCcAJwABwEHAZgBmAHaAdoBrQGtAWABYAFKAUoBWwFbAWEBYQFJAUkBNQE1AVQBVAGRAZEBhQGFASkBKQGvAK8AfQB9AJMAkwCvAK8AnwCfAGgAaABPAE8AbABsAJoAmgCGAIYAQwBDAA8ADwAAAAAAFAAUADAAMAA0ADQARABEAGYAZgB+AH4AfAB8AFoAWgBCAEIARwBHAFoAWgBiAGIAYQBhAFcAVwA+AD4A/f/9/5z/nP86/zr/HP8c/zX/Nf9f/1//bv9u/0r/Sv8Z/xn/4/7j/qn+qf50/nT+Vf5V/lz+XP6I/oj+mP6Y/ov+i/5n/mf+UP5Q/mn+af6e/p7+3f7d/hH/Ef9J/0n/Y/9j/2H/Yf9F/0X/Mv8y/zz/PP9z/3P/xv/G//r/+v8HAAcA8v/y/8//z/+9/73/3v/e/w0ADQBAAEAAYQBhAGcAZwBoAGgAYwBjAE8ATwAnACcA8v/y//H/8f8OAA4ALQAtAEcARwBLAEsAPAA8AFIAUgBxAHEAeQB5AHoAegB6AHoAjQCNAKUApQC4ALgAvgC+AMcAxwDXANcA6wDrAO4A7gDpAOkA+wD7ABUBFQEwATABPgE+AScBJwEJAQkBBAEEAQQBBAEIAQgBGAEYAS0BLQFLAUsBYwFjAWcBZwFVAVUBPQE9ASoBKgEsASwBFQEVAfMA8wDgAOAA2ADYAOIA4gDYANgAwADAAK4ArgCxALEAywDLANkA2QCtAK0AgwCDAHcAdwCLAIsAoQChAIoAigBaAFoAWQBZAIcAhwCdAJ0AkACQAFoAWgBTAFMAnQCdAOoA6gDtAO0AtgC2AIYAhgCYAJgAxgDGAMYAxgCHAIcAWgBaAHAAcACaAJoApQClAFkAWQD+//7/3f/d//D/8P/0//T/yP/I/5j/mP+P/4//tP+0/8T/xP+O/47/MP8w/+z+7P7w/vD+Df8N/xD/EP/7/vv+8f7x/hL/Ev9G/0b/Z/9n/1j/WP9C/0L/Nf81/0j/SP9d/13/cP9w/3z/fP+I/4j/o/+j/6z/rP+k/6T/ov+i/7f/t//c/9z/GwAbAEwATABLAEsANgA2AAYABgDZ/9n/1v/W/+X/5f/5//n/EAAQAAkACQD4//j/5P/k/8v/y/+2/7b/rP+s/73/vf/N/83/0//T/8j/yP+x/7H/ov+i/7v/u//i/+L/8f/x//X/9f/9//3/DAAMACgAKABRAFEAVQBVAGMAYwCAAIAAmACYAKcApwCeAJ4AlQCVAKgAqADQANAA+QD5AAIBAgEDAQMBFwEXATEBMQE2ATYBEgESAecA5wDIAMgAzQDNANIA0gC5ALkAmACYAJUAlQCfAJ8AmQCZAHMAcwA9AD0AIgAiADsAOwBFAEUAHgAeAN3/3f+4/7j/yv/K/+P/4//S/9L/s/+z/7X/tf/W/9b/6v/q/7n/uf9V/1X/KP8o/1T/VP+X/5f/pv+m/3j/eP9R/1H/Xv9e/3P/c/9h/2H/Jf8l/wz/DP9A/0D/hf+F/4z/jP9E/0T///7//gX/Bf9C/0L/b/9v/3T/dP9w/3D/jP+M/7b/tv+1/7X/eP94/1L/Uv9e/17/pP+k/9P/0//K/8r/tf+1/7D/sP/W/9b/7//v/+P/4/+9/73/tv+2/73/vf/E/8T/qf+p/3X/df9U/1T/Zf9l/4f/h/+a/5r/kP+Q/3H/cf9b/1v/Tf9N/0X/Rf9B/0H/Sv9K/1f/V/9s/2z/d/93/2P/Y/9I/0j/UP9Q/3H/cf+u/67/2P/Y/9H/0f/D/8P/rP+s/8b/xv/f/9//2v/a/9r/2v/j/+P/CgAKAC4ALgAwADAAAwADAOj/6P/+//7/MAAwAEoASgA9AD0AGgAaABEAEQAwADAAQQBBADIAMgAoACgAOAA4AGoAagCSAJIAlQCVAH4AfgB8AHwAogCiAM4AzgDYANgAzgDOANQA1ADsAOwA/gD+APEA8QDHAMcAqQCpAL8AvwDrAOsADAEMAfsA+wDMAMwAnQCdAHwAfABnAGcAPgA+ABQAFAD3//f/5f/l/+7/7v/i/+L/xP/E/53/nf+G/4b/jv+O/6L/ov+g/6D/i/+L/3X/df9k/2T/aP9o/2//b/9i/2L/Wv9a/3b/dv+X/5f/rf+t/7L/sv+k/6T/mf+Z/5v/m/+w/7D/uf+5/8b/xv/c/9z/7P/s//D/8P/b/9v/uv+6/5f/l/+G/4b/if+J/4j/iP+S/5L/h/+H/2n/af9W/1b/Rv9G/0n/Sf9R/1H/Sf9J/0H/Qf9A/0D/Q/9D/0j/SP87/zv/If8h/x7/Hv82/zb/Xf9d/4P/g/+B/4H/b/9v/2j/aP9q/2r/ef95/4f/h/+T/5P/nP+c/7X/tf+7/7v/tf+1/6n/qf+l/6X/r/+v/8T/xP/g/+D/2v/a/9v/2//e/97/2P/Y/9T/1P/N/83/uf+5/63/rf+3/7f/uf+5/83/zf/b/9v/3P/c/9j/2P/T/9P/x//H/7n/uf+k/6T/mP+Y/6H/of+3/7f/2P/Y/+n/6f/b/9v/1f/V/9P/0//n/+f/BQAFABUAFQAeAB4ALAAsADsAOwA+AD4APQA9ACcAJwAsACwAUwBTAIUAhQCpAKkAqgCqAJEAkQB7AHsAjQCNAKQApACrAKsAqACoAJ4AngCgAKAAlwCXAI8AjwBqAGoAQgBCAEgASABeAF4AcgByAHgAeABvAG8AYABgAGoAagBzAHMAVwBXACwALAATABMAGAAYADoAOgBaAFoAXABcAFEAUQBSAFIAWQBZAFcAVwA1ADUAHgAeACsAKwBNAE0AiACIAJEAkQB4AHgAVgBWAD0APQBBAEEATABMAGUAZQBwAHAAhQCFAIQAhABoAGgASgBKADIAMgAhACEANQA1AEYARgBFAEUAQABAACwALAAaABoACgAKAAUABQD6//r/7//v/+7/7v/t/+3/8v/y//z//P/9//3/9f/1/+P/4//V/9X/zf/N/9b/1v/o/+j//P/8/xYAFgAyADIANQA1ACgAKAARABEA/v/+/xEAEQBRAFEAdwB3AHQAdABrAGsAUwBTAFQAVABjAGMAYQBhAFoAWgBkAGQAawBrAGkAaQBRAFEANQA1ACwALAA5ADkARwBHADEAMQARABEA/////wYABgATABMAFwAXAAoACgAKAAoAHQAdAB4AHgAgACAAEQARABEAEQAqACoAOgA6AEIAQgBIAEgATgBOAGQAZAB3AHcAbQBtAF8AXwBfAF8AeAB4AI8AjwCOAI4AhACEAIAAgAB6AHoAgQCBAG4AbgBLAEsAQABAAEUARQBSAFIAUgBSADsAOwAmACYAKQApADoAOgBEAEQANgA2AB8AHwAWABYAIwAjAB8AHwATABMACAAIABgAGABFAEUAZABkAHYAdgBiAGIAVABUAFsAWwBgAGAAWABYAE8ATwA7ADsAQgBCAE4ATgAzADMAFwAXAAIAAgD7//v//f/9///////s/+z/z//P/73/vf+W/5b/fv9+/2j/aP9S/1L/Vf9V/1X/Vf9I/0j/PP88/zb/Nv8y/zL/Jv8m/xv/G/8T/xP/Fv8W/yr/Kv80/zT/Lf8t/yb/Jv8w/zD/Ov86/0P/Q/9B/0H/Rv9G/17/Xv+D/4P/lv+W/4//j/9+/37/hv+G/6H/of/B/8H/vv++/7H/sf/H/8f/3//f//j/+P/4//j/3v/e/9//3//+//7/IgAiACsAKwAYABgAAAAAAAQABAAiACIALgAuACgAKAAVABUABwAHABAAEAATABMADAAMABAAEAAaABoAMgAyAEEAQQAvAC8ABgAGAO7/7v/0//T/EQARACkAKQAiACIACAAIAPz//P8DAAMAFwAXAB8AHwAZABkAJwAnAEIAQgBOAE4ARwBHACIAIgAOAA4AKgAqAFsAWwB2AHYAYwBjAEIAQgA2ADYATQBNAFcAVwBTAFMAVQBVAFkAWQB1AHUAkACQAHAAcABLAEsANAA0ADMAMwA9AD0APQA9ACgAKAAhACEAJAAkADUANQAvAC8AEgASAAsACwAMAAwAHQAdADAAMAAwADAAIQAhAA8ADwAMAAwABQAFAAYABgAAAAAA9//3/w4ADgAXABcAGAAYAA4ADgDv/+//3f/d/+X/5f/7//v//P/8/+z/7P/V/9X/v/+//8P/w//W/9b/0P/Q/8T/xP/C/8L/v/+//73/vf+1/7X/qf+p/5n/mf+e/57/qP+o/5j/mP9+/37/ev96/4j/iP+P/4//n/+f/5r/mv+C/4L/iP+I/5f/l/+U/5T/f/9//3z/fP+L/4v/nv+e/6X/pf+U/5T/e/97/3P/c/+G/4b/l/+X/5z/nP+U/5T/lP+U/6T/pP+d/53/jP+M/4D/gP92/3b/e/97/4X/hf+G/4b/bP9s/23/bf94/3j/gf+B/3v/e/93/3f/d/93/3//f/+S/5L/lv+W/4b/hv9v/2//ev96/4X/hf+Q/5D/nf+d/6D/oP+p/6n/wf/B/9v/2//e/97/2v/a/+T/5P/u/+7/AAAAABMAEwAkACQAMQAxAD8APwBbAFsAaABoAGIAYgBeAF4AcQBxAHYAdgCIAIgApgCmAKUApQCyALIAtgC2ALIAsgCpAKkAmwCbAJkAmQCYAJgAiACIAIIAggBzAHMAVgBWAEQARAA2ADYALgAuACcAJwAjACMAFgAWAAAAAADp/+n/5v/m/93/3f/H/8f/tP+0/6z/rP+s/6z/rP+s/7P/s/+r/6v/nf+d/6T/pP+t/63/pP+k/47/jv9+/37/iv+K/5b/lv+v/6//tv+2/6j/qP+m/6b/q/+r/6z/rP+s/6z/sP+w/8H/wf/X/9f/5v/m/9v/2//R/9H/yv/K/8v/y//a/9r/3v/e/+D/4P/5//n/FQAVAB4AHgAYABgAFAAUAA8ADwAhACEAOQA5AD0APQBDAEMARABEAEEAQQA8ADwANAA0ADoAOgBLAEsAZwBnAHEAcQBnAGcAXQBdAFEAUQBVAFUAWQBZAEQARABBAEEAPwA/AD4APgBCAEIAOAA4AC8ALwAhACEAIQAhABgAGAARABEABgAGAAcABwAJAAkA+//7/+//7//R/9H/v/+//7f/t//A/8D/wv/C/7//v/+7/7v/r/+v/6b/pv+h/6H/mf+Z/5r/mv+k/6T/sv+y/77/vv/D/8P/tP+0/7b/tv/H/8f/3//f//n/+f8AAAAABgAGABIAEgAeAB4ANgA2AEUARQBaAFoAdAB0AJEAkQChAKEAoACgAJgAmACYAJgApgCmAKwArACvAK8AtAC0ALEAsQCyALIAtwC3AKYApgCdAJ0AlACUAI0AjQCLAIsAdwB3AGYAZgBeAF4AWQBZAFoAWgBXAFcAUwBTAE0ATQBNAE0ARQBFADEAMQAnACcAIgAiACcAJwApACkAIwAjAB8AHwARABEADwAPAAsACwD6//r/7f/t//j/+P8AAAAA+v/6/+3/7f/T/9P/y//L/9b/1v/h/+H/1P/U/8D/wP+s/6z/p/+n/6j/qP+a/5r/nP+c/6v/q//J/8n/7v/u//X/9f/a/9r/xf/F/9r/2v/r/+v//f/9/wkACQATABMALwAvAFQAVABtAG0AZABkAFkAWQBvAG8AlQCVALgAuAC7ALsAtAC0AKMAowCvAK8AxADEALsAuwC0ALQAtQC1AMUAxQDaANoA1wDXAMEAwQCpAKkAngCeAJ8AnwCoAKgAmgCaAI4AjgCNAI0AjgCOAI0AjQCCAIIAcwBzAGwAbABqAGoAbwBvAHQAdABrAGsAYgBiAFYAVgBRAFEASgBKAE4ATgA8ADwALgAuACUAJQApACkAJgAmABEAEQDy//L/2f/Z/9L/0v/W/9b/2P/Y/8b/xv+7/7v/sf+x/7P/s/+l/6X/hv+G/3D/cP9z/3P/lP+U/6P/o/+j/6P/j/+P/5L/kv+a/5r/pv+m/7L/sv+x/7H/tf+1/8r/yv/R/9H/z//P/8L/wv/A/8D/2//b//X/9f8GAAYABQAFAAYABgD9//3/CAAIAP/////9//3//P/8/wAAAAAPAA8AGAAYABUAFQAKAAoA+//7/+//7//1//X/8//z//T/9P/5//n/+//7/wAAAAD8//z/9v/2//f/9//p/+n/5v/m/+b/5v/Y/9j/zf/N/8r/yv/A/8D/xP/E/83/zf+9/73/sP+w/6n/qf+f/5//kP+Q/47/jv+M/4z/gP+A/3r/ev9y/3L/bP9s/2H/Yf9l/2X/dP90/4X/hf+L/4v/iP+I/4f/h/+C/4L/gv+C/4v/i/+h/6H/sf+x/8X/xf/Z/9n/2P/Y/9//3//1//X/+f/5/wMAAwALAAsADwAPABUAFQAmACYANQA1ADYANgBEAEQARwBHAEwATABSAFIASQBJAFAAUABgAGAAdwB3AHwAfAB+AH4AeAB4AHgAeAB9AH0AjwCPAJ0AnQCcAJwAnwCfAKEAoQCaAJoAmQCZAI4AjgCLAIsAmACYAJsAmwCbAJsAhACEAHMAcwBhAGEAUABQAE8ATwA7ADsAHgAeAAkACQABAAEA+//7/+7/7v/R/9H/xf/F/7v/u/+0/7T/rP+s/5b/lv96/3r/a/9r/2//b/9x/3H/bv9u/2n/af9f/1//a/9r/2z/bP9u/27/ev96/3P/c/+G/4b/mf+Z/5z/nP+g/6D/qv+q/7r/uv/G/8b/2v/a/9r/2v/W/9b/4v/i//H/8f/9//3/AAAAAPv/+//6//r/AQABABAAEAAZABkAEQARAA4ADgAPAA8ABQAFAAAAAAD/////9P/0//j/+P/+//7/+//7//H/8f/m/+b/3P/c/9r/2v/T/9P/y//L/8H/wf+//7//tv+2/6r/qv+m/6b/m/+b/5T/lP+i/6L/of+h/5T/lP+L/4v/gf+B/3v/e/90/3T/ev96/3f/d/94/3j/hv+G/5n/mf+W/5b/i/+L/4n/if+L/4v/kf+R/5j/mP+i/6L/ov+i/6H/of+z/7P/vf+9/7T/tP+3/7f/xv/G/9L/0v/V/9X/2P/Y/8L/wv+6/7r/zv/O/+L/4v/n/+f/8P/w//H/8f/3//f/AAAAAPX/9f/1//X/6v/q//H/8f8RABEAHgAeABcAFwAYABgAHgAeACQAJAAuAC4ANAA0ADEAMQAqACoAMQAxACgAKAAfAB8AIQAhABUAFQAWABYAHwAfABYAFgAGAAYAAAAAAPP/8//l/+X/0f/R/8f/x//A/8D/r/+v/6P/o/+T/5P/gf+B/3//f/+A/4D/d/93/3X/df9t/23/a/9r/2j/aP9n/2f/Z/9n/2z/bP+F/4X/mf+Z/6P/o/+k/6T/p/+n/7v/u//N/83/4P/g/+v/6//2//b/BQAFABEAEQATABMAFAAUAB0AHQAgACAANwA3ADkAOQA5ADkAOAA4ACcAJwA2ADYANQA1AD8APwA4ADgANgA2AD8APwAvAC8ANwA3ADsAOwA5ADkANwA3ADIAMgA6ADoARwBHAE0ATQBSAFIAVABUAFMAUwBPAE8AWABYAFUAVQBKAEoAWwBbAFcAVwBTAFMATgBOAEkASQA3ADcAQABAAFUAVQBHAEcAOAA4ACgAKAAZABkAFwAXABEAEQALAAsACAAIAAQABAAOAA4AEQARAAwADAABAAEA7v/u//T/9P8DAAMA/v/+/wEAAQAGAAYAEgASACEAIQArACsAJQAlABcAFwATABMAHQAdACQAJAAwADAAOgA6ACgAKAAoACgANgA2ACkAKQAfAB8AIQAhACoAKgA2ADYANgA2ACEAIQAQABAAAAAAAAgACAAWABYAHQAdABkAGQATABMAEwATABoAGgAVABUACAAIAAcABwAMAAwAGgAaABcAFwASABIAEwATABYAFgAeAB4AGgAaABMAEwALAAsAAwADAAoACgAQABAACwALAAAAAAD6//r/9v/2/+//7//m/+b/3//f/+H/4f/h/+H/2v/a/93/3f/Z/9n/z//P/9D/0P/T/9P/0v/S/9X/1f/Z/9n/z//P/9P/0//S/9L/1f/V/9b/1v/b/9v/4v/i/+D/4P/w//D/8f/x//b/9v/z//P/8f/x/+z/7P/z//P/9f/1//T/9P8AAAAA+//7//3//f8FAAUAAAAAAAIAAgAOAA4ABAAEAAoACgAOAA4ACgAKAAwADAASABIAHQAdACUAJQAmACYAJQAlACQAJAA3ADcAQgBCAE4ATgBRAFEAUABQAEwATABPAE8AWQBZAGAAYABlAGUAbQBtAHoAegB5AHkAawBrAGAAYABYAFgAXwBfAF8AXwBgAGAAWgBaAFIAUgBIAEgAQwBDAD4APgA0ADQAJwAnAB8AHwAdAB0ADwAPAAAAAAAAAAAA9//3/wEAAQD4//j/6//r/+v/6//j/+P/5f/l/+b/5v/h/+H/2v/a/9r/2v/g/+D/6P/o/+j/6P/o/+j/8P/w//H/8f/z//P/+f/5//H/8f/z//P////////////8//z//f/9//z//P8BAAEADgAOAA8ADwAPAA8ABgAGAAQABAAHAAcACwALAAYABgAHAAcAGAAYABsAGwAdAB0AFwAXAA8ADwAMAAwAGwAbACgAKAApACkAHwAfACMAIwAtAC0AMgAyADYANgAzADMAMQAxAC0ALQAwADAALAAsABwAHAAWABYAFwAXACIAIgAXABcACAAIAP3//f/m/+b/4v/i/9j/2P/H/8f/q/+r/6f/p/+d/53/jv+O/4v/i/94/3j/av9q/2f/Z/9m/2b/Y/9j/2L/Yv9Z/1n/Wf9Z/17/Xv9n/2f/bv9u/3X/df+K/4r/mv+a/6b/pv+5/7n/w//D/8b/xv/d/93/8f/x/wMAAwAOAA4AFwAXACUAJQArACsAOAA4AEIAQgBAAEAARgBGAEwATABBAEEAPQA9AC0ALQAlACUAKgAqACgAKAAkACQAGQAZABAAEAAEAAQA9v/2//f/9//k/+T/2//b/93/3f/g/+D/4f/h/9X/1f/W/9b/1v/W/9b/1v/Y/9j/4f/h/+H/4f/Z/9n/4f/h/97/3v/S/9L/0//T/87/zv/N/83/2f/Z/97/3v/Z/9n/1P/U/83/zf+5/7n/rP+s/6n/qf+i/6L/nP+c/6D/oP+m/6b/pP+k/6D/oP+g/6D/nP+c/6n/qf+0/7T/uP+4/8P/w//K/8r/1//X/+v/6///////BwAHABUAFQApACkARQBFAFMAUwBhAGEAbgBuAHMAcwCAAIAAjgCOAJcAlwCQAJAAogCiAKgAqACnAKcAmgCaAI4AjgCCAIIAeQB5AHcAdwB0AHQAZwBnAFoAWgBTAFMASABIADcANwAsACwAGgAaAAsACwAAAAAA9f/1//X/9f/u/+7/9P/0//f/9//q/+r/7f/t/+j/6P/l/+X/4P/g/9r/2v/V/9X/2P/Y/97/3v/b/9v/4//j/+D/4P/m/+b/7P/s/+n/6f/j/+P/2f/Z/8//z//L/8v/xf/F/7b/tv+1/7X/wf/B/8//z//a/9r/3//f/9T/1P/P/8//zf/N/8P/w//O/87/wv/C/8b/xv/d/93/6v/q//X/9f8AAAAAFgAWABAAEAAXABcAHgAeABYAFgAMAAwAEQARABkAGQAWABYAGQAZABoAGgAYABgAFQAVABMAEwAXABcACwALAPf/9//m/+b/zv/O/73/vf+8/7z/uf+5/7X/tf+u/67/qf+p/6H/of+S/5L/jP+M/4j/iP+D/4P/gv+C/43/jf+D/4P/fP98/5b/lv+Z/5n/n/+f/6X/pf+o/6j/pv+m/7H/sf/C/8L/w//D/9f/1//c/9z/6v/q//n/+f8CAAIA//////n/+f/8//z/+f/5//z//P8IAAgAGgAaACUAJQAyADIAMwAzAC4ALgAtAC0AMQAxADEAMQA5ADkANQA1AC8ALwA5ADkAOwA7AFMAUwBmAGYAdQB1AIYAhgCCAIIAegB6AHUAdQBsAGwAbQBtAHMAcwBxAHEAcQBxAHoAegCBAIEAhwCHAJEAkQCKAIoAcwBzAF4AXgBSAFIAPQA9ADMAMwAtAC0AJgAmACIAIgAlACUAIAAgACAAIAAbABsAEwATABAAEAD2//b/6//r/+f/5//h/+H/+//7/wEAAQADAAMABgAGAAgACAAXABcAHgAeACgAKAAqACoAKgAqACoAKgAtAC0ALQAtADoAOgBFAEUATQBNAF4AXgBYAFgATABMAEUARQBNAE0ASQBJAEsASwBHAEcARgBGAEgASAA+AD4AQABAADYANgArACsAHgAeABsAGwAcABwAGQAZAB8AHwAbABsAKwArACUAJQAWABYAFgAWAA8ADwAKAAoABAAEAAMAAwAAAAAA+v/6//3//f8KAAoAFQAVABYAFgATABMADAAMAAMAAwAAAAAA8//z/+f/5//g/+D/1v/W/9n/2f/i/+L/8P/w/+z/7P/i/+L/4P/g/9L/0v+9/73/uP+4/7//v//D/8P/zv/O/9n/2f/T/9P/1//X/+n/6f/y//L//P/8//b/9v/l/+X/2P/Y/9b/1v/a/9r/3//f/+j/6P/6//r/AgACABAAEAAVABUAEQARAB0AHQAVABUAHAAcABYAFgALAAsAEgASABwAHAAjACMAJwAnACgAKAAcABwAGwAbAB8AHwAgACAALAAsACwALAAnACcAKgAqACkAKQAtAC0ALgAuADEAMQAnACcAHQAdABIAEgASABIAFgAWABcAFwAoACgAJwAnACkAKQAjACMAJwAnACQAJAAdAB0AHwAfABMAEwD+//7/9v/2//z//P8DAAMACwALABUAFQAcABwACwALAAkACQAMAAwACQAJAAQABAAEAAQACwALAAsACwALAAsACwALAA4ADgAGAAYA9//3/+f/5//Z/9n/yv/K/8b/xv/I/8j/0f/R/9n/2f/g/+D/6f/p//T/9P/9//3/AAAAAAUABQAFAAUA9//3/+z/7P/e/97/2f/Z/93/3f/l/+X/6P/o//X/9f/5//n/+//7/woACgARABEAEwATACcAJwAnACcAKAAoACoAKgAyADIANAA0ACsAKwAnACcAEgASAPb/9v/v/+//6//r//L/8v/1//X/+f/5/wAAAAAAAAAA/v/+//f/9//+//7/+//7/+n/6f/f/9//2v/a/9D/0P/L/8v/1//X/9P/0//H/8f/zf/N/8T/xP/K/8r/zv/O/8X/xf+8/7z/vv++/8D/wP/C/8L/x//H/9X/1f/d/93/1//X/9X/1f/I/8j/yf/J/8r/yv/Q/9D/3f/d/+T/5P/r/+v/8//z/w0ADQAeAB4AHAAcABQAFAATABMACAAIAP3//f/9//3//f/9/wYABgAMAAwAFgAWACgAKAAtAC0AMgAyAEEAQQBEAEQAPAA8AD4APgA2ADYAJgAmACcAJwAeAB4ADAAMAP/////z//P/9v/2/+T/5P/i/+L/9v/2//P/8//6//r/BwAHABUAFQAfAB8AHQAdACgAKAAqACoAGAAYAA0ADQD4//j/8f/x/+f/5//d/93/5f/l/+b/5v/w//D/8P/w//f/9/8IAAgACQAJAAUABQADAAMABAAEAAAAAAD7//v/BwAHAAsACwAAAAAA7//v/+j/6P/W/9b/yP/I/8f/x//F/8X/y//L/9L/0v/Y/9j/6v/q//r/+v8LAAsAGAAYABcAFwAQABAADAAMAAcABwAIAAgAAAAAAPn/+f/z//P/6v/q//r/+v8MAAwAEwATABoAGgAmACYAGwAbAAsACwAEAAQA//////z//P/+//7//v/+//L/8v/s/+z/7f/t//H/8f/2//b//f/9/+z/7P/s/+z/7v/u//L/8v8AAAAA+//7//n/+f/x//H/4//j/9f/1//R/9H/zv/O/8P/w//S/9L/z//P/8n/yf/W/9b/2v/a/+H/4f/m/+b/7//v/93/3f/S/9L/0v/S/8z/zP+3/7f/p/+n/5z/nP+G/4b/gv+C/4z/jP+R/5H/j/+P/5z/nP+d/53/p/+n/7T/tP/A/8D/0v/S/+v/6//8//z//f/9/wIAAgD5//n/6P/o/+T/5P/T/9P/xf/F/8P/w//G/8b/1v/W//b/9v8GAAYAEQARACUAJQAkACQAJQAlACkAKQAlACUAIAAgABIAEgAFAAUA6v/q/9T/1P/G/8b/w//D/8//z//a/9r/0//T/9L/0v/S/9L/0//T/9j/2P/o/+j/9P/0//////8FAAUABQAFABEAEQANAA0ACgAKAAgACAAEAAQA8f/x/+3/7f/y//L/AAAAAAwADAAQABAAFgAWAA8ADwALAAsADwAPAAsACwAKAAoA/P/8/+//7//h/+H/3f/d/9n/2f/W/9b/1v/W/9T/1P/P/8//y//L/9D/0P/T/9P/4P/g/97/3v/S/9L/3f/d/9X/1f/T/9P/6f/p//D/8P/t/+3/8f/x//P/8//9//3/EgASACAAIAAxADEATgBOAFQAVABYAFgAbABsAGwAbABiAGIAWgBaAEoASgA9AD0ALQAtACQAJAAvAC8AOAA4AEQARABLAEsAVgBWAFcAVwBYAFgAXwBfAFkAWQBYAFgATgBOAEMAQwA6ADoAJQAlAB4AHgASABIABwAHAAcABwADAAMA+v/6//X/9f/1//X/+f/5/wIAAgAEAAQAFgAWABsAGwAjACMALgAuACkAKQAiACIAFAAUAAMAAwD2//b/7P/s/+f/5//i/+L/7P/s//L/8v8BAAEACgAKABYAFgAqACoALgAuAC4ALgAsACwAJgAmACYAJgAmACYAKQApACYAJgAUABQACAAIAAEAAQAAAAAA/f/9//3//f/+//7/+v/6//n/+f/2//b/+//7//3//f/+//7/AwADAPX/9f/p/+n/4v/i/9j/2P/W/9b/2v/a/93/3f/b/9v/5//n//X/9f8AAAAAAgACAA0ADQAKAAoABwAHAAgACAAKAAoABgAGAAoACgAaABoAHgAeACUAJQA4ADgANgA2ADQANAAqACoAIgAiAB4AHgASABIAGAAYAB4AHgAeAB4AEgASAAUABQD4//j/6v/q/9z/3P/Y/9j/3P/c/8T/xP+1/7X/tP+0/6z/rP+x/7H/yf/J/9j/2P/k/+T/8P/w/+P/4//U/9T/yf/J/7z/vP++/77/wv/C/83/zf/S/9L/1v/W/+j/6P/v/+//+v/6/woACgAVABUAGAAYACkAKQAuAC4AKQApADMAMwA2ADYAMQAxACoAKgAzADMAKwArAB4AHgATABMACQAJAP3//f/5//n/BAAEABMAEwAeAB4AJgAmACoAKgAnACcAKAAoAB8AHwAlACUAJQAlABoAGgAaABoADwAPAAgACAAOAA4AEwATAB0AHQAcABwAHQAdABcAFwASABIAFgAWABgAGAAdAB0AJQAlAC4ALgAxADEAOAA4ADIAMgAqACoAIgAiAA8ADwAGAAYA9v/2//n/+f/5//n//f/9/wQABAAAAAAAAAAAAP3//f/9//3//f/9//z//P/1//X/9//3/+//7//t/+3/+f/5//n/+f8IAAgAFQAVABgAGAAYABgADQANAA0ADQAKAAoAAQABAAQABAAPAA8ACwALABMAEwAdAB0AJQAlACAAIAAcABwAKQApABwAHAAcABwAHAAcACAAIAAhACEAHgAeAB8AHwAkACQAHAAcABMAEwASABIAAAAAAPn/+f/p/+n/5f/l/+7/7v/q/+r/8v/y//n/+f/1//X/9f/1//j/+P/6//r//f/9/wIAAgAAAAAA+f/5//j/+P/0//T/8v/y//r/+v/9//3//f/9//v/+//y//L/8f/x/+7/7v/t/+3/9v/2/wIAAgAKAAoAFgAWABgAGAAiACIAIAAgABYAFgASABIABQAFAPr/+v/8//z/9P/0/+7/7v/1//X/6P/o/+T/5P/r/+v/8//z/+z/7P/q/+r/9v/2//j/+P/y//L/9//3/wAAAAAAAAAA/f/9/wEAAQAAAAAA/P/8//T/9P/z//P/+v/6/+//7//l/+X/6//r/+r/6v/z//P//f/9/wYABgAQABAACAAIAA0ADQAKAAoAAwADAAgACAAFAAUAAAAAAAAAAAD9//3/8v/y/+3/7f/t/+3/7v/u/+v/6//n/+f/9v/2//T/9P/s/+z/AgACAAUABQD5//n//////wAAAAD9//3/+v/6//////8AAAAA//////3//f8EAAQABQAFAAQABAAOAA4ADwAPABAAEAAVABUAFAAUAA8ADwATABMADwAPAA8ADwAHAAcACQAJABUAFQAXABcAGQAZABwAHAAcABwACwALAAcABwASABIADwAPAAUABQATABMADAAMAP7//v/3//f/8//z/+r/6v/w//D/8P/w/+b/5v/t/+3/4f/h/+f/5//n/+f/6f/p//H/8f/t/+3/8//z//X/9f/1//X/8f/x/+3/7f/x//H/5v/m/+f/5//u/+7/7v/u//j/+P8BAAEADQANABoAGgAoACgANQA1AD8APwBJAEkASABIAFAAUABGAEYARwBHAEQARAA8ADwAMwAzADAAMAAqACoALgAuACkAKQAnACcALQAtACMAIwAnACcAJAAkABwAHAAaABoADQANAAQABAAAAAAA9v/2/+3/7f/n/+f/2v/a/9P/0//C/8L/wf/B/8b/xv/C/8L/yP/I/9L/0v/U/9T/3P/c/+f/5//r/+v/7v/u/+3/7f/v/+//8v/y/+//7//t/+3/7v/u/+n/6f/g/+D/5P/k/+7/7v/q/+r/9P/0//3//f/z//P/8f/x/+3/7f/v/+//8v/y//H/8f/y//L/7v/u/+b/5v/i/+L/5v/m/+L/4v/g/+D/6//r/+z/7P/s/+z/+//7/wAAAAD8//z/AQABAAoACgAIAAgAEgASABQAFAAZABkAEQARAA4ADgATABMAFgAWABkAGQAlACUAKgAqACkAKQAnACcAIQAhABoAGgAYABgACQAJAAAAAAD6//r/7f/t/+z/7P/t/+3/3v/e/9f/1//M/8z/yv/K/8j/yP/N/83/1P/U/9b/1v/O/87/y//L/8//z//O/87/z//P/9L/0v/T/9P/zf/N/8r/yv/L/8v/zf/N/9H/0f/S/9L/2f/Z/+f/5//7//v/CAAIABMAEwAaABoAFwAXABEAEQASABIAGwAbABUAFQATABMADQANAAQABAAAAAAA+f/5/wsACwAMAAwACgAKABAAEAALAAsABgAGABAAEAAgACAAJQAlACgAKAAqACoAKAAoACEAIQAiACIAIgAiACIAIgAjACMAHgAeACcAJwAxADEAJwAnADgAOAA6ADoAOwA7AFEAUQBVAFUAXwBfAGIAYgBQAFAAQABAAC8ALwApACkAKgAqACkAKQAtAC0ALAAsABUAFQACAAIA9//3/+//7//m/+b/5v/m/+T/5P/c/9z/1v/W/8n/yf+7/7v/v/+//7P/s/+s/6z/tP+0/7j/uP+0/7T/sf+x/7T/tP+w/7D/sv+y/7r/uv/J/8n/5P/k/+r/6v/4//j/AAAAAPz//P/5//n/AgACAAAAAAAUABQAHwAfACIAIgApACkAMAAwADEAMQAzADMANgA2ADkAOQA7ADsAKQApACgAKAAmACYAHgAeABEAEQAWABYADgAOAAEAAQD9//3/+//7//3//f/9//3/+f/5//////8AAAAA+v/6//z//P8AAAAABwAHAAAAAAAMAAwADAAMAAQABAAAAAAAAAAAAAAAAAAAAAAACQAJABYAFgAiACIAJQAlACIAIgArACsAHQAdABMAEwAYABgADQANAAQABAADAAMA+v/6//P/8//k/+T/1f/V/9L/0v/J/8n/xv/G/8L/wv+9/73/uP+4/7j/uP+z/7P/u/+7/8f/x//L/8v/1v/W/9D/0P/S/9L/zv/O/8b/xv/U/9T/4v/i/97/3v/q/+r/9v/2//z//P8MAAwAGwAbADAAMAA2ADYAOwA7AD0APQA2ADYAMgAyADgAOAA5ADkAPQA9AEMAQwA8ADwANwA3AC8ALwArACsAIAAgABoAGgAXABcAEgASAAkACQAHAAcAAAAAAPn/+f/3//f/9f/1//z//P/8//z/9P/0//r/+v/5//n/8f/x//v/+//9//3//////wcABwARABEAEwATABMAEwASABIACwALAAsACwALAAsACwALAAsACwAOAA4ADAAMAAkACQAMAAwACQAJAAgACAD/////8v/y/+3/7f/Z/9n/1P/U/9D/0P/M/8z/wP/A/7T/tP+t/63/n/+f/6D/oP+n/6f/pf+l/6v/q/+x/7H/r/+v/7T/tP/A/8D/yP/I/9f/1//e/97/8v/y//H/8f/q/+r/8//z/+j/6P/n/+f/9f/1/wQABAARABEAHAAcACMAIwAhACEAGQAZABsAGwAcABwAHgAeACYAJgAcABwAFgAWAA4ADgADAAMAAAAAAAQABAAAAAAA+f/5//j/+P/t/+3/6v/q/+f/5//m/+b/5P/k/+X/5f/p/+n/8f/x//7//v8FAAUACwALAAMAAwAIAAgACQAJAAUABQASABIAHgAeACQAJAAnACcAIgAiACsAKwArACsAKwArACwALAAqACoAJgAmABYAFgASABIAEwATABMAEwARABEAEgASABUAFQAIAAgAAAAAAPz//P/5//n/7v/u/+n/6f/i/+L/4//j/9H/0f/O/87/0//T/8//z//O/87/2f/Z/+L/4v/d/93/6//r/+z/7P/i/+L/9P/0//n/+f8EAAQAFwAXAB0AHQAmACYAHQAdABIAEgAZABkAHwAfAB8AHwAtAC0AMgAyADcANwA5ADkANgA2AEgASABDAEMARQBFAEkASQBHAEcARwBHAD4APgBAAEAAOQA5AC4ALgApACkAHwAfACMAIwAkACQAIgAiAB4AHgAWABYADQANAAQABAAOAA4ADgAOAAsACwALAAsACAAIAAMAAwAEAAQAAwADAAAAAAD6//r/+//7//z//P/9//3/CwALAA4ADgAPAA8ACQAJAAAAAAAEAAQAAAAAAAgACAAHAAcAAwADAPn/+f/t/+3/8v/y//b/9v/5//n//v/+/w==\" type=\"audio/wav\" />\n",
              "                    Your browser does not support the audio element.\n",
              "                </audio>\n",
              "              "
            ]
          },
          "metadata": {},
          "execution_count": 17
        }
      ],
      "source": [
        "waveform_first, *_ = train_set[0]\n",
        "ipd.Audio(waveform_first.numpy(), rate=sample_rate)"
      ]
    },
    {
      "cell_type": "code",
      "source": [
        "waveform_second, *_ = train_set[1]\n",
        "ipd.Audio(waveform_second.numpy(), rate=sample_rate)"
      ],
      "metadata": {
        "id": "cGJv7eCAsNqq",
        "outputId": "5416273b-ec3e-4d1b-9c52-213b519f0e9d",
        "colab": {
          "base_uri": "https://localhost:8080/",
          "height": 76
        }
      },
      "execution_count": 18,
      "outputs": [
        {
          "output_type": "execute_result",
          "data": {
            "text/plain": [
              "<IPython.lib.display.Audio object>"
            ],
            "text/html": [
              "\n",
              "                <audio  controls=\"controls\" >\n",
              "                    <source src=\"data:audio/wav;base64,UklGRiReAQBXQVZFZm10IBAAAAABAAIAgD4AAAD6AAAEABAAZGF0YQBeAQAAAAAAAAAAAAAAAAAAAAAAAAAAAAAAAAAAAAAAAAAAAAAAAAAAAAAAAAAAAAAAAAAAAAAAAAAAAAAAAAAAAAAAAAAAAAAAAAAAAAAAAAAAAAAAAAAAAAAAAAAAAAAAAAAAAAAAAAAAAAAAAAAAAAAAAAAAAAAAAAAAAAAAAAAAAAAAAAAAAAAAAAAAAAAAAAAAAAAAAAAAAAAAAAAAAAAAAAAAAAAAAAAAAAAAAAAAAAAAAAAAAAAAAAAAAAAAAAAAAAAAAAAAAAAAAAAAAAAAAAAAAAAAAAAAAAAAAAAAAAAAAAAAAAAAAAAAAAAAAAAAAAAAAAAAAAAAAAAAAAAAAAAAAAAAAAAAAAAAAAAAAAAAAAAAAAAAAAAAAAAAAAAAAAAAAAAAAAAAAAAAAAAAAAAAAAAAAAAAAAAAAAAAAAAAAAAAAAAAAAAAAAAAAAAAAAAAAAAAAAAAAAAAAAAAAAAAAAAAAAAAAAAAAAAAAAAAAAAAAAAAAAAAAAAAAAAAAAAAAAAAAAAAAAAAAAAAAAAAAAAAAAAAAAAAAAAAAAAAAAAAAAAAAAAAAAAAAAAAAAAAAAAAAAAAAAAAAAAAAAAAAAAAAAAAAAAAAAAAAAAAAAAAAAAAAAAAAAAAAAAAAAAAAAAAAAAAAAAAAAAAAAAAAAAAAAAAAAAAAAAAAAAAAAAAAAAAAAAAAAAAAAAAAAAAAAAAAAAAAAAAAAAAAAAAAAAAAAAAAAAAAAAAAAAAAAAAAAAAAAAAAAAAAAAAAAAAAAAAAAAAAAAAAAAAAAAAAAAAAAAAAAAAAAAAAAAAAAAAAAAAAAAAAAAAAAAAAAAAAAAAAAAAAAAAAAAAAAAAAAAAAAAAAAAAAAAAAAAAAAAAAAAAAAAAAAAAAAAAAAAAAAAAAAAAAAAAAAAAAAAAAAAAAAAAAAAAAAAAAAAAAAAAAAAAAAAAAAAAAAAAAAAAAAAAAAAAAAAAAAAAAAAAAAAAAAAAAAAAAAAAAAAAAAAAAAAAAAAAAAAAAAAAAAAAAAAAAAAAAAAAAAAAAAAAAAAAAAAAAAAAAAAAAAAAAAAAAAAAAAAAAAAAAAAAAAAAAAAAAAAAAAAAAAAAAAAAAAAAAAAAAAAAAAAAAAAAAAAAAAAAAAAAAAAAAAAAAAAAAAAAAAAAAAAAAAAAAAAAAAAAAAAAAAAAAAAAAAAAAAAAAAAAAAAAAAAAAAAAAAAAAAAAAAAAAAAAAAAAAAAAAAAAAAAAAAAAAAAAAAAAAAAAAAAAAAAAAAAAAAAAAAAAAAAAAAAAAAAAAAAAAAAAAAAAAAAAAAAAAAAAAAAAAAAAAAAAAAAAAAAAAAAAAAAAAAAAAAAAAAAAAAAAAAAAAAAAAAAAAAAAAAAAAAAAAAAAAAAAAAAAAAAAAAAAAAAAAAAAAAAAAAAAAAAAAAAAAAAAAAAAAAAAAAAAAAAAAAAAAAAAAAAAAAAAAAAAAAAAAAAAAAAAAAAAAAAAAAAAAAAAAAAAAAAAAAAAAAAAAAAAAAAAAAAAAAAAAAAAAAAAAAAAAAAAAAAAAAAAAAAAAAAAAAAAAAAAAAAAAAAAAAAAAAAAAAAAAAAAAAAAAAAAAAAAAAAAAAAAAAAAAAAAAAAAAAAAAAAAAAAAAAAAAAAAAAAAAAAAAAAAAAAAAAAAAAAAAAAAAAAAAAAAAAAAAAAAAAAAAAAAAAAAAAAAAAAAAAAAAAAAAAAAAAAAAAAAAAAAAAAAAAAAAAAAAAAAAAAAAAAAAAAAAAAAAAAAAAAAAAAAAAAAAAAAAAAAAAAAAAAAAAAAAAAAAAAAAAAAAAAAAAAAAAAAAAAAAAAAAAAAAAAAAAAAAAAAAAAAAAAAAAAAAAAAAAAAAAAAAAAAAAAAAAAAAAAAAAAAAAAAAAAAAAAAAAAAAAAAAAAAAAAAAAAAAAAAAAAAAAAAAAAAAAAAAAAAAAAAAAAAAAAAAAAAAAAAAAAAAAAAAAAAAAAAAAAAAAAAAAAAAAAAAAAAAAAAAAAAAAAAAAAAAAAAAAAAAAAAAAAAAAAAAAAAAAAAAAAAAAAAAAAAAAAAAAAAAAAAAAAAAAAAAAAAAAAAAAAAAAAAAAAAAAAAAAAAAAAAAAAAAAAAAAAAAAAAAAAAAAAAAAAAAAAAAAAAAAAAAAAAAAAAAAAAAAAAAAAAAAAAAAAAAAAAAAAAAAAAAAAAAAAAAAAAAAAAAAAAAAAAAAAAAAAAAAAAAAAAAAAAAAAAAAAAAAAAAAAAAAAAAAAAAAAAAAAAAAAAAAAAAAAAAAAAAAAAAAAAAAAAAAAAAAAAAAAAAAAAAAAAAAAAAAAAAAAAAAAAAAAAAAAAAAAAAAAAAAAAAAAAAAAAAAAAAAAAAAAAAAAAAAAAAAAAAAAAAAAAAAAAAAAAAAAAAAAAAAAAAAAAAAAAAAAAAAAAAAAAAAAAAAAAAAAAAAAAAAAAAAAAAAAAAAAAAAAAAAAAAAAAAAAAAAAAAAAAAAAAAAAAAAAAAAAAAAAAAAAAAAAAAAAAAAAAAAAAAAAAAAAAAAAAAAAAAAAAAAAAAAAAAAAAAAAAAAAAAAAAAAAAAAAAAAAAAAAAAAAAAAAAAAAAAAAAAAAAAAAAAAAAAAAAAAAAAAAAAAAAAAAAAAAAAAAAAAAAAAAAAAAAAAAAAAAAAAAAAAAAAAAAAAAAAAAAAAAAAAAAAAAAAAAAAAAAAAAAAAAAAAAAAAAAAAAAAAAAAAAAAAAAAAAAAAAAAAAAAAAAAAAAAAAAAAAAAAAAAAAAAAAAAAAAAAAAAAAAAAAAAAAAAAAAAAAAAAAAAAAAAAAAAAAAAAAAAAAAAAAAAAAAAAAAAAAAAAAAAAAAAAAAAAAAAAAAAAAAAAAAAAAAAAAAAAAAAAAAAAAAAAAAAAAAAAAAAAAAAAAAAAAAAAAAAAAAAAAAAAAAAAAAAAAAAAAAAAAAAAAAAAAAAAAAAAAAAAAAAAAAAAAAAAAAAAAAAAAAAAAAAAAAAAAAAAAAAAAAAAAAAAAAAAAAAAAAAAAAAAAAAAAAAAAAAAAAAAAAAAAAAAAAAAAAAAAAAAAAAAAAAAAAAAAAAAAAAAAAAAAAAAAAAAAAAAAAAAAAAAAAAAAAAAAAAAAAAAAAAAAAAAAAAAAAAAAAAAAAAAAAAAAAAAAAAAAAAAAAAAAAAAAAAAAAAAAAAAAAAAAAAAAAAAAAAAAAAAAAAAAAAAAAAAAAAAAAAAAAAAAAAAAAAAAAAAAAAAAAAAAAAAAAAAAAAAAAAAAAAAAAAAAAAAAAAAAAAAAAAAAAAAAAAAAAAAAAAAAAAAAAAAAAAAAAAAAAAAAAAAAAAAAAAAAAAAAAAAAAAAAAAAAAAAAAAAAAAAAAAAAAAAAAAAAAAAAAAAAAAAAAAAAAAAAAAAAAAAAAAAAAAAAAAAAAAAAAAAAAAAAAAAAAAAAAAAAAAAAAAAAAAAAAAAAAAAAAAAAAAAAAAAAAAAAAAAAAAAAAAAAAAAAAAAAAAAAAAAAAAAAAAAAAAAAAAAAAAAAAAAAAAAAAAAAAAAAAAAAAAAAAAAAAAAAAAAAAAAAAAAAAAAAAAAAAAAAAAAAAAAAAAAAAAAAAAAAAAAAAAAAAAAAAAAAAAAAAAAAAAAAAAAAAAAAAAAAAAAAAAAAAAAAAAAAAAAAAAAAAAAAAAAAAAAAAAAAAAAAAAAAAAAAAAAAAAAAAAAAAAAAAAAAAAAAAAAAAAAAA/f/9//7//v/9//3//////wAAAAAAAAAAAAAAAAAAAAAAAAAAAQABAAMAAwACAAIAAwADAAMAAwACAAIAAwADAAIAAgAAAAAAAAAAAAAAAAD+//7/AAAAAAAAAAAAAAAAAQABAAMAAwADAAMAAgACAAAAAAAAAAAA/v/+//3//f/6//r/+P/4//b/9v/1//X/+P/4//r/+v/7//v//f/9//7//v/9//3/AAAAAAAAAAAAAAAAAAAAAAAAAAAAAAAAAwADAAEAAQAAAAAA//////z//P/5//n/9//3//v/+//9//3//////wAAAAAAAAAA/v/+//////8AAAAA/f/9//v/+//7//v/+f/5//b/9v/1//X/9P/0//L/8v/v/+//8P/w//b/9v/6//r//P/8/wIAAgAFAAUAAwADAAYABgAFAAUACAAIAAIAAgAAAAAAAAAAAPn/+f/5//n/+P/4//f/9//0//T/+P/4//3//f8BAAEABwAHAAgACAAFAAUAAgACAP7//v/9//3//v/+//3//f/4//j/8f/x/+7/7v/s/+z/8f/x//n/+f/8//z//f/9/wAAAAAKAAoADQANABIAEgATABMAEAAQAAUABQD6//r/8//z//P/8//1//X/+P/4//j/+P/y//L/9P/0//H/8f/s/+z/6//r/+3/7f/0//T/9P/0//n/+f8CAAIA/P/8//n/+f8AAAAA+P/4//L/8v/u/+7/6//r/+v/6//t/+3/+P/4/woACgAZABkAIAAgAC0ALQAxADEAMAAwADIAMgAtAC0AIgAiABMAEwAIAAgA/v/+/wIAAgAGAAYA//////f/9//6//r/+P/4//3//f/7//v//f/9/wMAAwD8//z/6//r/+v/6//p/+n/5//n/+b/5v/g/+D/4v/i/93/3f/k/+T/6P/o//f/9///////CgAKABgAGAAiACIAJgAmACEAIQApACkAKgAqACUAJQAjACMAHgAeABUAFQANAA0ABwAHAAYABgAFAAUA//////X/9f/0//T//P/8/wQABAAFAAUAAwADAB8AHwDd/93/vf+9/9X/1f/J/8n/yP/I/9b/1v/f/9//z//P/8j/yP/H/8f/z//P/+v/6//3//f/BgAGAA4ADgAUABQAGwAbABkAGQAhACEAHwAfABAAEAAJAAkACAAIAAMAAwAIAAgACgAKAA8ADwAeAB4AGQAZACMAIwA0ADQAKgAqACQAJAAiACIADgAOAP3//f/s/+z/4f/h/+P/4//n/+f/4//j/+v/6//s/+z/7v/u/+n/6f/i/+L/6v/q//H/8f/8//z/AAAAAAQABAAMAAwAFAAUAAoACgD0//T/9P/0/+//7//h/+H/6//r//z//P///////f/9/w4ADgAQABAAEQARACUAJQAnACcAIQAhABwAHAAVABUADQANAAIAAgD9//3//v/+//H/8f/q/+r/9P/0/wUABQAUABQAGwAbACUAJQAkACQAGgAaACAAIAAgACAAEwATABQAFAARABEAAAAAAPT/9P/2//b/9v/2/+7/7v/3//f/+P/4//D/8P8CAAIAAwADAP7//v8AAAAAAQABAAUABQAJAAkACAAIAAkACQAAAAAA7//v/+z/7P/o/+j/5//n//T/9P8AAAAADAAMAB4AHgA0ADQANwA3AEQARABCAEIANAA0ACgAKAAiACIAHgAeABcAFwAXABcAGwAbAA4ADgAFAAUACAAIAAcABwD6//r/+f/5//v/+//8//z//f/9//v/+/8AAAAA/f/9/+v/6//d/93/3P/c/9L/0v/N/83/yv/K/8T/xP/I/8j/1f/V/+X/5f/8//z/FQAVABsAGwAfAB8AJAAkACcAJwAgACAAJAAkACEAIQAWABYAEwATABQAFAAZABkAHQAdACEAIQAeAB4AHgAeABsAGwAiACIAIQAhAB4AHgAZABkAAwADAPn/+f/1//X/7f/t/+z/7P/n/+f/1//X/87/zv/K/8r/zv/O/83/zf/X/9f/4f/h/+P/4//e/97/7f/t/wMAAwAFAAUADQANABAAEAAIAAgABwAHAAAAAAD5//n/9v/2//j/+P/6//r/CgAKABkAGQAqACoAOgA6ADsAOwA2ADYAKgAqABoAGgAUABQACwALAAMAAwAAAAAA+//7//r/+v/1//X/9v/2//f/9//8//z///////z//P/+//7/+f/5//P/8//2//b/AAAAAAEAAQAMAAwADgAOAAcABwAAAAAA9v/2/+//7//t/+3/9//3//////8MAAwADQANABUAFQAbABsAHwAfABsAGwAVABUAFgAWABkAGQAPAA8AAwADAPv/+//3//f/9f/1//L/8v/8//z/BwAHAAwADAAJAAkACAAIAAwADAAGAAYACwALABEAEQAQABAACwALAAIAAgD9//3//v/+//f/9//2//b/AAAAAP7//v/5//n//P/8/wAAAAAAAAAABQAFAAMAAwAOAA4AAwADAPv/+/8DAAMAAAAAAPv/+//0//T/8P/w/+r/6v/o/+j/7P/s//r/+v8BAAEADwAPABUAFQAQABAADwAPABMAEwAVABUAEwATAA4ADgARABEADAAMAAQABAAOAA4AFwAXABYAFgAOAA4ACgAKAAQABAD+//7/9f/1/wAAAAAEAAQAAgACAP3//f/4//j/9f/1//H/8f/w//D/5v/m/+T/5P/W/9b/yv/K/8v/y//K/8r/0P/Q/93/3f/p/+n/9v/2//j/+P/3//f/9P/0//X/9f/3//f/9P/0//b/9v/4//j/+v/6//v/+/8AAAAABQAFAA4ADgANAA0ADQANABEAEQAOAA4AEAAQABYAFgAbABsAGAAYABIAEgALAAsACgAKAAcABwD/////AAAAAAQABAAJAAkABgAGAAIAAgADAAMA+f/5/+//7//1//X/AAAAAAoACgASABIADQANAAIAAgAAAAAA+P/4//b/9v8AAAAABgAGAAAAAAD7//v/+P/4//j/+P/9//3//v/+/wMAAwAHAAcACAAIAAoACgAKAAoABAAEAAAAAADy//L/7//v//X/9f/0//T/9//3//z//P/3//f/7//v/+b/5v/o/+j/6P/o/+3/7f/s/+z/9f/1//X/9f/x//H/9f/1/+3/7f/p/+n/4//j/+L/4v/q/+r/6v/q/+n/6f/w//D/9f/1//r/+v/7//v/+v/6//3//f8BAAEABAAEAAYABgANAA0AGAAYABgAGAAZABkAGAAYABQAFAAVABUAFQAVABoAGgAgACAAJgAmACQAJAAeAB4AHAAcABIAEgAVABUAIAAgACUAJQApACkAJQAlABMAEwAJAAkAAgACAP////8CAAIAAwADAAMAAwAAAAAA+//7/+7/7v/r/+v/6f/p/+3/7f/5//n//v/+/wYABgAEAAQA+//7/+7/7v/p/+n/5v/m/+f/5//q/+r/6f/p/+7/7v/w//D/9P/0//L/8v/5//n/9//3//T/9P/7//v//v/+//r/+v/4//j/9//3//P/8//x//H//v/+/wYABgD7//v//P/8//z//P/4//j//f/9/wgACAAAAAAACAAIAAwADAAIAAgAEQARACEAIQAkACQAIgAiABgAGAASABIADAAMAAoACgAMAAwADwAPABUAFQAOAA4ABwAHAA0ADQAXABcAFwAXAB8AHwArACsAKgAqABgAGAATABMAFAAUAAkACQAOAA4AEAAQAAoACgADAAMABwAHABcAFwAWABYAGgAaACIAIgAfAB8AEAAQAAwADAAUABQACQAJAAcABwAGAAYA//////v/+//3//f//P/8/+r/6v/e/97/4f/h/9j/2P/Z/9n/5f/l/+H/4f/c/9z/2f/Z/9f/1//c/9z/2v/a/93/3f/b/9v/zf/N/83/zf/W/9b/1P/U/9z/3P/p/+n/8f/x//j/+P8DAAMABgAGAAoACgAOAA4AEAAQABUAFQAdAB0AJwAnACcAJwAhACEAIQAhAB8AHwAeAB4AHgAeAB8AHwAhACEAHQAdAB8AHwAmACYAJwAnACUAJQAfAB8AFwAXAAsACwAHAAcABwAHAAAAAAD9//3//f/9//f/9//u/+7/8v/y//7//v/9//3/BAAEAAAAAAACAAIA+//7//T/9P//////+P/4//v/+//5//n/9P/0//D/8P/w//D/+f/5//v/+//9//3/9f/1//H/8f/v/+//7//v//T/9P/v/+//8P/w/+b/5v/b/9v/4f/h/+D/4P/g/+D/4//j/9//3//a/9r/2f/Z/9n/2f/c/9z/3v/e/9z/3P/f/9//6//r//b/9v8AAAAAAwADAAAAAAD8//z/9//3//f/9/8HAAcACwALAA8ADwAaABoAFgAWAB0AHQAqACoAMgAyADkAOQA4ADgAMAAwACoAKgAyADIAMQAxACwALAAtAC0AJgAmABsAGwAdAB0AIwAjACwALAAsACwAKQApAB4AHgAPAA8ACAAIAAMAAwD+//7/AAAAAPv/+//x//H/9//3//P/8//r/+v/5//n/+X/5f/h/+H/2P/Y/9b/1v/W/9b/1//X/9z/3P/g/+D/4v/i/93/3f/X/9f/3f/d/+H/4f/k/+T/5//n/+D/4P/X/9f/1//X/9v/2//t/+3/AAAAAA8ADwAQABAACgAKAAUABQAAAAAAAwADAAAAAAAAAAAAAQABAAkACQAQABAAGAAYABsAGwAZABkAFgAWABIAEgARABEAEgASAAcABwAJAAkACwALAAQABAAHAAcACQAJAAwADAANAA0AAAAAAPv/+//6//r/8v/y/+//7//u/+7/8P/w//z//P8HAAcABwAHAAIAAgAFAAUA/P/8//r/+v/8//z/9v/2//T/9P/t/+3/6v/q//r/+v/+//7/BQAFAA4ADgALAAsADQANAAoACgACAAIA/f/9//X/9f/t/+3/7P/s//X/9f/3//f/+f/5//r/+v/t/+3/5v/m/+b/5v/q/+r/7P/s/+n/6f/e/97/3P/c/+b/5v/r/+v/7v/u//L/8v/u/+7/5v/m/93/3f/g/+D/5v/m/+X/5f/q/+r/7//v//T/9P/9//3/BQAFABAAEAATABMAFwAXAA0ADQAGAAYAAgACAPz//P/8//z/AQABAAgACAAQABAADwAPAA4ADgAUABQAAwADAAYABgAEAAQAAAAAAP/////7//v/BAAEAAsACwAMAAwAAAAAAAAAAAD5//n/7v/u//H/8f/0//T/8f/x//b/9v/6//r/AgACAAQABAAKAAoAEQARAAwADAANAA0A/f/9//b/9v/w//D/6//r/+b/5v/p/+n/9f/1//z//P/8//z/AAAAAAEAAQD0//T/9f/1//n/+f/w//D/6P/o/9//3//f/9//4f/h/+r/6v/v/+//7P/s//T/9P/w//D/6P/o/+//7//y//L/8P/w//////8AAAAA/f/9//v/+/8BAAEABgAGAAMAAwAFAAUAAgACAAgACAAHAAcABQAFAAUABQAGAAYADgAOAA8ADwAQABAAFAAUABUAFQAdAB0AIgAiABoAGgAVABUAEwATAA0ADQAGAAYACwALAA8ADwAOAA4AEQARABIAEgAPAA8AFgAWABgAGAAUABQAEQARABQAFAAOAA4AAwADAPv/+//4//j/9f/1//L/8v/u/+7/6//r/+3/7f/n/+f/3f/d/9z/3P/W/9b/1v/W/9D/0P/E/8T/wv/C/8L/wv/H/8f/0P/Q/9n/2f/Z/9n/3v/e/9f/1//W/9b/0//T/83/zf/W/9b/4v/i/+7/7v/6//r/DQANABoAGgAhACEANQA1AE0ATQBYAFgAXgBeAGEAYQBdAF0AUQBRAEQARABDAEMAWABYAGgAaABuAG4AcQBxAHIAcgB6AHoAdQB1AGAAYABdAF0AWABYAFIAUgBDAEMAMAAwACgAKAAcABwABAAEAPD/8P/l/+X/3f/d/9v/2//O/87/wP/A/7f/t/+4/7j/tf+1/7z/vP/C/8L/wf/B/7//v/+y/7L/qf+p/6H/of+Y/5j/n/+f/57/nv+h/6H/r/+v/8L/wv/X/9f/4//j//j/+P8AAAAAAwADAA8ADwAPAA8AGQAZACAAIAAdAB0AHgAeABoAGgATABMAFQAVABsAGwAmACYANQA1ADsAOwA+AD4ASABIAFMAUwBSAFIAVABUAFkAWQBRAFEASABIAEEAQQAqACoAJAAkACcAJwAuAC4AMwAzADYANgBCAEIARQBFAEQARABAAEAAPwA/ADYANgAyADIAIAAgABEAEQAQABAAAAAAAAIAAgABAAEA/f/9//j/+P/q/+r/3v/e/9L/0v/H/8f/wP/A/7z/vP+6/7r/tf+1/7f/t/+6/7r/v/+//8H/wf+9/73/uP+4/7r/uv+6/7r/r/+v/63/rf+w/7D/s/+z/7v/u//H/8f/4f/h//X/9f/4//j/+//7//3//f8AAAAABAAEAAQABAAAAAAA/P/8//v/+/8CAAIAAwADAAwADAAOAA4ACQAJAAQABAAAAAAA/f/9//7//v8DAAMABQAFAAoACgAXABcAHQAdACUAJQAtAC0AOAA4ADQANAAxADEANQA1AC0ALQAnACcALgAuADMAMwBBAEEAUgBSAGMAYwB0AHQAfwB/AI4AjgCTAJMAigCKAHYAdgBfAF8ATgBOADkAOQAmACYAFgAWAAMAAwD1//X/5P/k/9f/1//Z/9n/0P/Q/8b/xv+//7//tP+0/5j/mP+A/4D/Y/9j/0f/R/89/z3/Nf81/yv/K/8o/yj/Lv8u/zn/Of8//z//Sv9K/2b/Zv99/33/kP+Q/6X/pf+0/7T/zv/O/+b/5v/1//X/AAAAABAAEAAqACoANQA1AEsASwBhAGEAaQBpAHcAdwCHAIcAngCeAKoAqgCrAKsAuAC4ALwAvADCAMIAuAC4ALQAtACqAKoAlwCXAIMAgwBnAGcAUABQAEgASAA9AD0ANAA0AC0ALQApACkAJAAkAB8AHwAYABgACQAJAAIAAgD/////9f/1/+T/5P/U/9T/zP/M/8X/xf+//7//v/+//8v/y//c/9z/6P/o/+b/5v/Y/9j/0f/R/9H/0f/N/83/yf/J/8z/zP/F/8X/yf/J/8L/wv/C/8L/wv/C/8P/w//E/8T/tf+1/6f/p/+d/53/kf+R/5H/kf+W/5b/mP+Y/57/nv+l/6X/rv+u/6//r/+0/7T/xP/E/9P/0//h/+H/6f/p/+7/7v/n/+f/8P/w/woACgAXABcAJgAmADcANwBRAFEAYABgAGkAaQB4AHgAhQCFAJ0AnQCuAK4AqgCqAKsAqwC3ALcAswCzAKgAqACVAJUAgwCDAH0AfQByAHIAYwBjAGAAYABdAF0AVQBVAEYARgA2ADYAJgAmABMAEwAFAAUA8P/w/93/3f/B/8H/pv+m/5P/k/+B/4H/ef95/3P/c/9q/2r/av9q/23/bf9u/27/cv9y/3P/c/9z/3P/d/93/3n/ef95/3n/fv9+/4f/h/+K/4r/k/+T/5f/l/+e/57/r/+v/7j/uP/F/8X/0v/S/+j/6P/3//f/BQAFAAoACgANAA0ADQANABQAFAAUABQAHgAeACcAJwAoACgANAA0ADYANgA5ADkARwBHAEsASwBHAEcARABEAEkASQBLAEsASABIAEgASABIAEgATABMAFIAUgBdAF0AXgBeAFQAVABJAEkAPAA8ACsAKwApACkALAAsACsAKwAuAC4ALAAsAC8ALwAjACMAIwAjABgAGAAKAAoAAQABAPT/9P/p/+n/2f/Z/8X/xf/F/8X/yv/K/83/zf/Y/9j/3f/d/9D/0P/D/8P/p/+n/5z/nP+T/5P/hv+G/4L/gv+I/4j/mP+Y/6v/q/+5/7n/wP/A/7//v//B/8H/xf/F/7//v//A/8D/xv/G/7v/u/+3/7f/wP/A/9T/1P/2//b/CgAKAB4AHgAtAC0AOwA7ADkAOQA+AD4ASABIAEQARAA8ADwAPgA+AEkASQBQAFAAWQBZAG0AbQBxAHEAfwB/AHwAfAB3AHcAegB6AGsAawBnAGcAbABsAGsAawBlAGUAVgBWAEkASQBAAEAANAA0ACYAJgAgACAAHgAeABYAFgAEAAQA+v/6//L/8v/q/+r/4P/g/9P/0//Q/9D/yf/J/8b/xv+8/7z/tP+0/6v/q/+h/6H/o/+j/6b/pv+m/6b/pf+l/7D/sP+9/73/u/+7/8n/yf/K/8r/y//L/9n/2f/h/+H/8//z//z//P8GAAYADQANABUAFQAVABUAFAAUACAAIAAtAC0AOAA4ADkAOQA9AD0AQwBDAEMAQwA6ADoANAA0ADMAMwAyADIALwAvADMAMwAxADEALQAtACAAIAAMAAwA9//3//T/9P/y//L/8f/x/+z/7P/t/+3/7v/u/+H/4f/d/93/6f/p/+v/6//q/+r/7P/s/+r/6v/u/+7/8//z//b/9v/4//j/8//z//3//f8SABIAGQAZABsAGwAcABwAIgAiAB0AHQAMAAwACQAJAAUABQAEAAQAFwAXAB4AHgAeAB4AFQAVAP/////t/+3/0//T/9H/0f/L/8v/uv+6/7H/sf+o/6j/nP+c/5z/nP+v/6//wv/C/8j/yP/P/8//zv/O/8r/yv/D/8P/uf+5/7j/uP+4/7j/xf/F/97/3v/z//P/BgAGABwAHAAyADIARABEAFwAXABpAGkAaQBpAG0AbQBlAGUAXgBeAF8AXwBWAFYAXgBeAF8AXwBgAGAAZgBmAF4AXgBUAFQATgBOAEYARgA6ADoAMAAwAC8ALwAfAB8ACwALAPj/+P/h/+H/2v/a/9//3//Y/9j/1//X/9r/2v/X/9f/z//P/87/zv/T/9P/0P/Q/9L/0v/Z/9n/2//b/+P/4//q/+r/5P/k/+b/5v/z//P/AAAAAA4ADgAJAAkAAgACAPf/9//w//D/7//v//n/+f/7//v/AgACAAsACwAQABAAEwATAA8ADwAOAA4ACgAKAAYABgD3//f/9P/0//b/9v/u/+7/9//3//7//v8JAAkAHwAfACoAKgAzADMAOgA6ADIAMgAqACoALwAvADAAMAA6ADoAOwA7AEUARQBLAEsAUABQAFcAVwBSAFIAXgBeAFkAWQBGAEYAPwA/ADYANgAwADAAKQApACQAJAAhACEAIAAgABkAGQAYABgAFAAUAAQABADz//P/2v/a/8j/yP/C/8L/vf+9/7L/sv+v/6//r/+v/7L/sv+5/7n/uf+5/7P/s/+q/6r/qP+o/6n/qf+l/6X/nv+e/5f/l/+a/5r/oP+g/6X/pf+o/6j/rv+u/63/rf+r/6v/rP+s/7X/tf/I/8j/0//T/9v/2//i/+L/5P/k//D/8P/2//b//f/9//v/+//8//z/+//7//z//P8DAAMACQAJACEAIQA/AD8ATwBPAFQAVABeAF4AZQBlAGMAYwBYAFgATQBNAE0ATQBEAEQAQwBDAD8APwA+AD4APwA/ADwAPABBAEEAOgA6ADEAMQAoACgAGgAaAA8ADwAAAAAA9P/0/+3/7f/r/+v/4v/i/9P/0//O/87/0v/S/8//z/+7/7v/sP+w/6//r/+v/6//sv+y/7r/uv++/77/yP/I/9D/0P/T/9P/2v/a/93/3f/c/9z/4v/i/+L/4v/Z/9n/3//f/97/3v/n/+f/9v/2/wAAAAAOAA4AGQAZABgAGAAaABoAGAAYACAAIAAWABYAFQAVACEAIQAgACAAHQAdAB8AHwAmACYAKAAoACsAKwAtAC0ALQAtAC0ALQAzADMANwA3AD0APQA/AD8AQQBBAEkASQBFAEUAQwBDAE4ATgBIAEgASgBKAEYARgBAAEAAPwA/AEIAQgA/AD8ARABEAEEAQQBCAEIARwBHADkAOQAsACwAHQAdABIAEgARABEAFgAWABYAFgAUABQACwALAP3//f/s/+z/3P/c/9P/0//A/8D/wf/B/7//v/+y/7L/r/+v/6//r/+s/6z/rP+s/7D/sP+v/6//sf+x/7H/sf+o/6j/nf+d/5D/kP+U/5T/pv+m/6v/q/+v/6//u/+7/83/zf/X/9f/4//j/+3/7f/x//H/+P/4//j/+P8EAAQAEQARABoAGgAqACoALwAvACsAKwAiACIAIwAjACMAIwAeAB4AJwAnAC8ALwA1ADUAOAA4ADwAPAA4ADgAKAAoACcAJwAkACQAIgAiABUAFQAFAAUA7//v/9v/2//X/9f/1v/W/+D/4P/x//H//P/8/wIAAgD6//r/8P/w/+P/4//X/9f/x//H/8X/xf/O/87/zf/N/9L/0v/Y/9j/2f/Z/9n/2f/Z/9n/1v/W/9X/1f/O/87/y//L/8P/w//E/8T/x//H/8r/yv/O/87/y//L/9L/0v/J/8n/y//L/9D/0P/I/8j/xf/F/8P/w//B/8H/yP/I/9f/1//s/+z/AQABAAsACwAOAA4ADAAMABIAEgAYABgAIQAhACsAKwAzADMAOAA4AEcARwBOAE4AUABQAGAAYABiAGIAXwBfAFwAXABVAFUAVgBWAFUAVQBUAFQAUQBRAEsASwBMAEwAPgA+ADgAOAAlACUAFAAUABUAFQAMAAwA+f/5/+z/7P/s/+z/7v/u/+7/7v/p/+n/4//j/+j/6P/l/+X/5P/k/+3/7f/r/+v/4v/i/+D/4P/b/9v/3f/d/+z/7P/y//L//v/+/wMAAwAAAAAABQAFAA0ADQAPAA8AEQARAAMAAwD7//v/AQABAA8ADwASABIACwALAAwADAACAAIAAQABAAMAAwADAAMABQAFAP7//v/6//r/9v/2//X/9f/8//z/9//3/wAAAAALAAsADQANABMAEwAfAB8AIwAjABYAFgANAA0AAAAAAP7//v8JAAkAEQARABYAFgAhACEAKQApACMAIwAoACgAKQApACgAKAAqACoAIgAiABkAGQAPAA8ABQAFAAIAAgALAAsAAgACAPf/9//z//P/AgACAAgACAAFAAUAAgACAAgACAAHAAcA9f/1///////5//n/6v/q/+r/6v/w//D/7//v/+L/4v/f/9//3//f/9z/3P/t/+3/+//7//D/8P/4//j/AwADAPv/+//l/+X/2//b/9z/3P/O/87/vv++/8b/xv/f/9//5P/k/9v/2//v/+///v/+//f/9//7//v/+f/5//T/9P/3//f/7v/u/+3/7f/2//b//////woACgAYABgALAAsADkAOQAzADMAIwAjABsAGwAfAB8AHgAeABYAFgAdAB0AKgAqAC4ALgAsACwAKwArADMAMwAsACwAHwAfAA8ADwAEAAQA+P/4/+X/5f/Z/9n/5//n//L/8v/3//f/8f/x//X/9f/y//L/7v/u/+P/4//Y/9j/zP/M/77/vv+5/7n/vP+8/8r/yv/T/9P/2//b/+H/4f/r/+v/6f/p/+X/5f/r/+v/8f/x//z//P/2//b/8//z//D/8P/t/+3/7v/u/wYABgARABEAEAAQABsAGwAcABwAGwAbABgAGAASABIAEAAQAAQABAAIAAgACQAJAAUABQALAAsAEQARAB0AHQAXABcACwALAAkACQD+//7/8//z/+r/6v/b/9v/3P/c/+n/6f/z//P//f/9//3//f/8//z/AgACAAwADAAKAAoAAAAAAO//7//k/+T/5f/l/+r/6v8AAAAAFQAVACAAIAAvAC8ALwAvADAAMAAoACgAHgAeABoAGgATABMACQAJAAsACwATABMAIgAiAC8ALwAtAC0AKAAoABgAGAADAAMA8f/x/+L/4v/S/9L/0P/Q/9T/1P/X/9f/4//j/+n/6f/s/+z/7v/u/+j/6P/Y/9j/xf/F/8b/xv/I/8j/xv/G/8L/wv/Q/9D/4v/i//T/9P8IAAgAFQAVABYAFgAXABcAIQAhACcAJwAuAC4AOAA4ADUANQA8ADwARQBFAEYARgBHAEcAQABAAEEAQQBGAEYASABIAEUARQBLAEsATgBOAE4ATgBKAEoARQBFAD4APgAwADAAHAAcAAUABQD5//n/9f/1//n/+f8FAAUABwAHAAAAAAAAAAAA//////b/9v/s/+z/3//f/9b/1v/R/9H/2P/Y/+D/4P/l/+X/6f/p/+L/4v/f/9//2v/a/9n/2f/V/9X/y//L/87/zv/S/9L/2P/Y/9f/1//j/+P/6v/q//H/8f/0//T/7f/t//H/8f/v/+//7v/u/+H/4f/Z/9n/4f/h/+//7//7//v/AAAAAAQABAAWABYAJgAmACQAJAAgACAAKQApACQAJAAbABsAEgASABIAEgAQABAADAAMABIAEgAiACIAKQApADEAMQA3ADcAMwAzADAAMAAkACQAGQAZAAcABwD/////+//7/wQABAALAAsAEgASACAAIAAbABsACgAKAP7//v/3//f/9P/0//r/+v/0//T/8//z//r/+v8AAAAABwAHAAMAAwD7//v/+P/4//H/8f/e/97/3P/c/9P/0//N/83/1v/W/+n/6f/0//T/8P/w/+v/6//h/+H/0P/Q/8v/y//N/83/xf/F/8X/xf/L/8v/3P/c/+b/5v/u/+7/9v/2/+v/6//p/+n/7f/t//L/8v/z//P//v/+/xMAEwAfAB8AJwAnAC8ALwAuAC4ALwAvAC8ALwApACkALQAtACsAKwArACsAOAA4AD0APQBDAEMARQBFADkAOQArACsALAAsACkAKQAbABsAFQAVAA0ADQAYABgAFgAWAAkACQD0//T/5v/m/+v/6//X/9f/2P/Y/+z/7P/0//T/8v/y//f/9//x//H/7v/u/+z/7P/k/+T/4v/i/93/3f/U/9T/1v/W/97/3v/g/+D/8P/w//f/9/8AAAAABgAGAAMAAwD4//j/9v/2//b/9v/1//X/+v/6//j/+P/x//H/7v/u//H/8f/u/+7/6P/o/+D/4P/j/+P/5f/l/+7/7v/3//f//f/9/w0ADQAQABAADgAOAAIAAgDx//H/6v/q/+X/5f/d/93/5f/l//T/9P8GAAYADgAOABkAGQAeAB4AGwAbABIAEgANAA0AFgAWABQAFAAMAAwAEwATABYAFgAfAB8AHwAfABYAFgAMAAwABQAFAAYABgAEAAQABwAHAA4ADgATABMAFwAXABgAGAAbABsAGwAbABoAGgAbABsAFQAVAPv/+//o/+j/3v/e/9z/3P/b/9v/4//j//X/9f8GAAYABQAFAAUABQAKAAoABgAGAAcABwD3//f/3//f/9D/0P/O/87/2P/Y/97/3v/u/+7/9f/1//X/9f/8//z/CQAJAA8ADwAJAAkACAAIAAgACAAEAAQACwALAAsACwAPAA8AFwAXABsAGwAoACgAMwAzAC8ALwAqACoAGQAZABAAEAAOAA4ACwALABsAGwApACkAKAAoADIAMgAsACwAIAAgABAAEAAFAAUA/v/+//H/8f/s/+z/8//z//H/8f/x//H/7//v//L/8v/8//z/+f/5//X/9f/y//L/7v/u/+n/6f/x//H/7//v//v/+/8LAAsACgAKAAUABQD//////f/9//b/9v/6//r/DQANABYAFgAfAB8AIwAjAB0AHQAjACMAIAAgABkAGQAWABYAEQARAA0ADQAIAAgABQAFAPr/+v/9//3/CwALAAwADAAJAAkAAAAAAPb/9v/s/+z/6//r/+j/6P/s/+z/7f/t/+v/6//x//H/8//z//T/9P/p/+n/7f/t//D/8P/u/+7/7v/u//X/9f/5//n/9f/1//v/+//6//r///////3//f/9//3/BgAGAAEAAQACAAIADgAOABUAFQAWABYADQANAAMAAwABAAEA9//3//X/9f/9//3/+//7//f/9//8//z/AwADAAUABQD//////f/9/wIAAgAKAAoADAAMABEAEQARABEACQAJAAEAAQD4//j/8P/w/+3/7f/0//T/AgACABIAEgAbABsAIQAhACQAJAAgACAAGgAaABcAFwAYABgADgAOAP7//v/4//j/+//7//f/9//1//X/AAAAAPz//P/5//n/+v/6//P/8//u/+7/7P/s/+f/5//j/+P/5v/m/+X/5f/t/+3/5P/k/9z/3P/V/9X/0v/S/8r/yv/F/8X/xP/E/8//z//o/+j/8//z//v/+/8CAAIAAAAAAPb/9v/z//P/6//r/+r/6v/1//X/9//3//n/+f8CAAIA9P/0//z//P8DAAMABAAEAA4ADgATABMAFAAUAAYABgAAAAAA/v/+//T/9P/3//f/+//7//z//P/4//j/9f/1//H/8f/1//X/9f/1//H/8f/0//T/7v/u/+z/7P/r/+v/7v/u//D/8P/r/+v/9//3//3//f/+//7//f/9//v/+//7//v/8v/y/+7/7v/t/+3///////7//v//////CgAKAAsACwAGAAYACgAKAAQABAD//////P/8//z//P8AAAAA/f/9/wQABAAJAAkADAAMAAkACQADAAMAAQABAPz//P8AAAAAAgACAAAAAAD/////9//3//f/9//8//z/CQAJAAYABgD/////AQABAAwADAAQABAACQAJAAgACAAMAAwACAAIAAIAAgD2//b/9P/0//X/9f//////CwALAA8ADwALAAsADwAPAB8AHwAjACMAFwAXABcAFwATABMADgAOAA4ADgABAAEAAQABAAUABQALAAsADgAOABYAFgAdAB0AHQAdABcAFwATABMAHAAcAB4AHgAdAB0AHgAeABMAEwAPAA8ACwALAP7//v/6//r//P/8//3//f/z//P/8//z//n/+f8HAAcAHQAdAB0AHQATABMAFAAUAA8ADwADAAMA//////r/+v/2//b/9v/2//v/+//4//j//////wgACAAGAAYABQAFAAkACQAZABkAJAAkAB4AHgAdAB0AFAAUAAcABwAAAAAA/P/8//T/9P/q/+r/6v/q/+P/4//k/+T/5P/k/+n/6f/y//L/9v/2//j/+P/2//b/9P/0//X/9f/m/+b/1//X/9T/1P/O/87/zf/N/8z/zP/G/8b/zP/M/9//3//p/+n/9f/1//r/+v/+//7/CAAIAAMAAwAFAAUADAAMAAgACAAGAAYAAAAAAPb/9v/2//b/+P/4//////8CAAIACwALABwAHAAmACYALAAsACMAIwAQABAADAAMAAkACQACAAIA/f/9//r/+v/7//v/+P/4//z//P/+//7//v/+//v/+//3//f/9//3//H/8f/0//T/9v/2/+7/7v/o/+j/7f/t/+3/7f/s/+z/9f/1//X/9f/x//H/7//v/+r/6v/n/+f/5//n/+f/5//i/+L/6//r/+v/6//p/+n/7//v//T/9P/4//j/9P/0/+7/7v/w//D/7v/u//H/8f/x//H/9v/2//v/+//2//b/8f/x//H/8f/q/+r/6P/o/+b/5v/j/+P/7P/s//f/9/8FAAUAEQARABgAGAARABEABQAFAAMAAwADAAMA/P/8//r/+v/6//r//////wAAAAAAAAAACQAJAAsACwAOAA4AGQAZABwAHAArACsANgA2ADQANAArACsAIQAhACAAIAAVABUADgAOAA0ADQAIAAgAAwADAAIAAgADAAMACgAKABYAFgArACsAOQA5ADYANgAiACIADwAPAAYABgD4//j/5//n/+P/4//g/+D/4f/h/+f/5//s/+z//f/9///////2//b/6//r/+j/6P/l/+X/4f/h//D/8P/9//3//v/+/wMAAwD/////9P/0/+n/6f/i/+L/4//j/+z/7P/6//r/AQABAA4ADgASABIADwAPABEAEQATABMAGgAaAB0AHQAlACUAKQApAC0ALQAlACUAGgAaABkAGQAUABQAEQARAAsACwAOAA4AEgASACAAIAAqACoAMQAxADUANQAzADMAOQA5AC8ALwAmACYAHQAdABYAFgAKAAoADAAMABYAFgAVABUAFwAXABUAFQATABMABAAEAAoACgAPAA8ACgAKAAwADAANAA0AFgAWABsAGwAlACUAJAAkABAAEAAAAAAA8P/w/+T/5P/d/93/3v/e/+L/4v/k/+T/8v/y//j/+P8AAAAAAQABAAAAAAAAAAAA+P/4//j/+P/y//L/4v/i/9v/2//U/9T/z//P/8z/zP/K/8r/1P/U/97/3v/i/+L/7v/u//n/+f8CAAIAAQABAPX/9f/1//X/8P/w//H/8f/x//H/8v/y//X/9f/7//v/AwADAAUABQAKAAoADAAMAAoACgAMAAwABAAEAAMAAwAJAAkAFwAXABcAFwAWABYAHQAdABsAGwAYABgAEQARAAIAAgD4//j/+P/4//r/+v/w//D/4//j/+v/6//k/+T/3f/d/+X/5f/j/+P/3f/d/+L/4v/j/+P/4v/i/+X/5f/k/+T/2P/Y/8n/yf+9/73/tP+0/7D/sP+y/7L/t/+3/8P/w//O/87/0//T/9j/2P/m/+b/5v/m/+L/4v/q/+r/6v/q/+P/4//i/+L/4P/g/9//3//i/+L/6v/q/+7/7v/0//T/AAAAAAUABQAFAAUACQAJABcAFwAdAB0AHAAcABMAEwARABEADwAPABMAEwAVABUAGgAaABsAGwAnACcAMAAwACoAKgApACkAHQAdABAAEAAIAAgABQAFAAcABwANAA0AGQAZAB0AHQAbABsAKgAqADYANgAxADEAMAAwACAAIAAKAAoAAwADAPb/9v/x//H/8v/y/+7/7v/3//f/BQAFAAcABwAdAB0ANAA0ADgAOAA0ADQALwAvACoAKgAgACAAEwATAP7//v/o/+j/5f/l/+7/7v8BAAEAFgAWAB8AHwApACkAOAA4ADgAOAA1ADUAOAA4ADoAOgAxADEALQAtAB4AHgATABMACAAIAAcABwAJAAkAEgASABsAGwAgACAAJAAkACsAKwAxADEANgA2ADQANAArACsAHQAdAA4ADgADAAMA/P/8//n/+f/1//X/9P/0//L/8v//////CQAJABEAEQAbABsAFAAUAAcABwD+//7//////wAAAAAAAAAADQANABIAEgAUABQAHgAeACMAIwAkACQAJQAlACoAKgAhACEAHAAcACUAJQAxADEAOwA7ADwAPAA0ADQAKgAqAB8AHwAPAA8ABwAHAAUABQAIAAgADAAMAAAAAAD5//n/9//3//X/9f/z//P/6v/q/9r/2v/G/8b/tP+0/7P/s/+z/7P/r/+v/7L/sv+4/7j/u/+7/7z/vP/H/8f/0//T/9H/0f/c/9z/3//f/9z/3P/Z/9n/0f/R/9H/0f/Q/9D/1v/W/9b/1v/b/9v/5v/m//H/8f/3//f/AAAAAA4ADgAYABgAGwAbABgAGAAUABQAAAAAAO//7//f/9//2f/Z/9//3//d/93/3//f//L/8v8DAAMADAAMABAAEAAUABQAEAAQAAkACQD8//z/6//r/+j/6P/s/+z/6v/q/+j/6P/o/+j/6f/p/+3/7f/l/+X/0//T/9D/0P/O/87/1//X/97/3v/f/9//2v/a/9z/3P/Y/9j/1//X/9T/1P/N/83/yv/K/73/vf+4/7j/v/+//8L/wv/L/8v/0v/S/9j/2P/l/+X/7P/s/+//7//2//b//////wcABwAIAAgADAAMABYAFgAbABsAHgAeABMAEwAHAAcA+//7/+X/5f/Z/9n/z//P/9j/2P/1//X/EwATAB0AHQAjACMALQAtACQAJAAfAB8ADQANAPP/8//c/9z/yf/J/8D/wP/F/8X/zP/M/+n/6f//////DwAPABoAGgAcABwAKAAoADIAMgAtAC0AJQAlAB8AHwAYABgAHgAeACcAJwAuAC4AMQAxACUAJQAeAB4AEgASAAgACAARABEAIgAiACsAKwA1ADUAOgA6AEMAQwBIAEgATgBOAE8ATwBKAEoAQgBCAC8ALwAeAB4AHgAeABIAEgAKAAoADwAPAAYABgAJAAkAHwAfADAAMABHAEcAVgBWAF8AXwBnAGcAVgBWADcANwASABIA9v/2/+H/4f/Q/9D/yv/K/87/zv/W/9b/7P/s//7//v8DAAMACAAIAAsACwAOAA4AAQABAPb/9v/q/+r/6//r//P/8//9//3/BQAFAAoACgADAAMACQAJAA8ADwAZABkAJgAmADEAMQA8ADwARwBHAE4ATgBgAGAAdwB3AHoAegBuAG4AWgBaAEwATABGAEYAPQA9ADwAPAA5ADkAOwA7ADUANQAzADMAMQAxACwALAAnACcAJwAnAC0ALQAtAC0AJgAmACIAIgAWABYADgAOAAcABwD+//7/+P/4//j/+P/9//3/+P/4//L/8v/p/+n/5//n/+H/4f/e/97/6f/p//D/8P/6//r////////////v/+//3//f/9b/1v/C/8L/s/+z/7T/tP++/77/yf/J/9n/2f/a/9r/2//b/93/3f/c/9z/1//X/9b/1v/Y/9j/3P/c/+P/4//w//D/BwAHABgAGAAaABoAFgAWABIAEgAHAAcAAAAAAP3//f/7//v//f/9/wwADAARABEACgAKABcAFwAnACcAHwAfABMAEwD3//f/4P/g/93/3f/i/+L/7f/t//n/+f/4//j/9P/0/+b/5v/a/9r/yP/I/7X/tf+t/63/pP+k/7P/s//V/9X/8//z/w0ADQAVABUAEwATAAcABwDv/+//1v/W/8n/yf/H/8f/zP/M/9f/1//j/+P/7P/s//v/+//6//r/7v/u/+X/5f/j/+P/6v/q//L/8v/0//T/7P/s/+z/7P/t/+3/5v/m/+X/5f/c/9z/y//L/8P/w//M/8z/0v/S/9v/2//n/+f/7v/u//D/8P8BAAEACQAJAAoACgARABEAGAAYABUAFQAGAAYA8//z/+z/7P/p/+n/4//j/+L/4v/s/+z/+P/4/wAAAAAGAAYACQAJAAUABQD4//j/8P/w/+3/7f/y//L//f/9//r/+v/y//L/4//j/+D/4P/l/+X/6P/o/+z/7P/q/+r/4//j/+D/4P/w//D/BgAGABsAGwAoACgAMAAwADcANwBEAEQAQwBDADwAPAA3ADcAHgAeAAIAAgDx//H/9P/0/wIAAgAbABsAKAAoADMAMwBCAEIAQgBCAEMAQwBAAEAAMwAzACcAJwAUABQA/P/8/+3/7f/d/93/2f/Z/9n/2f/b/9v/3P/c/9P/0//e/97/6f/p//v/+/8DAAMABAAEAAkACQAAAAAA/P/8//b/9v/r/+v/1f/V/8P/w//E/8T/xf/F/8//z//b/9v/6//r/wMAAwAVABUAIwAjACsAKwAuAC4AMgAyACIAIgAVABUADwAPABEAEQASABIAEwATABUAFQAXABcAGQAZABMAEwAZABkAJQAlACYAJgAoACgAMgAyADgAOAA/AD8APwA/AEEAQQA2ADYAIwAjAAgACAACAAIAAAAAAPv/+//4//j/9f/1//H/8f/v/+//9//3//b/9v/3//f/AAAAABIAEgAkACQALQAtACgAKAAVABUABgAGAOr/6v/M/8z/xf/F/7j/uP+u/67/vv++/9D/0P/w//D/DQANACQAJAAsACwAKwArAB0AHQAQABAABAAEAPX/9f/l/+X/3//f/9X/1f/R/9H/1//X/+P/4//u/+7/7//v//X/9f8EAAQAGAAYABsAGwAiACIAIwAjACAAIAAfAB8AFAAUAAQABADs/+z/4P/g/9v/2//j/+P/5v/m/+3/7f/z//P/AgACABMAEwAcABwAGgAaAAYABgD4//j/9//3//n/+f8BAAEABwAHAAsACwACAAIA+//7//T/9P/p/+n/5P/k/93/3f/o/+j/9//3/wAAAAALAAsACwALAA8ADwAeAB4AIwAjABUAFQAFAAUA+f/5//P/8//x//H/7P/s/+r/6v/g/+D/0f/R/83/zf/P/8//1//X/9P/0//c/9z/6f/p/+j/6P/q/+r/8P/w/+3/7f/o/+j/3v/e/9X/1f/Y/9j/2v/a/9X/1f/Q/9D/0v/S/9z/3P/v/+//AAAAAAYABgAQABAAGwAbAB4AHgApACkAMQAxADUANQA1ADUAJwAnAB0AHQAkACQAHQAdAA8ADwAKAAoACAAIAAkACQAJAAkAEgASABQAFAALAAsAFgAWABwAHAAbABsAFwAXAAgACAADAAMAAAAAAPT/9P/s/+z/4P/g/8v/y//C/8L/wv/C/87/zv/d/93/5f/l/+f/5//7//v/BAAEAAIAAgABAAEA9f/1/+7/7v/c/9z/3P/c/+r/6v/8//z//v/+//X/9f/1//X/+P/4//X/9f/w//D/9f/1//3//f//////GAAYADIAMgBKAEoAVgBWAFAAUAA/AD8AMgAyACUAJQAeAB4AHwAfABEAEQARABEAGwAbAB0AHQAoACgAPAA8AE0ATQBfAF8AWwBbAFoAWgBPAE8ANwA3ACAAIAAJAAkAAAAAAPj/+P/6//r/+P/4//H/8f/y//L/7P/s/+n/6f/t/+3/9P/0//////8DAAMA/f/9//v/+//1//X/7P/s/+j/6P/o/+j/5v/m/+X/5f/q/+r/7//v/+7/7v/2//b/+v/6/wMAAwAOAA4AFQAVACkAKQAzADMAOQA5ADgAOAAiACIAFAAUAB8AHwApACkAKgAqACkAKQAgACAAGwAbABYAFgAPAA8AEAAQABcAFwAmACYALwAvADEAMQA+AD4ASgBKAD8APwA5ADkAKAAoAA0ADQABAAEAAgACAAEAAQD9//3/AAAAAAAAAAD1//X/+//7/wMAAwACAAIACAAIABAAEAARABEAEgASAA4ADgAAAAAA7P/s/8z/zP+7/7v/uP+4/7v/u//A/8D/xv/G/9b/1v/n/+f/7//v//v/+//8//z/+//7//r/+v/r/+v/2P/Y/8z/zP/J/8n/zv/O/9T/1P/b/9v/4P/g/+n/6f8EAAQAEQARABsAGwAbABsAFAAUABEAEQAPAA8AEQARABIAEgAVABUADQANAA4ADgAeAB4AKAAoAC8ALwA8ADwAMwAzACcAJwAcABwAEAAQAA4ADgAPAA8ADQANABAAEAAVABUAFQAVABsAGwAVABUADAAMAAYABgD6//r/9v/2//H/8f/s/+z/5P/k/+z/7P/x//H/6v/q/+//7//p/+n/3P/c/9n/2f/b/9v/5//n//X/9f/7//v/9v/2/+f/5//g/+D/2//b/9r/2v/c/9z/2P/Y/9T/1P/U/9T/4P/g//H/8f8AAAAA+f/5//v/+/8AAAAA/f/9//X/9f/5//n//v/+/wAAAAAIAAgADAAMAAwADAAFAAUAAwADAA4ADgAMAAwAEAAQABMAEwAVABUAEAAQABUAFQAhACEAJgAmAB0AHQAVABUAFgAWAB0AHQAZABkAEQARABUAFQAVABUAEgASAAwADAABAAEA+P/4//j/+P/1//X/9//3/wAAAAAEAAQAAwADAAEAAQABAAEAAwADAPf/9//l/+X/1v/W/8z/zP/L/8v/0//T/9n/2f/k/+T/6//r//T/9P8CAAIAAgACAAMAAwAAAAAA/f/9/wIAAgD3//f/9v/2//X/9f/q/+r/4v/i/+f/5//w//D/9v/2//3//f8AAAAADQANAAcABwD6//r/7v/u/9z/3P/W/9b/3P/c/9j/2P/Z/9n/3P/c/97/3v/h/+H/7P/s/wAAAAAFAAUAFQAVAAwADAAAAAAA+v/6/+//7//w//D/7//v//3//f8GAAYAFgAWACYAJgAuAC4ANQA1ADEAMQAiACIACAAIAAIAAgD+//7/+v/6/wAAAAAAAAAAAwADAAsACwAKAAoABwAHAAAAAAD4//j/8f/x//T/9P/2//b/7f/t/+D/4P/Z/9n/1f/V/9P/0//W/9b/1P/U/9D/0P/T/9P/1v/W/+T/5P/m/+b/3P/c/9L/0v/M/8z/xv/G/8L/wv/E/8T/0//T/+D/4P/p/+n/7f/t/+z/7P/y//L/7P/s/+f/5//z//P/9f/1//P/8//0//T//v/+/wQABAALAAsACAAIAAsACwAMAAwABgAGAAgACAAUABQAFgAWABgAGAAkACQALQAtADAAMAApACkAIgAiABsAGwAVABUAFwAXABUAFQAUABQADwAPAA4ADgAPAA8AEQARABIAEgAPAA8ACQAJABAAEAAfAB8AIAAgABIAEgD+//7/6P/o/9X/1f/J/8n/yf/J/83/zf/U/9T/1//X/+H/4f/+//7/FQAVABYAFgAJAAkAAAAAAO7/7v/l/+X/2P/Y/9b/1v/T/9P/2P/Y/+X/5f/l/+X/7f/t//r/+v/8//z//f/9//P/8//t/+3/4v/i/+D/4P/h/+H/3f/d/97/3v/X/9f/1v/W/9X/1f/P/8//zP/M/9D/0P/d/93/6P/o//z//P/+//7/+v/6//r/+v/3//f/9//3//3//f8QABAAFwAXACgAKAA6ADoAQgBCAEoASgBLAEsAPwA/ADMAMwAtAC0AJQAlACUAJQAtAC0AOQA5AEMAQwBYAFgAYwBjAGAAYABdAF0ATgBOAEgASAAyADIAHgAeABYAFgAMAAwAFQAVABYAFgASABIACAAIAP/////9//3/+v/6//7//v8MAAwAGAAYAA4ADgAFAAUA+f/5/+X/5f/u/+7/7P/s/9//3//Z/9n/1f/V/9j/2P/Q/9D/2P/Y/+T/5P/p/+n/8P/w//T/9P/0//T/+P/4/wcABwARABEAGgAaABwAHAAKAAoA/f/9/+7/7v/j/+P/3f/d/93/3f/l/+X/8P/w//v/+/8TABMAJAAkACsAKwA0ADQAMwAzACYAJgAhACEAEAAQAPr/+v/t/+3/4//j/+T/5P/r/+v/7P/s/+v/6//u/+7//v/+/wsACwAaABoAGgAaABgAGAAbABsAGQAZABcAFwAGAAYA9//3/+r/6v/k/+T/2v/a/9n/2f/b/9v/5f/l//X/9f/+//7/AgACABAAEAAVABUAGgAaACQAJAAvAC8AMQAxACEAIQAQABAAAAAAAO//7//m/+b/4//j/+f/5//2//b/CgAKABwAHAApACkAPgA+AEEAQQA7ADsAMwAzAB8AHwAbABsAGgAaABAAEAAQABAAAAAAAPr/+v/2//b/+f/5/wgACAARABEAGgAaACMAIwAzADMARwBHAFgAWABaAFoAVgBWAEgASAA6ADoAKQApAA0ADQADAAMA/P/8/wkACQAfAB8ANwA3AFMAUwBfAF8AYABgAF8AXwBaAFoATQBNAD4APgA2ADYALQAtACAAIAARABEACwALABEAEQAbABsALAAsAEAAQABJAEkASABIAEgASABEAEQAPgA+ADQANAAeAB4AAwADAPr/+v8AAAAAEQARACAAIAAnACcALQAtACsAKwAsACwAHAAcAAcABwD2//b/8f/x//D/8P/0//T/8//z//f/9/8DAAMABwAHAAoACgD8//z/5P/k/9f/1//M/8z/xP/E/8b/xv/U/9T/6//r//b/9v/u/+7/5f/l/9L/0v+2/7b/o/+j/6b/pv+u/67/vf+9/87/zv/b/9v/5//n//L/8v/o/+j/1//X/8n/yf+8/7z/sf+x/7L/sv+9/73/xv/G/9j/2P/g/+D/4v/i/+j/6P/u/+7/7//v/+//7//0//T/7v/u//L/8v8AAAAAAAAAAP7//v/2//b/5//n/9//3//j/+P/9P/0/woACgAmACYALgAuAC0ALQAqACoAHwAfABYAFgAKAAoA/v/+//f/9//3//f/+P/4//b/9v/y//L/9//3//j/+P8AAAAAAwADAAsACwAZABkAGAAYABEAEQAJAAkA+v/6//L/8v/t/+3/5//n/9b/1v/c/9z/6P/o/+n/6f//////CQAJABMAEwAVABUAGQAZAAgACAD9//3/8//z/+X/5f/q/+r/7v/u//v/+/8CAAIAAwADAP7//v/5//n/AAAAAAMAAwADAAMACAAIABAAEAAbABsAIwAjACgAKAAhACEAEwATAAUABQD9//3/+f/5//j/+P8FAAUADAAMABcAFwAhACEAHgAeAB0AHQASABIABwAHAAAAAAD7//v//v/+//j/+P/x//H/9f/1//f/9/8AAAAA/v/+//r/+v/4//j/8f/x/+j/6P/l/+X/4//j/93/3f/i/+L/4v/i/+D/4P/j/+P/5f/l/+X/5f/q/+r/6v/q/+v/6//x//H/8f/x//H/8f/x//H/8f/x//L/8v/w//D/6f/p/+3/7f8AAAAAFgAWABoAGgAdAB0AHAAcABMAEwALAAsABQAFAAYABgADAAMA+//7//7//v8BAAEA+v/6/+//7//m/+b/5v/m/+D/4P/m/+b/8f/x//f/9//7//v/7v/u/9r/2v++/77/u/+7/7P/s/+3/7f/uv+6/7f/t/+7/7v/wf/B/8f/x//Q/9D/0//T/8//z//C/8L/u/+7/7n/uf+t/63/q/+r/6b/pv+p/6n/sf+x/8D/wP/H/8f/2f/Z/+f/5//u/+7/8f/x//L/8v/u/+7/7f/t/+//7//q/+r/4f/h/9z/3P/e/97/5v/m//n/+f8JAAkAHQAdACsAKwAtAC0AJwAnABoAGgAOAA4ABwAHAP3//f/4//j/7P/s/+n/6f/u/+7/8f/x//T/9P8CAAIACwALABEAEQAQABAACAAIAAcABwD+//7/+v/6//n/+f/r/+v/5f/l/+D/4P/c/9z/4v/i/+b/5v/q/+r/6f/p/+b/5v/j/+P/7f/t//b/9v/7//v/AwADAAMAAwD7//v/9v/2/+3/7f/k/+T/4v/i/+H/4f/p/+n/7v/u/+v/6//r/+v/6P/o/+n/6f/o/+j/8v/y//H/8f/x//H/9f/1/+r/6v/o/+j/5v/m/9//3//f/9//1f/V/9f/1//k/+T/8f/x//////8EAAQADQANABcAFwAZABkAHwAfACkAKQA+AD4AOgA6ADIAMgAoACgAHQAdACoAKgA6ADoAQQBBAEoASgBOAE4AVABUAFQAVABRAFEARQBFACwALAAfAB8AFQAVABgAGAAdAB0AKAAoAC0ALQA1ADUAOQA5ADMAMwApACkAHQAdABEAEQAIAAgA+P/4//f/9//8//z/AAAAAPv/+//3//f/+P/4//L/8v/p/+n/4v/i/97/3v/Z/9n/4v/i/+3/7f/0//T/8f/x/+v/6//q/+r/4P/g/9//3//c/9z/1v/W/9H/0f/O/87/1v/W/9n/2f/l/+X/AwADABAAEAAWABYAHwAfACIAIgAcABwACAAIAPL/8v/j/+P/1v/W/9L/0v/b/9v/5//n//X/9f8HAAcAFAAUACEAIQA2ADYAPAA8AC0ALQAeAB4AEgASABoAGgAhACEAIQAhACAAIAAaABoAHwAfACQAJAAvAC8AOwA7AD4APgBBAEEAQQBBADsAOwA8ADwAQwBDAEUARQBHAEcARgBGADsAOwA1ADUAKwArACEAIQAcABwAGwAbABsAGwAfAB8AKAAoACMAIwAeAB4AJwAnACgAKAAiACIAIAAgAB4AHgAlACUAJgAmABwAHAANAA0A9v/2/+X/5f/e/97/3f/d/+D/4P/f/9//4//j/+j/6P/w//D/+f/5//3//f/y//L/8f/x//H/8f/s/+z/5v/m/9f/1//a/9r/4f/h/+z/7P/1//X/9//3//z//P/9//3//f/9/wQABAAHAAcACwALAAwADAARABEAFQAVABMAEwAMAAwACAAIAAkACQAGAAYABgAGAAoACgAUABQAIwAjACcAJwAlACUAHQAdABAAEAAIAAgADwAPABkAGQAfAB8AIAAgACMAIwAuAC4AMAAwADAAMAArACsALQAtADEAMQAvAC8ALQAtAC8ALwAxADEAMwAzADMAMwAwADAAJQAlABcAFwAYABgAHgAeACEAIQAtAC0AMQAxADoAOgA2ADYAOQA5ADcANwAxADEAJQAlABMAEwAMAAwADAAMAAsACwAOAA4AHwAfACoAKgAjACMAGQAZAA0ADQAGAAYABgAGAAYABgAGAAYADgAOABsAGwAiACIAGwAbAAsACwD6//r/6//r/+P/4//i/+L/6v/q//X/9f/8//z/CQAJABMAEwAXABcAEgASAAAAAAD6//r//f/9/wwADAAoACgAOQA5ADgAOAAvAC8AHwAfAAwADAD/////6f/p/9//3//m/+b/5v/m//j/+P8GAAYA/P/8/+//7//j/+P/3f/d/9z/3P/f/9//3//f/9X/1f/N/83/1v/W/+D/4P/i/+L/3//f/9//3//a/9r/3P/c/+f/5//n/+f/3f/d/9n/2f/h/+H/4//j/+L/4v/n/+f/6//r/+v/6//v/+//5f/l/9v/2//T/9P/wP/A/7v/u/+y/7L/s/+z/7//v//B/8H/xP/E/83/zf/d/93/4f/h/+3/7f/6//r/BgAGABYAFgAUABQABQAFAPz//P/3//f/6v/q/+L/4v/i/+L/4v/i//P/8/8GAAYAEQARAB8AHwAaABoAEQARAAwADAADAAMABwAHAAMAAwAKAAoAHAAcACcAJwAtAC0AKgAqAB8AHwASABIABgAGAAAAAAD9//3/AgACAAsACwAXABcAHQAdACcAJwA1ADUAMQAxACkAKQAXABcA/v/+//b/9v/r/+v/6//r//L/8v/z//P/AAAAAAkACQAUABQAGAAYAB0AHQAZABkADwAPAAcABwAAAAAAAAAAAAwADAASABIACwALAAYABgAFAAUABgAGAAMAAwAHAAcACQAJAAYABgD8//z//v/+/+//7//o/+j/4//j/9j/2P/k/+T/5P/k/+T/5P/t/+3/8v/y/+//7//z//P//P/8//T/9P/u/+7/3//f/83/zf/B/8H/tf+1/7L/sv+0/7T/wf/B/87/zv/Q/9D/0P/Q/9D/0P/H/8f/uv+6/7T/tP+u/67/t/+3/7//v//C/8L/y//L/9D/0P/Q/9D/zf/N/8D/wP+1/7X/sP+w/77/vv/M/8z/2//b//D/8P8GAAYAHwAfACcAJwAlACUAIQAhACAAIAAbABsAGgAaABIAEgARABEAEQARAP/////6//r/9//3//T/9P/0//T/+v/6/woACgAVABUAIgAiACkAKQAiACIAEgASAPb/9v/h/+H/2f/Z/9L/0v/N/83/0P/Q/9D/0P/W/9b/3P/c/9z/3P/p/+n/7f/t//L/8v/1//X//P/8//3//f/2//b/9f/1//P/8//r/+v/5v/m/9b/1v/K/8r/yf/J/8r/yv/T/9P/1v/W/9n/2f/e/97/6P/o//D/8P//////CAAIAAMAAwADAAMA+v/6//f/9//5//n/+P/4//3//f/9//3/AQABAAMAAwAKAAoACwALAAkACQAMAAwAAwADAAEAAQABAAEAAgACAAQABAAQABAAJQAlADQANAA0ADQALwAvADgAOAA/AD8APQA9ADMAMwAjACMAEAAQAAcABwD6//r//v/+/wgACAAOAA4AJQAlAD8APwBIAEgARQBFAEgASABFAEUAOAA4ACkAKQAZABkAFwAXABsAGwAcABwAFwAXAAkACQACAAIA/P/8//P/8//t/+3/5v/m/+j/6P/3//f//v/+/w4ADgAXABcACgAKAPn/+f/t/+3/2//b/83/zf+9/73/s/+z/7//v//Q/9D/3//f/+b/5v/r/+v/+P/4//////8AAAAAAAAAAPr/+v/6//r/+P/4//T/9P/8//z//f/9/wYABgARABEAEwATABgAGAAUABQADAAMAAkACQAEAAQAAAAAAAYABgATABMAHQAdACwALAAwADAAMgAyAD0APQBFAEUASABIAEQARABGAEYASwBLADoAOgArACsAGQAZABEAEQAPAA8ABAAEAAQABAAPAA8AIAAgACYAJgArACsAMwAzAEIAQgBIAEgASABIAEMAQwAyADIAJwAnAB0AHQAKAAoAAwADAPL/8v/Y/9j/zf/N/87/zv/T/9P/5P/k//n/+f8GAAYAEgASABcAFwAYABgACwALAPz//P/j/+P/x//H/73/vf+4/7j/wv/C/8n/yf/X/9f/6P/o//L/8v/8//z/BQAFABcAFwAeAB4AHAAcABsAGwAYABgAEAAQAAcABwD1//X/3//f/8f/x/+9/73/wv/C/8n/yf/R/9H/5f/l//T/9P8FAAUAGAAYACEAIQAVABUACQAJAAkACQAFAAUAAQABAPr/+v/3//f/+f/5//n/+f/0//T//P/8/wMAAwACAAIADQANABcAFwAPAA8AEAAQAAkACQDy//L/5v/m/9n/2f/N/83/zf/N/9P/0//k/+T/AAAAABgAGAAmACYAMwAzADIAMgA0ADQAOwA7AEIAQgA9AD0APwA/AEUARQBCAEIAOwA7AC4ALgAmACYALgAuAEAAQABTAFMAZgBmAHAAcAB0AHQAfQB9AH4AfgB0AHQAYwBjAE4ATgA6ADoANQA1ADYANgAyADIAOAA4AEkASQBOAE4ASABIAEMAQwA9AD0AMAAwAB4AHgAMAAwACAAIAA0ADQAUABQAEwATAAwADAABAAEA+P/4/+z/7P/g/+D/0P/Q/83/zf/T/9P/5P/k/+//7//r/+v/5P/k/9X/1f/Q/9D/xf/F/7r/uv/A/8D/xP/E/9H/0f/Z/9n/3v/e/97/3v/c/9z/3f/d/9//3//a/9r/2v/a/93/3f/Z/9n/xv/G/7z/vP+5/7n/uf+5/8n/yf/Z/9n/4f/h//L/8v8AAAAABgAGAAEAAQD3//f/8P/w/+X/5f/f/9//5f/l/+b/5v/t/+3/8f/x//n/+f8OAA4AEAAQAAsACwASABIADQANAAMAAwAAAAAA9f/1/+v/6//q/+r/8f/x/+7/7v/2//b/AQABAAsACwAJAAkAAgACAPz//P/1//X/6f/p/+n/6f/j/+P/4P/g/+P/4//m/+b/6//r//b/9v/3//f//P/8/w4ADgAaABoAHgAeABEAEQACAAIAAwADAAAAAAD8//z/+//7//D/8P/u/+7/5//n/+X/5f/n/+f/9P/0/wAAAAAAAAAA/f/9/+r/6v/W/9b/0P/Q/9D/0P/U/9T/3f/d/+f/5//7//v/DgAOABwAHAApACkAHQAdABMAEwAMAAwAAQABAPj/+P/6//r/9//3//L/8v/0//T/7v/u/+v/6//m/+b/5f/l/+j/6P/p/+n/7//v//X/9f/y//L/9P/0//T/9P/x//H/5v/m/9v/2//X/9f/2f/Z/+f/5//y//L/7v/u/+j/6P/m/+b/3v/e/9b/1v/I/8j/vf+9/8L/wv/H/8f/zf/N/9X/1f/e/97/4v/i/9//3//i/+L/1//X/8X/xf++/77/v/+//8X/xf/Y/9j/6//r//n/+f/8//z/5//n/9//3//i/+L/5v/m/+j/6P/m/+b/7f/t//D/8P/8//z/DAAMAA8ADwAPAA8AFgAWABIAEgAKAAoABwAHAAcABwAPAA8ADwAPAA0ADQAPAA8AIAAgAC4ALgAoACgAKgAqADQANAA5ADkAPgA+AEgASABPAE8AVABUAFIAUgBWAFYATQBNADwAPAAvAC8AHwAfABEAEQADAAMABQAFAAMAAwACAAIAAQABAAwADAAMAAwADQANABAAEAAVABUAHAAcACwALAA3ADcAQgBCAD8APwA0ADQAMAAwACEAIQAQABAA+v/6/+X/5f/i/+L/5f/l/+7/7v/7//v/AgACAA4ADgAaABoAHgAeACAAIAAhACEAGgAaABkAGQAYABgADwAPAAcABwAAAAAA+P/4/+T/5P/X/9f/0f/R/9H/0f/Y/9j/3v/e/+r/6v/7//v/CQAJAA4ADgD/////8f/x/+L/4v/I/8j/vP+8/6v/q/+g/6D/qP+o/63/rf+4/7j/yv/K/9n/2f/k/+T/5f/l/+D/4P/Y/9j/0v/S/83/zf/N/83/2//b/+D/4P/g/+D/4P/g/+L/4v/d/93/4//j/+z/7P/3//f/9f/1//n/+f8CAAIACAAIAA4ADgAQABAAFwAXABYAFgAVABUAEwATABIAEgAXABcAIAAgAB0AHQAbABsAIAAgABoAGgAdAB0ALAAsAC0ALQA4ADgAPQA9ADIAMgAbABsA9v/2/9z/3P/D/8P/v/+//8L/wv/D/8P/xf/F/9P/0//h/+H/7v/u//3//f8KAAoADQANAAIAAgAAAAAA+f/5/+n/6f/g/+D/5//n/+r/6v/w//D/+//7/wkACQANAA0AHQAdACcAJwAmACYAJAAkACMAIwAdAB0AGgAaABMAEwARABEAGQAZAB0AHQAhACEAKQApACsAKwA0ADQAOwA7AD4APgBFAEUAPgA+ADsAOwA2ADYALAAsABsAGwAYABgAFAAUABQAFAAaABoAGAAYACQAJAAtAC0AJAAkABcAFwAQABAADgAOAAoACgAKAAoADQANAAcABwAFAAUAAwADAP/////8//z/AAAAAAIAAgALAAsABwAHAA0ADQALAAsACAAIAAEAAQD7//v/AAAAAP7//v/9//3/+//7/wIAAgABAAEACAAIAA4ADgAOAA4AGwAbABUAFQASABIACwALAAIAAgAHAAcAEQARAAoACgD5//n/9P/0//n/+f/7//v/AAAAAAQABAALAAsADwAPABEAEQAUABQAEgASAAsACwD9//3/9//3/+r/6v/e/97/1f/V/9X/1f/b/9v/4P/g/+P/4//v/+///f/9/wUABQAPAA8ADQANABUAFQAWABYAFwAXABcAFwAUABQAFgAWABMAEwARABEAEAAQAA4ADgASABIAHAAcABUAFQAJAAkABwAHAAYABgAPAA8AEgASABMAEwAVABUAHAAcACMAIwAmACYANQA1ADwAPAA8ADwAOQA5ADIAMgAgACAADAAMAAUABQAAAAAA/P/8/wIAAgAKAAoAFgAWACgAKAAwADAALgAuACsAKwAjACMAGgAaAAsACwAAAAAA9f/1/+//7//q/+r/6P/o//f/9/8JAAkADAAMABMAEwARABEACwALAA0ADQAHAAcA+f/5/+//7//x//H/9v/2/wEAAQD7//v/7v/u/+D/4P/Y/9j/2v/a/9n/2f/f/9//6//r/+P/4//c/9z/3P/c/9b/1v/R/9H/zP/M/8n/yf/E/8T/uv+6/73/vf/T/9P/2v/a/9b/1v/N/83/yv/K/8z/zP/C/8L/u/+7/7v/u/+8/7z/t/+3/6z/rP+1/7X/v/+//7z/vP+4/7j/tv+2/7b/tv/G/8b/z//P/9v/2//i/+L/5v/m/+z/7P/n/+f/6v/q//X/9f/v/+//7f/t//T/9P/v/+//9v/2/wAAAAASABIAFwAXABYAFgAdAB0AKAAoACgAKAAmACYAJwAnACYAJgAiACIAIQAhAB0AHQASABIADgAOAAwADAAMAAwACwALAAsACwARABEAFwAXACMAIwAoACgAIQAhACEAIQASABIACQAJAAQABAD3//f/+v/6//b/9v/t/+3/5f/l/+T/5P/n/+f/8f/x//////8MAAwAEgASAA8ADwARABEAEQARAAgACAD6//r/7f/t/+P/4//r/+v/7//v//D/8P//////CwALAAsACwANAA0AEgASABkAGQAeAB4AIgAiABsAGwAZABkAGgAaABUAFQARABEAFwAXABUAFQAOAA4AFQAVABsAGwAhACEAHQAdABsAGwAZABkACAAIAAEAAQD5//n/9P/0/wMAAwANAA0AEgASAA0ADQALAAsADAAMAAsACwAJAAkABgAGAAAAAAD6//r/8v/y//P/8//0//T/8P/w/+P/4//T/9P/yP/I/8X/xf/N/83/zf/N/9r/2v/q/+r/9P/0/wYABgAGAAYACwALAAgACAAFAAUA/P/8/+X/5f/g/+D/2//b/9D/0P/K/8r/0P/Q/9v/2//u/+7//f/9/wwADAAVABUAFAAUABYAFgAIAAgA7P/s/9j/2P/K/8r/wP/A/7z/vP/D/8P/0P/Q//H/8f8IAAgAGAAYAB4AHgAhACEAJgAmAB8AHwAgACAAIQAhACcAJwAsACwAKQApACIAIgATABMACQAJABAAEAAYABgAGwAbACkAKQAwADAANgA2AD0APQA8ADwAOQA5ADcANwAqACoAIAAgAA4ADgAHAAcA/////wMAAwAMAAwADwAPABEAEQAbABsAJQAlACsAKwAyADIAMAAwADEAMQAlACUAEwATAAUABQD9//3/6//r/+L/4v/a/9r/2f/Z/9P/0//a/9r/4v/i//T/9P8EAAQA/v/+//r/+v/q/+r/6//r/9//3//d/93/2P/Y/9b/1v/m/+b/6f/p//D/8P/p/+n/4f/h/9n/2f/F/8X/u/+7/8H/wf++/77/xP/E/8j/yP/I/8j/0//T/+D/4P/q/+r/9f/1//v/+//6//r/+//7/wEAAQD8//z/8f/x//T/9P/q/+r/3f/d/9P/0//R/9H/1f/V/9//3//u/+7//v/+/xMAEwARABEAEQARAAwADAAAAAAA8P/w/+X/5f/p/+n/8f/x/w0ADQAuAC4AQQBBAE0ATQBNAE0ATgBOAFoAWgBaAFoAUwBTAFYAVgBHAEcAQQBBAD8APwBKAEoATwBPAFMAUwBLAEsAPQA9ACoAKgATABMABgAGAAQABAACAAIA+P/4//3//f8AAAAAGQAZAB0AHQAnACcAJwAnACUAJQAiACIAJQAlACwALAA6ADoAUABQAFcAVwBcAFwARgBGADYANgAmACYAIgAiAA0ADQADAAMA9f/1/+7/7v/4//j//v/+/wgACAAHAAcADwAPAA4ADgAUABQA/v/+/wcABwAHAAcAEAAQAAsACwAIAAgADAAMAAAAAAAHAAcA9//3//3//f/r/+v/+//7//n/+f/+//7//P/8/w0ADQATABMAFAAUABYAFgAPAA8ACQAJAPv/+/8PAA8AAAAAAAgACADy//L/7P/s/83/zf+//7//t/+3/7T/tP+5/7n/sf+x/8f/x//J/8n/5P/k/9r/2v/r/+v/3v/e//L/8v/x//H/9P/0//L/8v/y//L/AwADAAgACAAbABsAFAAUADEAMQApACkAPwA/ADcANwA/AD8AKAAoACUAJQAdAB0ACAAIAAcABwAFAAUAGAAYAAUABQAcABwACwALABgAGAD1//X/9P/0/+T/5P/d/93/1f/V/9r/2v/u/+7/5v/m/wYABgD5//n/FAAUAAAAAAAJAAkA+//7/wEAAQDt/+3/8f/x//z//P8EAAQABgAGAAIAAgAQABAA/v/+/xYAFgD9//3//f/9/9r/2v/g/+D/xv/G/87/zv/T/9P/7v/u/wMAAwAFAAUAHQAdABQAFAAuAC4AFAAUACQAJAAGAAYAEwATAAAAAAADAAMAAQABAAYABgAJAAkABgAGACAAIAAZABkANwA3ADMAMwBFAEUANwA3AE0ATQAwADAANwA3ACUAJQAmACYALQAtABkAGQAbABsAAQABAAsACwD6//r/CgAKAPH/8f8AAAAA+P/4//X/9f/i/+L/2//b/8//z/+9/73/yv/K/7X/tf/G/8b/t/+3/87/zv/L/8v/3v/e/9P/0//k/+T/4//j/+T/5P/s/+z/7v/u/wYABgALAAsAKAAoABkAGQAhACEABgAGAPb/9v/P/8//wf/B/7D/sP+z/7P/wv/C/8z/zP/k/+T/7v/u//n/+f/o/+j/6f/p/8n/yf/Q/9D/yv/K/9z/3P/y//L/CgAKABIAEgAPAA8AJwAnACcAJwA1ADUAHAAcACMAIwAcABwAKQApACAAIAAXABcAFAAUABAAEAAPAA8A/P/8//T/9P/i/+L/9v/2//r/+v8QABAAFwAXAB4AHgAYABgADgAOAPz//P/l/+X/2P/Y/8//z//V/9X/zv/O/97/3v/d/93/+v/6//P/8//2//b/8f/x/+b/5v/d/93/0v/S/+L/4v/a/9r/6//r/+j/6P//////+P/4//P/8//n/+f/5f/l/9f/1//a/9r/5P/k/+D/4P/1//X/9P/0///////5//n//f/9//H/8f8BAAEA9//3//b/9v/2//b/7f/t/+v/6//n/+f/9P/0//X/9f8BAAEAAAAAABIAEgARABEAGAAYABcAFwAXABcAEAAQAAkACQD+//7/7//v//X/9f/u/+7/+f/5//n/+f8LAAsAGAAYACAAIAARABEACgAKAPn/+f/s/+z/3//f/9P/0//a/9r/0v/S/+D/4P/m/+b/+P/4//H/8f/z//P/9v/2//3//f/+//7///////7//v/q/+r/6//r/+f/5//0//T/+//7/wUABQD4//j/9//3/+v/6//e/97/yf/J/73/vf/K/8r/zv/O/9z/3P/h/+H/9P/0//z//P8SABIAGQAZACQAJAArACsALQAtAB4AHgAMAAwA/P/8/+j/6P/Z/9n/zv/O/8X/xf+s/6z/s/+z/8L/wv/T/9P/4f/h//X/9f/y//L/8//z//D/8P/m/+b/3//f/9v/2//h/+H/4//j/+n/6f/s/+z/AgACAAYABgABAAEA/P/8//P/8//m/+b/5P/k/93/3f/f/9//8//z/wUABQAmACYAOwA7AD4APgA5ADkAMAAwACcAJwAhACEAFwAXABAAEAAHAAcAAwADAAAAAAABAAEA/v/+/wQABAATABMAFgAWACEAIQAlACUALQAtADEAMQA0ADQANgA2ADYANgBDAEMASwBLAE0ATQBWAFYATQBNAEcARwA6ADoAKgAqAB4AHgARABEABwAHAAcABwANAA0ACgAKAAoACgAJAAkACQAJAAwADAANAA0ABgAGAAcABwAGAAYAAAAAAPX/9f/3//f/8v/y//P/8//x//H/7P/s/+z/7P/h/+H/5//n/+j/6P/w//D/+f/5/+//7//l/+X/4P/g/+z/7P///////v/+/+3/7f/b/9v/z//P/8T/xP/D/8P/x//H/8b/xv/C/8L/vv++/8D/wP/T/9P/5f/l/+7/7v/1//X/9P/0//7//v8AAAAA8//z/+3/7f/p/+n/9f/1/+v/6//i/+L/4P/g/+7/7v/y//L/8//z//j/+P/w//D/6P/o//P/8//z//P/8f/x/+f/5//Z/9n/3f/d/+L/4v/q/+r/AAAAABQAFAAhACEANQA1AE8ATwBdAF0AXgBeAFMAUwBLAEsANwA3ACcAJwAaABoAEQARABAAEAAfAB8AJAAkACkAKQAxADEAMAAwADkAOQA+AD4ASQBJAFEAUQBOAE4ARgBGAEYARgA7ADsALgAuACIAIgAZABkADgAOABQAFAAWABYAFQAVABMAEwAMAAwACgAKAAgACAAOAA4ACwALAAsACwABAAEA/f/9//v/+/8AAAAABQAFAAgACAACAAIA9//3/+z/7P/m/+b/3f/d/8v/y//P/8//0P/Q/9v/2//t/+3/+P/4//z//P/7//v/BAAEAAAAAAAOAA4AGAAYABcAFwAUABQAFAAUABYAFgAdAB0AEwATABIAEgABAAEA9f/1/+X/5f/V/9X/zv/O/9j/2P/m/+b/8f/x/wgACAARABEAIgAiADAAMAA7ADsANAA0ADkAOQAjACMADAAMAPr/+v/k/+T/3f/d/+H/4f/i/+L/5f/l//z//P8EAAQAEAAQABYAFgAnACcAIwAjACUAJQAkACQAHAAcABgAGAAKAAoAAwADAOn/6f/g/+D/2v/a/9z/3P/b/9v/3P/c/9n/2f/Y/9j/4f/h/+z/7P/5//n/6//r/+H/4f/T/9P/yv/K/8v/y//N/83/y//L/9D/0P/L/8v/1v/W/97/3v/f/9//6P/o/+n/6f/w//D/9//3/xAAEAAbABsALwAvADoAOgBAAEAATwBPAFsAWwBhAGEAVQBVAFIAUgBMAEwASgBKAEwATABSAFIASwBLAE4ATgBNAE0APQA9AC0ALQAcABwAEwATAAsACwAQABAAEAAQABIAEgAYABgAIQAhABoAGgAfAB8AHQAdACEAIQAlACUAIgAiACEAIQAZABkAGAAYAAkACQABAAEA9v/2//P/8//1//X/9f/1//L/8v/s/+z/6P/o/+D/4P/i/+L/4//j/+D/4P/W/9b/2//b/9n/2f/o/+j/6v/q/+P/4//h/+H/0//T/9P/0//b/9v/7//v//3//f8KAAoAEQARACoAKgA6ADoARABEADoAOgA7ADsANQA1ADAAMAAiACIADQANABEAEQAOAA4ACgAKAAAAAAAKAAoADQANABsAGwAiACIANAA0ADMAMwAxADEAMAAwAB4AHgAcABwADQANAPz//P/b/9v/wv/C/6//r/+3/7f/vP+8/9H/0f/g/+D/5//n//T/9P/r/+v/8//z/+X/5f/g/+D/zv/O/8f/x/+6/7r/v/+//8D/wP/F/8X/yv/K/8v/y//e/97/2f/Z/+f/5//o/+j/5//n/9z/3P/b/9v/yv/K/9D/0P/L/8v/yv/K/83/zf/M/8z/1P/U/9L/0v/k/+T/7P/s//3//f8AAAAAEgASAA0ADQARABEAFAAUABQAFAAVABUAEwATABgAGAAdAB0AKwArAC0ALQAxADEAHwAfABwAHAASABIAFAAUAAgACAAKAAoACQAJAAAAAAAGAAYA//////r/+v/8//z/AQABAPz//P8GAAYA/////w8ADwATABMAHQAdACUAJQAmACYANQA1AC4ALgAwADAAKAAoAC0ALQAoACgALwAvACcAJwAhACEAHAAcAB4AHgAZABkACgAKAPr/+v/y//L/8v/y/+H/4f/h/+H/5f/l/+v/6//t/+3//P/8/wIAAgAKAAoAAAAAAPH/8f/q/+r/2P/Y/+H/4f/i/+L/8v/y/wAAAAAOAA4AEwATAB4AHgAuAC4AMgAyAC4ALgAuAC4AIgAiAB8AHwAbABsAFQAVAAcABwDy//L/8f/x/+b/5v/i/+L/3f/d/+L/4v/l/+X/4//j/+//7//2//b/8//z//P/8//w//D/6f/p/+7/7v/m/+b/8v/y//D/8P/5//n/+v/6/+7/7v/w//D/5P/k/9v/2//U/9T/0v/S/9b/1v/b/9v/1P/U/9z/3P/d/93/3//f/9j/2P/N/83/wP/A/8D/wP++/77/q/+r/53/nf+f/5//s/+z/7b/tv/C/8L/wf/B/8v/y//e/97/6//r//L/8v/x//H/8f/x//T/9P8AAAAABQAFAA4ADgAXABcAEgASAAMAAwD9//3/+P/4//z//P8CAAIADwAPABYAFgAdAB0AJgAmADQANAA9AD0ARgBGAEUARQBBAEEAMAAwACQAJAAhACEAGwAbABoAGgASABIAGgAaABYAFgAbABsAIwAjADEAMQA0ADQALgAuADAAMAAtAC0AKwArACMAIwApACkAMwAzADEAMQAsACwAIgAiACEAIQAZABkAEAAQAP7//v/t/+3/3P/c/9n/2f/N/83/yv/K/9T/1P/J/8n/xv/G/83/zf/U/9T/1//X/8//z//G/8b/zv/O/9T/1P/T/9P/1v/W/9X/1f/Y/9j/4//j/+v/6//z//P//P/8//7//v//////BQAFAAQABAD+//7//f/9//////8GAAYADQANABcAFwATABMADAAMAAcABwADAAMAAAAAAP////8EAAQACAAIAAIAAgAAAAAA+P/4/+3/7f/g/+D/5v/m//L/8v//////FgAWACUAJQAvAC8ALQAtADIAMgAxADEAJAAkABEAEQD7//v/6P/o/9//3//g/+D/9P/0/woACgAWABYAHgAeACUAJQAmACYAKgAqADAAMAAfAB8AFAAUABEAEQAGAAYA9//3/+7/7v/l/+X/2f/Z/9v/2//i/+L/8//z//X/9f8GAAYAFQAVABQAFAAVABUAFAAUAAkACQAAAAAAAwADAAAAAAD7//v//////wEAAQD5//n/7v/u/+v/6//v/+//+v/6/wYABgAJAAkACgAKAA4ADgAMAAwAEAAQAAUABQAEAAQAAwADAP3//f8AAAAA+v/6//b/9v/9//3/DAAMAB4AHgAeAB4AEAAQAAoACgAFAAUA+//7//L/8v/x//H/7P/s/+v/6//o/+j/7f/t//n/+f8AAAAACAAIAAgACAABAAEA/P/8//X/9f/m/+b/6f/p/97/3v/O/87/1f/V/9P/0//W/9b/3//f/+n/6f/t/+3/7v/u/+z/7P/r/+v/5f/l/+n/6f/t/+3/7v/u//L/8v/0//T/AAAAAA0ADQAJAAkABAAEAA0ADQACAAIA+P/4//L/8v/0//T/9P/0//v/+/8FAAUAEQARABEAEQAQABAADgAOAAAAAAD0//T/6v/q/+P/4//N/83/xf/F/8//z//Y/9j/7//v/wAAAAAQABAAJwAnAC8ALwAnACcAJgAmACAAIAAcABwADwAPAAMAAwD5//n/9v/2//j/+P/8//z/AQABAAcABwAUABQAGgAaACIAIgAoACgAKQApADAAMAA5ADkAMwAzADMAMwAmACYAIgAiACMAIwAeAB4AIAAgAB0AHQAdAB0AGwAbAB0AHQAYABgAJgAmACYAJgAZABkAFAAUAAsACwADAAMA/f/9//D/8P/n/+f/3f/d/+D/4P/k/+T/8f/x/wAAAAALAAsADwAPABQAFAAiACIAJwAnACEAIQAZABkAGwAbABwAHAAMAAwAEAAQABAAEAAOAA4AGgAaABsAGwAWABYAJAAkAB8AHwAQABAACwALAAMAAwADAAMAAgACAAwADAAaABoADwAPAAAAAAD+//7/+v/6//T/9P/3//f/+v/6/wQABAAPAA8AFgAWAB0AHQAgACAAEwATAAcABwDx//H/4//j/93/3f/u/+7/BgAGABAAEAAPAA8AFAAUAAcABwAAAAAA9f/1/+n/6f/v/+//6v/q/+b/5v/x//H/+f/5/wYABgALAAsABQAFAP/////0//T/5f/l/9b/1v/O/87/xv/G/8X/xf/Q/9D/2P/Y/+P/4//v/+//9f/1//7//v8DAAMAAAAAAAcABwD+//7/8//z/+T/5P/b/9v/1//X/8//z//W/9b/3//f/+T/5P/z//P/BAAEABEAEQAiACIAMgAyAD0APQBCAEIAQABAADYANgAuAC4AHQAdAP7//v/o/+j/0v/S/8H/wf+4/7j/uP+4/7n/uf/L/8v/3//f/+n/6f/s/+z/6P/o/93/3f/T/9P/x//H/73/vf+u/67/qP+o/6b/pv+q/6r/vv++/87/zv/e/97/7P/s//H/8f/s/+z/9f/1//v/+/8DAAMAAgACAAAAAAAJAAkAEAAQAAcABwD6//r/8//z//P/8//6//r/AgACABIAEgAqACoANgA2ADcANwA9AD0APwA/ADAAMAAlACUAJwAnACoAKgA6ADoARABEAEwATABPAE8AQgBCADcANwAvAC8AKQApACkAKQArACsAKwArACQAJAAmACYAJAAkABkAGQAUABQAFwAXABUAFQAZABkAHQAdABgAGAAiACIAKwArADQANAAwADAAHgAeAAkACQD0//T/2f/Z/8v/y//P/8//2P/Y/+//7//+//7/BwAHABMAEwAMAAwA/P/8/+7/7v/b/9v/yf/J/7//v/+z/7P/t/+3/8f/x//L/8v/xf/F/8j/yP/K/8r/x//H/83/zf/P/8//3v/e//H/8f/8//z/AQABAAwADAAcABwAHgAeAAgACAD8//z/+//7/wcABwAUABQAGwAbACMAIwAnACcAJQAlABkAGQAJAAkAAgACAP7//v/w//D/8f/x//X/9f/0//T//v/+/wcABwAWABYAIgAiACUAJQAaABoAFAAUABkAGQAlACUAKwArADYANgA2ADYAKQApACQAJAAXABcACwALAP/////m/+b/4v/i/+b/5v/z//P/9P/0//f/9//+//7/+//7//v/+//y//L/7v/u/+//7//n/+f/3v/e/9z/3P/f/9//7f/t//D/8P/v/+//6P/o/9//3//l/+X/4f/h/9//3//b/9v/2f/Z/9f/1//S/9L/zf/N/9T/1P/V/9X/1f/V/+X/5f/z//P/AAAAAAMAAwD5//n/8v/y/+b/5v/a/9r/0v/S/9v/2//v/+//8f/x//r/+v8GAAYADAAMAA0ADQAbABsAIQAhACIAIgAvAC8ANwA3AEYARgBQAFAAVABUAEoASgAyADIAIgAiABYAFgAEAAQA/P/8//T/9P/t/+3/9f/1/wQABAARABEAFwAXABkAGQAQABAACAAIAAcABwD6//r/9P/0//T/9P/7//v//P/8//j/+P/0//T/7P/s/+v/6//3//f/CgAKABQAFAAPAA8AFAAUAA4ADgADAAMABAAEAPb/9v8AAAAADwAPACQAJAA3ADcARgBGAFQAVABfAF8AYQBhAFkAWQBQAFAASwBLAEMAQwBBAEEAQgBCADwAPAArACsAEAAQAPj/+P/n/+f/0//T/9D/0P/c/9z/5f/l/+3/7f/s/+z/7P/s//P/8//s/+z/7P/s//D/8P/s/+z/7P/s//D/8P/0//T/9f/1//r/+v/5//n/8P/w/+z/7P/p/+n/2f/Z/8r/yv/Q/9D/3P/c/93/3f/x//H/AgACAAQABAAKAAoACwALAAEAAQD4//j/7v/u/9v/2//Q/9D/yP/I/8v/y//R/9H/2f/Z/9//3//g/+D/5v/m/+7/7v/t/+3/9P/0//v/+//3//f/9P/0/+j/6P/c/9z/5P/k/+D/4P/W/9b/5f/l/+n/6f/o/+j/4//j/+n/6f/1//X/9P/0//n/+f8NAA0AKgAqADsAOwBKAEoAVwBXAFUAVQBKAEoANAA0ACUAJQASABIAAAAAAPn/+f/0//T/8P/w//D/8P/2//b/+f/5//v/+/8AAAAABgAGAA0ADQAWABYAGgAaABQAFAARABEADQANAAsACwALAAsA/////wEAAQD9//3/6//r/+7/7v/u/+7/9P/0//7//v/7//v/7//v/+L/4v/f/9//4//j/+7/7v8CAAIAEwATABMAEwASABIAEQARAAkACQAHAAcA+v/6//L/8v/n/+f/4P/g/+L/4v/q/+r//v/+/wwADAAVABUAFAAUABYAFgANAA0ABQAFAP7//v/2//b/+v/6/wYABgAZABkAGwAbACAAIAAkACQAIQAhAB8AHwAYABgAEQARAA8ADwAVABUAIAAgACIAIgArACsAKgAqACgAKAAtAC0ALQAtAC8ALwAzADMALgAuACcAJwAwADAAMAAwAC8ALwAlACUAHAAcABgAGAANAA0A/P/8/+3/7f/u/+7/9//3//v/+//x//H/7//v//X/9f/u/+7/6P/o/+3/7f/x//H/+v/6/wUABQAIAAgAAwADAAIAAgACAAIA/f/9//T/9P/q/+r/6P/o/97/3v/K/8r/zv/O/9f/1//a/9r/6P/o//n/+f8BAAEABgAGAA4ADgAXABcAGQAZAAsACwALAAsABAAEAPf/9//8//z/AQABAAQABAAKAAoACwALAAMAAwANAA0AHgAeACgAKAApACkAIwAjAB8AHwAOAA4AAQABAPj/+P/r/+v/5f/l/+D/4P/d/93/1P/U/9b/1v/g/+D/5P/k/+r/6v/q/+r/5v/m/+L/4v/f/9//3v/e/9z/3P/f/9//2//b/9j/2P/T/9P/yf/J/7r/uv+8/7z/u/+7/7n/uf/K/8r/1P/U/9r/2v/k/+T/6//r/+n/6f/i/+L/3//f/+H/4f/o/+j/8v/y//X/9f8EAAQAEAAQAAwADAAFAAUA8v/y/+b/5v/g/+D/1//X/9n/2f/b/9v/6P/o//X/9f/0//T/9//3//r/+v/3//f//v/+/wIAAgANAA0ACgAKAAEAAQAFAAUACQAJAAsACwAOAA4AHQAdADgAOABNAE0AXgBeAG4AbgBsAGwAXQBdAEMAQwAjACMAAQABAOz/7P/j/+P/4v/i/9z/3P/h/+H/7v/u//n/+f8OAA4AJAAkACoAKgAkACQAHQAdABcAFwAHAAcA+P/4/93/3f/K/8r/yf/J/9P/0//i/+L/5f/l/+z/7P/r/+v/6v/q//P/8//y//L/9v/2//f/9//0//T/+f/5/wAAAADy//L/4//j/9P/0//C/8L/yP/I/9T/1P/e/97/5P/k/+3/7f/4//j/BQAFAA8ADwAUABQAFAAUAAQABAD2//b/7//v//H/8f/3//f/+f/5//v/+//4//j//////wYABgAUABQALgAuAEgASABdAF0AbQBtAHIAcgB3AHcAZQBlAE4ATgAwADAAHwAfABQAFAAQABAAFQAVABYAFgAjACMAKgAqADUANQBBAEEAQABAAC8ALwAiACIAFAAUAAoACgAKAAoAAAAAAAQABAAKAAoABQAFAAEAAQD1//X/3v/e/9n/2f/X/9f/4P/g/+j/6P/r/+v/8f/x//z//P8GAAYABQAFAAsACwAFAAUA9v/2/+//7//s/+z/6f/p/+b/5v/o/+j/6f/p//D/8P/q/+r/8f/x//3//f8JAAkAIAAgACcAJwAkACQAIwAjACEAIQAhACEAEgASABQAFAAiACIAMgAyADYANgAxADEAKQApABgAGAALAAsACAAIAAkACQAFAAUA+v/6//f/9/8AAAAA/v/+/wAAAAD3//f/4//j/+P/4//a/9r/zf/N/8X/xf+8/7z/xP/E/9D/0P/Z/9n/3f/d/9r/2v/Y/9j/y//L/7z/vP+3/7f/qv+q/63/rf+q/6r/rf+t/8H/wf/V/9X/4f/h//T/9P/9//3/BQAFABgAGAAjACMAOgA6AEgASABPAE8ASwBLAEEAQQA0ADQAHQAdABcAFwAZABkAIgAiACkAKQAzADMANAA0ADAAMAA1ADUANQA1ADcANwBKAEoAVwBXAGgAaAB8AHwAfwB/AHYAdgBsAGwAVABUADgAOAAkACQAGgAaAB4AHgAgACAAJgAmADEAMQA3ADcAPQA9ADYANgAyADIAKgAqABUAFQDx//H/xv/G/6v/q/+M/4z/cP9w/1P/U/9A/0D/L/8v/yX/Jf8q/yr/Mv8y/z3/Pf9A/0D/QP9A/0f/R/9L/0v/Qv9C/zj/OP8k/yT/D/8P//3+/f7z/vP+6P7o/tr+2v7W/tb+1f7V/tz+3P7z/vP+B/8H/xb/Fv8t/y3/Qv9C/1P/U/9x/3H/hP+E/6T/pP/P/8//+f/5/yMAIwA2ADYAQwBDAF0AXQBpAGkAiwCLALUAtQDeAN4AFgEWAUYBRgFvAW8BoQGhAcMBwwHPAc8B4gHiAesB6wHpAekB8wHzAfUB9QEDAgMCDQINAgwCDAIJAgkCDgIOAhUCFQIMAgwCBgIGAvcB9wHsAewB1gHWAbABsAGYAZgBdQF1AUsBSwEkASQB+AD4AMkAyQCYAJgAXQBdACUAJQDp/+n/pP+k/2L/Yv8v/y//Av8C/9P+0/6p/qn+e/57/kr+Sv4g/iD++v36/dr92v23/bf9lf2V/Wv9a/1F/UX9IP0g/f78/vzh/OH8xPzE/Kv8q/yS/JL8gvyC/Hb8dvxu/G78dfx1/ID8gPyQ/JD8tPy0/Nb81vwG/Qb9MP0w/V79Xv2Y/Zj90P3Q/QD+AP41/jX+Yv5i/oz+jP6+/r7+9f71/jD/MP9q/2r/nf+d/9r/2v8mACYAYQBhAKQApADyAPIAPwE/AZIBkgHhAeEBJQIlAl8CXwKdAp0C3QLdAhYDFgNXA1cDlQOVA8kDyQMFBAUEMgQyBFwEXASFBIUEqgSqBNME0wTqBOoEAAUABRIFEgUjBSMFLAUsBSsFKwUsBSwFJQUlBRUFFQX+BP4E2gTaBLQEtASKBIoEagRqBEIEQgQFBAUEyAPIA44DjgNXA1cDEwMTA8cCxwJuAm4CBgIGAq0BrQFMAUwB7gDuAI0AjQA2ADYA2//b/2r/av8F/wX/pP6k/kn+Sf7x/fH9mv2a/TT9NP3M/Mz8afxp/AH8AfyY+5j7Ofs5++L64vqY+pj6Wvpa+iv6K/r2+fb5yPnI+Z75nvl9+X35ZPlk+V35Xfli+WL5cvly+ZL5kvmq+ar5wvnC+dv52/n2+fb5EPoQ+jX6Nfpn+mf6mfqZ+tL60voN+w37T/tP+5T7lPvK+8r7B/wH/En8SfyL/Iv80fzR/BP9E/1b/Vv9qv2q/ev96/0+/j7+kf6R/uH+4f41/zX/gP+A/8r/yv8IAAgAQQBBAIsAiwDYANgAIAEgAWoBagGqAaoB3gHeARACEAI4AjgCagJqAp8CnwLPAs8CCwMLA0cDRwOAA4ADtwO3A+sD6wMgBCAEVARUBIMEgwS0BLQE1wTXBPAE8AQIBQgFGQUZBS4FLgVJBUkFagVqBYwFjAW0BbQF2gXaBfgF+AURBhEGJQYlBjMGMwZDBkMGPwY/BkIGQgZGBkYGNAY0BigGKAYVBhUG8QXxBbgFuAWDBYMFTgVOBQsFCwXPBM8EiASIBE0ETQQHBAcEqgOqA08DTwP2AvYClwKXAjACMALIAcgBXQFdAfYA9gB/AH8AAAAAAH7/fv/2/vb+ZP5k/tz93P1T/VP90PzQ/E/8T/zV+9X7bPts+wT7BPuY+pj6MPow+s35zflw+XD5J/kn+fD48Pi4+Lj4mfiZ+Hn4efhW+Fb4O/g7+CH4IfgL+Av49ff19+X35ffX99f35ffl9wP4A/g6+Dr4ePh4+LT4tPj7+Pv4RPlE+ZX5lfnp+en5R/pH+p36nfr3+vf6Pvs++477jvvs++z7SPxI/LD8sPwY/Rj9f/1//ez97P1c/lz+wv7C/ij/KP+J/4n/8v/y/1IAUgCxALEAHAEcAYMBgwHfAd8BOAI4AosCiwLfAt8CKAMoA2IDYgOiA6ID1APUAwoECgQ2BDYEbgRuBJYElgSwBLAE2ATYBPkE+QQbBRsFQQVBBV8FXwVyBXIFgAWABZAFkAWdBZ0FpAWkBacFpwWuBa4FuQW5BcwFzAXgBeAF/gX+BRoGGgYyBjIGTwZPBlwGXAZgBmAGWQZZBl8GXwZYBlgGVAZUBlEGUQY7BjsGKAYoBgkGCQbgBeAFuAW4BYsFiwVnBWcFRwVHBSIFIgX2BPYEwgTCBIgEiAQ+BD4E4gPiA4ADgAMJAwkDgwKDAgYCBgKLAYsBCgEKAZEAkQAPAA8Agf+B//T+9P5V/lX+sv2y/Rb9Fv1r/Gv8xfvF+yD7IPuG+ob69/n3+XX5dfkA+QD5kPiQ+Cz4LPjH98f3aPdo9wP3A/eu9q72XPZc9if2J/YD9gP26vXq9eD14PXc9dz16fXp9fz1/PUV9hX2LvYu9lb2VvaH9of2tfa19uP24/Yg9yD3avdq97z3vPcb+Bv4g/iD+AD5APmB+YH5AfoB+nj6ePrt+u36Z/tn++b75vtn/Gf84/zj/GX9Zf3p/en9e/57/hL/Ev+X/5f/GQAZAJMAkwAFAQUBcwFzAdgB2AE7AjsCogKiAhEDEQOBA4ED8APwA04ETgSlBKUE+QT5BDUFNQV1BXUFuQW5BewF7AUhBiEGUQZRBncGdwacBpwGvga+Bt8G3wYDBwMHIgciB0sHSwd3B3cHnwefB88Hzwf4B/gHJwgnCFUIVQiDCIMIrQitCMIIwgjUCNQI4gjiCN8I3wjfCN8I2AjYCMEIwQiuCK4ImgiaCIAIgAhjCGMIQwhDCB4IHgjzB/MHsQexB14HXgcNBw0Htga2Bl0GXQbuBe4FeQV5BQMFAwWABIAE/wP/A3ADcAPYAtgCQgJCApgBmAHrAOsAQwBDAKD/oP/z/vP+R/5H/pT9lP3X/Nf8E/wT/FP7U/uU+pT63/nf+Sn5Kfl/+H/45vfm9073TvfB9sH2PfY99sb1xvVf9V/1+/T79KX0pfRr9Gv0PPQ89Cz0LPQw9DD0KfQp9C/0L/Q19DX0M/Qz9EL0QvRb9Fv0cPRw9JL0kvTJ9Mn0EPUQ9XL1cvXb9dv1SvZK9sP2w/ZJ90n3y/fL91P4U/jg+OD4dPl0+Q/6D/qn+qf6Ovs6+877zvta/Fr86Pzo/Hn9ef0O/g7+oP6g/iP/I/+l/6X/MwAzAM4AzgBtAW0BAAIAAosCiwIHAwcDegN6A+ID4gNbBFsExwTHBDAFMAWHBYcFzQXNBREGEQZTBlMGiAaIBrUGtQbiBuIGAAcABywHLAdoB2gHpwenB/UH9Qc+CD4IiAiICM4IzggMCQwJNAk0CWEJYQmSCZIJqQmpCcgJyAn4CfgJJAokCkgKSApoCmgKgAqACpMKkwqVCpUKkAqQCoUKhQpwCnAKSgpKCjcKNwooCigKBQoFCt4J3gm0CbQJlQmVCWIJYgkRCREJrgiuCDMIMwibB5sH9wb3BlgGWAaiBaIF4wTjBCwELAR9A30D0ALQAv0B/QETARMBJwAnADL/Mv8z/jP+Lf0t/SD8IPwc+xz7Pfo9+nv5e/mz+LP4+Pf490b3Rvec9pz23fXd9Qz1DPVS9FL0rfOt8/jy+PJJ8knyzvHO8Zvxm/GH8YfxefF58YDxgPGo8ajx5/Hn8RryGvI98j3yUvJS8lbyVvJa8lryevJ68qHyofLI8sjyA/MD82LzYvPi8+LzcPRw9Bf1F/W79bv1UvZS9tz23PaC94L3MPgw+L34vfgu+S75rfmt+Vz6XPou+y77DvwO/PL88vzh/eH96v7q/vX/9f/wAPAAxQHFAV0CXQLIAsgCNwM3A6sDqwMMBAwEZgRmBMgEyAQ9BT0FwgXCBU4GTga8BrwG/gb+Bg4HDgcXBxcHNQc1B0kHSQc3BzcHJgcmByEHIQdJB0kHbQdtB5EHkQfJB8kHEggSCHYIdgjZCNkIQwlDCbYJtgkwCjAKmAqYCuwK7AoeCx4LRQtFC20LbQuNC40LmguaC5ELkQumC6YL0gvSC+wL7Av7C/sL8gvyC9UL1QusC6wLlAuUC4sLiwtxC3ELOws7C/oK+grQCtAKsAqwCnQKdAoICggKhQmFCfcI9wiACIAIAwgDCFUHVQd/Bn8GhQWFBX0EfQRZA1kDBAIEAoMAgwDl/uX+JP0k/Vf7V/u1+bX5UPhQ+Pr2+vai9aL1evR69JnzmfPf8t/yB/IH8inxKfFT8FPwgu+C79Lu0u5p7mnuKO4o7ubt5u227bbt0+3T7SvuK+6O7o7u6O7o7lXvVe/c79zvS/BL8KzwrPAJ8QnxXvFe8bzxvPEs8izyqvKq8kHzQfP/8//z8/Tz9Aj2CPYI9wj39ff19/X49fj/+f/52frZ+m37bfvu++77f/x//Cf9J/3e/d79q/6r/pz/nP+DAIMARgFGAdkB2QFHAkcCkQKRArcCtwKyArICqAKoAsUCxQIiAyIDtQO1A2oEagQMBQwFaAVoBZ0FnQXUBdQF+QX5BfQF9AXJBckFywXLBSMGIwbFBsUGrQetB6oIqgh4CXgJsgmyCbwJvAn6CfoJWQpZChUKFQoRCREJCwkLCQ4KDgrWC9YLpA2kDQEPAQ8UEBQQ9hD2ECkSKRI9Ez0TfxN/ExUTFRNaE1oTbxRvFG8VbxUwFjAW0xbTFsMXwxeOGI4Y8xjzGDYZNhkAGQAZiReJF8YUxhQdEh0Shw+HD+AL4AthB2EHVQNVAysAKwDc/Nz8bflt+Y32jfZa9Fr0/vH+8fnu+e5863zr8ufy51bkVuS24LbghN2E3cDawNqb2JvYqdep13/Yf9hj2mPat9y33DzfPN8Q4hDi4uTi5MTnxOet6q3qZe1l7W7wbvDk8+TzUfhR+H79fv0cAxwDawhrCN0M3QyTEJMQYBNgE5oUmhT+E/4TaxJrEn4QfhDIDcgNhgqGCmQHZAf1BPUEigKKApT/lP/4+/j74ffh93DzcPNq7mrugOmA6d7k3uQH4QfhiN6I3jXeNd6S35LfYuFi4c/jz+Ml5yXnVOpU6vDr8Ov57PnsfO987/ry+vK29rb2Z/tn+3cCdwKmCqYKgBKAElwZXBlIHkgegCCAIHcgdyCcH5wfIh4iHsobyhtwGXAZVBhUGBgYGBjVF9UXaxdrF8wWzBZuFG4UWhBaEAgMCAwqCSoJ5gbmBvkE+QQ6BDoEGgUaBSoHKgeZCZkJ7wvvC/gM+AzRDNEMngyeDP0N/Q0JEQkR/BT8FC0ZLRkUHRQdgCCAIB4jHiP6JPokQSVBJXsjeyM4IDgg6hzqHJQZlBk3FzcXjheOF0AXQBdhDmEOT/xP/GXvZe+N643rKeQp5ITOhM4suyy7l7qXulTFVMVaylrKhsmGyR3PHc9R2VHZreCt4KzirOJ85nzmrOus6yLwIvA99D30zfvN+wwIDAjyFPIUrx2vHWEeYR4nGycbrxqvGkEcQRz3FvcWYApgCucB5wH9Af0B+QD5AIH5gfmz87PzqvKq8mftZ+0F4AXgitWK1eDU4NQz1jPWxtLG0izRLNFp12nXed9533bkduQA6gDqc/Fz8drz2vMY8hjy+PX49U4BTgGXCpcK6A3oDeYR5hH0GPQYch1yHfMc8xzjGeMZIBUgFUsMSwxnA2cD1/7X/jv9O/3i+OL4SfJJ8oHuge7E7cTtwuzC7MbpxukG6Qbpeut66yfwJ/Di9eL14P3g/VkGWQaDDIMMhRCFEP8T/xP/Ff8VERURFSsTKxOPE48TBxcHFyMbIxs6HjoeWSBZIE4iTiIgIyAjCSIJIoMfgx8NHA0cFxgXGN8U3xQ0FDQUTxRPFKASoBKCDoIO3gneCf8F/wW9Ab0BRf5F/uz87PwV/xX/JQIlAuwF7AWlC6ULvhK+EhoYGhj7GPsYKhgqGCgYKBjCGsIaHx4fHvUf9R9fIF8goiGiIVMjUyOdHZ0dgg2CDTb4Nvgl5CXkO887z8e6x7rer96vuLK4sra6tro7wDvA6sfqx1nVWdWd4p3iDOcM543ljeUq5SrlCusK62P1Y/UFAgUCGg4aDtQZ1BnIJMgkfit+K5oqmiqpIqkigRiBGFAMUAzk/uT+JPUk9cL0wvS597n3bfRt9DPsM+xE50Tnn+Sf5Kfcp9yF0IXQncmdyUPLQ8u20LbQm9mb2ZzonOiZ+Zn54QHhAesB6wGLAYsBCQIJAu787vyH9If0p/On89b61vpxA3EDEgkSCT4QPhAZFRkVORI5En8Ifwjg/+D/efp5+pv1m/Wz87Pz8Pbw9p79nv2tAq0COwY7BncHdweuBa4FugC6AEf8R/w++j76f/t/+73/vf8KBwoHtw63DksTSxPDE8MT3hHeEUIPQg8kCyQLdQh1CGkJaQmuDq4OaxVrFb0cvRzYI9gjQSlBKZArkCubKZsp2CTYJAsfCx+zGbMZDRUNFagRqBFPDk8OKQopCuoF6gWnAqcCLAAsABT+FP69/b39lwCXAPkG+QZ3DncOsBWwFbcbtxuFH4Uflx+XHxUeFR7aHdodth22HZEckRyrHKscYR5hHgMaAxr9Cf0JzPLM8qfYp9h5vnm+nKmcqeSh5KELpAuk5aflp7Ovs68rwivCYdxh3DfuN+738/fzt/S39MX4xfjz//P/ewl7CYYUhhTfHd8dryWvJaIpoimHKYcpZSJlInUWdRbnBecFlvKW8l3jXeOM4Izg1+fX56jrqOsq6Croa+Rr5GrlauVP40/j/dr92r3TvdMv1S/Vcdtx2w3kDeTM88zzIAsgC4McgxxzHHMcbhFuESwJLAmsBawFsP+w/5n3mfdh8mHy3vHe8Z/0n/Th++H71wHXAcn9yf0/8D/wa+Zr5grnCudK7UrtkfSR9E79Tv2bBpsGPg0+DTMSMxIgFSAVwBLAEnsIewiq/ar9cPpw+iz/LP+eBZ4FwwrDCgUPBQ9aEFoQZQ5lDtAL0At0CnQKxAfEBwoFCgU2BzYH8BDwEJgdmB1uJm4m+Cj4KOgn6CeJJYkliiGKIWwcbBzuGO4Y4xbjFrETsROBEIEQtw63DpANkA0OCQ4J5AHkAX/7f/sz+jP63v3e/dkE2QQcDxwP7xnvGd0i3SIEKAQo8yrzKrEpsSlKJUolkyCTIDAeMB6UHZQdzR/NH8slyyU1JzUn9Rn1GTb9Nv362vragrmCuT2fPZ+okKiQV5FXkcKZwplOp06nzbzNvBzaHNq98b3xYfph+kn7Sfu/+7/7pAGkAVMLUwvDGMMYjiKOImwpbClxLHEs1ivWK0ojSiPlEuUSyf7J/pTqlOqs26zb4dbh1lTdVN3D48PjTONM4z/eP94o3SjdiNyI3IfXh9ey0LLQYdFh0fPZ89n75fvlRvZG9hAKEArkG+QbZyBnIHUZdRkVDxUPBgcGB139Xf3l8uXyfe597pTulO428TbxavNq8/b39veI+Ij4qvKq8ofph+lg52DnqO6o7rz7vPtWDFYMjRqNGqUipSIRJBEkcyNzI04eTh4dFB0UxgTGBKH4ofjt8+3zlPaU9lP8U/xjAmMCUARQBLoAugAB/QH9V/tX+8r8yvyK/or+9QL1Ai0MLQwrGSsZJyQnJHMqcypvLG8snSmdKaojqiNNHU0duxm7GfkY+RgrFysXMhMyE7UPtQ8iDiIO5wvnC6gGqAbX/9f/WP1Y/fgA+AAhByEHiw6LDnoZehlTI1MjDCgMKIQohCj6JvomryWvJQojCiM+IT4hgR6BHnsfex/aJNokDCwMLL0mvSayC7IL5OPk44i5iLmpmqmaxovGi+qP6o/9mf2ZwqXCpfC48Lgq2ira1P3U/cwNzA0yCzILMgQyBLsGuwaLEYsRwB7AHkUmRSaSJ5In2iTaJOAe4B4DFgMW2AfYBwbxBvEm1ybX18TXxCTCJMLXzdfNaNxo3PLh8uEm3ybfRN5E3hrgGuD73/vfBd0F3ZzdnN0I5QjlMvEy8dYC1gJwG3AbCDIIMmE2YTazJrMmkxOTE7cFtwXS99L31enV6U7jTuMC4QLhgd2B3affp98v6C/o3e3d7RTpFOlh4GHght2G3eHn4ecJ/Qn9dBN0E80kzSShLaEtyDDIMIMugy6TJpMmeBd4FwMFAwUj9CP0nuqe6rXrtesh9CH0d/x3/Cn/Kf9l/mX+yf3J/Wj+aP4s/yz/ywHLAWQHZAcfER8R2x3bHfYp9indMN0wLjEuMdkr2SupI6kjvxy/HLwXvBefE58TfBF8EYERgREqECoQXQxdDCMIIwg5AzkD6f3p/WP8Y/w4/jj+bAJsAn0LfQtQG1AbtSm1KZcwlzCLMYsxHi8eL6ApoCnkIuQi3R7dHiQcJBzwGfAZ4RvhG44jjiOtJq0mFxcXF2X2Zfbn0OfQNaw1rIGNgY0BgAGAkIuQi9yf3J9ks2Szusq6ylfsV+y5CrkKMRgxGB4XHhdCEUIRnRKdEigZKBlzIXMhYyRjJOQi5CKLGosazw7PDogBiAGR8ZHxnN6c3gnNCc29wL3ARr9Gv8/Mz8zl3uXeIOYg5lPkU+Qb5hvmHeod6hPsE+zn7OfshPGE8XX4dfgJAwkDARMBEyQnJCeMM4wzJSwlLBcYFxjRBtEG6/fr91fmV+bm2ObYrNSs1GfRZ9FHz0fPVdVV1SfhJ+GG6Ibo1ebV5nzjfOOE6IToa/tr+wITAhOpJakl9TD1MGs3azc3OTc59DP0M9sm2ya1FLUURAJEAuvy6/JD6kPqPew97ODz4POg96D3avVq9SP0I/QU9xT3G/sb+2D/YP9yBXIFsw6zDnwafBojJyMnbTBtMHMyczJtLG0sZCJkImUZZRkMFQwVKxIrEs4Nzg3XCdcJUwlTCbkKuQqVCZUJmwebBxoEGgQzADMAIP4g/hwDHAOZDpkOMxozGuQj5CMTKxMrZzBnMMMxwzEFMQUxmSyZLOUk5STVHtUetBy0HKwcrBzAHsAefyF/IQseCx5OCk4KVelV6ZPDk8NcoVyheol6ieuB64HMjsyOHaMdo8e7x7sb1xvXivmK+dcU1xS2ILYg5yDnIIcehx59H30fvh++H4YihiKvIK8gQRpBGjUONQ5vAm8CbPRs9KPjo+NN0k3SFMQUxIC8gLyQv5C/nMyczB7bHtvi4+LjDegN6B7tHu2i8aLxZ/Vn9V/3X/dN/E38QwJDAusK6wpNFk0WpCOkI/wo/CgaHxofwgzCDMv5y/mB6IHoCtcK1yzMLMxEyUTJtsm2yW3Jbclvz2/PX95f3k3tTe1l82XzH/Uf9QD8APzNCs0KyR/JHzozOjPIPcg9PT09PVA3UDclLSUt8x7zHiQOJA7t++37/+n/6UXfRd/R4dHhoOug61XzVfPU9dT1Gvga+Gn9af0bBRsFggyCDDoUOhSsHKwcdSN1I3speynWMNYw/DT8NEAvQC9hI2EjcxlzGSYTJhMUDxQPaApoCvcF9wVuA24DJgMmAwoDCgMYAxgDqASoBAQDBANZAVkBfQN9A50NnQ3kGuQaMSYxJtYs1iy0L7QvvTG9MQUxBTHALcAt4CbgJuIe4h4kGCQYPBQ8FEgVSBWiGKIYNBg0GEIMQgxn8Wfxm8+bzxOtE602lDaUNoc2hxGNEY0jnyOfD7kPuc/Yz9gF+wX7ahlqGQMrAyv4Mfgx/iv+K5AikCKiGqIaERcRF4sQixBOB04HRP5E/tH30fcZ8Bnwe+N747HTsdMVxhXGI74jvgW+Bb6xyLHIs9iz2HHncef48Pjwpvmm+YIAggAnBicGyQfJB7UFtQVHA0cDXgReBAwKDArhEuESeRp5Gp4XnhemCqYKffp9+q3qrep72XvZt8q3ysHCwcJwwHDABsEGwTHHMcds12zXs+uz6zT6NPr4//j/IQUhBRMQExDmIeYhnTOdM507nTsJOQk53DHcMc0pzSmTHZMdfAx8DFf5V/lF50Xnpdml2dvW29ZK4Urhh++H7634rfhf/l/+nQWdBYkPiQ/pGOkYQR9BH9ki2SJPJk8mWSpZKkQvRC+UMpQyBC8ELzYkNiTxFvEWoguiC/0D/QNt/23/qPuo+6r5qvn9+/37aQFpAZoGmgahCqEKkw2TDTYNNg3oC+gL7w7vDl0YXRgzJDMkbS1tLVQwVDB/Ln8uhi+GLzwwPDAQKhAqWyBbIJUXlRfrD+sPbwpvCjwMPAysD6wPhQ6FDrIAsgCB5YHlpcmlycGxwbE8ojyiC5cLl6+Yr5gvqS+pRclFyfLr8ustCC0Ijx6PHmIqYip1L3UvgyiDKL4dvh0yEzIT1gvWC7EAsQDn9+f3cfZx9g31DfXt7u3u+eH54ZfSl9IExwTHqsOqw8PFw8V9z33PeN543i3tLe3t9u32LAEsAfQJ9Ak3DjcOkguSCwsGCwYZAhkCuAG4AWYGZgbLC8sLoBCgEN0N3Q05AjkCmPKY8tHl0eUi2CLY+8n7yZvBm8GiwKLAp8anxrfUt9RF50Xn9vj2+GsGawYrDSsNUBFQER0ZHRkTJhMm0i/SL+4x7jEuLi4u6CjoKJkgmSAaExoTbAFsAevt6+183XzdNtQ21DnVOdXL38vffO587rv6u/pBBEEEjg6ODggZCBloIWghnyWfJXsmeyavJ68nCSsJK7EtsS2YLJgsuia6JjgcOBxjD2MPUQRRBLn9uf3t+e35Kfgp+BX5FfkH/gf+LwUvBf0M/QxrEWsRGxMbEycTJxPWEtYSXxZfFj0ePR5HJUclZChkKLkruSuKK4oriymLKf4l/iW4H7gfqBSoFEMLQwsPCA8IlQmVCRIKEgocCRwJlwuXC4gIiAj+9f71P9o/2s/Dz8PGs8azg6mDqTulO6XMr8yv2sfax0blRuWs/az9YxFjEREcERzLHssejhuOG+kR6RG6B7oHpQClAKr8qvyJ9on2IfMh83TwdPBC7kLuE+UT5ZDXkNe+zb7NWM1YzdzR3NGr2avZ7eXt5XnzefMO/g7+1gTWBJcKlwp+DH4MIwkjCaACoAL7/vv+8v3y/eP/4/8DAwMD6gfqBwsJCwlAAkAC7fXt9SfoJ+iK2oraFc8Vz4nJicl6yXrJ7dDt0HTcdNy46LjoCvgK+KsJqwlWFVYVRhhGGP4b/hteJV4l2i/aLxczFzNCL0IvUidSJ8ocyhzID8gPOQA5ADzvPO+T4ZPhuNm42dXX1dda31rfvO287QH7AfufBJ8ESQ5JDgsXCxc0HzQf6STpJPsm+yYUKBQo8ynzKbUptSlmJmYmryCvINQW1BYSChIKPv8+/zb5Nvm597n38fnx+cX+xf7oA+gD9wj3CHkPeQ86FDoUyRXJFcAWwBYEFgQWfxN/E6QVpBWnHKcceCF4Idkj2SMvJC8kxyHHIdcf1x9/HH8cLRUtFYcMhwyPB48HWQdZBzQLNAtBD0EP2BLYErsSuxI9BD0EzunO6bPRs9ECvwK/BrEGsV6pXql2rHasn7yfvJDVkNXw7PDs8v/y/y0PLQ/bFNsUdhN2EzAMMAw0BDQExv7G/q78rvy4+bj58/fz95L3kvdV9VX1qu+q757knuTq2erZxtXG1XDWcNap2anZvOK84vnu+e6d+Z35AwEDAasFqwVkB2QHfwZ/Bs0AzQC2+rb63vje+KL6ovq9/b392wLbAroHugdnBWcFofqh+mztbO0Q4hDiPNg82CjSKNLm0ebR4NXg1fze/N7K7MrsiPuI+1YKVgpBFUEVzxfPFxUXFRfaHdodxSjFKOQt5C1oKmgq7yPvI9Ub1RvNEM0QBwQHBNH10fUn5ifmU9pT2l7XXtd03nTeAu0C7Un8SfwjCCMIbBFsEdwZ3Bl7IXshqSmpKfQt9C3FLMUsACoAKi4oLig2JDYk8B3wHfEV8RUZCxkLqv6q/kn2Sfb19PX01/fX9w39Df04AzgD7wjvCJQOlA5rFWsVlBiUGJEXkRcMFQwVNRE1EdgO2A7fE98THBwcHEUgRSDJIckh0iDSIKAdoB03GTcZjhSOFHMNcw3rBusGYQJhAtwF3AWiDKIM+BL4EvMX8xf0GPQYcApwCtDu0O4A1ADUOLw4vCisKKwDogOi/qb+ph+3H7fozujOYeRh5Oz67Po+Cj4Kgw+DD3sQexDlC+ULZQRlBFn9Wf3K+8r7Pvs++//9//1I/Uj9Xvpe+t7z3vMP6g/qM94z3h/YH9gz1jPWU9hT2P3e/d596X3pRPVE9an+qf54BHgEPwU/BSUEJQTS/tL+J/on+mH2YfZ89nz2AvoC+hsBGwFvB28Hugi6CJQDlANw+XD5fu1+7Yvhi+HJ2snaI9oj2gXbBduw3rDe5Ovk6xL+Ev69DL0MFxQXFCAXIBeaGJoYtR61HpUmlSY0KjQqpiamJtUg1SCKGooauBC4EIIDggN29Xb11ujW6IjeiN422zbboOGg4QLvAu/p/On8rAisCK0TrRMiHiIeVCVUJfwo/CjtKe0pNik2KYwmjCZwInAi1BzUHHEWcRbLDssOEQYRBg7/Dv+q+6r7Kvsq+3X9df13A3cDXQtdC4gRiBHQFdAVAhkCGVAaUBp+GH4YthS2FIgRiBGLEIsQPRI9ElAWUBalGqUalR2VHegd6B1yHHIcuhe6F/MQ8xBMC0wLFQgVCN8G3wajCKMIRA1EDfcR9xHsFuwWhBWEFUQFRAXL6svqvNC80Oe657q2qraq4aHhoeyn7KeGuYa58s/yz1HiUeJX9Ff00QDRAJAJkAnCCsIKVgRWBIf9h/0d+x37GfwZ/LD9sP2pAakBHgEeAb3+vf6H+If4Pe497oniieIl3CXcmtea157WntYm2ybb+uT65Nvu2+7M98z3Tf5N/iwCLALpAukCwf7B/qb5pvkM9gz2bfdt91/6X/rXANcA5gfmB6QLpAtyB3IHJf4l/gj0CPT46fjpZ+Jn4r3dvd2d3J3cS+FL4ZztnO2k/KT83gneCZsTmxMwGDAYQhtCGwAiACIMKQwpTCpMKn4mfiaQIJAgdxh3GJ4Nng0nAScBMvQy9ADpAOls4Wzh3uDe4AjnCOew8bDxCf4J/mQKZAoVFhUWeR95H8wlzCWpKKkoXylfKRAoECjNJc0lsyGzIU4bThtlE2UTHgweDK8FrwW7AbsB2//b/wsACwDQAtACQghCCNMN0w1tEW0RVxNXEx8THxOdEZ0R1g7WDlUNVQ3KDcoN6Q/pD70SvRKDFoMWvhq+GpkfmR/YIdghWiBaILQbtBvbFtsWvBG8EbkOuQ4EDgQO4g7iDksPSw8eEB4QaRNpE7QOtA7b+Nv4KNso20vAS8DbrdutvaO9o0WkRaTuq+6rhbyFvO7R7tHE6MToXPxc/AQHBAcIDAgMrwqvCjkGOQa3/7f/Qf9B/2MBYwHbA9sDnAOcAxIDEgNaAFoAbfht+B/rH+vB38HfjNeM19rS2tK/0r/ScNhw2J/hn+Gc65zrbfRt9I35jflY/lj+8f7x/jL8Mvwo+Sj5bPls+XP5c/lM/Uz9MgUyBfUL9QuOC44LZQRlBLr4uvil7qXu8uby5nHhceFn3mfe5N/k35zknOQ37DfsUPhQ+PIF8gW/D78PThNOE4sXixclICUgZClkKTwtPC2DKoMqkSGRIe8V7xUyCTIJLP0s/efx5/HN6M3ozuLO4v3j/eMT7BPsOfg5+IsFiwWREZERSxlLGWUdZR2yIbIhtiW2JbknuSeFKIUoPSc9J0AiQCKqG6obWhVaFaUPpQ+1CbUJRgVGBQACAAIEAgQCAwYDBo4MjgzSEdIRlRSVFPEU8RRpE2kTiBGIEQ0PDQ98DXwNOg06DekO6Q6lEqUS8hjyGFIfUh9/I38jFiMWI/Ee8R4DGwMbqBaoFq4SrhKkDqQOTQ5NDhYOFg4bEBsQjBCMEMMQwxCCBYIFae1p7V3QXdAEuAS4q6mrqQKjAqOMpoymna+dr1HCUcIB1wHXwO3A7fX79fvhBOEEmQeZB8YHxgf8AvwCh/+H/4n/if87AzsD7wTvBB8EHwTLA8sDKwArANv22/be6N7oDN8M3yXWJdaN1I3UddZ11sDdwN1I5Ujl4e/h7+L14vUU+RT5EfsR+wD6APoj9SP1WPNY89L10vV/+H/4Lv8u/yMIIwhDDEMMLAosClQDVAP29/b3kO+Q7+zo7OiB4YHhxdzF3Nrg2uAJ6QnpAPMA88X7xfsGBQYFBw4HDq0WrRZuHm4efSZ9JkMsQyyYLZgtqieqJyoeKh5UFFQUZghmCLj5uPlU7lTugeeB583kzeRu6W7pyvLK8sP8w/zoBugG9RH1EaYYphjMHMwc/x//H/8i/yI/JD8kmCWYJRslGyXoIugiyB3IHRkXGRd0EHQQpwqnCjQGNAZ7A3sDMAQwBPAG8AZoC2gLfg9+D1cTVxM3FDcUORI5EgMOAw4vCS8JBwcHB3oIegimDKYMeRJ5EokZiRm+IL4gZCZkJt0m3Sa3I7cjTh5OHrgYuBh4EngSeQ95DxQPFA+SEJIQjxGPEdQS1BJHDkcOLfst+5jhmOHrxevF8LLwsimmKab9ov2inqeepza4Nri9zL3MaOFo4a3zrfNl/2X/DgUOBZEEkQRkAmQCXv9e/3f/d/8PAQ8BuAW4BawIrAhiC2IL3wjfCN8B3wGD8oPyEOUQ5era6tqD1oPWw9bD1snaydp04XThc+hz6GjwaPA/8z/zjPSM9L/yv/K07rTuNeo16gftB+2E84Tz//n/+RsBGwFhCGEI/Qr9Ck8ITwjo/+j/q/ar9p3wnfCZ6pnqdOR05GbjZuPR6tHq9vL28qv6q/qDAIMACAYIBocLhwtHEkcSghqCGhkiGSJKJ0onpiemJzIjMiPpGuka6RDpEG4FbgVv+G/47O3s7SToJOhH6Efode517vP38/fIAcgBawtrCz0TPRO1FrUWqBioGDobOhv+HP4c+R/5H5QjlCNpJWkl6CToJDIiMiKmHaYd0hfSF8MRwxF7CnsK3QXdBQ4FDgV8BnwG5wjnCKMMowxoD2gPmg6aDmwLbAtmBmYGtQG1AfwB/AHmBeYFWAtYC9wR3BEPGw8bRyNHIyspKymDKoMqUShRKLMhsyEGGwYbthS2FCoSKhJ4EngSmBOYE4IUghQoFSgVZg5mDm35bfnF38Xf+cT5xN2y3bKUppSmCaYJpiKsIqwTvRO9HdAd0GPjY+ON743vDvcO92f6Z/rS+dL5bPds95H1kfWz97P3f/x//F0FXQU4CzgLhw+HD5INkg1jBWMFdPV09efp5+ks4yzjMeEx4ZHikeID5wPn5ezl7JXylfJK90r3r/av9mT0ZPRE8ETwVOpU6kzlTOXn5ufmw+vD69Dx0PE0+zT7OgQ6BAwHDAf8AvwCkvuS+z3zPfMv7S/tuui66BHmEeYE6AToQe9B7+737vfO/87/TwdPBzUNNQ1GEkYSrxWvFT8ZPxm9Hb0dDiMOIzglOCXFIcUhrBqsGm8RbxFIBkgGJfol+oLxgvF863zroemh6XDscOy/87/zIPwg/BAGEAYGDgYOwBHAESITIhNTFVMVRRhFGAkcCRx0IHQgTyNPI6ckpyTOI84jACIAIs8ezx5zGnMaOhQ6FFAPUA/KDMoMQAxADFMMUwzaDdoNPA88DwoOCg5sCmwK+gX6BfYC9gIfAx8DFAUUBSIIIgh4DXgNlxSXFN4a3hoJHwkf4yDjIBEgESAqHCoc0hbSFhASEBLhD+EPbRBtEEgRSBFmEmYSSBRIFCkQKRCaAZoBCO4I7mTXZNdewl7CJ7Mns7+vv68ntCe0Y8BjwLzNvM1s22zby+TL5Ivqi+qG7Ibsvey97IXrhes36jfqI+wj7DPxM/Hg+eD5hQOFAzkNOQ2WEJYQ7QvtCwcCBwJW+Vb51fHV8WHuYe6f8J/wbfZt9rL7svuP/4//VAJUAiECIQK//7//+/n7+RXxFfHr5uvmXuBe4JjemN7/4v/inOyc7N723vYR/BH8CvsK+wj2CPaR75Hvmuma6RPmE+Y05TTlEOgQ6DftN+2X9Zf1sQCxAKgLqAsyEzITgxeDF7MYsxiMF4wXLRctF2kYaRgrGisaGxobGmkZaRnKFcoVCA8IDzsHOwfDAMMArPms+WX0ZfTO8s7y8vTy9F35XflKAEoASAdIB1AMUAwFEAUQnxGfEVgRWBFQEVARQxJDEm4TbhPCFcIVYBhgGFkaWRqbG5sb3hveG4YahhrxGPEYSRdJF8kUyRTMEcwR7g/uD/EO8Q5zDnMOqA2oDUULRQtaCFoIMwYzBjEFMQUoBSgF3AfcB4QMhAyjEKMQAxQDFGwXbBdmGWYZaBhoGGQWZBbDEsMSWw9bD8kNyQ33DfcNvw2/DXgOeA6qDaoNYgdiB4H8gfwc7hzumt6a3hLREtFFyUXJN8Y3xm/Jb8mY0JjQjdiN2EbeRt4y4TLhxOHE4THiMeJp42njPuM+4yLjIuOS5JLkNuk26f7v/u+9+L348P/w/3wBfAH4/fj9kfiR+FL0UvST8ZPxwfPB8zP5M/ly/3L/aQRpBKUJpQljDWMNHg8eD+4N7g3hCOEIcwBzALz3vPfm8ObwNO007WHuYe6C8oLypPak9sn2yfZe9F70Q+9D71vqW+ot5S3lNOI04hLhEuGP44/jSelJ6Z3ynfLi/eL9pAikCHIRchH7FvsWvBe8F7oVuhWFFIUUThROFAMUAxT/FP8UPBY8FsUVxRUiEyITfBB8EL4MvgyKB4oHCgIKAnz/fP98/3z/fAF8AegE6ATqCuoK4BDgEN8T3xNgFGAUkRORE2ARYBEfDx8P/wz/DMILwgt+C34LzwzPDDUPNQ/EEcQRMBMwE2YTZhO/Eb8Rfg5+DmULZQtkCWQJzgjOCJ0InQj9B/0H+gf6B5sImwhyCXIJLwkvCeEI4QjhCeEJtQq1CnULdQusDawN+hD6ELsSuxIeEx4TjRKNEswQzBDDDsMO5gvmC3gIeAj3BPcEZgFmAaj+qP6g/KD8F/oX+lj1WPUN8A3wCukK6ZLhkuEj3SPdrNys3Mvdy90+3z7fXuJe4rPls+VF6UXps+yz7Jfvl+/A78Dv8O3w7SXrJevI6MjoBecF51bnVudU6FToSOlI6YzqjOqM7IzsmO2Y7UjuSO5T8FPwLfMt8yr2KvYk+ST5RP1E/RICEgI+Bj4G7QjtCDQJNAloB2gHRANEA8T+xP4P+w/7QflB+RD5EPkO+g76ovui+778vvz9/P38A/wD/L35vfl39nf2ufO58wbzBvOO9I70gviC+Cb+Jv7IBMgEUQpRCp0NnQ2ADoAOFA0UDQUKBQp4B3gHlAaUBuAG4AZgB2AHtQi1CHYKdgqLC4sLVQtVC0gKSAo4CDgIYQZhBvgF+AV+B34HBwsHC60PrQ/QE9ATpRalFokXiRdhF2EXEhYSFosTixMPEA8Q6AzoDIwKjApUCVQJ1gjWCMIIwgjJB8kHyAXIBSADIAOGAYYBjACMAFoAWgAJAAkAOQA5AIYAhgAzATMBIAIgAjoDOgPCBMIEqgaqBqIIogj6CfoJNQw1DN4O3g47EDsQaBBoEOAP4A8ADgAOVgtWCxkIGQiGBIYEQgFCAcj9yP3E+sT6p/in+Iz3jPeG9ob2TPVM9RTzFPMS8RLxq++r767vru/w8PDwo/Kj8iv1K/V793v3Zfll+bn6ufpI/Ej8u/y7/Ev8S/xK+kr6R/dH99bz1vP08PTwAe8B76juqO6g76DvMfAx8Pnv+e/47/jvgvCC8KHwofCt8K3wpfGl8bzzvPPv9e/1Lvgu+KH6ofqh/KH8f/1//R39Hf0i+yL7X/hf+Hn2efY79jv2l/aX9g34Dfiu+a756vrq+lb7VvvX+9f7IPwg/CH8IfyA/ID8KP4o/uQA5AAOBA4EEwgTCOcL5wsRDhEOlw2XDTEMMQwLCgsKnQedB2gFaAXxA/EDlAKUArIBsgFuAW4BmwGbAeYB5gHxAfEByAHIAaYBpgHsAewBgwODA3sGewbwCfAJoQyhDDMOMw5OD04PNBA0EJQQlBDDD8MPxA7EDrcNtw1YDFgMAAsACw4KDgpiCWIJeQh5CHkHeQcGBgYG3gTeBCwELAQqAyoDCQIJAh0BHQHLAMsAWABYAF8AXwBZAVkBbANsA3gGeAZICUgJBQsFC2IMYgyiDaIN4w3jDSUNJQ1TDFMMCAsICwcJBwmXBpcGZARkBP4B/gG3/rf+0frR+gn3Cfc/9D/0N/I38gjxCPE88TzxPvI+8qzzrPOd9Z31GPcY95T3lPcE+AT4cvhy+JH4kfge+R75fPp8+lP7U/uK+4r7I/sj+9b51vlb91v3r/Sv9H3yffLE8cTxgfKB8r/zv/MG9Qb1lPaU9mH4YfiD+YP5ivqK+rz7vPvk/OT8Cf0J/SH9If1q/Wr9BP4E/i/+L/7r/ev9b/xv/En6SfqW+Jb4Lfct96H2ofac9pz20/bT9vj2+Pak96T3cfhx+Jn5mfk5+zn71/zX/NL+0v5DAUMBEQQRBFEGUQYvCC8IVwlXCWMJYwnzCPMITAhMCH0HfQdtBm0GVwVXBekD6QMkAiQClwCXAGv/a/+m/qb+Nv42/t/93/13/Xf9tf21/Rb/Fv8fAR8B5APkA4EGgQZ7CHsIDAoMCp0LnQtQDFAMLgwuDAEMAQyeC54LDAoMCjIIMgh8BnwG2wTbBMIDwgPPA88D9gP2A6IDogOIA4gDNgM2A7gCuAIuAi4CAQIBAikCKQIjAyMDsgSyBAkHCQcCCgIKGgwaDBMNEw02DTYNTQxNDK4Krgp7CXsJigiKCF0HXQcpBikGiQWJBfgE+ARzA3MD0ADQAJP9k/01+jX6AvcC9/H08fRY9Fj0zPXM9Sf4J/hN+k36uvu6+6H8ofyi/KL8/Pv8+3D7cPtU+1T71PvU+7H8sfyg/aD9Jf4l/sH9wf1O/E78/Pn8+Rv3G/fo9Oj0wvPC887zzvOB9IH0I/Yj9jv4O/gu+i76Ofs5+2/7b/vG+8b7SvxK/PX89fxx/XH94f3h/fz9/P0K/gr+7/3v/SP9I/35+/n74Prg+sD5wPkV+RX5ZPlk+S/6L/rY+tj6SftJ+8f7x/tv/G/8UP1Q/UD+QP5Z/1n/ggCCANUB1QEVAxUDxgPGA+oD6gP2A/YDtQO1A2EDYQMnAycD0ALQAucB5wG3ALcAHv8e/7j9uP1n/Gf8lfuV+5L7kvst/C384vzi/K39rf3u/u7+dAB0AGwCbAIjBCMEpgWmBSEHIQfJCMkIZQplCroLugtMDEwMLwwvDFgLWAvqCeoJmwebB0wFTAVcA1wD5QHlAZoAmgAuAC4AJwAnALX/tf/j/uP+M/4z/tf91/3C/cL9Zv5m/vH/8f9AAkACZQRlBE8GTwagB6AHTQhNCM8Hzwd0BnQGBgUGBRQEFAR0A3QDOAM4A8wDzAMmBCYEvAO8A7gCuAItAS0BYP9g/wX+Bf6W/Zb9Ef4R/kX/Rf/VANUAbgJuAmADYAODA4MDHAMcA0cCRwIEAQQBDQANAKv/q/+I/4j/SP9I/8/+z/6K/Yr9Z/tn++T45PgU9hT28PPw89fy1/L08vTy/fP98831zfW297b3SPlI+Yf6h/ok+yT7u/u7+2b8Zvz2/Pb8Uv1S/Qf+B/7a/tr+TP9M/1j/WP/B/sH+cv1y/bf7t/uc+pz6S/pL+sL6wvpR+1H7t/u3+zP8M/zn/Of8gv2C/cv9y/3+/f79/v3+/Wv+a/42/zb/cwBzALIBsgG+Ar4CkgOSAz4EPgQlBSUFJAYkBnYGdgbyBfIF8ATwBEoDSgMmASYBHv8e/4f9h/1d/F380PvQ+7b7tvsx/DH8T/1P/Sr/Kv/sAOwAUgJSAu0D7QPhBeEFTwdPBzcINwjuCO4IWQlZCS4JLgmUCJQIvAe8B3YGdgaBBIEEhgKGAkUBRQFoAGgA4P/g/83/zf+b/5v/3f7d/gL+Av7+/f79TP5M/lH/Uf/wAPAA2ALYAi8ELwRSBVIF5QXlBcEFwQXbBNsEewN7A/UB9QHCAMIAxP/E/3H/cf+e/57/mf+Z//3+/f5y/nL+If4h/sL9wv2R/ZH9zf3N/Wj+aP5E/0T/UQBRAEgBSAGpAakBowGjAVsBWwEsASwBFgEWAUQBRAFPAU8BIAEgAdUA1QADAAMAfP58/lX8VfwE+gT6sPew9yf2J/ax9bH1CvYK9gr3Cvds+Gz4lfmV+XP6c/o++z777Pvs+4j8iPxM/Uz9Uf5R/oz/jP/iAOIA9QH1AYYChgKCAoIC2gHaAasAqwA6/zr/9f31/Qf9B/20/LT8m/yb/JL8kvyV/JX8wvzC/LX8tfye/J788fzx/Hf9d/12/nb+q/+r//QA9AC3AbcBhQKFAj4DPgPeA94DRAREBHMEcwRMBEwEtwO3AzwDPAOcApwCmgGaAawArAA2ADYA1v/W/7H/sf+z/7P//f/9/5MAkwBfAV8BCAIIAgQDBAMzBDMEGwUbBYoFigWpBakFsQWxBaMFowWRBZEFFwUXBVYEVgShA6EDyQLJAu4B7gFEAUQB1gDWABgAGACf/5//P/8//5H+kf4a/hr+Q/5D/uD+4P6S/5L/jACMAHcBdwE9Aj0CiwKLAk0CTQINAg0C9AH0AeEB4QGVAZUBcgFyAUEBQQEbARsBvwC/ABkAGQAp/yn/lP6U/jf+N/79/f39GP4Y/rz+vP67/7v/kwCTAEoBSgHHAccB5gHmAX0BfQH5APkAhwCHADgAOABVAFUAdQB1AEIAQgDr/+v/Q/9D/9/93/0b/Bv8S/pL+pD4kPg+9z73mvaa9rn2ufZV91X3O/g7+FD5UPlm+mb6VftV+x/8H/zH/Mf8kP2Q/a7+rv5CAEIAhgGGAV4CXgLUAtQCAAMAA6MCowK1AbUBawBrABv/G//x/fH9FP0U/az8rPyY/Jj8tPy0/M38zfzn/Of8Iv0i/cb9xv2N/o3+cv9y/y4ALgDDAMMAJwEnAboBugF4AngCGgMaA3EDcQOLA4sDUgNSA60CrQIfAh8CgwGDAbAAsAD3//f/xv/G/xkAGQChAKEARQFFARMCEwL1AvUCgwODA9MD0wMRBBEEVwRXBIAEgASIBIgEogSiBKIEogRoBGgE9AP0A3IDcgPBAsECCwILAkIBQgGjAKMALgAuAPj/+P/P/8//qf+p/6n/qf+g/6D/of+h/+X/5f+WAJYAaQFpAUkCSQLxAvECJgMmAyQDJAPPAs8CEwITAkwBTAFiAGIAWP9Y/1n+Wf6G/Yb91vzW/Dj8OPzF+8X7VPtU+w/7D/vz+vP6M/sz+6/7r/tv/G/8iv2K/aL+ov5v/2//CAAIAHwAfADYANgAOwE7AXUBdQGHAYcBfAF8AXUBdQFPAU8BCQEJAZwAnADm/+b/0v7S/uX95f1h/WH9E/0T/Qb9Bv0g/SD9af1p/Zn9mf2s/az9iv2K/br9uv0j/iP+s/6z/j3/Pf/C/8L/FAAUADQANAAnACcADwAPAMX/xf9O/07/xf7F/mv+a/43/jf+Cv4K/t/93/3k/eT9+/37/SH+If5i/mL+rP6s/iL/Iv+3/7f/YQBhABQBFAG7AbsBQwJDApkCmQLpAukCTANMA7kDuQP0A/QD1gPWA1ADUAOrAqsCvgG+AYsAiwCW/5b/K/8r/xD/EP8W/xb/TP9M/83/zf+EAIQAFwEXAYcBhwH5AfkBSgJKAnoCegKcApwCxgLGAtYC1gL0AvQC2gLaArICsgKWApYCVAJUAvsB+wGlAaUBPAE8AeAA4ACFAIUAWQBZAD8APwANAA0Avf+9/6T/pP/W/9b/CgAKAFwAXADnAOcAcQFxAa8BrwHEAcQBnwGfAUABQAHKAMoAPwA/AHn/ef+4/rj+Ov46/rH9sf0q/Sr9yPzI/Mb8xvzb/Nv8B/0H/UD9QP2U/ZT9Df4N/oz+jP7U/tT+Bf8F//7+/v7V/tX+r/6v/pr+mv6D/oP+a/5r/mH+Yf5K/kr+Pf49/if+J/4b/hv+3v3e/Y/9j/13/Xf9rv2u/Rb+Fv6j/qP+Mv8y/4n/if+3/7f/vP+8/8L/wv/k/+T/DwAPAE4ATgCQAJAAiQCJAG4AbgBiAGIAJgAmALb/tv9m/2b/Dv8O/5/+n/53/nf+hP6E/lv+W/4L/gv+Cf4J/kb+Rv7D/sP+i/+L/4QAhABXAVcB6AHoAVQCVAKFAoUCegJ6AhECEQLKAcoBnwGfAZcBlwHFAcUBSAJIAuEC4QLpAukCWQJZAokBiQHKAMoACAAIAJ7/nv9t/23/e/97/9v/2/91AHUA2gDaAPAA8ACtAK0AXABcACsAKwApACkAUgBSAL8AvwBrAWsBIAIgArwCvAJBA0EDhgOGA0cDRwOjAqMCNwI3AvYB9gGsAawBbAFsAW0BbQFQAVABJAEkAeUA5QDXANcAxwDHAJ8AnwB4AHgAbwBvAKwArADHAMcAvwC/AJwAnABSAFIA3P/c/2H/Yf/W/tb+Vf5V/uP94/2J/Yn9PP08/Vv9W/3j/eP9iP6I/jX/Nf+3/7f/MgAyAIcAhwChAKEAdQB1AC8ALwALAAsAxv/G/4b/hv9K/0r/M/8z///+//60/rT+d/53/kn+Sf4I/gj+sv2y/Y39jf2X/Zf94P3g/VD+UP7S/tL+L/8v/2X/Zf+K/4r/gf+B/3T/dP+P/4//vP+8/93/3f8BAAEAAwADAPL/8v+7/7v/j/+P/3L/cv+D/4P/kP+Q/4n/if9+/37/hv+G/3P/c/8i/yL/0/7T/nn+ef4v/i/+RP5E/qj+qP4v/y//tP+0/x8AHwBqAGoAdgB2AFUAVQABAAEAvf+9/5H/kf/J/8n/AAAAACIAIgAeAB4A9v/2/3f/d//R/tH+Uf5R/hL+Ev49/j3+wP7A/qn/qf+aAJoAbAFsAQECAQI6AjoCBgIGAqoBqgE9AT0B5QDlAN4A3gAfAR8BewF7AdoB2gErAisCSAJIAjkCOQIFAgUCmQGZATMBMwEHAQcBIAEgAVwBXAGYAZgBsAGwAYsBiwFSAVIB/wD/ANIA0gDGAMYAvQC9AK0ArQCYAJgAbQBtAAsACwDP/8//sv+y/63/rf+a/5r/k/+T/6L/ov/N/83/FgAWAFkAWQCWAJYAwgDCAO0A7QARAREBKAEoAT4BPgFJAUkBLAEsAe4A7gCxALEAiQCJAC0ALQDe/97/nP+c/1n/Wf8Q/xD/3P7c/rv+u/6j/qP+tv62/v7+/v5c/1z/wP/A/xcAFwBtAG0ApgCmAKkAqQCfAJ8AeAB4ADQANAD9//3/9//3/+P/4/++/77/hP+E/yz/LP+5/rn+Sf5J/vj9+P3J/cn9vv2+/dT91P0X/hf+bf5t/tL+0v4M/wz/A/8D/9/+3/7c/tz+7v7u/i//L/+y/7L/MwAzAIQAhAC2ALYAiQCJACoAKgC6/7r/Qf9B/9X+1f6u/q7+2v7a/jL/Mv94/3j/j/+P/2b/Zv8g/yD/2P7Y/qP+o/6l/qX+9v72/nj/eP8pACkA3wDfAIIBggHZAdkBzAHMAXQBdAEMAQwByADIAKwArACdAJ0AwQDBAPEA8QAAAQAB/AD8AP4A/gARAREB+gD6AM0AzQC1ALUAwADAAOIA4gD1APUA6QDpANIA0gCbAJsATwBPABsAGwADAAMACwALAA4ADgD+//7/2//b/6z/rP9n/2f/GP8Y/8z+zP7B/sH+w/7D/sr+yv7m/ub+Ov86/5H/kf/5//n/fQB9AOUA5QAuAS4BawFrAagBqAGgAaABdQF1AToBOgHnAOcAcwBzABEAEQCj/6P/NP80/9r+2v6S/pL+a/5r/nL+cv6I/oj+uv66/gj/CP9y/3L/8P/w/2cAZwDHAMcAAgECATsBOwFdAV0BUgFSATcBNwEfAR8BHAEcAR8BHwEjASMBHQEdAegA6AB/AH8AAAAAAHn/ef8H/wf/qP6o/mL+Yv4M/gz+Av4C/mD+YP6u/q7+rf6t/oP+g/6f/p/+zf7N/gn/Cf9+/37/OwA7AO8A7wB3AXcB+AH4ASwCLAIIAggCnQGdAT0BPQG0ALQATABMAAoACgATABMAPQA9ADgAOAAYABgA/P/8//f/9//O/87/2P/Y/xEAEQBvAG8ArgCuAO4A7gAPAQ8B9AD0AJoAmgAzADMA1//X/4X/hf9O/07/Gf8Z/yL/Iv8X/xf///7//vn++f4f/x//K/8r/1f/V//G/8b/OAA4AKQApADrAOsAHwEfATABMAErASsBBgEGAeUA5QDUANQAwwDDAKcApwCYAJgAhQCFAG0AbQBVAFUAPgA+ACMAIwD9//3/4f/h/77/vv+m/6b/nv+e/4n/if9w/3D/WP9Y/0r/Sv83/zf/M/8z/0D/QP8y/zL/Ef8R/+v+6/7N/s3+yv7K/tL+0v7W/tb+1/7X/t7+3v7Q/tD+sf6x/p3+nf6Q/pD+cP5w/nD+cP6a/pr+1P7U/iP/I/+Z/5n/HQAdAHwAfADBAMEA+gD6ABcBFwEiASIBLQEtAU4BTgFkAWQBTwFPARcBFwHSANIAbwBvAPz//P9//3//Jf8l//j++P77/vv+J/8n/3n/ef/g/+D/PAA8AGcAZwBpAGkAYABgAEAAQAAUABQABgAGADoAOgCGAIYA3QDdACYBJgExATEBGAEYAd0A3QCOAI4AQwBDAA4ADgAFAAUAPQA9AJYAlgDdAN0AAAEAAQwBDAH3APcA2QDZAMEAwQC1ALUAswCzAK0ArQDBAMEA8ADwACIBIgEjASMBAQEBAcgAyACKAIoAUABQABoAGgDz//P/1P/U/6//r/+K/4r/gP+A/3z/fP9z/3P/Yv9i/1v/W/9Q/1D/Vv9W/2b/Zv93/3f/dP90/1r/Wv8r/yv/DP8M/+3+7f7F/sX+k/6T/lT+VP4h/iH+CP4I/gj+CP4l/iX+Xv5e/ov+i/6c/pz+sv6y/t3+3f7y/vL+Av8C/xz/HP9G/0b/hP+E/9j/2P8XABcAMQAxAC4ALgAsACwAEQARAOz/7P/f/9//3P/c/+L/4v/i/+L/5//n//b/9v/7//v/AQABACUAJQBnAGcAowCjAOMA4wAsASwBZQFlAZoBmgGyAbIBrwGvAakBqQGLAYsBaQFpAUIBQgEzATMBMgEyASwBLAEhASEB+AD4ANoA2gC/AL8AoQChALAAsADzAPMAYAFgAdMB0wE7AjsChAKEAq0CrQK/Ar8CywLLAuMC4wL/Av8CJAMkA1kDWQOHA4cDsQOxA7wDvAOpA6kDagNqA/wC/AJuAm4C5QHlAXMBcwEaARoB4QDhALQAtACPAI8AUgBSABkAGQDV/9X/k/+T/3X/df9s/2z/Vf9V/xH/Ef+t/q3+Ov46/p/9n/3u/O78IPwg/E/7T/ts+mz6pfml+QX5BfmG+Ib4MPgw+OX35fey97L3mPeY96f3p/fG98b3BvgG+Ff4V/ix+LH4DfkN+XX5dfnf+d/5Pvo++nz6fPqX+pf6xvrG+iX7Jft/+3/77/vv+578nvx8/Xz9Xv5e/kr/Sv80ADQAIQEhAf4B/gHJAskCYANgA9wD3ANGBEYEmwSbBMwEzATwBPAEFAUUBScFJwUjBSMFDQUNBdkE2QSiBKIEbARsBD8EPwQiBCIE8QPxA5UDlQMsAywDlwKXAuQB5AE1ATUBlACUABYAFgDP/8//2v/a/yQAJACkAKQATgFOAf0B/QG0ArQCbwNvAywELATzBPMExQXFBagGqAadB50HlQiVCHkJeQk4CjgK8gryCqsLqwtWDFYM/wz/DKANoA1DDkMO0g7SDjAPMA8+Dz4P8A7wDk0OTQ5dDV0NOAw4DNYK1gpICUgJmwebB88FzwXFA8UDcAFwAcb+xv7p++n71fjV+JD1kPVR8lHyUe9R74rsiuwC6gLqxefF5wHmAea15LXk0uPS43DjcOO047TjguSC5L7lvuWC54LnwenB6UnsSewB7wHv1PHU8az0rPRt9233G/ob+qf8p/wg/yD/lgGWAfsD+wNsBmwG1AjUCBYLFgsbDRsN5w7nDmEQYRBxEXER8BHwEfUR9RFtEW0RSRBJEIwOjA5fDF8MwQnBCbQGtAZWA1YD7f/t/2/8b/wO+Q75+PX49V3zXfM/8T/xhe+F72ruau7l7eXt4e3h7UHuQe4G7wbvFfAV8F3xXfHZ8tnyifSJ9EH2QfYg+CD4IPog+kX8Rfyb/pv+FgEWAZkDmQP2BfYFUwhTCJUKlQqnDKcMjg6ODjoQOhB+EX4RZxJnEuQS5BLxEvESmBKYEtYR1hGfEJ8QHA8cD3UNdQ3JC8kLLgouCsUIxQihB6EHqgaqBusF6wU/BT8FywTLBJAEkARrBGsEVARUBFAEUARZBFkEUgRSBF0EXQSFBIUE3ATcBFUFVQX/Bf8F4QbhBvwH/ActCS0JWQpZCkQLRAvwC/ALSQxJDDcMNwyqC6oLdgp2Cq0IrQhGBkYGVANUA7v/u//B+8H7tPe096XzpfPO787vVexV7Jfpl+lw53Dn5OXk5QTlBOW15LXky+TL5CblJuW45bjlgOaA5mDnYOde6F7onemd6QXrBeu17LXsxe7F7kLxQvFI9Ej0zffN9777vvsOAA4AjgSOBBUJFQlSDVINLhEuEX4UfhTzFvMWhhiGGCgZKBnjGOMYuRe5F70VvRUaExoT8Q/xD2cMZwyZCJkIuwS7BO8A7wA//T/9wvnC+Xv2e/Zk82TzX/Bf8IHtge3j6uPqheiF6IDmgObu5O7k+uP6463jreP74/vjFeUV5frm+uaY6Zjp2OzY7L3wvfAm9Sb15vnm+dr+2v7NA80DeQh5CMAMwAyIEIgQshOyEzwWPBY7GDsYvBm8GcQaxBpxG3EbrxuvG3QbdBvXGtca1BnUGXEYcRiuFq4WihSKFBMSExJDD0MPNAw0DBQJFAn9Bf0FDAMMA2MAYwAY/hj+R/xH/BD7EPuI+oj6p/qn+l37XfuK/Ir8Ev4S/s7/zv+kAaQBnQOdA40FjQV7B3sHVwlXCTgLOAsdDR0NBw8HD/0Q/RDnEucSrxSvFCMWIxYpFykXixeLF/kW+RZMFUwVYxJjEmsOaw5XCVcJYANgA8z8zPz39ff1I+8j77vou+gh4yHjlt6W3kDbQNsT2RPZGdgZ2BnYGdjD2MPY3tne2T7bPtup3Knc/N383TnfOd+V4JXgKOIo4irkKuTe5t7mcepx6u/u7+5K9Er0b/pv+j0BPQFECEQIEw8TD0cVRxWwGrAa2x7bHnsheyGQIpAiHCIcIjsgOyAeHR4dKxkrGbcUtxQIEAgQUQtRC7gGuAZyAnICZ/5n/oz6jPrk9uT2QvNC84/vj++867zr6ufq5zjkOOTc4NzgE94T3iXcJdxU21TbwdvB24zdjN2p4KngFeUV5YjqiOrF8MXwc/dz9y3+Lf6gBKAEfgp+Cn4Pfg+lE6UT6xbrFlIZUhkWGxYbWRxZHFYdVh0OHg4enB6cHvIe8h7tHu0eiB6IHpIdkh0FHAUcwRnBGbMWsxbiEuISaw5rDm4JbgkzBDMECf8J/zv6O/oa9hr23fLd8tHw0fAH8AfwffB98BzyHPKp9Kn05/fn94/7j/tm/2b/QgNCAwIHAgd2CnYKlQ2VDVwQXBDhEuESIhUiFSwXLBcfGR8ZHBscGwQdBB3PHs8edSB1ILQhtCE2IjYiuiG6IRQgFCAXHRcdgBiAGHkSeRJEC0QLFAMUA0H6Qfo68TrxmOiY6MLgwuD92f3Zf9R/1KXQpdBnzmfOkM2QzejN6M1Yz1jPiNGI0fPT89OE1oTWEtkS2Yvbi9sD3gPequCq4LzjvONo52jn0uvS6xTxFPFM90z3TP5M/rAFsAUsDSwNWBRYFKUapRqgH6AfDSMNI7kkuSSEJIQkfiJ+Iv0e/R5zGnMaKhUqFYgPiA/0CfQJywTLBA0ADQC++777/Pf896P0o/Rv8W/xNu427vvq++qa55rnF+QX5I7gjuBk3WTd29rb2lDZUNn62PrYK9or2i3dLd3X4dfh6+fr5wPvA+/I9sj2iP6I/sIFwgUcDBwMYRFhEVQVVBULGAsYyhnKGega6BqXG5cbDBwMHJwcnBxKHUodDh4OHs4ezh5cH1wfbB9sH5semx65HLkcsxmzGZYVlhV0EHQQlwqXCmMEYwRh/mH+8/jz+H70fvR18XXxD/AP8DjwOPC58bnxWfRZ9L/3v/d8+3z7Mv8y/8gCyALuBe4FiQiJCMQKxArQDNAM7w7vDiwRLBGlE6UTaRZpFmwZbBmNHI0cjx+PHygiKCIlJCUkPCU8JTAlMCX5I/kjoCGgIS8eLx7AGcAZhxSHFLQOtA5UCFQIewF7AXj6ePp+837zjuyO7Kvlq+Ui3yLfOdk52enT6dN6z3rPUMxQzIrKisoIygjKxcrFysnMyczpz+nP0dPR003YTdgw3TDdO+I74h/nH+fP68/rbvBu8Ab1BvWV+ZX5Kv4q/v4C/gLyB/IH1wzXDJwRnBEaFhoWCBoIGuoc6hyVHpUe8B7wHtEd0R0vGy8bXBdcF6sSqxJoDWgNywfLBzYCNgIA/QD9Xvhe+FD0UPTO8M7w2u3a7SjrKOt86HzozOXM5TnjOePG4MbgjN6M3ufc59w+3D7c09zT3Lneud424jbiPuc+53Ltcu1n9Gf0ovui+7UCtQIUCRQJeA54DrUStRLTFdMVxhfGF9YY1hhGGUYZcRlxGbYZthkoGigawBrAGnAbcBsMHAwcLxwvHLkbuRtvGm8aFxgXGJAUkBT5D/kPqwqrCg4FDgWt/63//fr9+mf3Z/ck9ST1Q/RD9KL0ovQn9if2g/iD+EL7QvsS/hL+ugC6ABkDGQMrBSsFKQcpB1IJUgnEC8QLqQ6pDgkSCRLmFeYV/Rn9GQseCx6uIa4hgySDJCcmJyZSJlImBiUGJWsiayK8HrweTxpPGp4VnhUGEQYRzwzPDCMJIwn1BfUFLgMuA10AXQAQ/RD92fjZ+I3zjfMx7THt2uXa5fTd9N0j1iPWIc8hz3jJeMnLxcvFicSJxO/F78Wuya7JUs9Sz1nWWdb33ffdXeVd5QDsAOyC8YLxr/Wv9Zz4nPib+pv6Kvwq/Ln9uf2v/6//cAJwAisGKwayCrIKiw+LD0kUSRRbGFsYLhsuGzkcORxbG1sbqhiqGEcURxSbDpsOTghOCCQCJAKM/Iz85Pfk93P0c/Qd8h3yl/CX8Hbvdu9z7nPuO+077XTrdOsJ6QnpNeY15l7jXuP74PvgqN+o3+ff598R4hHi/+X/5ZnrmeuP8o/yOvo6+vgB+AEUCRQJBg8GD1ATUBPhFeEV6RbpFrgWuBbLFcsVrBSsFMMTwxNkE2QTwhPCE+UU5RSEFoQWMxgzGIIZghneGd4Z7xjvGJUWlRbsEuwSLA4sDsoIyghgA2ADcv5y/of6h/ry9/L35vbm9kH3Qfe/+L/4/Pr8+on9if0MAAwAPgI+AvAD8AMpBSkFBQYFBtUG1QbjB+MHiAmICQEMAQxND00PRxNHE5QXlBfHG8cbQB9AH5YhliFyInIikCGQIQgfCB8lGyUbZRZlFk4RThF6DHoMdwh3CIUFhQWxA7EDvgK+AnICcgJOAk4CtAG0ASEAIQBM/Uz94/jj+Nry2vK267brIuQi5Lbcttwi1iLWKtEq0U3OTc7DzcPNg8+Dz07TTtOq2KrYwt7C3tDk0OQ46jjqoe6h7r/xv/Gn86fztPS09FT1VPUF9gX2Pfc993H5cfmp/Kn82QDZAJ8FnwWJCokK5Q7lDg4SDhK1E7UTlxOXE7URtRFBDkEO3AncCSAFIAWXAJcAxvzG/Bj6GPqy+LL4VPhU+Kj4qPgZ+Rn5RvlG+a34rfj89vz2KPQo9IjwiPCZ7Jnss+iz6I7ljuXT49PjCOQI5BbmFubP6c/pE+8T71L1UvW0+7T7tAG0AQkHCQcNCw0LtQ21DTcPNw/aD9oP1A/UD7cPtw/4D/gPjhCOEHcRdxHAEsASPxQ/FHIVchU4FjgWaRZpFs4VzhVSFFIUDhIOElAPUA9TDFMMcAlwCdQG1AabBJsE7wLvAv8B/wF/AX8BYQFhAcYBxgFZAlkC4QLhAl8DXwPsA+wDbwRvBBMFEwURBhEGZwdnBzgJOAmJC4kLQA5ADi0RLRFSFFIUTBdMF7EZsRlSG1IbDhwOHMsbyxuMGowakRiRGOwV7BXZEtkSqg+qD40MjQyvCa8JPwc/B1kFWQXOA84DWAJYAuUA5QBV/1X/X/1f/dT61Pqx97H37vPu85/vn+/j6uPq8uXy5WLhYuGV3ZXdndqd2o3YjdjP18/Xb9hv2ATaBNpZ3Fncdt9239Xi1eIO5g7mDekN6bTrtOsA7gDuBvAG8BryGvId9B30YvZi9iT5JPlE/ET8nv+e//gC+AIkBiQGrgiuCFkKWQrhCuEKXwpfCgcJBwklByUH4ATgBJYClgLvAO8A/f/9/6D/oP/C/8L/YwBjAPwA/AD3APcANAA0AJv+m/4e/B786Pjo+GP1Y/Xj8ePxFu8W73Ptc+0V7RXtD+4P7mXwZfDP88/znPec93P7c/sU/xT/KQIpAmEEYQTaBdoFxwbHBnQHdAcDCAMInwifCJEJkQmvCq8K+wv7C0INQg1dDl0OKA8oD4UPhQ9/D38PBg8GDz0OPQ45DTkNTAxMDGELYQtuCm4KkwmTCekI6QhQCFAIlAeUB+oG6gZmBmYG9wX3BYoFigVoBWgFpAWkBTkGOQYQBxAHFAgUCFIJUgm3CrcKFAwUDFINUg1qDmoOeQ95D2YQZhAKEQoRkxGTEQ4SDhJHEkcSIhIiErARsBH2EPYQ4w/jD30OfQ7XDNcM+Qr5CgUJBQkPBw8HEAUQBRUDFQNcAVwBuP+4//39/f1V/FX8y/rL+kj5SPmv96/3D/YP9kz0TPRW8lbyO/A78MztzO0X6xfrbOhs6Pnl+eWj46PjiuGK4UzgTODx3/HfKeAp4AXhBeGy4rLi4OTg5D3nPefA6cDpQOxA7LjuuO408TTxyfPJ80X2Rfb1+PX4CvwK/C3/Lf/+Af4BiASIBLwGvAYkCCQIxAjECLsIuwgvCC8IUgdSB34Gfga0BbQFOAU4BUkFSQWuBa4F3QXdBY0FjQXWBNYESANIA74AvgCQ/ZD9E/oT+of2h/ZN803z5/Dn8JjvmO+L74vvhvCG8D7yPvJf9F/0l/aX9o74jvgO+g76aPto+5v8m/y3/bf9Hf8d/y8BLwG1A7UDnAacBu0J7QkHDQcNcA9wDxcRFxECEgIS2xHbEfMQ8xDXD9cPuQ65DqoNqg35DPkM8wzzDEANQA2wDbANAQ4BDt8N3w0eDR4N4QvhCxgKGAr2B/YHHQYdBr8EvwTMA8wDZANkA9kD2QPIBMgE0wXTBf8G/wYhCCEI6AjoCF4JXgnECcQJFgoWCn4KfgoxCzELGgwaDAoNCg39Df0Nyg7KDh8PHw8JDwkPhg6GDoUNhQ0PDA8MdQp1CtII0ggeBx4HigWKBRIEEgSUApQCBgEGAYf/h//1/fX9U/xT/Nr62vqS+ZL5b/hv+FT3VPdM9kz2RfVF9RH0EfR58nnyP/A/8KLtou3o6ujqHOgc6HXldeWZ45njxuLG4tTi1OKi46LjOOU45WrnaufT6dPpP+w/7Iruiu6X8JfwdPJ08lL0UvQ99j32WPhY+Nf61/qU/ZT9OwA7AI4CjgKBBIEE2AXYBZIGkgbGBsYGfgZ+BgcGBwagBaAFZQVlBT8FPwVZBVkFiQWJBVUFVQVqBGoEzALMAoIAggCJ/Yn9XPpc+lv3W/fX9Nf0GPMY83DycPLM8szy5vPm84r1ivVC90L3q/ir+Kz5rPlM+kz6hvqG+rf6t/pu+2771PzU/Lj+uP5BAUEBmASYBDgIOAiWC5YLYw5jDm4QbhBpEWkRYhFiEbQQtBCcD5wPfw5/DqgNqA00DTQN+Qz5DPIM8gwYDRgNIQ0hDcAMwAzJC8kLZQplCrIIsgjbBtsGGgUaBeMD4wNpA2kDfAN8A9ED0QNkBGQEPQU9Bf4F/gV9Bn0G1AbUBhgHGAdHB0cHiweLBxYIFgjuCO4IHQodCmwLbAt7DHsMEg0SDT8NPw3eDN4M3gveC5cKlwosCSwJlgeWB/YF9gWQBJAEZwNnA1gCWAJXAVcBRABEAPH+8f5j/WP9y/vL+z36Pfrw+PD4JPgk+OX35fff99/37vfu9x/4H/g2+Db46/fr9+D24Pb19PX0X/Jf8nrveu937HfsnOmc6YjniOeo5qjmp+an5iTnJOdP6E/oDuoO6hrsGuwr7ivuOvA68EfyR/I49Dj0H/Yf9gb4BvgF+gX6Nvw2/I3+jf66ALoAeAJ4AsUDxQO/BL8ElwWXBWIGYgYMBwwHyQfJB6wIrAhYCVgJfwl/CT8JPwnACMAIngeeB4YFhgXRAtECzv/O/8D8wPwd+h36UPhQ+Gr3avc99z33kfeR9+737vcn+Cf4RPhE+Dn4Ofjs9+z3efd59yD3IPcV9xX32vfa99353fnT/NP8KgAqAMkDyQNuB24HbQptCpIMkgwRDhEO+w77Dh8PHw+5DrkOLA4sDpgNmA0+DT4NVQ1VDY4Njg2FDYUNLA0sDXwMfAyCC4ILXgpeCjgJOAkgCCAIIQchB2AGYAbFBcUFbAVsBXoFegXVBdUFAQYBBtsF2wWjBaMFYwVjBRoFGgX2BPYEHQUdBXIFcgXkBeQFagZqBhcHFwfoB+gHvgi+CFcJVwmVCZUJZAlkCZwInAhlB2UHKAYoBgYFBgXtA+0D3ALcAu8B7wELAQsBUwBTAMz/zP9e/17/3P7c/ir+Kv4y/TL9CfwJ/BP7E/uS+pL6gvqC+qn6qfrn+uf69Pr0+sf6x/p9+n360PnQ+Wr4avhG9kb2sPOw843wjfAF7QXtEeoR6mjoaOi9573nieeJ57Lnsuc76DvoH+kf6VTqVOrm6+brsu2y7aTvpO+G8YbxRPNE8y/1L/Wo96j3n/qf+o39jf0PAA8A2gHaAfoC+gLwA/AD8wTzBPUF9QXeBt4GywfLB3QIdAhwCHAICQgJCNQH1AeGB4YHfAZ8BqoEqgRTAlMCyP/I/2P9Y/3G+8b7D/sP+9/63/qo+qj6Kvoq+of5h/nh+OH4UvhS+Pb39vfP98/3rveu96z3rPdL+Ev46/nr+Wj8aPxx/3H/oQKhAoMFgwXdB90HzAnMCaALoAs8DTwNnQ6dDqoPqg8hECEQAhACELMPsw+iD6IPkQ+RDzMPMw+ADoAObg1uDTAMMAw/Cz8Lvwq/CokKiQqBCoEKewp7CioKKgqPCY8J/wj/CIoIigjzB/MHHAccByMGIwY0BTQFhASEBEwETASbBJsERwVHBSAGIAbNBs0GOAc4B7gHuAc7CDsIgQiBCG4IbgjtB+0H0AbQBhkFGQVsA2wDMAIwAmYBZgEJAQkB4QDhALcAtwChAKEAwQDBAN0A3QClAKUACAAIAOP+4/4f/R/9Q/tD+w76Dvq9+b35I/oj+uv66/qH+4f7wfvB+8X7xftu+277bvpu+p74nvgq9ir2zfLN8qnuqe7U6tTqUuhS6EznTOcX5xfnGecZ5wTnBOcm5ybn6efp5z3pPekR6xHrbe1t7erv6u8e8h7yMfQx9Lf2t/bh+eH5Ov06/UEAQQBWAlYCawNrAzIEMgQ2BTYFiAaIBhAIEAiUCZQJlwqXCrcKtwocChwKWglaCagIqAiqB6oHCwYLBpwDnAPFAMUAGv4a/hf8F/wn+yf7FvsW+/36/fpH+kf6L/kv+ev36/ec9pz2tfW19Yr1ivW+9b719/X39a32rfY6+Dr4b/pv+lb9Vv3LAMsAAAQABHIGcgZyCHIIVwpXCh0MHQzTDdMNcg9yD3MQcxBxEHEQxQ/FDwMPAw87DjsOdQ11DbgMuAzWC9YLywrLCtUJ1Qk4CTgJAgkCCQ8JDwn3CPcIRghGCDAHMAcKBgoGAAUABTMEMwS6A7oDbQNtAzYDNgMzAzMDZwNnA9YD1gONBI0EUQVRBb0FvQXNBc0F4gXiBSIGIgaSBpIGFQcVB2YHZgckByQHKQYpBt4E3gS/A78DKAMoAycDJwM1AzUD8wLzAosCiwIWAhYCpgGmAWMBYwEyATIBsQCxALj/uP+O/o7+lv2W/Vn9Wf0r/iv+gP+A/zsAOwACAAIAL/8v/+r96v1l/GX84Prg+jH5MfnT9tP2xfPF81zwXPAp7SntIesh67Hqsero6ujqc+pz6lrpWulc6FzoGuga6CLpIul263brX+5f7jrxOvHz8/Pzb/Zv9sT4xPhZ+1n7cP5w/jkBOQHPAs8CcwNzA/MD8wMABQAFyQbJBtYI1ghwCnAKTAtMCyQLJAsECgQKkwiTCIMHgwelBqUGSQVJBTIDMgN6AHoA2v3a/S78LvyF+4X7/fr9+hX6Ffrz+PP4Y/dj91D1UPWM84zz/PL88nLzcvMv9C/07fTt9Or16vWB94H33/nf+an8qfxi/2L/CAIIApEEkQSgBqAGRAhECBQKFAosDCwM/Q39DeQO5A6XDpcOrw2vDRgNGA0HDQcNAQ0BDcUMxQyDDIMM9Av0C90K3Qq8CbwJ9gj2CEsISwh0B3QHRAZEBr4EvgRiA2IDxQLFAqECoQJ6AnoCdQJ1AqkCqQLHAscCwwLDAikDKQPyA/IDlASUBNkE2QTABMAElgSWBNME0wSOBY4FUwZTBrUGtQapBqkGIAYgBi8FLwVtBG0EPgQ+BHMEcwScBJwETwRPBFMDUwMUAhQCMAEwAYsAiwC8/7z/3f7d/iD+IP5u/W79+vz6/DP9M/0K/gr+9P70/l//X//s/uz+vv2+/Yz8jPy8+7z76vrq+pT5lPmk96T33PTc9ErxSvH07fTt6Ovo60XrRes26zbr8Orw6kLqQuq96b3pSepJ6iHsIey57rnun/Gf8X/0f/Ty9vL2rviu+C76Lvo9/D386/7r/noBegEIAwgDrwOvA4gEiAQvBi8GSQhJCD8KPwrHC8cLbgxuDLYLtgsGCgYKYwhjCGcHZwf9Bv0GcAZwBv0E/QSiAqICQgBCALX+tf7h/eH9Uf1R/cb8xvzN+837/fn9+Z73nveu9a71/vT+9Hb1dvWJ9on2pPek99D40PiC+oL6nvye/Ob+5v5gAWAB1QPVA7QFtAXjBuMGBAgECJ8JnwmsC6wLmQ2ZDZoOmg5ZDlkOXA1cDWkMaQygC6AL4griCksKSwqSCZIJcAhwCOYG5gaCBYIFwATABI4EjgSHBIcEAwQDBBgDGANJAkkCpgGmAQUBBQF1AHUAHgAeAOD/4P/J/8n/KAAoAA0BDQFKAkoCjgOOA1EEUQRdBF0ESgRKBJQElAQoBSgF0wXTBWoGagaIBogGAQYBBikFKQVVBFUEwgPCA7IDsgPiA+IDkAOQA8UCxQILAgsChQGFAQgBCAGmAKYAVABUAKz/rP/F/sX+Dv4O/t/93/04/jj+3v7e/iD/IP9x/nH+Uv1S/Xj8ePzn++f7Zvtm+8r6yvpx+XH51PbU9iPzI/NN703vkuyS7Lvru+ss7CzsZexl7Nnr2esx6zHrMOsw6wzsDOzt7e3tpPCk8GTzZPOh9aH1BfcF9+f35/cy+TL5X/tf+9/93/2Z/5n/bABsABgBGAFCAkICKgQqBJ0GnQbOCM4I6QnpCZcJlwklCCUIZwZnBlsFWwVnBWcFtAW0BVQFVAX9A/0DzwHPAX7/fv/R/dH98Pzw/Fv8W/yI+4j7Nvo2+ob4hvgS9xL3sPaw9nL3cvew+LD46/nr+RT7FPsv/C/8Vf1V/c/+z/6ZAJkAWgJaAg0EDQTJBckFjwePB5UJlQkyDDIM+Q75Ds8QzxATERMRNxA3EPMO8w7GDcYN6gzqDFIMUgzaC9oLUwtTC5MKkwqHCYcJcghyCJoHmgfrBusGEwYTBucE5wSPA48DegJ6AsoBygE7ATsBowCjADYANgA4ADgAdgB2AOIA4gCcAZwBYgJiAvkC+QI/Az8DVwNXA5IDkgMwBDAESAVIBU0GTQbyBvIGIwcjB7EGsQaxBbEFqQSpBA8EDwTQA9AD1APUA/UD9QPlA+UDlAOUA1gDWAMdAx0DjAKMArkBuQHoAOgAKwArAKn/qf+e/57/zP/M/73/vf8v/y//I/4j/r/8v/x9+337qPqo+tb51vmC+IL4ZPZk9k/zT/OT75Pvauxq7Nzq3Oq36rfqK+sr63TrdOs06zTrwOrA6vvq++pM7EzsX+5f7tDw0PAy8zLzLPUs9ZX2lfbX99f3l/mX+e/77/tv/m/+XABcAGoBagEuAi4CcANwA0sFSwVMB0wH1QjVCGEJYQnZCNkItwe3B5kGmQYABgAGBQYFBh0GHQZaBVoFUgNSA1MAUwA2/Tb98/rz+u/57/m7+bv5cvly+bn4ufid9533ZPZk9pD1kPV99X31HfYd9gX3BfcV+BX4aflp+dv62/qP/I/85v7m/sEBwQGVBJUE9wb3BvMI8wi1CrUKVgxWDKkNqQ1LDksOKQ4pDnkNeQ29DL0MZgxmDH8MfwzyDPIMUQ1RDUANQA2LDIsMKgsqC3cJdwnjB+MHsgayBrIFsgW8BLwEyAPIA80CzQK9Ab0BxgDGAAkACQBz/3P/Bf8F/8v+y/7U/tT+If8h/6n/qf9QAFAA7gDuAIYBhgFDAkMCIwMjAzQENARbBVsFNwY3BncGdwYiBiIGkwWTBSgFKAU/BT8F8wXzBcQGxAY3BzcHUQdRBygHKAfFBsUGTAZMBtUF1QU/BT8FngSeBCEEIQTuA+4D+AP4AwUEBQSnA6cDdQJ1AqMAowDO/s7+Of05/ej76Puv+q/6+/j7+Ej2SPbN8s3yWu9a7+/s7+xR7FHsEO0Q7bTttO1G7UbtMOww7HTrdOuq66rr/Oz87CHvIe+I8Yjxx/PH85v1m/XL9sv2x/fH93n5efkY/Bj8qf6p/lAAUAAnAScB3QHdASkDKQMjBSMFHwcfB0gISAhtCG0IygfKB7AGsAa8BbwFWAVYBVwFXAU5BTkFNQQ1BAsCCwIg/yD/Z/xn/KX6pfrd+d35pvmm+Uf5R/kX+Bf4LvYu9nX0dfSI84jzbvNu8xD0EPRY9Vj1//b/9t343fi7+rv6WfxZ/N393f27/7v/6gHqAekD6QOgBaAFYQdhBz4JPgncCtwK9Av0C3IMcgyqDKoMJA0kDeYN5g1aDloOTw5PDvcN9w1uDW4NngyeDJ4LnguKCooKawlrCVcIVwhTB1MHLgYuBt4E3gSIA4gDNQI1AtoA2gCQ/5D/fv5+/tb91v3d/d39mv6a/nn/ef/+//7/HAAcABEAEQAlACUAqQCpAJIBkgGOAo4CbQNtAzEEMQSaBJoEiQSJBI0EjQQqBSoFJgYmBvsG+wZQB1AHLQctB9wG3AasBqwGhAaEBg4GDgZaBVoF0ATQBJAEkASQBJAEtQS1BMAEwARtBG0EgAOAA+8B7wEIAAgAev56/nP9c/1o/Gj8y/rL+kz4TPgB9QH1ZfFl8a3ure6e7Z7tvO287RTuFO7q7ertIu0i7UzsTOwg7CDs7ezt7Gvua+5w8HDws/Kz8ob0hvSb9Zv1avZq9q73rvev+a/5I/wj/F/+X/4IAAgAbwFvAQQDBAPEBMQEigaKBhsIGwgNCQ0JMgkyCcAIwAg1CDUI1AfUB7sHuwe6B7oHMAcwB6UFpQVPA08DfwB/AMn9yf36+/r7Mfsx+7X6tfrN+c35QvhC+ED2QPZt9G30ivOK87bztvOB9IH0qPWo9QT3BPck+CT41vjW+IX5hfmj+qP6cfxx/A7/Dv8mAiYC2ATYBOYG5gafCJ8IFgoWCioLKgvpC+kLhQyFDA0NDQ3DDcMNmg6aDiIPIg8nDycP/g7+DsQOxA43DjcONg02DdUL1QtxCnEKYwljCaYIpgiaB5oH2QXZBcUDxQPgAeABbABsAJf/l/9C/0L/LP8s/z//P/9J/0n/+f75/l7+Xv4H/gf+dP50/pD/kP/nAOcAAQIBApACkAKwArAC1gLWAkcDRwPdA90DrwSvBMcFxwXcBtwGywfLB2EIYQhvCG8IKQgpCOAH4AeFB4UH7gbuBlkGWQYhBiEGbQZtBu0G7QbSBtIGmQWZBXUDdQNSAVIBy//L/6j+qP6I/Yj9Kvwq/Df6N/pc91z3wvPC8yXwJfCj7aPt4uzi7HjteO3+7f7tgu2C7SjsKOy96r3qEOoQ6nrqeuqz67PrV+1X7SHvIe+48LjwwvHC8WTyZPJF80Xz9PT09Ij3iPd8+nz64/zj/GP+Y/6J/4n/FQEVAQwDDAPLBMsEEAYQBukG6QaOB44HJQglCIQIhAh5CHkIGQgZCIwHjAeXBpcG5ATkBJ0CnQKRAJEAY/9j/yf/J/8q/yr/Yv5i/oL8gvwc+hz6FvgW+NL20vZb9lv2mvaa9mr3avd5+Hn4TvlO+Y/5j/lx+XH55fnl+ZL7kvsv/i/+9QD1ACcDJwOvBK8E3QXdBQIHAgclCCUIQglCCYUKhQoNDA0MmQ2ZDbsOuw5PD08PSw9LD/cO9w6iDqIOOg46DqcNpw39DP0MgAyADCYMJgygC6ALfgp+CpMIkwgsBiwG9AP0A38CfwLiAeIByAHIAdwB3AHOAc4BYQFhAYcAhwBf/1//ZP5k/i7+Lv7t/u3+GAAYAB0BHQGlAaUBlgGWAWABYAF4AXgB6gHqAaECoQKWA5YDswSzBJ8FnwU1BjUGdQZ1BmQGZAYuBi4GJAYkBlYGVgZ9Bn0GogaiBuMG4wYOBw4HwAbABrYFtgX9A/0DGAIYAqgAqADx//H/e/97/6D+oP4a/Rr95vrm+iz4LPhf9V/1+PL48mXxZfHR8NHwwfDB8GzwbPBS71Lvru2u7Q7sDuwk6yTrSOtI6x3sHexL7Uvtp+6n7uLv4u+58LnwL/Ev8a/xr/G28rbyevR69Nz23PZB+UH5M/sz+9L80vxm/mb+AAAAAG8BbwGhAqECuAO4A8gEyATuBe4F2AbYBh0HHQflBuUGcwZzBgQGBAaZBZkFFgUWBYEEgQTfA98DTANMA6ACoAKPAY8BJQAlAK3+rf6K/Yr9yfzJ/FT8VPzz+/P7pful+6j7qPvp++n7Jvwm/CH8Ifz4+/j7IPwg/Pr8+vxv/m/+BwAHAFQBVAFJAkkCBAMEA48DjwMXBBcE5gTmBC4GLgbkB+QHlQmVCbkKuQoVCxUL2wrbCpoKmgqqCqoKHgseC7wLvAsDDAMMzAvMCzELMQtGCkYKNAk0CR8IHwg+Bz4HsAawBm0GbQYuBi4GoQWhBbwEvAS+A74D2ALYAgwCDAJfAV8B5ADkAK0ArQCcAJwAdAB0AP7//v9C/0L/p/6n/lP+U/44/jj+ZP5k/uT+5P6B/4H/CQAJAGoAagCpAKkAugC6AK4ArgDDAMMAHAEcAdYB1gHoAugC6gPqA2EEYQRYBFgEIwQjBNED0QN6A3oDIgMiA9cC1wKjAqMCQgJCAn4BfgFHAEcA9f71/s79zv26/Lr8nvue+4z6jPqf+Z/50vjS+Pb39vfm9ub2l/WX9UD0QPQu8y7zdPJ08g/yD/Lp8enx2fHZ8c7xzvGw8bDxivGK8XTxdPGj8aPxX/Jf8pPzk/Mj9SP10PbQ9kT4RPhr+Wv5j/qP+sz7zPvq/Or89/33/RP/E/8uAC4AHAEcAc8BzwFSAlICxgLGAlQDVAPoA+gDPwQ/BFIEUgRpBGkEogSiBNYE1gTdBN0ElQSVBPsD+wMwAzADegJ6Au8B7wGjAaMBtgG2AeAB4AHlAeUBugG6AXIBcgE9AT0BUwFTAdYB1gGRApECKQMpA4EDgQOfA58DmgOaA7EDsQP3A/cDVwRXBLsEuwQmBSYFfwV/BYAFgAVIBUgFMAUwBUgFSAVzBXMFcwVzBSoFKgWiBKIEHwQfBLEDsQNDA0MD7QLtArsCuwKqAqoCqAKoApoCmgJ8AnwCcAJwAl8CXwIrAisCvAG8AREBEQFlAGUAxf/F/1j/WP83/zf/U/9T/2H/Yf9C/0L/EP8Q/9f+1/6q/qr+nP6c/rL+sv7o/uj+Rv9G/6H/of+8/7z/w//D/+v/6/9JAEkAyQDJAFEBUQHEAcQBHAIcAnECcQK5ArkC4QLhAu4C7gIgAyADewN7A9MD0wMVBBUEKQQpBPcD9wOCA4ID6QLpAjECMQJ4AXgB6gDqAKMAowByAHIAHgAeAHz/fP93/nf+VP1U/Tz8PPw5+zn7VPpU+qT5pPk6+Tr58fjx+J/4n/g2+Db4w/fD94P3g/ex97H3Ifgh+Ij4iPjh+OH4Lvku+V35Xflz+XP5i/mL+Z75nvnM+cz5Ofo5+rn6ufop+yn7nfud+xn8GfyH/If88Pzw/EP9Q/1y/XL9lv2W/eL94v1Z/ln+tP60/tj+2P7E/sT+kP6Q/m3+bf6P/o/+8/7z/o7/jv9HAEcABAEEAY4BjgHPAc8BBAIEAk8CTwLCAsICfAN8A0MEQwThBOEETwVPBYsFiwWHBYcFYQVhBVMFUwVeBV4FdwV3BZIFkgWEBYQFSQVJBfME8wSaBJoEJwQnBKcDpwNGA0YD+QL5Ar4CvgKLAosCRgJGAgQCBALoAegB7gHuAfMB8wH4AfgB9wH3AfsB+wHwAfABxQHFAZABkAFOAU4BHQEdARABEAEWARYBBgEGAe8A7wDbANsAwADAAKYApgCNAI0AagBqAGUAZQCUAJQAzwDPAPQA9AANAQ0BFwEXAR8BHwEmASYBIwEjAQsBCwH4APgA/wD/ACkBKQGHAYcBEwITAqgCqAIQAxADNwM3AzQDNAMgAyADKwMrA1ADUAOAA4ADsAOwA8oDygPBA8EDgQOBAy0DLQP3AvcC1QLVAqYCpgI6AjoCjgGOAbgAuADP/8//+v76/jn+Of6W/Zb9M/0z/eD84PyF/IX8D/wP/Gv7a/vE+sT6L/ov+r/5v/ly+XL5LPks+eH44fiT+JP4P/g/+O/37/ew97D3cPdw90z3TPde9173kfeR98z3zPf29/b3HPgc+Fj4WPig+KD46vjq+C35Lflt+W35v/m/+R76Hvpu+m76rvqu+vH68fpd+1376/vr+3/8f/wV/RX9vf29/X/+f/5U/1T/KwArANYA1gBuAW4BFgIWArUCtQJPA08D0wPTAzMEMwRwBHAEhwSHBIQEhARyBHIEWQRZBF0EXQRtBG0EZgRmBDMEMwTmA+YDlAOUAy8DLwPOAs4CeAJ4AicCJwL6AfoB8gHyAQMCAwIRAhECIAIgAjICMgI5AjkCPQI9AkACQAJlAmUCrgKuAgcDBwNnA2cDnAOcA7IDsgPEA8QD0APQA/sD+wMtBC0EUwRTBHMEcwR1BHUEbwRvBF8EXwRJBEkEMQQxBBAEEATvA+8DuwO7A2gDaAMNAw0DtAK0AncCdwJOAk4CFAIUAs8BzwGTAZMBgQGBAZ8BnwG/Ab8BvwG/AagBqAGmAaYBrwGvAa8BrwG6AboB5AHkAS8CLwKfAp8C9QL1AvsC+wLUAtQCigKKAkACQAIJAgkC2QHZAckByQHKAcoBtwG3AXwBfAEWARYBiwCLAA4ADgC+/77/ff99/y7/Lv+o/qj+5v3m/R39Hf14/Hj89Pv0+437jfs3+zf78/rz+q36rfpC+kL6vPm8+Sv5K/nC+ML4lPiU+Gn4afgp+Cn43/ff96b3pveH94f3hPeE9433jfec95z3rfet99H30fcB+AH4KPgo+Fr4Wvio+Kj4H/kf+ZT5lPkC+gL6Xvpe+sP6w/pa+1r7JPwk/Aj9CP3Y/dj9df51/vb+9v6C/4L/AgACAGEAYQC1ALUAGwEbAZwBnAH6AfoBJQIlAhsCGwIAAgACDgIOAkkCSQJ4AngChAKEAoMCgwKXApcCqgKqAroCugLDAsMCzALMAt4C3gIIAwgDKwMrA0gDSANvA28DswOzAwsECwRYBFgElASUBLAEsATcBNwELQUtBZUFlQXbBdsF5gXmBbMFswVsBWwFJwUnBfYE9gTkBOQE4QThBPwE/AT6BPoEwQTBBHQEdAQmBCYE3gPeA6gDqANnA2cDKgMqAwADAAPpAukCwgLCAmECYQL/Af8B1wHXAdoB2gG4AbgBawFrASUBJQEcARwBYAFgAZ0BnQGhAaEBfgF+AYYBhgGfAZ8BagFqAeYA5gBtAG0AUQBRAGcAZwBPAE8A1//X/0T/RP/+/v7+Ef8R/yD/IP/6/vr+v/6//p7+nv50/nT+Bv4G/lX9Vf2z/LP8ffx9/If8h/yT/JP8cvxy/FT8VPxf/F/8gvyC/Jz8nPyS/JL8g/yD/IH8gfyJ/In8cvxy/GT8ZPxx/HH8l/yX/IP8g/wf/B/8qPuo+2f7Z/t0+3T7q/ur+9773vv3+/f7HPwc/EL8Qvw3/Df89fv1+7L7svvE+8T7Lfwt/KL8ovy5/Ln8lvyW/Jj8mPzg/OD8Mf0x/Vb9Vv1h/WH9nv2e/VH+Uf4F/wX/WP9Y/xP/E//G/sb+zv7O/h7/Hv9O/07/Vv9W/2j/aP+3/7f/IgAiAE8ATwAdAB0A2v/a//f/9/9aAFoAuQC5ANIA0gDnAOcAEQERAV4BXgFtAW0BVAFUAUkBSQGnAacBIgIiAosCiwKmAqYC7QLtAnIDcgPdA90DtwO3AyoDKgMaAxoD0gPSA6MEowSBBIEE0gPSAy0DLQMIBAgE1ATUBOQE5ASAA4AD9QL1AgIEAgQPBg8GsQaxBrwFvAXVBNUEUgVSBcAGwAZxBnEGjQSNBNYC1gIMBAwEgAaABpgHmAd5BXkF9gL2AoQChAKWBJYEDAYMBjAFMAUyAzIDbgJuAmgDaAN7A3sDiQGJAaf+p/7l/eX9Vv9W/xsBGwFEAEQA5f3l/SD8IPy0/LT89/33/e397f0h/CH8jPqM+qD6oPrY+9j7YPxg/HX7dftV+lX6RPpE+lv7W/sC/AL8z/vP+0v7S/v4+/j7iv2K/ev+6/60/rT+jf2N/bT8tPwX/Rf94/3j/UP+Q/7//f/9sP2w/c/9z/3y/fL9zv3O/Un9Sf0t/S39jf2N/Tz+PP51/nX+Pf49/rL9sv0z/TP9tPy0/DX8Nfzu++77HPwc/JL8kvwA/QD9O/07/Vz9XP2E/YT9mf2Z/YD9gP1x/XH9kP2Q/Rz+HP69/r3+8P7w/rL+sv56/nr+j/6P/sD+wP7U/tT+0/7T/iH/If/P/8//jQCNAKoAqgA3ADcApv+m/6b/pv//////NwA3AC0ALQAtAC0AigCKAAYBBgEgASABwwDDAIoAigC9AL0AZAFkAcIBwgHQAdABwQHBAQoCCgJWAlYCPQI9ArUBtQFjAWMBnAGcAR8CHwKeAp4C9wL3AmYDZgPzA/MDXQRdBEQERAT8A/wDDQQNBLoEugRyBXIFwAXABZQFlAVtBW0FcAVwBXsFewV3BXcFfQV9BcUFxQVeBl4Gtga2BoEGgQbiBeIFZQVlBWQFZAV/BX8FSgVKBZkEmQToA+gDbgNuA0UDRQPxAvECTAJMAmEBYQHEAMQAdwB3ADUANQCr/6v///7//nz+fP5R/lH+Of45/rf9t/3f/N/8F/wX/Of75/sk/CT8RvxG/PT79PuI+4j7bftt+7j7uPv9+/375/vn+5j7mPt8+3z7svuy++v76/vG+8b7WftZ+w37Dfsx+zH7iPuI+5/7n/tf+1/7EvsS+yD7IPuB+4H7+Pv4+xD8EPzg++D7wPvA++j76Psr/Cv8PPw8/Cj8KPwS/BL8O/w7/JP8k/zX/Nf8Av0C/S/9L/2p/an9Rv5G/rj+uP7J/sn+tP60/sv+y/4f/x//c/9z/5L/kv9y/3L/Of85/0H/Qf9u/27/tv+2/+b/5v/5//n/AAAAABYAFgAWABYADwAPAPL/8v/q/+r//v/+/yMAIwA/AD8AJgAmACYAJgBYAFgAwQDBAAUBBQEcARwBEAEQAUcBRwGPAY8B3QHdAfgB+AH2AfYBAwIDAisCKwI/Aj8COgI6AmQCZAKuAq4CFgMWA08DTwNhA2EDYgNiA44DjgOkA6QDmAOYA3wDfAOFA4UDtwO3A80DzQOdA50DUgNSA1YDVgOHA4cD1gPWA9ID0gPPA88D/AP8A1cEVwRtBG0EIQQhBLUDtQOFA4UDrAOsA9ID0gOZA5kDHAMcA9QC1ALBAsECrAKsAkgCSALlAeUBmgGaAaYBpgGPAY8BLgEuAYEAgQD+//7/z//P/9L/0v+o/6j/M/8z/+P+4/61/rX+yf7J/rz+vP6R/pH+M/4z/vX99f29/b39lf2V/Wn9af1b/Vv9aP1o/YT9hP1+/X79Pv0+/ff89/yb/Jv8dfx1/Fj8WPxj/GP8Zfxl/Hj8ePyC/IL8jfyN/IX8hfxv/G/8YPxg/Fn8WfyA/ID8s/yz/Pr8+vz5/Pn8xfzF/I/8j/yP/I/81fzV/E/9T/3O/c79I/4j/mX+Zf6B/oH+kP6Q/pD+kP6d/p3+x/7H/vv++/4b/xv/JP8k/zH/Mf8x/zH/Rv9G/zv/O/8//z//Vf9V/5b/lv/G/8b//v/+/zEAMQBtAG0AngCeAJEAkQBZAFkAHQAdADMAMwCAAIAA2gDaAAEBAQE+AT4BoQGhAQMCAwI7AjsCNQI1Ai4CLgJvAm8C2wLbAhkDGQMHAwcDuwK7AqICogLDAsMC6ALoAuUC5QLoAugC/gL+AigDKAM2AzYD+AL4ApgCmAI9Aj0CBgIGAtoB2gGmAaYBfAF8AX0BfQGKAYoBkwGTAYsBiwGDAYMBewF7AW8BbwFUAVQBUgFSAWYBZgGKAYoBiwGLAVUBVQEIAQgB0gDSAM8AzwC0ALQAegB6ADIAMgAtAC0APAA8ADAAMADY/9j/X/9f/wn/Cf8M/wz/L/8v/w//D/+5/rn+df51/nT+dP5v/m/+Nv42/sz9zP18/Xz9hv2G/dn92f0I/gj++/37/c79zv3U/dT98P3w/QD+AP7i/eL9yv3K/eH94f0j/iP+SP5I/in+Kf7x/fH9xv3G/eT95P0r/iv+Vf5V/lX+Vf49/j3+I/4j/hr+Gv4F/gX+//3//d793v3d/d39y/3L/cP9w/2l/aX9oP2g/bX9tf3p/en9Cf4J/iP+I/4p/in+Mv4y/lH+Uf5d/l3+bP5s/nH+cf6R/pH+p/6n/s3+zf7c/tz+G/8b/2b/Zv/b/9v/HwAfAEEAQQBhAGEAngCeAOkA6QANAQ0BEgESAQABAAEOAQ4BMAEwAUoBSgFFAUUBewF7AdYB1gFoAmgCqgKqArICsgKWApYCtwK3AgUDBQM/Az8DQQNBAxQDFAMBAwEDEgMSA00DTQNXA1cDXANcA1ADUANgA2ADWANYAzwDPAMPAw8D9wL3AvgC+AL1AvUCzgLOAmcCZwL/Af8B2AHYAQACAAIyAjICNwI3AgQCBALKAcoBowGjAacBpwGjAaMBjQGNAYMBgwGRAZEBmgGaAXIBcgEMAQwBsACwAH0AfQBtAG0AXwBfADUANQD2//b/uv+6/5H/kf9i/2L/H/8f/9L+0v6S/pL+Yf5h/j7+Pv4Y/hj+5P3k/aT9pP1w/XD9ZP1k/Vj9WP09/T39Bf0F/dn82fzi/OL8F/0X/UL9Qv1B/UH9RP1E/VL9Uv2Y/Zj9z/3P/e797v0I/gj+Nf41/nn+ef6Q/pD+d/53/k3+Tf5t/m3+wv7C/jL/Mv9e/17/Yf9h/zf/N/8f/x//Cv8K//X+9f7W/tb+wv7C/sb+xv7F/sX+uf65/o7+jv5u/m7+XP5c/oL+gv6j/qP+qP6o/n/+f/5Y/lj+VP5U/mT+ZP52/nb+dv52/oH+gf6r/qv+9/73/jv/O/9q/2r/ff99/5X/lf+z/7P/yv/K/9P/0//U/9T/5//n/wcABwAoACgASABIAEMAQwBUAFQAfQB9AMoAygAoASgBUQFRAWEBYQFrAWsBhwGHAbsBuwHvAe8BCwILAh0CHQI2AjYCaAJoAosCiwKiAqICuwK7AuYC5gINAw0DGAMYAwIDAgPSAtICuwK7AqsCqwK8ArwCtAK0AokCiQJRAlECJgImAgUCBQIDAgMCCgIKAgwCDAILAgsCAAIAAvAB8AHBAcEBkgGSAV4BXgFSAVIBTQFNATMBMwHjAOMAiwCLAEsASwA4ADgAOAA4ACsAKwD2//b/qv+q/3H/cf86/zr/Cv8K/9f+1/6+/r7+u/67/sP+w/69/r3+o/6j/nP+c/5M/kz+Qv5C/iz+LP7w/fD9r/2v/X79fv2R/ZH9yP3I/fz9/P0G/gb+C/4L/iP+I/5T/lP+dv52/mr+av5U/lT+S/5L/mH+Yf5k/mT+Vf5V/lH+Uf6W/pb++/77/mT/ZP+M/4z/hP+E/3z/fP+Y/5j/s/+z/67/rv+T/5P/e/97/5H/kf+v/6//w//D/8H/wf/H/8f/3//f//v/+//2//b/zf/N/7j/uP/E/8T/5f/l/+3/7f/N/83/pP+k/5j/mP+k/6T/sf+x/7T/tP+//7//3//f//7//v//////5P/k/9P/0//d/93//v/+//X/9f/N/83/r/+v/7H/sf/G/8b/3f/d/+v/6/8DAAMANgA2AGwAbACMAIwAhgCGAKMAowDQANAACAEIAQkBCQEBAQEB/QD9AC4BLgFtAW0BqQGpAckByQHZAdkB/gH+AQ8CDwIOAg4C6wHrAdcB1wHFAcUBtwG3AZoBmgGMAYwBgQGBAY4BjgGHAYcBhwGHAYkBiQGMAYwBhwGHAWMBYwE6AToBGgEaAQkBCQHyAPIAvwC/AIwAjAB/AH8AfwB/AH4AfgBOAE4ALAAsABgAGAAaABoACQAJAN//3/+s/6z/nP+c/7X/tf/K/8r/uP+4/5D/kP9z/3P/Vf9V/03/Tf9E/0T/O/87/yf/J/8Z/xn/Df8N/w7/Dv8U/xT/I/8j/yf/J/8s/yz/Nf81/yn/Kf/9/v3+tf61/ov+i/6D/oP+mf6Z/pX+lf50/nT+Vf5V/lr+Wv6N/o3+sv6y/rL+sv6x/rH+pv6m/q/+r/65/rn+s/6z/sL+wv7p/un+J/8n/1b/Vv9e/17/Xf9d/2P/Y/+U/5T/4//j/ykAKQBRAFEAVwBXAEYARgA3ADcANAA0ACwALAAvAC8AOQA5AEcARwBRAFEASQBJADkAOQA6ADoAPQA9AEsASwBHAEcALgAuACsAKwAiACIAIwAjAAMAAwDY/9j/tv+2/53/nf+i/6L/u/+7/9v/2/8DAAMAKQApAEEAQQAzADMAJAAkABcAFwAbABsAJgAmAEgASABcAFwAcgByAIoAigCHAIcAfAB8AGgAaABTAFMAYABgAJMAkwDKAMoA5ADkANoA2gC2ALYAhwCHAIcAhwCfAJ8AwwDDAOYA5gAAAQABCwELAfwA/ADiAOIAuAC4AK0ArQCyALIA0wDTAPkA+QAPAQ8BFgEWARsBGwEQARAB/QD9ANYA1gCyALIAoACgAJsAmwCtAK0AsACwAKYApgCdAJ0AnACcAJQAlACYAJgAlQCVAJAAkAClAKUAqACoAJ0AnQB/AH8AXwBfAEIAQgAzADMAMgAyADIAMgBJAEkAZwBnAHgAeABhAGEAMgAyAAoACgDl/+X/xv/G/5z/nP94/3j/X/9f/2D/YP9V/1X/K/8r/+b+5v6t/q3+nP6c/qX+pf6p/qn+kP6Q/nj+eP5n/mf+ZP5k/kX+Rf4e/h7+CP4I/iP+I/5m/mb+rv6u/rv+u/6v/q/+v/6//uf+5/4d/x3/KP8o/x3/Hf8d/x3/OP84/1v/W/9s/2z/S/9L/0z/TP91/3X/qP+o/7r/uv+q/6r/kf+R/5r/mv+5/7n/xv/G/6j/qP93/3f/Yv9i/1v/W/9n/2f/Xf9d/3T/dP+Z/5n/4P/g/xQAFAA8ADwAQwBDAFIAUgBjAGMAdQB1AIkAiQCFAIUAkQCRAH0AfQCBAIEAgQCBAJsAmwCrAKsAtgC2ALsAuwDKAMoA5ADkAPMA8wDnAOcA1QDVANIA0gDeAN4A5QDlANAA0AC6ALoAtAC0AM0AzQDqAOoA6ADoAMcAxwC4ALgAuQC5AL0AvQC+AL4AwwDDAM8AzwDqAOoA8gDyANcA1wCfAJ8AegB6AGMAYwBaAFoAVQBVADsAOwAxADEAMwAzADgAOABTAFMAZQBlAHMAcwB/AH8AdwB3AHcAdwB7AHsAfAB8AH8AfwB7AHsAcABwAGQAZABgAGAAYQBhAHIAcgCXAJcArQCtALEAsQCaAJoAfgB+AGIAYgBSAFIAPgA+ACgAKAAZABkAAgACAOj/6P/C/8L/mf+Z/3n/ef9t/23/YP9g/0r/Sv8y/zL/Iv8i/yH/If8X/xf//v7+/tr+2v6t/q3+mf6Z/pz+nP6U/pT+mP6Y/pr+mv6o/qj+r/6v/q/+r/6i/qL+n/6f/sf+x/7s/uz+B/8H/wP/A/8B/wH/CP8I/y//L/9J/0n/T/9P/17/Xv9t/23/gf+B/4X/hf9p/2n/UP9Q/0z/TP9X/1f/YP9g/2L/Yv9k/2T/ev96/6P/o//E/8T/1P/U/+D/4P/v/+//+P/4/wYABgAHAAcAEAAQABMAEwAsACwAOgA6AEAAQABGAEYANAA0ADcANwBKAEoAXgBeAHAAcAB2AHYAaQBpAGsAawB0AHQAgQCBAIcAhwCKAIoAjwCPAJYAlgCIAIgAgACAAIAAgACHAIcAnACcAKsAqwC0ALQAwQDBANwA3ADvAO8AAQEBAQgBCAEEAQQB6gDqANIA0gC1ALUAtAC0ALoAugC4ALgAngCeAIsAiwCDAIMAlQCVALEAsQC8ALwAzQDNANwA3ADkAOQA2wDbALgAuACZAJkAmgCaAJoAmgCYAJgAggCCAGkAaQBiAGIAaQBpAG8AbwBnAGcAWwBbAFUAVQBGAEYANAA0AAwADADm/+b/1P/U/8H/wf+v/6//jf+N/2n/af9U/1T/WP9Y/1//X/9o/2j/WP9Y/0n/Sf9A/0D/Of85/zz/PP9E/0T/SP9I/0D/QP89/z3/I/8j/wv/C/8H/wf/Dv8O/yP/I/8z/zP/Kf8p/x3/Hf8O/w7/E/8T/y3/Lf9H/0f/W/9b/2f/Z/9s/2z/cP9w/23/bf92/3b/fP98/4n/if+g/6D/q/+r/77/vv/I/8j/zv/O/93/3f/q/+r//f/9/xcAFwAoACgAMAAwADgAOABFAEUAWgBaAG4AbgBvAG8AbgBuAH0AfQCNAIwAogCiAJkAmQCNAI0AgwCDAHMAcwBrAGsAQQBBACEAIQApACkAQABAAEoASgA/AD8AGQAZAP3//f/1//X/9P/0/9n/2f/C/8L/wP/A/8n/yf/T/9P/zv/O/8P/w//B/8H/zf/N/97/3v/n/+f/+v/6/xMAEwAuAC4APAA8AC4ALgAbABsADAAMAAAAAAACAAIAAAAAAAgACAALAAsACQAJAA0ADQAQABAAIAAgADoAOgBGAEYAVABUAGMAYwB0AHQAfgB+AGoAagBKAEoAKwArACcAJwAzADMATABMAFIAUgBYAFgAYwBjAFgAWABRAFEAMgAyABsAGwAcABwAJgAmACoAKgAjACMAEQARAAAAAADy//L/5f/l/87/zv+5/7n/vf+9/8z/zP/c/9z/4f/h/+T/5P/k/+T/7//v//v/+/8CAAIAAQABAAIAAgD6//r/9P/0/+f/5//f/9//2v/a/8b/xv+z/7P/rP+s/7n/uf/P/8//4v/i/9r/2v/I/8j/sf+x/6X/pf+Y/5j/lf+V/5X/lf+S/5L/nP+c/6D/oP+j/6P/oP+g/7H/sf+2/7b/v/+//8z/zP/Y/9j/4//j//P/8/8GAAYAEAAQABAAEAAMAAwAEgASACQAJABEAEQAYABgAGkAaQBfAF8AXgBeAG0AbQB6AHoAgQCBAIIAggCBAIEAgQCBAIMAgwCEAIQAdgB2AGsAawBdAF0ATwBPAEQARAAnACcAHwAfABYAFgAeAB4AHwAfACUAJQAkACQAGwAbABoAGgAgACAAIAAgACMAIwAsACwAMgAyADwAPAA1ADUAKQApABoAGgANAA0AEQARAAgACAACAAIA8f/x//j/+P//////+//7//X/9f/2//b/+v/6/wkACQAOAA4ABQAFAAAAAAACAAIABQAFAAMAAwDr/+v/4//j/+n/6f/1//X//v/+//P/8//x//H//v/+/wwADAAQABAABgAGAOP/4//Y/9j/6P/o/+r/6v/p/+n/2f/Z/7n/uf+u/67/p/+n/6b/pv+o/6j/vv++/97/3v/9//3/AAAAAOz/7P/l/+X/6v/q//b/9v/w//D/zv/O/6r/qv+l/6X/s/+z/8D/wP+3/7f/s/+z/6z/rP+3/7f/uP+4/7T/tP+x/7H/r/+v/6v/q/+T/5P/ef95/2H/Yf9i/2L/cP9w/3v/e/97/3v/i/+L/5j/mP+p/6n/sP+w/7L/sv+l/6X/l/+X/5D/kP+O/47/if+J/4T/hP+O/47/f/9//3b/dv9//3//i/+L/5b/lv+k/6T/sP+w/7j/uP+7/7v/yv/K/9b/1v/Y/9j/3v/e//P/8/8FAAUAGgAaADEAMQBAAEAARQBFAEkASQBSAFIAVABUAFMAUwBiAGIAeAB4AIwAjACfAJ8ArACsALwAvADHAMcAzgDOANAA0ADJAMkAyQDJANgA2ADkAOQA3wDfANUA1QDOAM4AzQDNAMsAywDDAMMAuQC5AKwArACqAKoApwCnAJwAnACPAI8AgACAAHsAewBuAG4AbABsAGAAYABeAF4AbABsAGsAawBnAGcAVwBXAEYARgBEAEQAVgBWAGIAYgBlAGUAUQBRAEMAQwBCAEIAPAA8ADIAMgAiACIADQANAAQABAAGAAYAAAAAAO3/7f/e/97/2f/Z/9v/2//Z/9n/2v/a/8//z//I/8j/0f/R/9X/1f/Z/9n/1f/V/8//z//D/8P/t/+3/6L/ov+M/4z/ef95/3j/eP+J/4n/mP+Y/5v/m/+F/4X/dv92/3L/cv+I/4j/mf+Z/4//j/98/3z/Zf9l/2n/af9y/3L/c/9z/3P/c/94/3j/jP+M/7H/sf/F/8X/0v/S/+D/4P/1//X/+v/6/+v/6//T/9P/vP+8/73/vf/P/8//zP/M/6v/q/+T/5P/if+J/43/jf+Y/5j/nP+c/5D/kP+L/4v/l/+X/5b/lv+L/4v/jf+N/43/jf+T/5P/mP+Y/4//j/+S/5L/pf+l/7P/s/+9/73/vP+8/7r/uv/B/8H/2v/a/+j/6P/t/+3//f/9/wkACQAPAA8ADAAMAAoACgAJAAkADgAOACAAIAAnACcAPgA+AE4ATgBlAGUAbgBuAGkAaQBrAGsAewB7AJEAkQCXAJcAmgCaAJQAlACPAI8AiwCLAIwAjACIAIgAhACEAIoAigCMAIwAiACIAIIAggCFAIUAigCKAIcAhwCRAJEAkACQAJAAkAChAKEAoQChAJsAmwCTAJMAgACAAHAAcABsAGwAYwBjAFQAVABMAEwARABEADsAOwA0ADQAMQAxACUAJQAUABQADgAOAAYABgD+//7/AAAAAP7//v/1//X/6P/o/9j/2P/M/8z/zf/N/9D/0P/W/9b/0//T/8//z//S/9L/2//b/+X/5f/m/+b/4f/h/9z/3P/i/+L/6P/o/+n/6f/l/+X/2P/Y/8v/y//K/8r/zv/O/9P/0//j/+P/9f/1//v/+//0//T/7//v//P/8//+//7/GAAYACEAIQAXABcACQAJAAAAAAAAAAAAAAAAAPz//P/x//H/4P/g/9X/1f/L/8v/yf/J/83/zf/N/83/xP/E/7X/tf+u/67/p/+n/6j/qP+s/6z/oP+g/5r/mv+d/53/lv+W/5X/lf+X/5f/mv+a/6H/of+l/6X/o/+j/6X/pf+l/6X/pP+k/6j/qP+c/5z/lP+U/5L/kv+c/5z/nP+c/5n/mf+U/5T/i/+L/4f/h/+a/5r/qv+q/7n/uf/J/8n/y//L/93/3f/r/+v/+P/4/wsACwASABIAHQAdACkAKQAxADEAOAA4ADwAPABFAEUAVABUAFEAUQBTAFMAVgBWAF8AXwBzAHMAfgB+AIQAhACCAIIAgACAAJEAkQCXAJcAlQCVAJUAlQCWAJYAjQCNAIcAhwB9AH0AbwBvAGwAbAB1AHUAdwB3AHYAdgB4AHgAcgByAHQAdABzAHMAagBqAFoAWgBKAEoANAA0ACoAKgAdAB0AFwAXABUAFQAWABYAGAAYABwAHAAdAB0AEQARABQAFAAfAB8AJAAkACsAKwAdAB0A/f/9/+z/7P/z//P//f/9/wQABAAEAAQA+//7//r/+v/7//v/+f/5/+7/7v/r/+v/6f/p//D/8P/t/+3/4//j/9//3//i/+L/7//v/+P/4//W/9b/yf/J/8n/yf/X/9f/6f/p/+j/6P/W/9b/0P/Q/8n/yf/N/83/0f/R/9X/1f/W/9b/1v/W/9T/1P/S/9L/zP/M/8n/yf/I/8j/xv/G/8b/xv/Q/9D/3f/d/+L/4v/a/9r/1P/U/83/zf/K/8r/yf/J/8j/yP/K/8r/yP/I/83/zf+//7//q/+r/6P/o/+d/53/qf+p/6//r/+o/6j/rP+s/77/vv/L/8v/0//T/8z/zP/C/8L/w//D/9X/1f/p/+n/7f/t//n/+f//////BgAGABEAEQAYABgAHwAfADIAMgBCAEIARQBFAEEAQQA9AD0AQQBBAE4ATgBLAEsAVABUAFIAUgBZAFkAbwBvAHYAdgB7AHsAdwB3AG0AbQBdAF0AUgBSAEEAQQAyADIANQA1ADQANAAtAC0AIwAjABoAGgATABMAGAAYAA8ADwACAAIAAQABAPv/+//4//j/+//7/+//7//g/+D/4f/h/+j/6P/p/+n/6//r/+3/7f/3//f/AAAAAAEAAQAEAAQA9v/2//T/9P8AAAAAAAAAAAAAAAAAAAAA+//7//z//P8EAAQAAQABAPr/+v//////CwALABgAGAAXABcAFAAUABAAEAARABEAGgAaAB4AHgAYABgACQAJAAsACwAKAAoACgAKAA8ADwAJAAkABQAFAAMAAwD/////9f/1/+7/7v/z//P/+P/4//f/9//6//r/+//7//7//v/4//j/+//7/wAAAAD9//3/AwADABAAEAAVABUADwAPABEAEQACAAIA+f/5//L/8v/s/+z/7P/s/+H/4f/Y/9j/v/+//7L/sv+r/6v/qv+q/7L/sv+v/6//q/+r/6P/o/+d/53/pf+l/6b/pv+n/6f/pP+k/5z/nP+Z/5n/of+h/6T/pP+y/7L/wP/A/8v/y//M/8z/y//L/87/zv/L/8v/0f/R/+D/4P/i/+L/3P/c/+b/5v/j/+P/7P/s//f/9/8DAAMAGAAYAC0ALQA8ADwAUABQAFkAWQBcAFwAWwBbAFEAUQBXAFcAYABgAGUAZQBiAGIAVwBXAEUARQBAAEAASwBLAE4ATgBTAFMAVABUAFEAUQBRAFEASABIADcANwA0ADQANgA2ADYANgA0ADQALAAsACcAJwAmACYAOAA4AD4APgA8ADwAPgA+ADQANAA7ADsAOwA7ADIAMgAzADMAKwArACwALAAlACUAFgAWAAwADAAGAAYAAwADAAMAAwAJAAkABAAEAAMAAwAFAAUAAAAAAAYABgALAAsAFgAWACAAIAApACkAJwAnAB4AHgAVABUADQANAAUABQAAAAAABQAFAAUABQAAAAAABgAGAAkACQAFAAUAAAAAAAEAAQABAAEAAAAAAAUABQAFAAUA/v/+//z//P8AAAAA/////wUABQABAAEAAwADAA4ADgASABIADwAPAAYABgAAAAAA/P/8//j/+P/u/+7/5f/l/93/3f/l/+X/4//j/9T/1P/N/83/vf+9/7f/t/+1/7X/uf+5/7n/uf+2/7b/xP/E/8f/x//K/8r/xv/G/8P/w//H/8f/xP/E/8v/y//T/9P/1f/V/9H/0f/P/8//yf/J/8T/xP/G/8b/y//L/9L/0v/S/9L/zv/O/9H/0f/K/8r/1v/W/+b/5v/z//P/+v/6//v/+//0//T/5//n/+z/7P/y//L/8f/x//T/9P/0//T/9f/1/wAAAAAIAAgAGgAaACkAKQAoACgAKAAoACQAJAATABMABgAGAAAAAAACAAIAAgACAAUABQALAAsAEgASABYAFgAhACEAJAAkACQAJAAiACIAJwAnACsAKwAxADEANwA3AC8ALwAyADIANgA2ADQANAA7ADsAMQAxACQAJAAfAB8AGAAYABUAFQAZABkAGwAbACAAIAAiACIALAAsACUAJQAcABwAHwAfAB4AHgAfAB8AEQARAAUABQD8//z//v/+/wYABgAVABUAHQAdABUAFQAUABQAEQARAAcABwD5//n/+P/4//H/8f/x//H/8//z/+D/4P/X/9f/1P/U/9P/0//P/8//w//D/7D/sP+k/6T/pv+m/6//r/+6/7r/vv++/8H/wf/C/8L/wf/B/8D/wP+3/7f/rP+s/6z/rP+r/6v/pv+m/6n/qf+y/7L/tf+1/77/vv/N/83/yv/K/8f/x//Q/9D/2v/a/9z/3P/U/9T/zP/M/8f/x//K/8r/5P/k//v/+/8EAAQADwAPAA4ADgAFAAUA/f/9/wQABAAMAAwAHAAcAC4ALgAwADAAMgAyADMAMwA6ADoAOgA6ACsAKwAeAB4AEQARAAcABwAIAAgADwAPABAAEAAbABsAHgAeAB8AHwAjACMAKQApAC0ALQAuAC4ALQAtABoAGgAQABAACgAKAAwADAAVABUAGAAYABsAGwAeAB4AFgAWAAwADAAGAAYA/P/8//T/9P/t/+3/8f/x//X/9f/1//X/AAAAAAUABQAAAAAA+//7//n/+f/0//T/+f/5/wEAAQAFAAUACQAJABcAFwAfAB8AKAAoAC0ALQAuAC4AMAAwAC4ALgAqACoAKgAqACEAIQAfAB8AMAAwADgAOAA7ADsAOQA5ADUANQA2ADYALgAuADAAMAAwADAAKgAqACwALAAxADEANQA1AC8ALwA0ADQANAA0ADUANQArACsAGgAaAAkACQDw//D/4P/g/+D/4P/Y/9j/2f/Z/+D/4P/g/+D/3P/c/9z/3P/N/83/uv+6/6n/qf+k/6T/qf+p/6v/q/+v/6//sv+y/7L/sv+1/7X/xP/E/8z/zP/H/8f/xf/F/73/vf+7/7v/tf+1/7f/t//D/8P/yf/J/9D/0P/T/9P/zP/M/8P/w//E/8T/yv/K/8v/y//M/8z/xP/E/8H/wf/S/9L/7f/t//z//P8IAAgACgAKAAIAAgABAAEAAwADAP/////9//3//v/+//z//P/7//v//v/+//7//v8NAA0AGAAYABoAGgAXABcABgAGAAYABgAJAAkADAAMABUAFQAdAB0AJwAnAC0ALQA2ADYANwA3AC4ALgAjACMAGQAZABcAFwASABIAGwAbACcAJwAqACoAKAAoABwAHAAPAA8ADgAOAAYABgAFAAUA+v/6/+//7//q/+r/5f/l/+z/7P/5//n/BQAFABAAEAAYABgAGgAaABAAEAALAAsADQANAA4ADgAJAAkADQANABkAGQAjACMALgAuADYANgA5ADkAMwAzACwALAAtAC0AIwAjAB4AHgAkACQAIwAjACYAJgArACsANQA1AEAAQABJAEkASQBJADoAOgAqACoAFwAXAAkACQAIAAgAAwADAA0ADQAXABcADQANAAQABAD6//r/6P/o/+L/4v/Y/9j/zP/M/8X/xf+//7//u/+7/73/vf/B/8H/wP/A/9D/0P/X/9f/0v/S/83/zf/L/8v/z//P/83/zf/T/9P/2f/Z/+r/6v/5//n/AwADABEAEQAOAA4ACwALAAwADAAHAAcA//////n/+f8CAAIACQAJABAAEAAYABgAIQAhACYAJgAtAC0ANQA1ACQAJAAcABwAHQAdABcAFwAUABQAGwAbABwAHAAaABoAIQAhACQAJAAXABcACwALAAUABQDv/+//3f/d/9n/2f/V/9X/3//f//H/8f/1//X/9P/0//X/9f/u/+7/4f/h/9//3//f/9//4f/h/+L/4v/l/+X/7//v/+7/7v/6//r/CQAJAA8ADwAMAAwAEgASAAwADAAIAAgACAAIAAIAAgAEAAQADAAMABgAGAAjACMAMQAxADQANAAwADAALQAtACUAJQAgACAAJQAlACcAJwAuAC4AOgA6AD0APQBEAEQARwBHAEQARABCAEIAMgAyACIAIgAJAAkA9P/0/+//7//2//b/AgACAAsACwALAAsABgAGAP3//f/x//H/4P/g/9X/1f/P/8//yf/J/8//z//J/8n/w//D/8j/yP/T/9P/2v/a/9z/3P/d/93/1P/U/9L/0v/W/9b/y//L/8v/y//S/9L/3v/e/+7/7v/8//z/BwAHAAsACwAJAAkACgAKAAYABgAIAAgACgAKABcAFwAeAB4AKQApADgAOABHAEcAUQBRAFQAVABXAFcASwBLAEAAQAAzADMAJwAnACwALAAzADMANQA1ADMAMwA2ADYAIwAjACEAIQAlACUAFAAUAAgACAAAAAAA+P/4//D/8P/2//b/+P/4//7//v8EAAQAAwADAPf/9//m/+b/3//f/+L/4v/j/+P/7//v//L/8v/y//L/9v/2//7//v8IAAgACQAJAAsACwAPAA8ADAAMAA8ADwARABEADgAOABkAGQAkACQAKwArADsAOwBMAEwATwBPAFQAVABVAFUARgBGADIAMgAqACoALgAuAC4ALgA9AD0ASwBLAEYARgBGAEYARABEADIAMgAfAB8AFAAUAAcABwD1//X/8v/y//P/8//w//D/+//7///////5//n/6//r/9r/2v/O/87/w//D/7f/t/+3/7f/sf+x/6T/pP+f/5//lf+V/5D/kP+W/5b/ov+i/6z/rP+u/67/qv+q/5r/mv+G/4b/fP98/3X/df90/3T/f/9//4v/i/+S/5L/mP+Y/53/nf+Y/5j/lP+U/4//j/+P/4//k/+T/6D/oP+r/6v/sv+y/7b/tv+w/7D/qP+o/6b/pv+l/6X/pf+l/7P/s/+8/7z/xv/G/8n/yf/T/9P/2//b/+L/4v/o/+j/6P/o/+T/5P/j/+P/7v/u//z//P8HAAcADAAMAAwADAATABMAHgAeACkAKQA2ADYAQwBDAEcARwBLAEsASwBLAEIAQgBGAEYAUgBSAFkAWQBkAGQAdgB2AHgAeAB/AH8AkQCRAJAAkACIAIgAggCCAHYAdgB5AHkAfQB9AIoAigCVAJUAmQCZAKIAogCdAJ0AnACcAJMAkwCJAIkAgQCBAHkAeQBxAHEAbgBuAGwAbABvAG8AdwB3AHcAdwBzAHMAeQB5AHUAdQB1AHUAbwBvAGgAaABlAGUAXABcAFEAUQBRAFEATABMAEcARwBMAEwATgBOAFAAUABVAFUAWgBaAFQAVABMAEwAOwA7ACwALAAhACEAFgAWABYAFgASABIAFgAWABgAGAAWABYABQAFAPr/+v/t/+3/3v/e/9v/2//Z/9n/1P/U/83/zf/F/8X/r/+v/5n/mf+C/4L/eP94/2//b/9u/27/cP9w/3D/cP9q/2r/X/9f/1P/U/82/zb/JP8k/x//H/8b/xv/K/8r/zf/N/89/z3/Nv82/yz/LP8i/yL/Gf8Z/yL/Iv8y/zL/Qf9B/0v/S/9M/0z/R/9H/zv/O/85/zn/P/8//0P/Q/9V/1X/af9p/3n/ef+S/5L/pv+m/6n/qf+n/6f/pP+k/5r/mv+j/6P/sf+x/8v/y//h/+H/8v/y/wQABAAFAAUADgAOABUAFQAZABkAIwAjACsAKwAyADIANgA2ADsAOwA4ADgAMQAxADYANgA5ADkARgBGAF0AXQBxAHEAgQCBAI4AjgCMAIwAfQB9AHgAeABsAGwAdgB2AHwAfACLAIsAngCeAKAAoACuAK4AtwC3AKgAqACgAKAAmQCZAJcAlwCeAJ4ApgCmAKsAqwCrAKsAqACoAKsAqwCrAKsApQClAKoAqgCvAK8ArgCuALIAsgCrAKsAogCiAJ8AnwCXAJcAjwCPAIkAiQCDAIMAhACEAIIAggB6AHoAcQBxAGEAYQBQAFAAQQBBADkAOQAtAC0AIgAiABUAFQABAAEA8//z/+b/5v/i/+L/3v/e/9P/0//Q/9D/yv/K/73/vf+5/7n/rf+t/6b/pv+f/5//l/+X/4r/iv91/3X/YP9g/03/Tf9G/0b/S/9L/0v/S/9k/2T/af9p/27/bv9n/2f/Uv9S/z3/Pf8t/y3/M/8z/y7/Lv80/zT/Q/9D/0//T/9Y/1j/Y/9j/2r/av9p/2n/aP9o/2//b/9w/3D/a/9r/23/bf9x/3H/av9q/2b/Zv9q/2r/cP9w/4L/gv+a/5r/qf+p/67/rv+w/7D/sv+y/7L/sv+4/7j/tv+2/8P/w//Y/9j/6P/o/wYABgAcABwAIgAiACoAKgAtAC0AJQAlACUAJQAuAC4APgA+AFMAUwBfAF8AYgBiAGgAaABpAGkAagBqAHYAdgCBAIEAgwCDAJcAlwCjAKMAqwCrALQAtAC3ALcAtwC3ALcAtwCxALEAtAC0ALQAtAC6ALoAvgC+AL4AvgC8ALwAtAC0ALgAuACzALMArgCuALEAsQCwALAApQClAJkAmQCIAIgAdAB0AGYAZgBmAGYAawBrAHQAdACDAIMAhwCHAIcAhwB3AHcAYABgAEwATAA+AD4AOQA5ADIAMgAxADEALgAuACYAJgAbABsAFgAWAAwADAAAAAAA/v/+//T/9P/m/+b/2f/Z/77/vv+z/7P/rP+s/6X/pf+v/6//tv+2/63/rf+v/6//pv+m/5H/kf+H/4f/fP98/3D/cP9m/2b/ZP9k/2b/Zv9e/17/Yv9i/2b/Zv9d/13/Wf9Z/07/Tv9G/0b/Sf9J/0X/Rf9L/0v/Tv9O/0v/S/9R/1H/Uv9S/1r/Wv9m/2b/bP9s/3r/ev+C/4L/if+J/5b/lv+f/5//pf+l/67/rv+z/7P/sv+y/7v/u//D/8P/yv/K/9D/0P/R/9H/3f/d/9//3//n/+f/9//3/wQABAAYABgAJQAlACcAJwAnACcAIwAjACQAJAAqACoALAAsADcANwBDAEMATgBOAGEAYQBwAHAAbgBuAG4AbgBwAHAAYgBiAFkAWQBXAFcAWwBbAGcAZwBuAG4AdQB1AHkAeQB2AHYAfwB/AIIAggCGAIYAjACMAIsAiwB+AH4AegB6AHYAdgB5AHkAfQB9AI0AjQCUAJQAkwCTAJAAkACNAI0AhQCFAHYAdgBsAGwAXQBdAFUAVQBHAEcAOwA7ADUANQAwADAAKQApACQAJAAiACIAGwAbABcAFwAOAA4AAAAAAO//7//e/97/0//T/87/zv/P/8//yf/J/77/vv+w/7D/nv+e/5L/kv+F/4X/iv+K/47/jv+Q/5D/if+J/3z/fP91/3X/aP9o/1v/W/9e/17/WP9Y/1P/U/9c/1z/Y/9j/2v/a/95/3n/gv+C/37/fv+D/4P/gf+B/3r/ev+E/4T/kf+R/5X/lf+g/6D/pv+m/6b/pv+m/6b/p/+n/7P/s/+1/7X/wf/B/8b/xv+8/7z/wv/C/73/vf+6/7r/vf+9/8v/y//Z/9n/7f/t/wQABAARABEAFQAVAA8ADwAJAAkA/f/9//P/8//y//L//f/9/woACgAVABUAJwAnAC0ALQAyADIANwA3ADIAMgAvAC8ANQA1ADkAOQBAAEAARgBGAEkASQBOAE4ARwBHAEcARwBSAFIAXABcAGkAaQCEAIQAjQCNAJQAlACUAJQAiACIAI8AjwB+AH4AiACIAJQAlACXAJcAngCeAJcAlwCSAJIAhQCFAIEAgQB/AH8AgACAAIMAgwCJAIkAiQCJAIMAgwB+AH4AegB6AHMAcwBvAG8AbQBtAF8AXwBfAF8AXABcAFgAWABZAFkASgBKAD4APgAzADMAIQAhABEAEQAEAAQAAgACAAEAAQD9//3//P/8//3//f/y//L/6f/p/9//3//R/9H/uv+6/7X/tf+y/7L/pf+l/6H/of+h/6H/l/+X/6H/of+r/6v/rP+s/6n/qf+p/6n/of+h/47/jv9//3//eP94/23/bf9m/2b/ZP9k/2P/Y/9g/2D/Zv9m/3L/cv94/3j/gP+A/4H/gf99/33/ff99/3b/dv93/3f/e/97/4b/hv+S/5L/mP+Y/5z/nP+k/6T/ov+i/6D/oP+k/6T/qP+o/7P/s/+7/7v/xv/G/87/zv/Z/9n/3//f/+T/5P/w//D/7P/s//L/8v/2//b//f/9/wwADAAUABQAGgAaACIAIgAnACcAJwAnACwALAA7ADsAQABAAE0ATQBRAFEAVABUAFMAUwBNAE0AUABQAFEAUQBRAFEAUQBRAFAAUABMAEwATgBOAE0ATQBHAEcARABEAE0ATQBYAFgAXwBfAG0AbQB0AHQAagBqAFwAXABXAFcATQBNAEIAQgBCAEIARABEAEUARQBIAEgASABIAE0ATQBUAFQAVABUAFEAUQBGAEYAPQA9ADQANAAyADIANAA0ADgAOAAvAC8AMwAzADAAMAAnACcAMAAwACwALAAqACoAKAAoACAAIAAUABQACAAIAAoACgAJAAkACAAIAAYABgAOAA4AAgACAPX/9f/x//H/2f/Z/9D/0P/H/8f/wv/C/8P/w//B/8H/w//D/8L/wv/H/8f/wP/A/7z/vP/B/8H/uP+4/8L/wv+//7//tv+2/7D/sP+v/6//pP+k/53/nf+l/6X/oP+g/6v/q/+0/7T/t/+3/7v/u//C/8L/zP/M/9L/0v/X/9f/2f/Z/9r/2v/c/9z/1f/V/9X/1f/O/87/0v/S/9T/1P/e/97/8//z/wAAAAAPAA8AIgAiAB8AHwAXABcAFQAVAA0ADQAHAAcABQAFAAIAAgADAAMAAgACAAkACQAUABQAFwAXAB8AHwAkACQAIgAiACQAJAAnACcAJwAnACsAKwAwADAALgAuACkAKQAmACYAJAAkACoAKgAsACwAKgAqADAAMAAxADEALgAuADMAMwA2ADYANQA1ADkAOQBCAEIARQBFAEcARwBIAEgAQABAADcANwAyADIALQAtAC0ALQAyADIAOgA6AEAAQABBAEEAOQA5ADUANQAyADIAKwArACcAJwAmACYAHAAcABIAEgASABIACgAKAAIAAgAAAAAA9f/1//H/8f/p/+n/3f/d/9z/3P/d/93/3f/d/9n/2f/Y/9j/z//P/8n/yf/F/8X/wP/A/7z/vP+8/7z/tv+2/7X/tf+u/67/rP+s/6n/qf+w/7D/tf+1/7T/tP+4/7j/sP+w/7L/sv+w/7D/sP+w/7f/t/++/77/y//L/9D/0P/U/9T/0//T/9j/2P/Y/9j/0//T/9P/0//U/9T/1v/W/9b/1v/a/9r/3v/e/+P/4//x//H//f/9/wEAAQAEAAQA/P/8//L/8v/p/+n/3//f/+D/4P/k/+T/6v/q/+3/7f/w//D/9f/1//3//f8KAAoAEgASABcAFwAXABcAEgASAA4ADgAGAAYABgAGAAkACQALAAsADAAMAA4ADgAQABAAGAAYACEAIQAtAC0AOQA5AEUARQBNAE0AUgBSAFIAUgBOAE4ATQBNAEYARgBNAE0AUQBRAE0ATQBTAFMAXwBfAF4AXgBjAGMAbgBuAHcAdwB4AHgAeQB5AHAAcABkAGQAWwBbAFAAUABIAEgAQABAAEEAQQBCAEIAOwA7AD8APwA8ADwAPAA8ADcANwA0ADQALAAsACAAIAAZABkAEQARAAQABAD+//7/9//3//T/9P/w//D/5v/m/9n/2f/O/87/zv/O/8n/yf/I/8j/x//H/7//v/+5/7n/tf+1/7P/s/+x/7H/uP+4/77/vv+w/7D/qv+q/5//n/+W/5b/nf+d/6P/o/+p/6n/q/+r/6n/qf+q/6r/n/+f/6D/oP+b/5v/l/+X/5//n/+X/5f/mv+a/5v/m/+V/5X/lP+U/5D/kP+K/4r/kv+S/53/nf+e/57/nf+d/5X/lf+U/5T/kP+Q/5H/kf+e/57/pv+m/6f/p/+x/7H/rv+u/67/rv++/77/vP+8/73/vf/D/8P/uv+6/7r/uv/D/8P/zP/M/9f/1//f/9//6v/q//P/8//9//3/CAAIABsAGwAsACwAOQA5AEUARQBIAEgASgBKAFAAUABGAEYAPwA/AD8APwBHAEcAWgBaAGIAYgByAHIAgQCBAH0AfQCFAIUAjQCNAIsAiwCUAJQAlACUAIwAjAB/AH8AbwBvAGMAYwBhAGEAagBqAGUAZQBpAGkAdAB0AHkAeQB/AH8AfAB8AH0AfQB4AHgAawBrAFsAWwBPAE8ARABEADwAPAA2ADYALQAtACkAKQAsACwAKgAqAC4ALgAwADAAKgAqACwALAAtAC0ALAAsAC0ALQAkACQAGQAZABYAFgAPAA8ACQAJAAgACAATABMAEQARAAUABQD+//7/9//3/+z/7P/u/+7/7P/s/+H/4f/f/9//3P/c/9P/0//P/8//1f/V/9X/1f/K/8r/zP/M/8X/xf+2/7b/rv+u/6f/p/+h/6H/nP+c/5X/lf+R/5H/lf+V/5b/lv+L/4v/kf+R/5f/l/+X/5f/m/+b/57/nv+Y/5j/mP+Y/5P/k/+H/4f/i/+L/4n/if+M/4z/lf+V/5P/k/+f/5//qf+p/7P/s//F/8X/0//T/+D/4P/j/+P/7v/u//j/+P/1//X/9v/2//X/9f/1//X/8f/x/+v/6//5//n//P/8/wEAAQAWABYAGAAYACgAKAAzADMAOAA4AD0APQBBAEEARwBHAD4APgBBAEEAQQBBADoAOgA1ADUAJgAmACMAIwAkACQAKQApACwALAA5ADkARQBFAD8APwBBAEEASABIAEsASwBLAEsASgBKAEEAQQA2ADYAJgAmABwAHAAZABkAGAAYABwAHAAkACQAKgAqADIAMgBBAEEAPwA/AEYARgBKAEoAQwBDAEMAQwA4ADgAMAAwAC0ALQAkACQAIQAhABwAHAAcABwAIQAhABwAHAAdAB0AIgAiAB0AHQAeAB4AIwAjACoAKgAjACMAIQAhAB8AHwAbABsAEwATAAwADAAQABAACwALAP7//v/4//j/7v/u/+H/4f/f/9//4v/i/+X/5f/q/+r/8f/x/+//7//m/+b/6P/o/+b/5v/e/97/4f/h/93/3f/Z/9n/0//T/8r/yv/H/8f/vf+9/7v/u/+7/7v/vv++/87/zv/W/9b/4//j/+3/7f/w//D/9f/1/+//7//q/+r/5f/l/93/3f/R/9H/yv/K/8T/xP+//7//x//H/8//z//Z/9n/6f/p//b/9v8BAAEACgAKABAAEAAPAA8ABwAHAP7//v/x//H/7f/t/+f/5//m/+b/4//j/+b/5v/t/+3/6f/p//j/+P8DAAMAAwADAA0ADQAXABcAFgAWABkAGQAbABsAHgAeAB0AHQAVABUADQANAAcABwAFAAUACAAIAAwADAASABIAJAAkAC0ALQA2ADYAQQBBAEgASABIAEgASwBLAEgASABCAEIARQBFADwAPAAwADAAKQApAC0ALQApACkAKAAoADUANQA8ADwAOgA6AD4APgBAAEAARABEAEIAQgBIAEgAQgBCADQANAA2ADYAKQApAB0AHQAYABgADwAPAAcABwABAAEAAAAAAAAAAAD7//v//v/+/wMAAwAFAAUACQAJAAgACAAKAAoAAwADAPv/+//t/+3/4v/i/+D/4P/f/9//4P/g/93/3f/b/9v/4v/i/+D/4P/e/97/3P/c/+X/5f/n/+f/6P/o//T/9P/4//j/9P/0//L/8v/w//D/4v/i/9f/1//T/9P/1v/W/9P/0//T/9P/zf/N/9D/0P/g/+D/5f/l/+z/7P/1//X//////wQABAD+//7/9P/0/+7/7v/f/9//0f/R/8H/wf++/77/vP+8/7//v//Q/9D/2f/Z/97/3v/o/+j/9P/0//3//f/6//r/9//3//f/9//1//X/8P/w/+X/5f/g/+D/2//b/9n/2f/Z/9n/3f/d/+b/5v/z//P/BgAGABMAEwAYABgAIwAjACIAIgAaABoAHQAdABMAEwALAAsACwALAAwADAAHAAcAAQABAAEAAQAOAA4AFAAUAB0AHQAsACwAMwAzADUANQA8ADwAMQAxACwALAAqACoAJgAmAB8AHwAXABcAFgAWAA0ADQATABMAEQARAAwADAAPAA8AEAAQABYAFgAYABgAGwAbACAAIAAkACQAIQAhACMAIwAgACAAGQAZABUAFQAMAAwABgAGAP7//v/9//3//v/+//3//f/+//7/AAAAAAUABQAIAAgADwAPABoAGgAUABQADgAOABAAEAAFAAUA+P/4//f/9//u/+7/6//r/+n/6f/g/+D/3P/c/+L/4v/m/+b/6//r/+7/7v/x//H/9P/0//X/9f/x//H/5//n/+P/4//d/93/z//P/8X/xf++/77/uf+5/7b/tv+z/7P/t/+3/7//v/+7/7v/xv/G/9f/1//X/9f/1v/W/9v/2//f/9//0//T/83/zf/K/8r/xP/E/8T/xP/C/8L/wf/B/8X/xf/M/8z/2P/Y/+L/4v/l/+X/9P/0//3//f8DAAMACgAKAAsACwAGAAYABwAHAAYABgAAAAAAAAAAAP////8HAAcACwALAA4ADgAWABYAHgAeACwALAA8ADwAPgA+ADsAOwBBAEEAQABAADcANwAxADEAJgAmACMAIwAiACIAGgAaABwAHAAeAB4AJgAmADEAMQA5ADkAPgA+AD8APwBGAEYARQBFAD0APQA0ADQALwAvADEAMQAoACgALAAsACMAIwAfAB8AHwAfACYAJgAsACwAMAAwADYANgA3ADcANwA3ACwALAAsACwAJwAnAC0ALQAtAC0AHgAeABoAGgAaABoAEwATABEAEQASABIADQANABAAEAASABIAEgASABAAEAALAAsABgAGAAMAAwD5//n/9f/1//L/8v/r/+v/4P/g/9j/2P/M/8z/x//H/8r/yv/I/8j/yP/I/8j/yP+//7//vv++/77/vv++/77/vv++/7//v/+6/7r/r/+v/6z/rP+q/6r/qf+p/6n/qf+p/6n/pP+k/6b/pv+r/6v/rv+u/6//r/+3/7f/wf/B/8P/w//G/8b/yf/J/8z/zP/G/8b/w//D/8D/wP/H/8f/y//L/9T/1P/Z/9n/1//X/+H/4f/i/+L/7f/t//v/+//+//7/AQABAAMAAwABAAEA/v/+//3//f/6//r/AAAAAAIAAgD9//3//////wQABAAJAAkAEAAQABIAEgAVABUAIAAgACQAJAAmACYAKgAqAC0ALQAtAC0ALQAtACUAJQAmACYAJAAkACEAIQAjACMAHgAeACUAJQArACsAMAAwADkAOQBCAEIAQQBBAEYARgBFAEUAQgBCAEMAQwA8ADwAOAA4ADEAMQArACsAJQAlACIAIgAsACwALQAtADQANAA3ADcAPwA/AD0APQA3ADcAOQA5ADkAOQAxADEAKgAqACIAIgASABIADwAPAAsACwACAAIAAAAAAAAAAAD+//7/AwADAAkACQAMAAwADgAOAAsACwALAAsAAAAAAP3//f/6//r/9f/1//D/8P/p/+n/3//f/93/3f/g/+D/4//j/+X/5f/m/+b/7v/u/+z/7P/w//D/9v/2//L/8v/z//P/6f/p/+v/6//j/+P/3v/e/+X/5f/j/+P/5//n/+P/4//j/+P/6P/o/+r/6v/u/+7/8v/y//H/8f/z//P/9f/1//j/+P/0//T/8v/y/+7/7v/m/+b/6//r/+z/7P/r/+v/6P/o/+v/6//o/+j/6v/q/+n/6f/t/+3/+P/4//v/+//5//n/9//3//r/+v////////////n/+f/4//j/8//z//P/8//7//v/+P/4//v/+/8FAAUADAAMAAgACAAGAAYADQANAAgACAAHAAcADgAOAAkACQAQABAAEwATABgAGAAWABYAFgAWABcAFwAUABQAGAAYAB4AHgAbABsAFAAUABgAGAAVABUAFgAWABwAHAAeAB4AHgAeACQAJAAcABwAFAAUABEAEQAMAAwADAAMAAYABgAEAAQABQAFAAkACQANAA0ACwALAAsACwAMAAwACgAKAAkACQAEAAQA/P/8//3//f/y//L/8P/w//X/9f8BAAEA/v/+//v/+//9//3/9//3/+//7//o/+j/8P/w//X/9f/x//H/8f/x//L/8v/q/+r/5v/m/+v/6//m/+b/6P/o/+f/5//o/+j/5//n/+b/5v/r/+v/6P/o/+z/7P/y//L/8f/x/+r/6v/j/+P/3v/e/9X/1f/K/8r/yP/I/9H/0f/S/9L/2//b/+X/5f/n/+f/6//r/+7/7v/3//f/6v/q/9//3//d/93/0//T/83/zf/S/9L/2P/Y/+H/4f/l/+X/8v/y//r/+v/2//b/+//7//r/+v/3//f/+P/4//f/9///////AwADAP7//v8AAAAAAAAAAP////8AAAAAAQABAAsACwAKAAoACQAJAA8ADwATABMAHAAcACQAJAAhACEALQAtAC8ALwAiACIAGAAYABYAFgAUABQADAAMABEAEQAMAAwAFAAUACAAIAAlACUALgAuADMAMwAoACgAIwAjACYAJgAbABsAHwAfAB8AHwAdAB0AIAAgACYAJgAtAC0AKQApACcAJwArACsAIwAjABwAHAAXABcAIwAjACwALAArACsAMAAwADYANgBDAEMAOwA7ADgAOAAwADAAJgAmACIAIgAeAB4AGAAYABQAFAAcABwAIwAjACIAIgAoACgAMgAyADQANAAwADAALQAtACAAIAAZABkACQAJAAUABQAGAAYABgAGAAcABwAIAAgAAAAAAPv/+//3//f/8//z/+b/5v/k/+T/4//j/9//3//p/+n/7//v/+3/7f/m/+b/4v/i/93/3f/Q/9D/xP/E/8D/wP+6/7r/tf+1/7j/uP+5/7n/xP/E/87/zv/V/9X/zv/O/83/zf/P/8//x//H/7//v/+3/7f/tf+1/7b/tv+4/7j/uf+5/7v/u//B/8H/yf/J/8//z//S/9L/yv/K/8f/x//H/8f/zP/M/8n/yf/P/8//3P/c/+D/4P/h/+H/3f/d/9z/3P/V/9X/0v/S/9D/0P/O/87/2P/Y/+D/4P/s/+z/9P/0//f/9//8//z///////v/+//3//f/7//v/+3/7f/o/+j/6v/q/+//7//2//b/AwADABEAEQAYABgAFwAXABIAEgANAA0ABAAEAAAAAAAGAAYABAAEAAYABgASABIAFQAVAB4AHgAnACcALAAsACoAKgAfAB8AHgAeABIAEgAOAA4ADQANAA0ADQAYABgAIAAgAC4ALgAwADAAMwAzADkAOQAlACUAGgAaABUAFQAWABYAGAAYABkAGQAdAB0AJAAkACYAJgAkACQAKQApACYAJgAmACYAIwAjAB0AHQAUABQAFQAVABwAHAAlACUALAAsAC8ALwAwADAAKAAoAB0AHQAVABUAEQARABQAFAAWABYAGwAbABoAGgAmACYANAA0ADkAOQA/AD8ANgA2ACwALAAiACIAEQARAAcABwAFAAUABwAHAAoACgARABEAIQAhACQAJAAxADEANQA1ACgAKAAbABsACwALAAAAAADv/+//8P/w//v/+//8//z/AgACAAAAAAACAAIAAgACAAIAAgAAAAAA+P/4//b/9v/r/+v/5//n/+n/6f/o/+j/7P/s/+j/6P/m/+b/5//n/9v/2//W/9b/1f/V/9D/0P/T/9P/4//j/+n/6f/x//H//P/8/wAAAAD6//r/8v/y/+3/7f/d/93/0v/S/9D/0P/N/83/1//X/+j/6P/x//H/AAAAAAgACAAIAAgACAAIAAAAAAD1//X/6v/q/9//3//e/97/4P/g/+T/5P/w//D/+v/6/wYABgAIAAgABgAGAAEAAQD2//b/9P/0/+z/7P/o/+j/5f/l/+P/4//m/+b/7f/t//L/8v/1//X/8v/y/+r/6v/k/+T/3f/d/9b/1v/N/83/3P/c/+P/4//n/+f/7v/u/+v/6//q/+r/7P/s/+D/4P/Z/9n/3P/c/+b/5v/j/+P/4f/h/+3/7f/z//P/+P/4//b/9v/y//L/7P/s/+f/5//k/+T/3v/e/93/3f/o/+j/8f/x/wQABAAUABQAHQAdACQAJAAnACcAIgAiABgAGAAQABAAAAAAAP7//v8DAAMACAAIAA8ADwAdAB0AMwAzADwAPABGAEYARwBHAD0APQA7ADsANQA1ACkAKQAlACUAKgAqACsAKwA1ADUAMwAzADUANQA6ADoAQABAAEMAQwA/AD8ARgBGAEgASABLAEsARwBHAEUARQBGAEYAPwA/ADsAOwA0ADQAKwArAB8AHwATABMADgAOABgAGAAaABoAGwAbACsAKwAzADMAMgAyADAAMAAmACYAHAAcABMAEwAAAAAA7//v/+z/7P/s/+z/8v/y//j/+P/4//j/AAAAAAkACQABAAEA/P/8//D/8P/g/+D/2v/a/9H/0f/O/87/2P/Y/9r/2v/k/+T/7P/s/+n/6f/n/+f/7P/s/+f/5//g/+D/4//j/+b/5v/k/+T/4//j/+z/7P/u/+7/9P/0//v/+//3//f/+P/4//P/8//y//L/9P/0/+//7//0//T/AAAAAAMAAwAKAAoAEgASAAsACwAAAAAAAAAAAP7//v/+//7//P/8/wIAAgAGAAYADAAMABEAEQAYABgAIQAhABkAGQAKAAoA9P/0/+f/5//a/9r/0f/R/9n/2f/g/+D/8f/x//7//v8HAAcABwAHAAAAAAAFAAUA/f/9/+f/5//Z/9n/0P/Q/8j/yP/K/8r/zP/M/9X/1f/Z/9n/4P/g/+3/7f/w//D/9f/1//f/9//p/+n/3//f/9n/2f/X/9f/3P/c/93/3f/p/+n/5f/l/+L/4v/o/+j/6//r/+7/7v/z//P/AQABAAMAAwAIAAgAEQARABQAFAAYABgAFgAWABAAEAAFAAUA/P/8/+7/7v/y//L//////wkACQAaABoAJQAlAC4ALgA6ADoAPQA9ADIAMgAoACgAHQAdABUAFQAKAAoADAAMAA8ADwASABIAGgAaACIAIgAoACgAKgAqAC4ALgAvAC8AIwAjABgAGAALAAsAAQABAAAAAAAAAAAAAwADAAcABwAIAAgACwALAAoACgAEAAQA//////z//P/y//L/8v/y//P/8//y//L/+P/4//b/9v/y//L/6f/p/+H/4f/d/93/1//X/9T/1P/Q/9D/3v/e/+b/5v/p/+n/8v/y//X/9f/z//P/6v/q/+P/4//l/+X/4f/h/9n/2f/d/93/6v/q//D/8P/6//r/BwAHABIAEgAcABwAGgAaABUAFQAHAAcAAAAAAAAAAAACAAIABgAGAAcABwATABMAIwAjAC8ALwA/AD8AQwBDAEQARAA3ADcALwAvADAAMAAsACwAJQAlACcAJwAzADMAOAA4ADAAMAA0ADQAMwAzADAAMAAtAC0AJwAnACQAJAAmACYAJgAmAB8AHwAbABsAHAAcAB4AHgATABMABwAHAAMAAwAAAAAA+//7//P/8//4//j/+P/4//f/9/8BAAEA/f/9//f/9//1//X/7P/s/97/3v/R/9H/x//H/7z/vP+9/73/yf/J/9H/0f/W/9b/1//X/+P/4//n/+f/4v/i/97/3v/W/9b/yf/J/7//v//A/8D/y//L/87/zv/V/9X/2//b/+L/4v/j/+P/6P/o/+j/6P/g/+D/6P/o/+H/4f/b/9v/3v/e/+L/4v/m/+b/4//j/+n/6f/x//H/9P/0//b/9v8AAAAAAgACAPj/+P/6//r/+//7/wYABgALAAsACAAIAAgACAAFAAUAAAAAAPL/8v/1//X/+//7//j/+P8CAAIABgAGAAkACQASABIAGAAYABMAEwAMAAwACAAIAAMAAwD8//z/8f/x//T/9P/v/+//7//v//7//v8DAAMABwAHAAkACQAOAA4ACAAIAPv/+//z//P/7P/s/+f/5//n/+f/5//n/+T/5P/s/+z/6//r/+3/7f/0//T/9v/2//f/9//x//H/+P/4//b/9v/s/+z/7v/u//P/8//9//3//////wEAAQD7//v//P/8//v/+//3//f//////wQABAAPAA8AFgAWABcAFwAdAB0AHwAfACMAIwAcABwAEwATABIAEgAcABwAGwAbACEAIQAiACIALAAsADYANgA3ADcAQABAAEMAQwA4ADgALQAtACEAIQAaABoAGwAbABoAGgAeAB4AIAAgAB0AHQAlACUAKgAqACwALAAtAC0AHgAeABIAEgAEAAQA/f/9/wIAAgAAAAAA+v/6/wAAAAD8//z/9//3//r/+v8AAAAA//////z//P/u/+7/5f/l/+X/5f/i/+L/6P/o/+z/7P/n/+f/3f/d/9T/1P/Z/9n/1f/V/9T/1P/d/93/3//f/+H/4f/n/+f/7f/t//X/9f/t/+3/6//r/+X/5f/e/97/2//b/9f/1//O/87/0P/Q/97/3v/p/+n/7//v//v/+/8AAAAAAgACAP3//f/6//r/+P/4//L/8v/i/+L/4P/g/+b/5v/m/+b/9P/0/wQABAAIAAgAEwATABUAFQAPAA8ADAAMAAwADAALAAsAEQARAA8ADwAOAA4AEgASABcAFwAeAB4AGwAbABoAGgAcABwAIwAjACIAIgAiACIAKQApACYAJgAnACcALQAtADEAMQA0ADQANgA2ACoAKgAeAB4AGwAbABEAEQAWABYAGAAYABsAGwAnACcAKgAqACoAKgAnACcAHwAfABkAGQASABIADgAOAAEAAQD4//j/6//r/+v/6//0//T//////wUABQAKAAoADAAMAP3//f/z//P/7P/s/+7/7v/n/+f/6P/o/+f/5//l/+X/6v/q/+//7//v/+//+//7/wAAAAD5//n/9//3//P/8//x//H/8f/x/+//7//x//H/8f/x//3//f8FAAUACwALAA0ADQAEAAQAAQABAAMAAwADAAMADgAOABEAEQAMAAwABwAHAAYABgAMAAwAGAAYABwAHAALAAsABQAFAAcABwAHAAcAAwADAAYABgAKAAoADAAMAAkACQAGAAYAAAAAAAAAAAD/////+//7//f/9//y//L/9v/2//L/8v/0//T/9P/0//b/9v///////v/+/wIAAgAAAAAA8//z/+f/5//j/+P/6P/o/+P/4//q/+r/7P/s/+3/7f/p/+n/6f/p//f/9//8//z/AAAAAP3//f/3//f/8//z//D/8P/4//j/+v/6//X/9f/w//D/7v/u/+//7//6//r/9v/2//f/9/8AAAAAAAAAAAEAAQAFAAUABAAEAP////8AAAAA9f/1/+n/6f/1//X/9f/1//L/8v/8//z/AAAAAAAAAAADAAMADgAOABUAFQAVABUADwAPAAUABQAIAAgABwAHAAMAAwADAAMACAAIABEAEQAYABgAHQAdAB4AHgAfAB8AIQAhABsAGwAYABgAFQAVABcAFwAbABsAHwAfACsAKwAuAC4AMQAxAC4ALgAtAC0AKwArACQAJAAfAB8AGAAYABQAFAAVABUAEgASABYAFgAcABwAHAAcABsAGwAdAB0AEQARAAgACAAGAAYAAQABAPv/+//6//r/+P/4//r/+v/0//T/+f/5/wIAAgAAAAAA9f/1/+n/6f/h/+H/2v/a/9v/2//k/+T/6//r/+v/6//s/+z/8P/w//P/8//3//f/8P/w/+L/4v/f/9//2f/Z/9b/1v/Y/9j/4v/i/+//7//6//r//v/+//////8GAAYABQAFAAAAAAD/////+f/5/+n/6f/l/+X/6v/q//H/8f/v/+//9P/0/wEAAQAHAAcACgAKAAQABADz//P/7//v//X/9f/1//X/7f/t//D/8P/w//D/8P/w//z//P/8//z/9P/0/+//7//p/+n/6P/o/+n/6f/j/+P/5//n/+j/6P/q/+r/7P/s/+//7//1//X/7v/u/+v/6//s/+z/7v/u/+j/6P/g/+D/5P/k/+z/7P/w//D/9P/0/+3/7f/z//P/9//3//T/9P/4//j/+//7//L/8v/p/+n/6v/q//H/8f/4//j/9//3//v/+//0//T/8f/x/+7/7v/n/+f/5f/l/+j/6P/n/+f/8f/x//v/+//0//T/8v/y/+3/7f/s/+z/8f/x//H/8f/y//L/7f/t/+T/5P/f/9//4v/i/+f/5//t/+3/9f/1//L/8v/z//P/8P/w/+z/7P/6//r//v/+//n/+f8AAAAABgAGAAMAAwAFAAUACQAJAAcABwADAAMACgAKAAkACQALAAsAEAAQABEAEQATABMAHgAeACQAJAArACsAMgAyADEAMQAiACIAHQAdABcAFwAPAA8AEQARABsAGwAnACcAKQApACQAJAAuAC4ALgAuAC4ALgAzADMAJQAlABcAFwAVABUADgAOAAwADAANAA0ACwALAA==\" type=\"audio/wav\" />\n",
              "                    Your browser does not support the audio element.\n",
              "                </audio>\n",
              "              "
            ]
          },
          "metadata": {},
          "execution_count": 18
        }
      ]
    },
    {
      "cell_type": "markdown",
      "metadata": {
        "id": "bLGlR9WYjaQh"
      },
      "source": [
        "The last file is me saying “zero”.\n",
        "\n",
        "\n",
        "\n",
        "\n",
        "\n"
      ]
    },
    {
      "cell_type": "code",
      "execution_count": 19,
      "metadata": {
        "id": "y4L7bLv-jaQh",
        "outputId": "5e20bf07-4c26-43b3-e8d0-9aa52c29fa26",
        "colab": {
          "base_uri": "https://localhost:8080/",
          "height": 76
        }
      },
      "outputs": [
        {
          "output_type": "execute_result",
          "data": {
            "text/plain": [
              "<IPython.lib.display.Audio object>"
            ],
            "text/html": [
              "\n",
              "                <audio  controls=\"controls\" >\n",
              "                    <source src=\"data:audio/wav;base64,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\" type=\"audio/wav\" />\n",
              "                    Your browser does not support the audio element.\n",
              "                </audio>\n",
              "              "
            ]
          },
          "metadata": {},
          "execution_count": 19
        }
      ],
      "source": [
        "waveform_last, *_ = train_set[-1]\n",
        "ipd.Audio(waveform_last.numpy(), rate=sample_rate)"
      ]
    },
    {
      "cell_type": "markdown",
      "source": [
        "Formatting Dataset"
      ],
      "metadata": {
        "id": "kLW5zoitSUJ0"
      }
    },
    {
      "cell_type": "code",
      "execution_count": 20,
      "metadata": {
        "id": "vojUvy-5jaQj",
        "outputId": "b0174dc0-146a-42a0-92ab-b70c506b51bd",
        "colab": {
          "base_uri": "https://localhost:8080/",
          "height": 76
        }
      },
      "outputs": [
        {
          "output_type": "execute_result",
          "data": {
            "text/plain": [
              "<IPython.lib.display.Audio object>"
            ],
            "text/html": [
              "\n",
              "                <audio  controls=\"controls\" >\n",
              "                    <source src=\"data:audio/wav;base64,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\" type=\"audio/wav\" />\n",
              "                    Your browser does not support the audio element.\n",
              "                </audio>\n",
              "              "
            ]
          },
          "metadata": {},
          "execution_count": 20
        }
      ],
      "source": [
        "new_sample_rate = 8000\n",
        "transform = torchaudio.transforms.Resample(orig_freq=sample_rate, new_freq=new_sample_rate)\n",
        "transformed = transform(waveform)\n",
        "\n",
        "ipd.Audio(transformed.numpy(), rate=new_sample_rate)"
      ]
    },
    {
      "cell_type": "markdown",
      "metadata": {
        "id": "OEYOUgqAjaQk"
      },
      "source": [
        "We are encoding each word using its index in the list of labels.\n",
        "\n",
        "\n"
      ]
    },
    {
      "cell_type": "code",
      "execution_count": 21,
      "metadata": {
        "id": "xOIFUZ0njaQl",
        "outputId": "d9c61c44-6d61-45df-e600-1fd99146af38",
        "colab": {
          "base_uri": "https://localhost:8080/"
        }
      },
      "outputs": [
        {
          "output_type": "stream",
          "name": "stdout",
          "text": [
            "yes --> tensor(33) --> yes\n"
          ]
        }
      ],
      "source": [
        "def label_to_index(word):\n",
        "    # Return the position of the word in labels\n",
        "    return torch.tensor(labels.index(word))\n",
        "\n",
        "\n",
        "def index_to_label(index):\n",
        "    # Return the word corresponding to the index in labels\n",
        "    # This is the inverse of label_to_index\n",
        "    return labels[index]\n",
        "\n",
        "\n",
        "word_start = \"yes\"\n",
        "index = label_to_index(word_start)\n",
        "word_recovered = index_to_label(index)\n",
        "\n",
        "print(word_start, \"-->\", index, \"-->\", word_recovered)"
      ]
    },
    {
      "cell_type": "code",
      "execution_count": 22,
      "metadata": {
        "id": "lWIAcx_JjaQm"
      },
      "outputs": [],
      "source": [
        "def pad_sequence(batch):\n",
        "    # Make all tensor in a batch the same length by padding with zeros\n",
        "    batch = [item.t() for item in batch]\n",
        "    batch = torch.nn.utils.rnn.pad_sequence(batch, batch_first=True, padding_value=0.)\n",
        "    return batch.permute(0, 2, 1)\n",
        "\n",
        "\n",
        "def collate_fn(batch):\n",
        "\n",
        "    # A data tuple has the form:\n",
        "    # waveform, sample_rate, label, speaker_id, utterance_number\n",
        "\n",
        "    tensors, targets = [], []\n",
        "\n",
        "    # Gather in lists, and encode labels as indices\n",
        "    for waveform, _, label, *_ in batch:\n",
        "        tensors += [waveform]\n",
        "        targets += [label_to_index(label)]\n",
        "\n",
        "    # Group the list of tensors into a batched tensor\n",
        "    tensors = pad_sequence(tensors)\n",
        "    targets = torch.stack(targets)\n",
        "\n",
        "    return tensors, targets\n",
        "\n",
        "\n",
        "batch_size = 10\n",
        "\n",
        "if device == \"cuda\":\n",
        "    num_workers = 256\n",
        "    pin_memory = True\n",
        "else:\n",
        "    num_workers = 0\n",
        "    pin_memory = False\n",
        "\n",
        "train_loader = torch.utils.data.DataLoader(\n",
        "    train_set,\n",
        "    batch_size=batch_size,\n",
        "    shuffle=True,\n",
        "    collate_fn=collate_fn,\n",
        "    num_workers=num_workers,\n",
        "    pin_memory=pin_memory,\n",
        ")\n",
        "test_loader = torch.utils.data.DataLoader(\n",
        "    test_set,\n",
        "    batch_size=batch_size,\n",
        "    shuffle=False,\n",
        "    drop_last=False,\n",
        "    collate_fn=collate_fn,\n",
        "    num_workers=num_workers,\n",
        "    pin_memory=pin_memory,\n",
        ")"
      ]
    },
    {
      "cell_type": "markdown",
      "source": [
        "Defining network"
      ],
      "metadata": {
        "id": "nmPlFvfWTAXl"
      }
    },
    {
      "cell_type": "code",
      "execution_count": 23,
      "metadata": {
        "id": "q5FpHeMWjaQn",
        "outputId": "d8169045-6240-49f6-c1d1-642603035577",
        "colab": {
          "base_uri": "https://localhost:8080/"
        }
      },
      "outputs": [
        {
          "output_type": "stream",
          "name": "stdout",
          "text": [
            "M5(\n",
            "  (conv1): Conv1d(2, 32, kernel_size=(80,), stride=(16,))\n",
            "  (bn1): BatchNorm1d(32, eps=1e-05, momentum=0.1, affine=True, track_running_stats=True)\n",
            "  (pool1): MaxPool1d(kernel_size=4, stride=4, padding=0, dilation=1, ceil_mode=False)\n",
            "  (conv2): Conv1d(32, 32, kernel_size=(3,), stride=(1,))\n",
            "  (bn2): BatchNorm1d(32, eps=1e-05, momentum=0.1, affine=True, track_running_stats=True)\n",
            "  (pool2): MaxPool1d(kernel_size=4, stride=4, padding=0, dilation=1, ceil_mode=False)\n",
            "  (conv3): Conv1d(32, 64, kernel_size=(3,), stride=(1,))\n",
            "  (bn3): BatchNorm1d(64, eps=1e-05, momentum=0.1, affine=True, track_running_stats=True)\n",
            "  (pool3): MaxPool1d(kernel_size=4, stride=4, padding=0, dilation=1, ceil_mode=False)\n",
            "  (conv4): Conv1d(64, 64, kernel_size=(3,), stride=(1,))\n",
            "  (bn4): BatchNorm1d(64, eps=1e-05, momentum=0.1, affine=True, track_running_stats=True)\n",
            "  (pool4): MaxPool1d(kernel_size=4, stride=4, padding=0, dilation=1, ceil_mode=False)\n",
            "  (fc1): Linear(in_features=64, out_features=35, bias=True)\n",
            ")\n",
            "Number of parameters: 29475\n"
          ]
        }
      ],
      "source": [
        "class M5(nn.Module):\n",
        "    def __init__(self, n_input=1, n_output=35, stride=16, n_channel=32):\n",
        "        super().__init__()\n",
        "        self.conv1 = nn.Conv1d(n_input, n_channel, kernel_size=80, stride=stride)\n",
        "        self.bn1 = nn.BatchNorm1d(n_channel)\n",
        "        self.pool1 = nn.MaxPool1d(4)\n",
        "        self.conv2 = nn.Conv1d(n_channel, n_channel, kernel_size=3)\n",
        "        self.bn2 = nn.BatchNorm1d(n_channel)\n",
        "        self.pool2 = nn.MaxPool1d(4)\n",
        "        self.conv3 = nn.Conv1d(n_channel, 2 * n_channel, kernel_size=3)\n",
        "        self.bn3 = nn.BatchNorm1d(2 * n_channel)\n",
        "        self.pool3 = nn.MaxPool1d(4)\n",
        "        self.conv4 = nn.Conv1d(2 * n_channel, 2 * n_channel, kernel_size=3)\n",
        "        self.bn4 = nn.BatchNorm1d(2 * n_channel)\n",
        "        self.pool4 = nn.MaxPool1d(4)\n",
        "        self.fc1 = nn.Linear(2 * n_channel, n_output)\n",
        "\n",
        "    def forward(self, x):\n",
        "        x = self.conv1(x)\n",
        "        x = F.relu(self.bn1(x))\n",
        "        x = self.pool1(x)\n",
        "        x = self.conv2(x)\n",
        "        x = F.relu(self.bn2(x))\n",
        "        x = self.pool2(x)\n",
        "        x = self.conv3(x)\n",
        "        x = F.relu(self.bn3(x))\n",
        "        x = self.pool3(x)\n",
        "        x = self.conv4(x)\n",
        "        x = F.relu(self.bn4(x))\n",
        "        x = self.pool4(x)\n",
        "        x = F.avg_pool1d(x, x.shape[-1])\n",
        "        x = x.permute(0, 2, 1)\n",
        "        x = self.fc1(x)\n",
        "        return F.log_softmax(x, dim=2)\n",
        "\n",
        "\n",
        "model = M5(n_input=transformed.shape[0], n_output=len(labels))\n",
        "model.to(device)\n",
        "print(model)\n",
        "\n",
        "\n",
        "def count_parameters(model):\n",
        "    return sum(p.numel() for p in model.parameters() if p.requires_grad)\n",
        "\n",
        "\n",
        "n = count_parameters(model)\n",
        "print(\"Number of parameters: %s\" % n)"
      ]
    },
    {
      "cell_type": "markdown",
      "metadata": {
        "id": "4V_4TpwNjaQn"
      },
      "source": [
        "We will use the same optimization technique used in the paper, an Adam\n",
        "optimizer with weight decay set to 0.0001. At first, we will train with\n",
        "a learning rate of 0.01, but we will use a ``scheduler`` to decrease it\n",
        "to 0.001 during training after 20 epochs.\n",
        "\n",
        "\n"
      ]
    },
    {
      "cell_type": "code",
      "execution_count": 24,
      "metadata": {
        "id": "2DfC06BLjaQp"
      },
      "outputs": [],
      "source": [
        "optimizer = optim.Adam(model.parameters(), lr=0.01, weight_decay=0.0001)\n",
        "scheduler = optim.lr_scheduler.StepLR(optimizer, step_size=20, gamma=0.1)  # reduce the learning after 20 epochs by a factor of 10"
      ]
    },
    {
      "cell_type": "markdown",
      "metadata": {
        "id": "iYWw2V_GjaQq"
      },
      "source": [
        "Training and Testing the Network\n",
        "\n",
        "\n"
      ]
    },
    {
      "cell_type": "code",
      "execution_count": 25,
      "metadata": {
        "id": "fM2bMRMljaQs"
      },
      "outputs": [],
      "source": [
        "def train(model, epoch, log_interval):\n",
        "    model.train()\n",
        "    for batch_idx, (data, target) in enumerate(train_loader):\n",
        "\n",
        "        data = data.to(device)\n",
        "        target = target.to(device)\n",
        "\n",
        "        # apply transform and model on whole batch directly on device\n",
        "        data = transform(data.contiguous()) # Ensure data is contiguous before applying transform\n",
        "        output = model(data)\n",
        "\n",
        "        # negative log-likelihood for a tensor of size (batch x 1 x n_output)\n",
        "        loss = F.nll_loss(output.squeeze(), target)\n",
        "\n",
        "        optimizer.zero_grad()\n",
        "        loss.backward()\n",
        "        optimizer.step()\n",
        "\n",
        "        # print training stats\n",
        "        if batch_idx % log_interval == 0:\n",
        "            print(f\"Train Epoch: {epoch} [{batch_idx * len(data)}/{len(train_loader.dataset)} ({100. * batch_idx / len(train_loader):.0f}%)]\\tLoss: {loss.item():.6f}\")\n",
        "\n",
        "        # update progress bar\n",
        "        pbar.update(pbar_update)\n",
        "        # record loss\n",
        "        losses.append(loss.item())"
      ]
    },
    {
      "cell_type": "markdown",
      "metadata": {
        "id": "yQuZYSHajaQt"
      },
      "source": [
        "Now that we have a training function, we need to make one for testing\n",
        "the networks accuracy. We will set the model to ``eval()`` mode and then\n",
        "run inference on the test dataset. Calling ``eval()`` sets the training\n",
        "variable in all modules in the network to false. Certain layers like\n",
        "batch normalization and dropout layers behave differently during\n",
        "training so this step is crucial for getting correct results.\n",
        "\n",
        "\n"
      ]
    },
    {
      "cell_type": "code",
      "execution_count": 26,
      "metadata": {
        "id": "RmELvLw2jaQu"
      },
      "outputs": [],
      "source": [
        "def number_of_correct(pred, target):\n",
        "    # count number of correct predictions\n",
        "    return pred.squeeze().eq(target).sum().item()\n",
        "\n",
        "\n",
        "def get_likely_index(tensor):\n",
        "    # find most likely label index for each element in the batch\n",
        "    return tensor.argmax(dim=-1)\n",
        "\n",
        "\n",
        "def test(model, epoch):\n",
        "    model.eval()\n",
        "    correct = 0\n",
        "    for data, target in test_loader:\n",
        "\n",
        "        data = data.to(device)\n",
        "        target = target.to(device)\n",
        "\n",
        "        # apply transform and model on whole batch directly on device\n",
        "        data = transform(data.contiguous())\n",
        "        output = model(data)\n",
        "\n",
        "        pred = get_likely_index(output)\n",
        "        correct += number_of_correct(pred, target)\n",
        "\n",
        "        # update progress bar\n",
        "        pbar.update(pbar_update)\n",
        "\n",
        "    print(f\"\\nTest Epoch: {epoch}\\tAccuracy: {correct}/{len(test_loader.dataset)} ({100. * correct / len(test_loader.dataset):.0f}%)\\n\")"
      ]
    },
    {
      "cell_type": "markdown",
      "metadata": {
        "id": "LzqoIKMajaQv"
      },
      "source": [
        "Finally, we can train and test the network. We will train the network\n",
        "for ten epochs then reduce the learn rate and train for ten more epochs.\n",
        "The network will be tested after each epoch to see how the accuracy\n",
        "varies during the training.\n",
        "\n",
        "\n"
      ]
    },
    {
      "cell_type": "code",
      "execution_count": 27,
      "metadata": {
        "id": "0XTch1KcjaQw",
        "outputId": "9865ab72-0034-454b-f0af-6324ed5eb6d9",
        "colab": {
          "base_uri": "https://localhost:8080/",
          "height": 1000
        }
      },
      "outputs": [
        {
          "output_type": "stream",
          "name": "stderr",
          "text": [
            "  0%|          | 0.03409090909090909/20 [00:01<13:58, 42.01s/it]  "
          ]
        },
        {
          "output_type": "stream",
          "name": "stdout",
          "text": [
            "Train Epoch: 1 [0/700 (0%)]\tLoss: 3.636353\n"
          ]
        },
        {
          "output_type": "stream",
          "name": "stderr",
          "text": [
            "  1%|          | 0.10227272727272729/20 [00:02<03:57, 11.94s/it]"
          ]
        },
        {
          "output_type": "stream",
          "name": "stdout",
          "text": [
            "Train Epoch: 1 [50/700 (7%)]\tLoss: 3.948618\n"
          ]
        },
        {
          "output_type": "stream",
          "name": "stderr",
          "text": [
            "  1%|          | 0.14772727272727273/20 [00:02<02:43,  8.22s/it]"
          ]
        },
        {
          "output_type": "stream",
          "name": "stdout",
          "text": [
            "Train Epoch: 1 [100/700 (14%)]\tLoss: 3.835051\n"
          ]
        },
        {
          "output_type": "stream",
          "name": "stderr",
          "text": [
            "  1%|          | 0.21590909090909086/20 [00:02<02:09,  6.57s/it]"
          ]
        },
        {
          "output_type": "stream",
          "name": "stdout",
          "text": [
            "Train Epoch: 1 [150/700 (21%)]\tLoss: 3.420771\n"
          ]
        },
        {
          "output_type": "stream",
          "name": "stderr",
          "text": [
            "  1%|▏         | 0.2613636363636363/20 [00:03<01:59,  6.07s/it] "
          ]
        },
        {
          "output_type": "stream",
          "name": "stdout",
          "text": [
            "Train Epoch: 1 [200/700 (29%)]\tLoss: 3.542854\n"
          ]
        },
        {
          "output_type": "stream",
          "name": "stderr",
          "text": [
            "  2%|▏         | 0.3295454545454544/20 [00:03<01:59,  6.06s/it]"
          ]
        },
        {
          "output_type": "stream",
          "name": "stdout",
          "text": [
            "Train Epoch: 1 [250/700 (36%)]\tLoss: 3.452695\n"
          ]
        },
        {
          "output_type": "stream",
          "name": "stderr",
          "text": [
            "  2%|▏         | 0.3863636363636362/20 [00:03<01:36,  4.94s/it]"
          ]
        },
        {
          "output_type": "stream",
          "name": "stdout",
          "text": [
            "Train Epoch: 1 [300/700 (43%)]\tLoss: 3.231825\n"
          ]
        },
        {
          "output_type": "stream",
          "name": "stderr",
          "text": [
            "  2%|▏         | 0.4545454545454543/20 [00:03<01:24,  4.35s/it] "
          ]
        },
        {
          "output_type": "stream",
          "name": "stdout",
          "text": [
            "Train Epoch: 1 [350/700 (50%)]\tLoss: 3.479634\n"
          ]
        },
        {
          "output_type": "stream",
          "name": "stderr",
          "text": [
            "\r  2%|▏         | 0.48863636363636337/20 [00:04<01:25,  4.36s/it]"
          ]
        },
        {
          "output_type": "stream",
          "name": "stdout",
          "text": [
            "Train Epoch: 1 [400/700 (57%)]\tLoss: 3.028683\n"
          ]
        },
        {
          "output_type": "stream",
          "name": "stderr",
          "text": [
            "  3%|▎         | 0.5568181818181815/20 [00:04<01:18,  4.04s/it]"
          ]
        },
        {
          "output_type": "stream",
          "name": "stdout",
          "text": [
            "Train Epoch: 1 [450/700 (64%)]\tLoss: 2.989085\n"
          ]
        },
        {
          "output_type": "stream",
          "name": "stderr",
          "text": [
            "  3%|▎         | 0.6249999999999997/20 [00:04<01:14,  3.84s/it]"
          ]
        },
        {
          "output_type": "stream",
          "name": "stdout",
          "text": [
            "Train Epoch: 1 [500/700 (71%)]\tLoss: 3.292614\n"
          ]
        },
        {
          "output_type": "stream",
          "name": "stderr",
          "text": [
            "\r  3%|▎         | 0.6590909090909087/20 [00:04<01:14,  3.84s/it]"
          ]
        },
        {
          "output_type": "stream",
          "name": "stdout",
          "text": [
            "Train Epoch: 1 [550/700 (79%)]\tLoss: 2.910281\n"
          ]
        },
        {
          "output_type": "stream",
          "name": "stderr",
          "text": [
            "  4%|▎         | 0.7272727272727268/20 [00:05<01:17,  4.02s/it]"
          ]
        },
        {
          "output_type": "stream",
          "name": "stdout",
          "text": [
            "Train Epoch: 1 [600/700 (86%)]\tLoss: 2.668395\n"
          ]
        },
        {
          "output_type": "stream",
          "name": "stderr",
          "text": [
            "  4%|▍         | 0.795454545454545/20 [00:05<01:13,  3.85s/it] "
          ]
        },
        {
          "output_type": "stream",
          "name": "stdout",
          "text": [
            "Train Epoch: 1 [650/700 (93%)]\tLoss: 3.073520\n"
          ]
        },
        {
          "output_type": "stream",
          "name": "stderr",
          "text": [
            "  5%|▌         | 1.0454545454545452/20 [00:06<01:07,  3.57s/it]"
          ]
        },
        {
          "output_type": "stream",
          "name": "stdout",
          "text": [
            "\n",
            "Test Epoch: 1\tAccuracy: 50/175 (29%)\n",
            "\n",
            "Train Epoch: 2 [0/700 (0%)]\tLoss: 2.649062\n"
          ]
        },
        {
          "output_type": "stream",
          "name": "stderr",
          "text": [
            "  6%|▌         | 1.113636363636364/20 [00:06<01:10,  3.72s/it] "
          ]
        },
        {
          "output_type": "stream",
          "name": "stdout",
          "text": [
            "Train Epoch: 2 [50/700 (7%)]\tLoss: 2.507453\n"
          ]
        },
        {
          "output_type": "stream",
          "name": "stderr",
          "text": [
            "\r  6%|▌         | 1.1477272727272734/20 [00:06<01:11,  3.82s/it]"
          ]
        },
        {
          "output_type": "stream",
          "name": "stdout",
          "text": [
            "Train Epoch: 2 [100/700 (14%)]\tLoss: 2.458139\n"
          ]
        },
        {
          "output_type": "stream",
          "name": "stderr",
          "text": [
            "  6%|▌         | 1.2159090909090922/20 [00:06<01:13,  3.92s/it]"
          ]
        },
        {
          "output_type": "stream",
          "name": "stdout",
          "text": [
            "Train Epoch: 2 [150/700 (21%)]\tLoss: 3.010656\n"
          ]
        },
        {
          "output_type": "stream",
          "name": "stderr",
          "text": [
            "\r  6%|▋         | 1.2500000000000016/20 [00:06<01:14,  3.99s/it]"
          ]
        },
        {
          "output_type": "stream",
          "name": "stdout",
          "text": [
            "Train Epoch: 2 [200/700 (29%)]\tLoss: 2.735178\n"
          ]
        },
        {
          "output_type": "stream",
          "name": "stderr",
          "text": [
            "  7%|▋         | 1.3181818181818203/20 [00:07<01:17,  4.16s/it]"
          ]
        },
        {
          "output_type": "stream",
          "name": "stdout",
          "text": [
            "Train Epoch: 2 [250/700 (36%)]\tLoss: 2.135712\n"
          ]
        },
        {
          "output_type": "stream",
          "name": "stderr",
          "text": [
            "  7%|▋         | 1.3863636363636391/20 [00:07<01:13,  3.92s/it]"
          ]
        },
        {
          "output_type": "stream",
          "name": "stdout",
          "text": [
            "Train Epoch: 2 [300/700 (43%)]\tLoss: 1.933530\n"
          ]
        },
        {
          "output_type": "stream",
          "name": "stderr",
          "text": [
            "  7%|▋         | 1.454545454545458/20 [00:07<01:15,  4.09s/it] "
          ]
        },
        {
          "output_type": "stream",
          "name": "stdout",
          "text": [
            "Train Epoch: 2 [350/700 (50%)]\tLoss: 2.459278\n"
          ]
        },
        {
          "output_type": "stream",
          "name": "stderr",
          "text": [
            "\r  7%|▋         | 1.4886363636363673/20 [00:07<01:15,  4.09s/it]"
          ]
        },
        {
          "output_type": "stream",
          "name": "stdout",
          "text": [
            "Train Epoch: 2 [400/700 (57%)]\tLoss: 1.986760\n"
          ]
        },
        {
          "output_type": "stream",
          "name": "stderr",
          "text": [
            "  8%|▊         | 1.556818181818186/20 [00:08<01:16,  4.17s/it] "
          ]
        },
        {
          "output_type": "stream",
          "name": "stdout",
          "text": [
            "Train Epoch: 2 [450/700 (64%)]\tLoss: 2.191929\n"
          ]
        },
        {
          "output_type": "stream",
          "name": "stderr",
          "text": [
            "  8%|▊         | 1.6250000000000049/20 [00:08<01:13,  4.02s/it]"
          ]
        },
        {
          "output_type": "stream",
          "name": "stdout",
          "text": [
            "Train Epoch: 2 [500/700 (71%)]\tLoss: 1.705071\n"
          ]
        },
        {
          "output_type": "stream",
          "name": "stderr",
          "text": [
            "\r  8%|▊         | 1.6590909090909143/20 [00:08<01:12,  3.97s/it]"
          ]
        },
        {
          "output_type": "stream",
          "name": "stdout",
          "text": [
            "Train Epoch: 2 [550/700 (79%)]\tLoss: 2.789283\n"
          ]
        },
        {
          "output_type": "stream",
          "name": "stderr",
          "text": [
            "  9%|▊         | 1.727272727272733/20 [00:08<01:11,  3.92s/it] "
          ]
        },
        {
          "output_type": "stream",
          "name": "stdout",
          "text": [
            "Train Epoch: 2 [600/700 (86%)]\tLoss: 2.146654\n"
          ]
        },
        {
          "output_type": "stream",
          "name": "stderr",
          "text": [
            "  9%|▉         | 1.7954545454545519/20 [00:09<01:14,  4.07s/it]"
          ]
        },
        {
          "output_type": "stream",
          "name": "stdout",
          "text": [
            "Train Epoch: 2 [650/700 (93%)]\tLoss: 2.186150\n"
          ]
        },
        {
          "output_type": "stream",
          "name": "stderr",
          "text": [
            " 10%|█         | 2.0340909090909167/20 [00:10<01:07,  3.75s/it]"
          ]
        },
        {
          "output_type": "stream",
          "name": "stdout",
          "text": [
            "\n",
            "Test Epoch: 2\tAccuracy: 67/175 (38%)\n",
            "\n",
            "Train Epoch: 3 [0/700 (0%)]\tLoss: 1.877223\n"
          ]
        },
        {
          "output_type": "stream",
          "name": "stderr",
          "text": [
            " 11%|█         | 2.102272727272734/20 [00:10<01:09,  3.90s/it] "
          ]
        },
        {
          "output_type": "stream",
          "name": "stdout",
          "text": [
            "Train Epoch: 3 [50/700 (7%)]\tLoss: 1.866479\n"
          ]
        },
        {
          "output_type": "stream",
          "name": "stderr",
          "text": [
            " 11%|█         | 2.1704545454545516/20 [00:10<01:08,  3.85s/it]"
          ]
        },
        {
          "output_type": "stream",
          "name": "stdout",
          "text": [
            "Train Epoch: 3 [100/700 (14%)]\tLoss: 1.477410\n"
          ]
        },
        {
          "output_type": "stream",
          "name": "stderr",
          "text": [
            "\r 11%|█         | 2.2045454545454604/20 [00:10<01:09,  3.91s/it]"
          ]
        },
        {
          "output_type": "stream",
          "name": "stdout",
          "text": [
            "Train Epoch: 3 [150/700 (21%)]\tLoss: 1.807789\n"
          ]
        },
        {
          "output_type": "stream",
          "name": "stderr",
          "text": [
            " 11%|█▏        | 2.272727272727278/20 [00:11<01:10,  3.98s/it]"
          ]
        },
        {
          "output_type": "stream",
          "name": "stdout",
          "text": [
            "Train Epoch: 3 [200/700 (29%)]\tLoss: 1.648383\n"
          ]
        },
        {
          "output_type": "stream",
          "name": "stderr",
          "text": [
            " 12%|█▏        | 2.3409090909090953/20 [00:11<01:11,  4.05s/it]"
          ]
        },
        {
          "output_type": "stream",
          "name": "stdout",
          "text": [
            "Train Epoch: 3 [250/700 (36%)]\tLoss: 1.707309\n"
          ]
        },
        {
          "output_type": "stream",
          "name": "stderr",
          "text": [
            "\r 12%|█▏        | 2.375000000000004/20 [00:11<01:10,  4.01s/it] "
          ]
        },
        {
          "output_type": "stream",
          "name": "stdout",
          "text": [
            "Train Epoch: 3 [300/700 (43%)]\tLoss: 1.663427\n"
          ]
        },
        {
          "output_type": "stream",
          "name": "stderr",
          "text": [
            " 12%|█▏        | 2.4431818181818215/20 [00:11<01:09,  3.95s/it]"
          ]
        },
        {
          "output_type": "stream",
          "name": "stdout",
          "text": [
            "Train Epoch: 3 [350/700 (50%)]\tLoss: 1.670066\n"
          ]
        },
        {
          "output_type": "stream",
          "name": "stderr",
          "text": [
            " 13%|█▎        | 2.511363636363639/20 [00:11<01:08,  3.92s/it]"
          ]
        },
        {
          "output_type": "stream",
          "name": "stdout",
          "text": [
            "Train Epoch: 3 [400/700 (57%)]\tLoss: 1.260178\n"
          ]
        },
        {
          "output_type": "stream",
          "name": "stderr",
          "text": [
            "\r 13%|█▎        | 2.5454545454545476/20 [00:12<01:08,  3.91s/it]"
          ]
        },
        {
          "output_type": "stream",
          "name": "stdout",
          "text": [
            "Train Epoch: 3 [450/700 (64%)]\tLoss: 1.646665\n"
          ]
        },
        {
          "output_type": "stream",
          "name": "stderr",
          "text": [
            " 13%|█▎        | 2.613636363636365/20 [00:12<01:08,  3.93s/it] "
          ]
        },
        {
          "output_type": "stream",
          "name": "stdout",
          "text": [
            "Train Epoch: 3 [500/700 (71%)]\tLoss: 1.474913\n"
          ]
        },
        {
          "output_type": "stream",
          "name": "stderr",
          "text": [
            " 13%|█▎        | 2.6818181818181825/20 [00:12<01:06,  3.84s/it]"
          ]
        },
        {
          "output_type": "stream",
          "name": "stdout",
          "text": [
            "Train Epoch: 3 [550/700 (79%)]\tLoss: 1.620999\n"
          ]
        },
        {
          "output_type": "stream",
          "name": "stderr",
          "text": [
            "\r 14%|█▎        | 2.7159090909090913/20 [00:12<01:06,  3.83s/it]"
          ]
        },
        {
          "output_type": "stream",
          "name": "stdout",
          "text": [
            "Train Epoch: 3 [600/700 (86%)]\tLoss: 1.449931\n"
          ]
        },
        {
          "output_type": "stream",
          "name": "stderr",
          "text": [
            " 14%|█▍        | 2.7840909090909087/20 [00:13<01:07,  3.89s/it]"
          ]
        },
        {
          "output_type": "stream",
          "name": "stdout",
          "text": [
            "Train Epoch: 3 [650/700 (93%)]\tLoss: 1.519074\n"
          ]
        },
        {
          "output_type": "stream",
          "name": "stderr",
          "text": [
            " 15%|█▌        | 3.02272727272727/20 [00:14<01:14,  4.38s/it] "
          ]
        },
        {
          "output_type": "stream",
          "name": "stdout",
          "text": [
            "\n",
            "Test Epoch: 3\tAccuracy: 92/175 (53%)\n",
            "\n",
            "Train Epoch: 4 [0/700 (0%)]\tLoss: 0.655929\n"
          ]
        },
        {
          "output_type": "stream",
          "name": "stderr",
          "text": [
            " 16%|█▌        | 3.1022727272727235/20 [00:14<01:25,  5.06s/it]"
          ]
        },
        {
          "output_type": "stream",
          "name": "stdout",
          "text": [
            "Train Epoch: 4 [50/700 (7%)]\tLoss: 1.160990\n"
          ]
        },
        {
          "output_type": "stream",
          "name": "stderr",
          "text": [
            " 16%|█▌        | 3.1477272727272685/20 [00:14<01:25,  5.08s/it]"
          ]
        },
        {
          "output_type": "stream",
          "name": "stdout",
          "text": [
            "Train Epoch: 4 [100/700 (14%)]\tLoss: 1.655404\n"
          ]
        },
        {
          "output_type": "stream",
          "name": "stderr",
          "text": [
            " 16%|█▌        | 3.215909090909086/20 [00:15<01:30,  5.40s/it] "
          ]
        },
        {
          "output_type": "stream",
          "name": "stdout",
          "text": [
            "Train Epoch: 4 [150/700 (21%)]\tLoss: 1.423458\n"
          ]
        },
        {
          "output_type": "stream",
          "name": "stderr",
          "text": [
            " 16%|█▋        | 3.261363636363631/20 [00:15<01:32,  5.53s/it] "
          ]
        },
        {
          "output_type": "stream",
          "name": "stdout",
          "text": [
            "Train Epoch: 4 [200/700 (29%)]\tLoss: 1.360214\n"
          ]
        },
        {
          "output_type": "stream",
          "name": "stderr",
          "text": [
            " 17%|█▋        | 3.3295454545454484/20 [00:15<01:34,  5.70s/it]"
          ]
        },
        {
          "output_type": "stream",
          "name": "stdout",
          "text": [
            "Train Epoch: 4 [250/700 (36%)]\tLoss: 1.285073\n"
          ]
        },
        {
          "output_type": "stream",
          "name": "stderr",
          "text": [
            " 17%|█▋        | 3.3749999999999933/20 [00:16<01:35,  5.75s/it]"
          ]
        },
        {
          "output_type": "stream",
          "name": "stdout",
          "text": [
            "Train Epoch: 4 [300/700 (43%)]\tLoss: 1.869697\n"
          ]
        },
        {
          "output_type": "stream",
          "name": "stderr",
          "text": [
            " 17%|█▋        | 3.4204545454545383/20 [00:16<01:37,  5.87s/it]"
          ]
        },
        {
          "output_type": "stream",
          "name": "stdout",
          "text": [
            "Train Epoch: 4 [350/700 (50%)]\tLoss: 1.340011\n"
          ]
        },
        {
          "output_type": "stream",
          "name": "stderr",
          "text": [
            " 17%|█▋        | 3.4886363636363558/20 [00:16<01:18,  4.78s/it]"
          ]
        },
        {
          "output_type": "stream",
          "name": "stdout",
          "text": [
            "Train Epoch: 4 [400/700 (57%)]\tLoss: 1.099540\n"
          ]
        },
        {
          "output_type": "stream",
          "name": "stderr",
          "text": [
            " 18%|█▊        | 3.556818181818173/20 [00:16<01:10,  4.32s/it] "
          ]
        },
        {
          "output_type": "stream",
          "name": "stdout",
          "text": [
            "Train Epoch: 4 [450/700 (64%)]\tLoss: 0.556315\n"
          ]
        },
        {
          "output_type": "stream",
          "name": "stderr",
          "text": [
            "\r 18%|█▊        | 3.590909090909082/20 [00:16<01:09,  4.24s/it]"
          ]
        },
        {
          "output_type": "stream",
          "name": "stdout",
          "text": [
            "Train Epoch: 4 [500/700 (71%)]\tLoss: 1.311021\n"
          ]
        },
        {
          "output_type": "stream",
          "name": "stderr",
          "text": [
            " 18%|█▊        | 3.6590909090908994/20 [00:17<01:08,  4.20s/it]"
          ]
        },
        {
          "output_type": "stream",
          "name": "stdout",
          "text": [
            "Train Epoch: 4 [550/700 (79%)]\tLoss: 0.696858\n"
          ]
        },
        {
          "output_type": "stream",
          "name": "stderr",
          "text": [
            " 19%|█▊        | 3.727272727272717/20 [00:17<01:06,  4.08s/it]"
          ]
        },
        {
          "output_type": "stream",
          "name": "stdout",
          "text": [
            "Train Epoch: 4 [600/700 (86%)]\tLoss: 0.372720\n"
          ]
        },
        {
          "output_type": "stream",
          "name": "stderr",
          "text": [
            " 19%|█▉        | 3.7954545454545343/20 [00:17<01:04,  3.99s/it]"
          ]
        },
        {
          "output_type": "stream",
          "name": "stdout",
          "text": [
            "Train Epoch: 4 [650/700 (93%)]\tLoss: 0.261149\n"
          ]
        },
        {
          "output_type": "stream",
          "name": "stderr",
          "text": [
            " 20%|██        | 4.034090909090897/20 [00:18<00:57,  3.59s/it] "
          ]
        },
        {
          "output_type": "stream",
          "name": "stdout",
          "text": [
            "\n",
            "Test Epoch: 4\tAccuracy: 127/175 (73%)\n",
            "\n",
            "Train Epoch: 5 [0/700 (0%)]\tLoss: 0.737121\n"
          ]
        },
        {
          "output_type": "stream",
          "name": "stderr",
          "text": [
            " 21%|██        | 4.102272727272717/20 [00:18<00:59,  3.74s/it]"
          ]
        },
        {
          "output_type": "stream",
          "name": "stdout",
          "text": [
            "Train Epoch: 5 [50/700 (7%)]\tLoss: 1.023486\n"
          ]
        },
        {
          "output_type": "stream",
          "name": "stderr",
          "text": [
            " 21%|██        | 4.170454545454537/20 [00:19<01:01,  3.90s/it]"
          ]
        },
        {
          "output_type": "stream",
          "name": "stdout",
          "text": [
            "Train Epoch: 5 [100/700 (14%)]\tLoss: 0.745079\n"
          ]
        },
        {
          "output_type": "stream",
          "name": "stderr",
          "text": [
            "\r 21%|██        | 4.204545454545447/20 [00:19<01:01,  3.88s/it]"
          ]
        },
        {
          "output_type": "stream",
          "name": "stdout",
          "text": [
            "Train Epoch: 5 [150/700 (21%)]\tLoss: 0.323792\n"
          ]
        },
        {
          "output_type": "stream",
          "name": "stderr",
          "text": [
            " 21%|██▏       | 4.272727272727267/20 [00:19<01:01,  3.93s/it]"
          ]
        },
        {
          "output_type": "stream",
          "name": "stdout",
          "text": [
            "Train Epoch: 5 [200/700 (29%)]\tLoss: 0.603706\n"
          ]
        },
        {
          "output_type": "stream",
          "name": "stderr",
          "text": [
            " 22%|██▏       | 4.340909090909087/20 [00:19<01:01,  3.94s/it]"
          ]
        },
        {
          "output_type": "stream",
          "name": "stdout",
          "text": [
            "Train Epoch: 5 [250/700 (36%)]\tLoss: 0.748360\n"
          ]
        },
        {
          "output_type": "stream",
          "name": "stderr",
          "text": [
            "\r 22%|██▏       | 4.374999999999997/20 [00:19<01:01,  3.95s/it]"
          ]
        },
        {
          "output_type": "stream",
          "name": "stdout",
          "text": [
            "Train Epoch: 5 [300/700 (43%)]\tLoss: 0.438946\n"
          ]
        },
        {
          "output_type": "stream",
          "name": "stderr",
          "text": [
            " 22%|██▏       | 4.4431818181818175/20 [00:20<01:03,  4.07s/it]"
          ]
        },
        {
          "output_type": "stream",
          "name": "stdout",
          "text": [
            "Train Epoch: 5 [350/700 (50%)]\tLoss: 0.413388\n"
          ]
        },
        {
          "output_type": "stream",
          "name": "stderr",
          "text": [
            " 23%|██▎       | 4.511363636363638/20 [00:20<01:02,  4.06s/it] "
          ]
        },
        {
          "output_type": "stream",
          "name": "stdout",
          "text": [
            "Train Epoch: 5 [400/700 (57%)]\tLoss: 0.674181\n"
          ]
        },
        {
          "output_type": "stream",
          "name": "stderr",
          "text": [
            "\r 23%|██▎       | 4.545454545454548/20 [00:20<01:01,  3.98s/it]"
          ]
        },
        {
          "output_type": "stream",
          "name": "stdout",
          "text": [
            "Train Epoch: 5 [450/700 (64%)]\tLoss: 0.835715\n"
          ]
        },
        {
          "output_type": "stream",
          "name": "stderr",
          "text": [
            " 23%|██▎       | 4.613636363636368/20 [00:20<00:58,  3.80s/it]"
          ]
        },
        {
          "output_type": "stream",
          "name": "stdout",
          "text": [
            "Train Epoch: 5 [500/700 (71%)]\tLoss: 0.800763\n"
          ]
        },
        {
          "output_type": "stream",
          "name": "stderr",
          "text": [
            " 23%|██▎       | 4.681818181818188/20 [00:21<01:00,  3.95s/it]"
          ]
        },
        {
          "output_type": "stream",
          "name": "stdout",
          "text": [
            "Train Epoch: 5 [550/700 (79%)]\tLoss: 0.540657\n"
          ]
        },
        {
          "output_type": "stream",
          "name": "stderr",
          "text": [
            "\r 24%|██▎       | 4.715909090909098/20 [00:21<00:59,  3.90s/it]"
          ]
        },
        {
          "output_type": "stream",
          "name": "stdout",
          "text": [
            "Train Epoch: 5 [600/700 (86%)]\tLoss: 0.839064\n"
          ]
        },
        {
          "output_type": "stream",
          "name": "stderr",
          "text": [
            " 24%|██▍       | 4.784090909090918/20 [00:21<01:01,  4.05s/it]"
          ]
        },
        {
          "output_type": "stream",
          "name": "stdout",
          "text": [
            "Train Epoch: 5 [650/700 (93%)]\tLoss: 0.509933\n"
          ]
        },
        {
          "output_type": "stream",
          "name": "stderr",
          "text": [
            " 25%|██▌       | 5.0227272727272885/20 [00:22<00:51,  3.44s/it]"
          ]
        },
        {
          "output_type": "stream",
          "name": "stdout",
          "text": [
            "\n",
            "Test Epoch: 5\tAccuracy: 152/175 (87%)\n",
            "\n",
            "Train Epoch: 6 [0/700 (0%)]\tLoss: 0.411947\n"
          ]
        },
        {
          "output_type": "stream",
          "name": "stderr",
          "text": [
            " 25%|██▌       | 5.090909090909109/20 [00:22<00:55,  3.73s/it] "
          ]
        },
        {
          "output_type": "stream",
          "name": "stdout",
          "text": [
            "Train Epoch: 6 [50/700 (7%)]\tLoss: 0.340057\n"
          ]
        },
        {
          "output_type": "stream",
          "name": "stderr",
          "text": [
            " 26%|██▌       | 5.159090909090929/20 [00:23<00:56,  3.83s/it]"
          ]
        },
        {
          "output_type": "stream",
          "name": "stdout",
          "text": [
            "Train Epoch: 6 [100/700 (14%)]\tLoss: 0.378429\n"
          ]
        },
        {
          "output_type": "stream",
          "name": "stderr",
          "text": [
            " 26%|██▌       | 5.227272727272749/20 [00:23<00:56,  3.84s/it]"
          ]
        },
        {
          "output_type": "stream",
          "name": "stdout",
          "text": [
            "Train Epoch: 6 [150/700 (21%)]\tLoss: 0.658869\n"
          ]
        },
        {
          "output_type": "stream",
          "name": "stderr",
          "text": [
            "\r 26%|██▋       | 5.261363636363659/20 [00:23<00:55,  3.79s/it]"
          ]
        },
        {
          "output_type": "stream",
          "name": "stdout",
          "text": [
            "Train Epoch: 6 [200/700 (29%)]\tLoss: 0.323530\n"
          ]
        },
        {
          "output_type": "stream",
          "name": "stderr",
          "text": [
            " 27%|██▋       | 5.329545454545479/20 [00:23<00:57,  3.90s/it]"
          ]
        },
        {
          "output_type": "stream",
          "name": "stdout",
          "text": [
            "Train Epoch: 6 [250/700 (36%)]\tLoss: 0.570214\n"
          ]
        },
        {
          "output_type": "stream",
          "name": "stderr",
          "text": [
            " 27%|██▋       | 5.397727272727299/20 [00:23<00:56,  3.89s/it]"
          ]
        },
        {
          "output_type": "stream",
          "name": "stdout",
          "text": [
            "Train Epoch: 6 [300/700 (43%)]\tLoss: 0.470798\n"
          ]
        },
        {
          "output_type": "stream",
          "name": "stderr",
          "text": [
            "\r 27%|██▋       | 5.431818181818209/20 [00:24<00:57,  3.98s/it]"
          ]
        },
        {
          "output_type": "stream",
          "name": "stdout",
          "text": [
            "Train Epoch: 6 [350/700 (50%)]\tLoss: 0.873191\n"
          ]
        },
        {
          "output_type": "stream",
          "name": "stderr",
          "text": [
            " 28%|██▊       | 5.500000000000029/20 [00:24<00:56,  3.89s/it]"
          ]
        },
        {
          "output_type": "stream",
          "name": "stdout",
          "text": [
            "Train Epoch: 6 [400/700 (57%)]\tLoss: 0.507124\n"
          ]
        },
        {
          "output_type": "stream",
          "name": "stderr",
          "text": [
            " 28%|██▊       | 5.568181818181849/20 [00:24<00:56,  3.91s/it]"
          ]
        },
        {
          "output_type": "stream",
          "name": "stdout",
          "text": [
            "Train Epoch: 6 [450/700 (64%)]\tLoss: 0.678620\n"
          ]
        },
        {
          "output_type": "stream",
          "name": "stderr",
          "text": [
            "\r 28%|██▊       | 5.6022727272727595/20 [00:24<00:57,  3.99s/it]"
          ]
        },
        {
          "output_type": "stream",
          "name": "stdout",
          "text": [
            "Train Epoch: 6 [500/700 (71%)]\tLoss: 0.178957\n"
          ]
        },
        {
          "output_type": "stream",
          "name": "stderr",
          "text": [
            " 28%|██▊       | 5.67045454545458/20 [00:25<00:58,  4.05s/it]  "
          ]
        },
        {
          "output_type": "stream",
          "name": "stdout",
          "text": [
            "Train Epoch: 6 [550/700 (79%)]\tLoss: 0.299188\n"
          ]
        },
        {
          "output_type": "stream",
          "name": "stderr",
          "text": [
            " 29%|██▊       | 5.7386363636364/20 [00:25<00:56,  3.94s/it] "
          ]
        },
        {
          "output_type": "stream",
          "name": "stdout",
          "text": [
            "Train Epoch: 6 [600/700 (86%)]\tLoss: 0.268322\n"
          ]
        },
        {
          "output_type": "stream",
          "name": "stderr",
          "text": [
            "\r 29%|██▉       | 5.77272727272731/20 [00:25<00:55,  3.89s/it]"
          ]
        },
        {
          "output_type": "stream",
          "name": "stdout",
          "text": [
            "Train Epoch: 6 [650/700 (93%)]\tLoss: 0.489287\n"
          ]
        },
        {
          "output_type": "stream",
          "name": "stderr",
          "text": [
            " 30%|███       | 6.01136363636368/20 [00:26<00:47,  3.38s/it]"
          ]
        },
        {
          "output_type": "stream",
          "name": "stdout",
          "text": [
            "\n",
            "Test Epoch: 6\tAccuracy: 157/175 (90%)\n",
            "\n",
            "Train Epoch: 7 [0/700 (0%)]\tLoss: 0.214190\n"
          ]
        },
        {
          "output_type": "stream",
          "name": "stderr",
          "text": [
            " 30%|███       | 6.0795454545455/20 [00:26<01:02,  4.45s/it] "
          ]
        },
        {
          "output_type": "stream",
          "name": "stdout",
          "text": [
            "Train Epoch: 7 [50/700 (7%)]\tLoss: 0.299884\n"
          ]
        },
        {
          "output_type": "stream",
          "name": "stderr",
          "text": [
            " 31%|███       | 6.159090909090957/20 [00:27<01:13,  5.28s/it]"
          ]
        },
        {
          "output_type": "stream",
          "name": "stdout",
          "text": [
            "Train Epoch: 7 [100/700 (14%)]\tLoss: 0.169437\n"
          ]
        },
        {
          "output_type": "stream",
          "name": "stderr",
          "text": [
            " 31%|███       | 6.204545454545504/20 [00:27<01:12,  5.28s/it] "
          ]
        },
        {
          "output_type": "stream",
          "name": "stdout",
          "text": [
            "Train Epoch: 7 [150/700 (21%)]\tLoss: 0.456556\n"
          ]
        },
        {
          "output_type": "stream",
          "name": "stderr",
          "text": [
            " 31%|███▏      | 6.272727272727324/20 [00:27<01:13,  5.32s/it]"
          ]
        },
        {
          "output_type": "stream",
          "name": "stdout",
          "text": [
            "Train Epoch: 7 [200/700 (29%)]\tLoss: 2.109721\n"
          ]
        },
        {
          "output_type": "stream",
          "name": "stderr",
          "text": [
            " 32%|███▏      | 6.318181818181871/20 [00:27<01:17,  5.68s/it]"
          ]
        },
        {
          "output_type": "stream",
          "name": "stdout",
          "text": [
            "Train Epoch: 7 [250/700 (36%)]\tLoss: 0.888526\n"
          ]
        },
        {
          "output_type": "stream",
          "name": "stderr",
          "text": [
            " 32%|███▏      | 6.386363636363691/20 [00:28<01:18,  5.76s/it] "
          ]
        },
        {
          "output_type": "stream",
          "name": "stdout",
          "text": [
            "Train Epoch: 7 [300/700 (43%)]\tLoss: 0.492912\n"
          ]
        },
        {
          "output_type": "stream",
          "name": "stderr",
          "text": [
            " 32%|███▏      | 6.431818181818238/20 [00:28<01:17,  5.69s/it]"
          ]
        },
        {
          "output_type": "stream",
          "name": "stdout",
          "text": [
            "Train Epoch: 7 [350/700 (50%)]\tLoss: 0.356584\n"
          ]
        },
        {
          "output_type": "stream",
          "name": "stderr",
          "text": [
            " 32%|███▏      | 6.477272727272784/20 [00:28<01:19,  5.88s/it]"
          ]
        },
        {
          "output_type": "stream",
          "name": "stdout",
          "text": [
            "Train Epoch: 7 [400/700 (57%)]\tLoss: 0.940420\n"
          ]
        },
        {
          "output_type": "stream",
          "name": "stderr",
          "text": [
            " 33%|███▎      | 6.556818181818241/20 [00:29<01:06,  4.91s/it]"
          ]
        },
        {
          "output_type": "stream",
          "name": "stdout",
          "text": [
            "Train Epoch: 7 [450/700 (64%)]\tLoss: 0.547900\n"
          ]
        },
        {
          "output_type": "stream",
          "name": "stderr",
          "text": [
            " 33%|███▎      | 6.625000000000061/20 [00:29<00:56,  4.20s/it]"
          ]
        },
        {
          "output_type": "stream",
          "name": "stdout",
          "text": [
            "Train Epoch: 7 [500/700 (71%)]\tLoss: 0.615990\n"
          ]
        },
        {
          "output_type": "stream",
          "name": "stderr",
          "text": [
            "\r 33%|███▎      | 6.659090909090971/20 [00:29<00:56,  4.27s/it]"
          ]
        },
        {
          "output_type": "stream",
          "name": "stdout",
          "text": [
            "Train Epoch: 7 [550/700 (79%)]\tLoss: 0.474911\n"
          ]
        },
        {
          "output_type": "stream",
          "name": "stderr",
          "text": [
            " 34%|███▎      | 6.7272727272727915/20 [00:29<00:56,  4.23s/it]"
          ]
        },
        {
          "output_type": "stream",
          "name": "stdout",
          "text": [
            "Train Epoch: 7 [600/700 (86%)]\tLoss: 0.507873\n"
          ]
        },
        {
          "output_type": "stream",
          "name": "stderr",
          "text": [
            " 34%|███▍      | 6.795454545454612/20 [00:30<00:53,  4.06s/it] "
          ]
        },
        {
          "output_type": "stream",
          "name": "stdout",
          "text": [
            "Train Epoch: 7 [650/700 (93%)]\tLoss: 0.577601\n"
          ]
        },
        {
          "output_type": "stream",
          "name": "stderr",
          "text": [
            " 35%|███▌      | 7.034090909090982/20 [00:31<00:47,  3.65s/it]"
          ]
        },
        {
          "output_type": "stream",
          "name": "stdout",
          "text": [
            "\n",
            "Test Epoch: 7\tAccuracy: 151/175 (86%)\n",
            "\n",
            "Train Epoch: 8 [0/700 (0%)]\tLoss: 0.171605\n"
          ]
        },
        {
          "output_type": "stream",
          "name": "stderr",
          "text": [
            " 36%|███▌      | 7.102272727272802/20 [00:31<00:49,  3.84s/it]"
          ]
        },
        {
          "output_type": "stream",
          "name": "stdout",
          "text": [
            "Train Epoch: 8 [50/700 (7%)]\tLoss: 0.237182\n"
          ]
        },
        {
          "output_type": "stream",
          "name": "stderr",
          "text": [
            "\r 36%|███▌      | 7.136363636363712/20 [00:31<00:49,  3.82s/it]"
          ]
        },
        {
          "output_type": "stream",
          "name": "stdout",
          "text": [
            "Train Epoch: 8 [100/700 (14%)]\tLoss: 0.236341\n"
          ]
        },
        {
          "output_type": "stream",
          "name": "stderr",
          "text": [
            " 36%|███▌      | 7.193181818181896/20 [00:32<01:20,  6.29s/it]"
          ]
        },
        {
          "output_type": "stream",
          "name": "stdout",
          "text": [
            "Train Epoch: 8 [150/700 (21%)]\tLoss: 0.381232\n"
          ]
        },
        {
          "output_type": "stream",
          "name": "stderr",
          "text": [
            " 36%|███▋      | 7.284090909090989/20 [00:32<01:04,  5.05s/it]"
          ]
        },
        {
          "output_type": "stream",
          "name": "stdout",
          "text": [
            "Train Epoch: 8 [200/700 (29%)]\tLoss: 0.461468\n"
          ]
        },
        {
          "output_type": "stream",
          "name": "stderr",
          "text": [
            "\r 37%|███▋      | 7.318181818181899/20 [00:32<01:00,  4.78s/it]"
          ]
        },
        {
          "output_type": "stream",
          "name": "stdout",
          "text": [
            "Train Epoch: 8 [250/700 (36%)]\tLoss: 0.205455\n"
          ]
        },
        {
          "output_type": "stream",
          "name": "stderr",
          "text": [
            " 37%|███▋      | 7.363636363636446/20 [00:33<01:41,  8.01s/it] "
          ]
        },
        {
          "output_type": "stream",
          "name": "stdout",
          "text": [
            "Train Epoch: 8 [300/700 (43%)]\tLoss: 0.258979\n"
          ]
        },
        {
          "output_type": "stream",
          "name": "stderr",
          "text": [
            " 37%|███▋      | 7.431818181818266/20 [00:33<01:13,  5.83s/it]"
          ]
        },
        {
          "output_type": "stream",
          "name": "stdout",
          "text": [
            "Train Epoch: 8 [350/700 (50%)]\tLoss: 0.212673\n"
          ]
        },
        {
          "output_type": "stream",
          "name": "stderr",
          "text": [
            " 38%|███▊      | 7.500000000000086/20 [00:33<00:59,  4.77s/it]"
          ]
        },
        {
          "output_type": "stream",
          "name": "stdout",
          "text": [
            "Train Epoch: 8 [400/700 (57%)]\tLoss: 0.131332\n"
          ]
        },
        {
          "output_type": "stream",
          "name": "stderr",
          "text": [
            " 38%|███▊      | 7.568181818181906/20 [00:34<00:55,  4.45s/it]"
          ]
        },
        {
          "output_type": "stream",
          "name": "stdout",
          "text": [
            "Train Epoch: 8 [450/700 (64%)]\tLoss: 0.353104\n"
          ]
        },
        {
          "output_type": "stream",
          "name": "stderr",
          "text": [
            "\r 38%|███▊      | 7.602272727272816/20 [00:34<00:54,  4.38s/it]"
          ]
        },
        {
          "output_type": "stream",
          "name": "stdout",
          "text": [
            "Train Epoch: 8 [500/700 (71%)]\tLoss: 0.454774\n"
          ]
        },
        {
          "output_type": "stream",
          "name": "stderr",
          "text": [
            " 38%|███▊      | 7.6704545454546365/20 [00:34<00:50,  4.10s/it]"
          ]
        },
        {
          "output_type": "stream",
          "name": "stdout",
          "text": [
            "Train Epoch: 8 [550/700 (79%)]\tLoss: 0.439271\n"
          ]
        },
        {
          "output_type": "stream",
          "name": "stderr",
          "text": [
            " 39%|███▊      | 7.738636363636457/20 [00:34<00:47,  3.88s/it] "
          ]
        },
        {
          "output_type": "stream",
          "name": "stdout",
          "text": [
            "Train Epoch: 8 [600/700 (86%)]\tLoss: 0.401395\n"
          ]
        },
        {
          "output_type": "stream",
          "name": "stderr",
          "text": [
            "\r 39%|███▉      | 7.772727272727367/20 [00:34<00:48,  3.94s/it]"
          ]
        },
        {
          "output_type": "stream",
          "name": "stdout",
          "text": [
            "Train Epoch: 8 [650/700 (93%)]\tLoss: 0.443408\n"
          ]
        },
        {
          "output_type": "stream",
          "name": "stderr",
          "text": [
            " 40%|████      | 8.045454545454646/20 [00:35<00:41,  3.48s/it]"
          ]
        },
        {
          "output_type": "stream",
          "name": "stdout",
          "text": [
            "\n",
            "Test Epoch: 8\tAccuracy: 108/175 (62%)\n",
            "\n",
            "Train Epoch: 9 [0/700 (0%)]\tLoss: 0.579924\n"
          ]
        },
        {
          "output_type": "stream",
          "name": "stderr",
          "text": [
            " 41%|████      | 8.113636363636466/20 [00:36<00:45,  3.85s/it]"
          ]
        },
        {
          "output_type": "stream",
          "name": "stdout",
          "text": [
            "Train Epoch: 9 [50/700 (7%)]\tLoss: 0.096463\n"
          ]
        },
        {
          "output_type": "stream",
          "name": "stderr",
          "text": [
            "\r 41%|████      | 8.147727272727376/20 [00:36<00:45,  3.82s/it]"
          ]
        },
        {
          "output_type": "stream",
          "name": "stdout",
          "text": [
            "Train Epoch: 9 [100/700 (14%)]\tLoss: 0.410852\n"
          ]
        },
        {
          "output_type": "stream",
          "name": "stderr",
          "text": [
            " 41%|████      | 8.215909090909197/20 [00:36<00:45,  3.87s/it]"
          ]
        },
        {
          "output_type": "stream",
          "name": "stdout",
          "text": [
            "Train Epoch: 9 [150/700 (21%)]\tLoss: 0.219907\n"
          ]
        },
        {
          "output_type": "stream",
          "name": "stderr",
          "text": [
            " 41%|████▏     | 8.284090909091017/20 [00:36<00:44,  3.81s/it]"
          ]
        },
        {
          "output_type": "stream",
          "name": "stdout",
          "text": [
            "Train Epoch: 9 [200/700 (29%)]\tLoss: 0.175920\n"
          ]
        },
        {
          "output_type": "stream",
          "name": "stderr",
          "text": [
            "\r 42%|████▏     | 8.318181818181927/20 [00:36<00:45,  3.88s/it]"
          ]
        },
        {
          "output_type": "stream",
          "name": "stdout",
          "text": [
            "Train Epoch: 9 [250/700 (36%)]\tLoss: 0.498631\n"
          ]
        },
        {
          "output_type": "stream",
          "name": "stderr",
          "text": [
            " 42%|████▏     | 8.386363636363747/20 [00:37<00:47,  4.08s/it]"
          ]
        },
        {
          "output_type": "stream",
          "name": "stdout",
          "text": [
            "Train Epoch: 9 [300/700 (43%)]\tLoss: 0.389914\n"
          ]
        },
        {
          "output_type": "stream",
          "name": "stderr",
          "text": [
            " 42%|████▏     | 8.454545454545567/20 [00:37<00:45,  3.93s/it]"
          ]
        },
        {
          "output_type": "stream",
          "name": "stdout",
          "text": [
            "Train Epoch: 9 [350/700 (50%)]\tLoss: 1.178633\n"
          ]
        },
        {
          "output_type": "stream",
          "name": "stderr",
          "text": [
            "\r 42%|████▏     | 8.488636363636477/20 [00:37<00:44,  3.90s/it]"
          ]
        },
        {
          "output_type": "stream",
          "name": "stdout",
          "text": [
            "Train Epoch: 9 [400/700 (57%)]\tLoss: 0.278361\n"
          ]
        },
        {
          "output_type": "stream",
          "name": "stderr",
          "text": [
            " 43%|████▎     | 8.556818181818297/20 [00:37<00:47,  4.13s/it]"
          ]
        },
        {
          "output_type": "stream",
          "name": "stdout",
          "text": [
            "Train Epoch: 9 [450/700 (64%)]\tLoss: 0.166588\n"
          ]
        },
        {
          "output_type": "stream",
          "name": "stderr",
          "text": [
            " 43%|████▎     | 8.625000000000117/20 [00:38<00:48,  4.24s/it]"
          ]
        },
        {
          "output_type": "stream",
          "name": "stdout",
          "text": [
            "Train Epoch: 9 [500/700 (71%)]\tLoss: 0.170352\n"
          ]
        },
        {
          "output_type": "stream",
          "name": "stderr",
          "text": [
            "\r 43%|████▎     | 8.659090909091027/20 [00:38<00:47,  4.23s/it]"
          ]
        },
        {
          "output_type": "stream",
          "name": "stdout",
          "text": [
            "Train Epoch: 9 [550/700 (79%)]\tLoss: 0.355748\n"
          ]
        },
        {
          "output_type": "stream",
          "name": "stderr",
          "text": [
            " 44%|████▎     | 8.727272727272847/20 [00:38<00:44,  3.95s/it]"
          ]
        },
        {
          "output_type": "stream",
          "name": "stdout",
          "text": [
            "Train Epoch: 9 [600/700 (86%)]\tLoss: 0.190080\n"
          ]
        },
        {
          "output_type": "stream",
          "name": "stderr",
          "text": [
            " 44%|████▍     | 8.795454545454668/20 [00:38<00:43,  3.90s/it]"
          ]
        },
        {
          "output_type": "stream",
          "name": "stdout",
          "text": [
            "Train Epoch: 9 [650/700 (93%)]\tLoss: 0.420934\n"
          ]
        },
        {
          "output_type": "stream",
          "name": "stderr",
          "text": [
            " 45%|████▌     | 9.011363636363765/20 [00:39<00:49,  4.49s/it]"
          ]
        },
        {
          "output_type": "stream",
          "name": "stdout",
          "text": [
            "\n",
            "Test Epoch: 9\tAccuracy: 162/175 (93%)\n",
            "\n",
            "Train Epoch: 10 [0/700 (0%)]\tLoss: 0.163134\n"
          ]
        },
        {
          "output_type": "stream",
          "name": "stderr",
          "text": [
            " 45%|████▌     | 9.079545454545585/20 [00:40<00:58,  5.40s/it]"
          ]
        },
        {
          "output_type": "stream",
          "name": "stdout",
          "text": [
            "Train Epoch: 10 [50/700 (7%)]\tLoss: 0.485189\n"
          ]
        },
        {
          "output_type": "stream",
          "name": "stderr",
          "text": [
            " 46%|████▌     | 9.147727272727405/20 [00:40<01:00,  5.57s/it]"
          ]
        },
        {
          "output_type": "stream",
          "name": "stdout",
          "text": [
            "Train Epoch: 10 [100/700 (14%)]\tLoss: 0.605750\n"
          ]
        },
        {
          "output_type": "stream",
          "name": "stderr",
          "text": [
            " 46%|████▌     | 9.215909090909225/20 [00:40<01:01,  5.69s/it]"
          ]
        },
        {
          "output_type": "stream",
          "name": "stdout",
          "text": [
            "Train Epoch: 10 [150/700 (21%)]\tLoss: 0.225816\n"
          ]
        },
        {
          "output_type": "stream",
          "name": "stderr",
          "text": [
            " 46%|████▋     | 9.261363636363772/20 [00:41<01:01,  5.74s/it]"
          ]
        },
        {
          "output_type": "stream",
          "name": "stdout",
          "text": [
            "Train Epoch: 10 [200/700 (29%)]\tLoss: 0.400775\n"
          ]
        },
        {
          "output_type": "stream",
          "name": "stderr",
          "text": [
            " 47%|████▋     | 9.329545454545592/20 [00:41<01:00,  5.66s/it]"
          ]
        },
        {
          "output_type": "stream",
          "name": "stdout",
          "text": [
            "Train Epoch: 10 [250/700 (36%)]\tLoss: 0.295558\n"
          ]
        },
        {
          "output_type": "stream",
          "name": "stderr",
          "text": [
            " 47%|████▋     | 9.375000000000139/20 [00:41<01:00,  5.68s/it]"
          ]
        },
        {
          "output_type": "stream",
          "name": "stdout",
          "text": [
            "Train Epoch: 10 [300/700 (43%)]\tLoss: 0.578384\n"
          ]
        },
        {
          "output_type": "stream",
          "name": "stderr",
          "text": [
            " 47%|████▋     | 9.454545454545595/20 [00:42<00:49,  4.68s/it]"
          ]
        },
        {
          "output_type": "stream",
          "name": "stdout",
          "text": [
            "Train Epoch: 10 [350/700 (50%)]\tLoss: 0.122146\n"
          ]
        },
        {
          "output_type": "stream",
          "name": "stderr",
          "text": [
            "\r 47%|████▋     | 9.488636363636505/20 [00:42<00:47,  4.50s/it]"
          ]
        },
        {
          "output_type": "stream",
          "name": "stdout",
          "text": [
            "Train Epoch: 10 [400/700 (57%)]\tLoss: 0.128571\n"
          ]
        },
        {
          "output_type": "stream",
          "name": "stderr",
          "text": [
            " 48%|████▊     | 9.556818181818326/20 [00:42<00:43,  4.12s/it]"
          ]
        },
        {
          "output_type": "stream",
          "name": "stdout",
          "text": [
            "Train Epoch: 10 [450/700 (64%)]\tLoss: 0.817947\n"
          ]
        },
        {
          "output_type": "stream",
          "name": "stderr",
          "text": [
            " 48%|████▊     | 9.625000000000146/20 [00:42<00:42,  4.06s/it]"
          ]
        },
        {
          "output_type": "stream",
          "name": "stdout",
          "text": [
            "Train Epoch: 10 [500/700 (71%)]\tLoss: 0.186662\n"
          ]
        },
        {
          "output_type": "stream",
          "name": "stderr",
          "text": [
            "\r 48%|████▊     | 9.659090909091056/20 [00:43<00:42,  4.06s/it]"
          ]
        },
        {
          "output_type": "stream",
          "name": "stdout",
          "text": [
            "Train Epoch: 10 [550/700 (79%)]\tLoss: 0.598280\n"
          ]
        },
        {
          "output_type": "stream",
          "name": "stderr",
          "text": [
            " 49%|████▊     | 9.727272727272876/20 [00:43<00:42,  4.16s/it]"
          ]
        },
        {
          "output_type": "stream",
          "name": "stdout",
          "text": [
            "Train Epoch: 10 [600/700 (86%)]\tLoss: 0.250298\n"
          ]
        },
        {
          "output_type": "stream",
          "name": "stderr",
          "text": [
            " 49%|████▉     | 9.795454545454696/20 [00:43<00:42,  4.15s/it]"
          ]
        },
        {
          "output_type": "stream",
          "name": "stdout",
          "text": [
            "Train Epoch: 10 [650/700 (93%)]\tLoss: 0.559670\n"
          ]
        },
        {
          "output_type": "stream",
          "name": "stderr",
          "text": [
            " 50%|█████     | 10.045454545454703/20 [00:44<00:36,  3.70s/it]"
          ]
        },
        {
          "output_type": "stream",
          "name": "stdout",
          "text": [
            "\n",
            "Test Epoch: 10\tAccuracy: 156/175 (89%)\n",
            "\n",
            "Train Epoch: 11 [0/700 (0%)]\tLoss: 0.150304\n"
          ]
        },
        {
          "output_type": "stream",
          "name": "stderr",
          "text": [
            " 51%|█████     | 10.113636363636523/20 [00:44<00:38,  3.89s/it]"
          ]
        },
        {
          "output_type": "stream",
          "name": "stdout",
          "text": [
            "Train Epoch: 11 [50/700 (7%)]\tLoss: 0.310481\n"
          ]
        },
        {
          "output_type": "stream",
          "name": "stderr",
          "text": [
            "\r 51%|█████     | 10.147727272727433/20 [00:44<00:38,  3.92s/it]"
          ]
        },
        {
          "output_type": "stream",
          "name": "stdout",
          "text": [
            "Train Epoch: 11 [100/700 (14%)]\tLoss: 0.098436\n"
          ]
        },
        {
          "output_type": "stream",
          "name": "stderr",
          "text": [
            " 51%|█████     | 10.215909090909253/20 [00:45<00:38,  3.95s/it]"
          ]
        },
        {
          "output_type": "stream",
          "name": "stdout",
          "text": [
            "Train Epoch: 11 [150/700 (21%)]\tLoss: 0.076880\n"
          ]
        },
        {
          "output_type": "stream",
          "name": "stderr",
          "text": [
            " 51%|█████▏    | 10.284090909091073/20 [00:45<00:39,  4.03s/it]"
          ]
        },
        {
          "output_type": "stream",
          "name": "stdout",
          "text": [
            "Train Epoch: 11 [200/700 (29%)]\tLoss: 0.249292\n"
          ]
        },
        {
          "output_type": "stream",
          "name": "stderr",
          "text": [
            "\r 52%|█████▏    | 10.318181818181984/20 [00:45<00:39,  4.07s/it]"
          ]
        },
        {
          "output_type": "stream",
          "name": "stdout",
          "text": [
            "Train Epoch: 11 [250/700 (36%)]\tLoss: 0.271868\n"
          ]
        },
        {
          "output_type": "stream",
          "name": "stderr",
          "text": [
            " 52%|█████▏    | 10.386363636363804/20 [00:45<00:38,  4.05s/it]"
          ]
        },
        {
          "output_type": "stream",
          "name": "stdout",
          "text": [
            "Train Epoch: 11 [300/700 (43%)]\tLoss: 0.155253\n"
          ]
        },
        {
          "output_type": "stream",
          "name": "stderr",
          "text": [
            " 52%|█████▏    | 10.454545454545624/20 [00:46<00:39,  4.09s/it]"
          ]
        },
        {
          "output_type": "stream",
          "name": "stdout",
          "text": [
            "Train Epoch: 11 [350/700 (50%)]\tLoss: 0.406320\n"
          ]
        },
        {
          "output_type": "stream",
          "name": "stderr",
          "text": [
            "\r 52%|█████▏    | 10.488636363636534/20 [00:46<00:38,  4.04s/it]"
          ]
        },
        {
          "output_type": "stream",
          "name": "stdout",
          "text": [
            "Train Epoch: 11 [400/700 (57%)]\tLoss: 0.032161\n"
          ]
        },
        {
          "output_type": "stream",
          "name": "stderr",
          "text": [
            " 53%|█████▎    | 10.556818181818354/20 [00:46<00:37,  3.97s/it]"
          ]
        },
        {
          "output_type": "stream",
          "name": "stdout",
          "text": [
            "Train Epoch: 11 [450/700 (64%)]\tLoss: 0.075103\n"
          ]
        },
        {
          "output_type": "stream",
          "name": "stderr",
          "text": [
            " 53%|█████▎    | 10.625000000000174/20 [00:46<00:37,  3.98s/it]"
          ]
        },
        {
          "output_type": "stream",
          "name": "stdout",
          "text": [
            "Train Epoch: 11 [500/700 (71%)]\tLoss: 0.102750\n"
          ]
        },
        {
          "output_type": "stream",
          "name": "stderr",
          "text": [
            "\r 53%|█████▎    | 10.659090909091084/20 [00:47<00:37,  3.97s/it]"
          ]
        },
        {
          "output_type": "stream",
          "name": "stdout",
          "text": [
            "Train Epoch: 11 [550/700 (79%)]\tLoss: 0.133488\n"
          ]
        },
        {
          "output_type": "stream",
          "name": "stderr",
          "text": [
            " 54%|█████▎    | 10.727272727272904/20 [00:47<00:36,  3.99s/it]"
          ]
        },
        {
          "output_type": "stream",
          "name": "stdout",
          "text": [
            "Train Epoch: 11 [600/700 (86%)]\tLoss: 0.271736\n"
          ]
        },
        {
          "output_type": "stream",
          "name": "stderr",
          "text": [
            " 54%|█████▍    | 10.795454545454724/20 [00:47<00:36,  3.96s/it]"
          ]
        },
        {
          "output_type": "stream",
          "name": "stdout",
          "text": [
            "Train Epoch: 11 [650/700 (93%)]\tLoss: 0.918843\n"
          ]
        },
        {
          "output_type": "stream",
          "name": "stderr",
          "text": [
            " 55%|█████▌    | 11.045454545454731/20 [00:48<00:31,  3.50s/it]"
          ]
        },
        {
          "output_type": "stream",
          "name": "stdout",
          "text": [
            "\n",
            "Test Epoch: 11\tAccuracy: 161/175 (92%)\n",
            "\n",
            "Train Epoch: 12 [0/700 (0%)]\tLoss: 0.180911\n"
          ]
        },
        {
          "output_type": "stream",
          "name": "stderr",
          "text": [
            " 56%|█████▌    | 11.113636363636552/20 [00:48<00:34,  3.92s/it]"
          ]
        },
        {
          "output_type": "stream",
          "name": "stdout",
          "text": [
            "Train Epoch: 12 [50/700 (7%)]\tLoss: 0.182402\n"
          ]
        },
        {
          "output_type": "stream",
          "name": "stderr",
          "text": [
            "\r 56%|█████▌    | 11.147727272727462/20 [00:48<00:34,  3.92s/it]"
          ]
        },
        {
          "output_type": "stream",
          "name": "stdout",
          "text": [
            "Train Epoch: 12 [100/700 (14%)]\tLoss: 0.152705\n"
          ]
        },
        {
          "output_type": "stream",
          "name": "stderr",
          "text": [
            " 56%|█████▌    | 11.215909090909282/20 [00:49<00:35,  4.00s/it]"
          ]
        },
        {
          "output_type": "stream",
          "name": "stdout",
          "text": [
            "Train Epoch: 12 [150/700 (21%)]\tLoss: 0.016707\n"
          ]
        },
        {
          "output_type": "stream",
          "name": "stderr",
          "text": [
            " 56%|█████▋    | 11.284090909091102/20 [00:49<00:34,  3.91s/it]"
          ]
        },
        {
          "output_type": "stream",
          "name": "stdout",
          "text": [
            "Train Epoch: 12 [200/700 (29%)]\tLoss: 0.128798\n"
          ]
        },
        {
          "output_type": "stream",
          "name": "stderr",
          "text": [
            "\r 57%|█████▋    | 11.318181818182012/20 [00:49<00:33,  3.87s/it]"
          ]
        },
        {
          "output_type": "stream",
          "name": "stdout",
          "text": [
            "Train Epoch: 12 [250/700 (36%)]\tLoss: 0.115637\n"
          ]
        },
        {
          "output_type": "stream",
          "name": "stderr",
          "text": [
            " 57%|█████▋    | 11.386363636363832/20 [00:49<00:33,  3.87s/it]"
          ]
        },
        {
          "output_type": "stream",
          "name": "stdout",
          "text": [
            "Train Epoch: 12 [300/700 (43%)]\tLoss: 0.151277\n"
          ]
        },
        {
          "output_type": "stream",
          "name": "stderr",
          "text": [
            " 57%|█████▋    | 11.454545454545652/20 [00:50<00:34,  4.00s/it]"
          ]
        },
        {
          "output_type": "stream",
          "name": "stdout",
          "text": [
            "Train Epoch: 12 [350/700 (50%)]\tLoss: 0.067611\n"
          ]
        },
        {
          "output_type": "stream",
          "name": "stderr",
          "text": [
            "\r 57%|█████▋    | 11.488636363636562/20 [00:50<00:33,  3.98s/it]"
          ]
        },
        {
          "output_type": "stream",
          "name": "stdout",
          "text": [
            "Train Epoch: 12 [400/700 (57%)]\tLoss: 0.052308\n"
          ]
        },
        {
          "output_type": "stream",
          "name": "stderr",
          "text": [
            " 58%|█████▊    | 11.556818181818382/20 [00:50<00:33,  3.92s/it]"
          ]
        },
        {
          "output_type": "stream",
          "name": "stdout",
          "text": [
            "Train Epoch: 12 [450/700 (64%)]\tLoss: 0.142509\n"
          ]
        },
        {
          "output_type": "stream",
          "name": "stderr",
          "text": [
            " 58%|█████▊    | 11.625000000000203/20 [00:50<00:32,  3.91s/it]"
          ]
        },
        {
          "output_type": "stream",
          "name": "stdout",
          "text": [
            "Train Epoch: 12 [500/700 (71%)]\tLoss: 0.113606\n"
          ]
        },
        {
          "output_type": "stream",
          "name": "stderr",
          "text": [
            "\r 58%|█████▊    | 11.659090909091113/20 [00:50<00:32,  3.94s/it]"
          ]
        },
        {
          "output_type": "stream",
          "name": "stdout",
          "text": [
            "Train Epoch: 12 [550/700 (79%)]\tLoss: 0.028329\n"
          ]
        },
        {
          "output_type": "stream",
          "name": "stderr",
          "text": [
            " 59%|█████▊    | 11.727272727272933/20 [00:51<00:32,  3.96s/it]"
          ]
        },
        {
          "output_type": "stream",
          "name": "stdout",
          "text": [
            "Train Epoch: 12 [600/700 (86%)]\tLoss: 0.085117\n"
          ]
        },
        {
          "output_type": "stream",
          "name": "stderr",
          "text": [
            " 59%|█████▉    | 11.795454545454753/20 [00:51<00:32,  3.91s/it]"
          ]
        },
        {
          "output_type": "stream",
          "name": "stdout",
          "text": [
            "Train Epoch: 12 [650/700 (93%)]\tLoss: 0.233478\n"
          ]
        },
        {
          "output_type": "stream",
          "name": "stderr",
          "text": [
            " 60%|██████    | 12.034090909091123/20 [00:52<00:34,  4.31s/it]"
          ]
        },
        {
          "output_type": "stream",
          "name": "stdout",
          "text": [
            "\n",
            "Test Epoch: 12\tAccuracy: 163/175 (93%)\n",
            "\n",
            "Train Epoch: 13 [0/700 (0%)]\tLoss: 0.220204\n"
          ]
        },
        {
          "output_type": "stream",
          "name": "stderr",
          "text": [
            " 60%|██████    | 12.090909090909307/20 [00:52<00:37,  4.79s/it]"
          ]
        },
        {
          "output_type": "stream",
          "name": "stdout",
          "text": [
            "Train Epoch: 13 [50/700 (7%)]\tLoss: 0.207235\n"
          ]
        },
        {
          "output_type": "stream",
          "name": "stderr",
          "text": [
            " 61%|██████    | 12.159090909091127/20 [00:53<00:40,  5.20s/it]"
          ]
        },
        {
          "output_type": "stream",
          "name": "stdout",
          "text": [
            "Train Epoch: 13 [100/700 (14%)]\tLoss: 0.104511\n"
          ]
        },
        {
          "output_type": "stream",
          "name": "stderr",
          "text": [
            " 61%|██████    | 12.204545454545674/20 [00:53<00:41,  5.34s/it]"
          ]
        },
        {
          "output_type": "stream",
          "name": "stdout",
          "text": [
            "Train Epoch: 13 [150/700 (21%)]\tLoss: 0.216540\n"
          ]
        },
        {
          "output_type": "stream",
          "name": "stderr",
          "text": [
            " 61%|██████▏   | 12.272727272727494/20 [00:53<00:42,  5.55s/it]"
          ]
        },
        {
          "output_type": "stream",
          "name": "stdout",
          "text": [
            "Train Epoch: 13 [200/700 (29%)]\tLoss: 0.085025\n"
          ]
        },
        {
          "output_type": "stream",
          "name": "stderr",
          "text": [
            " 62%|██████▏   | 12.31818181818204/20 [00:53<00:43,  5.63s/it] "
          ]
        },
        {
          "output_type": "stream",
          "name": "stdout",
          "text": [
            "Train Epoch: 13 [250/700 (36%)]\tLoss: 0.106884\n"
          ]
        },
        {
          "output_type": "stream",
          "name": "stderr",
          "text": [
            " 62%|██████▏   | 12.38636363636386/20 [00:54<00:43,  5.70s/it] "
          ]
        },
        {
          "output_type": "stream",
          "name": "stdout",
          "text": [
            "Train Epoch: 13 [300/700 (43%)]\tLoss: 0.004513\n"
          ]
        },
        {
          "output_type": "stream",
          "name": "stderr",
          "text": [
            " 62%|██████▏   | 12.431818181818407/20 [00:54<00:43,  5.78s/it]"
          ]
        },
        {
          "output_type": "stream",
          "name": "stdout",
          "text": [
            "Train Epoch: 13 [350/700 (50%)]\tLoss: 0.118271\n"
          ]
        },
        {
          "output_type": "stream",
          "name": "stderr",
          "text": [
            " 63%|██████▎   | 12.511363636363864/20 [00:55<00:37,  4.98s/it]"
          ]
        },
        {
          "output_type": "stream",
          "name": "stdout",
          "text": [
            "Train Epoch: 13 [400/700 (57%)]\tLoss: 0.031347\n"
          ]
        },
        {
          "output_type": "stream",
          "name": "stderr",
          "text": [
            "\r 63%|██████▎   | 12.545454545454774/20 [00:55<00:34,  4.65s/it]"
          ]
        },
        {
          "output_type": "stream",
          "name": "stdout",
          "text": [
            "Train Epoch: 13 [450/700 (64%)]\tLoss: 0.143867\n"
          ]
        },
        {
          "output_type": "stream",
          "name": "stderr",
          "text": [
            " 63%|██████▎   | 12.613636363636594/20 [00:55<00:31,  4.29s/it]"
          ]
        },
        {
          "output_type": "stream",
          "name": "stdout",
          "text": [
            "Train Epoch: 13 [500/700 (71%)]\tLoss: 0.025461\n"
          ]
        },
        {
          "output_type": "stream",
          "name": "stderr",
          "text": [
            " 63%|██████▎   | 12.681818181818414/20 [00:55<00:29,  4.08s/it]"
          ]
        },
        {
          "output_type": "stream",
          "name": "stdout",
          "text": [
            "Train Epoch: 13 [550/700 (79%)]\tLoss: 0.304162\n"
          ]
        },
        {
          "output_type": "stream",
          "name": "stderr",
          "text": [
            "\r 64%|██████▎   | 12.715909090909324/20 [00:55<00:30,  4.17s/it]"
          ]
        },
        {
          "output_type": "stream",
          "name": "stdout",
          "text": [
            "Train Epoch: 13 [600/700 (86%)]\tLoss: 0.095312\n"
          ]
        },
        {
          "output_type": "stream",
          "name": "stderr",
          "text": [
            " 64%|██████▍   | 12.784090909091145/20 [00:56<00:29,  4.13s/it]"
          ]
        },
        {
          "output_type": "stream",
          "name": "stdout",
          "text": [
            "Train Epoch: 13 [650/700 (93%)]\tLoss: 0.377603\n"
          ]
        },
        {
          "output_type": "stream",
          "name": "stderr",
          "text": [
            " 65%|██████▌   | 13.022727272727515/20 [00:56<00:25,  3.61s/it]"
          ]
        },
        {
          "output_type": "stream",
          "name": "stdout",
          "text": [
            "\n",
            "Test Epoch: 13\tAccuracy: 158/175 (90%)\n",
            "\n",
            "Train Epoch: 14 [0/700 (0%)]\tLoss: 0.189554\n"
          ]
        },
        {
          "output_type": "stream",
          "name": "stderr",
          "text": [
            " 65%|██████▌   | 13.090909090909335/20 [00:57<00:26,  3.78s/it]"
          ]
        },
        {
          "output_type": "stream",
          "name": "stdout",
          "text": [
            "Train Epoch: 14 [50/700 (7%)]\tLoss: 0.112390\n"
          ]
        },
        {
          "output_type": "stream",
          "name": "stderr",
          "text": [
            " 66%|██████▌   | 13.159090909091155/20 [00:57<00:26,  3.85s/it]"
          ]
        },
        {
          "output_type": "stream",
          "name": "stdout",
          "text": [
            "Train Epoch: 14 [100/700 (14%)]\tLoss: 0.659230\n"
          ]
        },
        {
          "output_type": "stream",
          "name": "stderr",
          "text": [
            " 66%|██████▌   | 13.227272727272975/20 [00:57<00:25,  3.83s/it]"
          ]
        },
        {
          "output_type": "stream",
          "name": "stdout",
          "text": [
            "Train Epoch: 14 [150/700 (21%)]\tLoss: 0.066952\n"
          ]
        },
        {
          "output_type": "stream",
          "name": "stderr",
          "text": [
            "\r 66%|██████▋   | 13.261363636363885/20 [00:57<00:26,  3.98s/it]"
          ]
        },
        {
          "output_type": "stream",
          "name": "stdout",
          "text": [
            "Train Epoch: 14 [200/700 (29%)]\tLoss: 0.066317\n"
          ]
        },
        {
          "output_type": "stream",
          "name": "stderr",
          "text": [
            " 67%|██████▋   | 13.329545454545705/20 [00:58<00:27,  4.16s/it]"
          ]
        },
        {
          "output_type": "stream",
          "name": "stdout",
          "text": [
            "Train Epoch: 14 [250/700 (36%)]\tLoss: 0.119907\n"
          ]
        },
        {
          "output_type": "stream",
          "name": "stderr",
          "text": [
            " 67%|██████▋   | 13.397727272727526/20 [00:58<00:26,  4.03s/it]"
          ]
        },
        {
          "output_type": "stream",
          "name": "stdout",
          "text": [
            "Train Epoch: 14 [300/700 (43%)]\tLoss: 0.048569\n"
          ]
        },
        {
          "output_type": "stream",
          "name": "stderr",
          "text": [
            "\r 67%|██████▋   | 13.431818181818436/20 [00:58<00:26,  4.07s/it]"
          ]
        },
        {
          "output_type": "stream",
          "name": "stdout",
          "text": [
            "Train Epoch: 14 [350/700 (50%)]\tLoss: 0.047657\n"
          ]
        },
        {
          "output_type": "stream",
          "name": "stderr",
          "text": [
            " 68%|██████▊   | 13.500000000000256/20 [00:58<00:26,  4.13s/it]"
          ]
        },
        {
          "output_type": "stream",
          "name": "stdout",
          "text": [
            "Train Epoch: 14 [400/700 (57%)]\tLoss: 0.170652\n"
          ]
        },
        {
          "output_type": "stream",
          "name": "stderr",
          "text": [
            " 68%|██████▊   | 13.568181818182076/20 [00:59<00:26,  4.08s/it]"
          ]
        },
        {
          "output_type": "stream",
          "name": "stdout",
          "text": [
            "Train Epoch: 14 [450/700 (64%)]\tLoss: 0.023403\n"
          ]
        },
        {
          "output_type": "stream",
          "name": "stderr",
          "text": [
            "\r 68%|██████▊   | 13.602272727272986/20 [00:59<00:25,  3.98s/it]"
          ]
        },
        {
          "output_type": "stream",
          "name": "stdout",
          "text": [
            "Train Epoch: 14 [500/700 (71%)]\tLoss: 0.029261\n"
          ]
        },
        {
          "output_type": "stream",
          "name": "stderr",
          "text": [
            " 68%|██████▊   | 13.670454545454806/20 [00:59<00:24,  3.90s/it]"
          ]
        },
        {
          "output_type": "stream",
          "name": "stdout",
          "text": [
            "Train Epoch: 14 [550/700 (79%)]\tLoss: 0.520360\n"
          ]
        },
        {
          "output_type": "stream",
          "name": "stderr",
          "text": [
            " 69%|██████▊   | 13.738636363636626/20 [00:59<00:26,  4.18s/it]"
          ]
        },
        {
          "output_type": "stream",
          "name": "stdout",
          "text": [
            "Train Epoch: 14 [600/700 (86%)]\tLoss: 0.146860\n"
          ]
        },
        {
          "output_type": "stream",
          "name": "stderr",
          "text": [
            "\r 69%|██████▉   | 13.772727272727536/20 [01:00<00:27,  4.35s/it]"
          ]
        },
        {
          "output_type": "stream",
          "name": "stdout",
          "text": [
            "Train Epoch: 14 [650/700 (93%)]\tLoss: 0.047212\n"
          ]
        },
        {
          "output_type": "stream",
          "name": "stderr",
          "text": [
            " 70%|███████   | 14.045454545454817/20 [01:01<00:21,  3.60s/it]"
          ]
        },
        {
          "output_type": "stream",
          "name": "stdout",
          "text": [
            "\n",
            "Test Epoch: 14\tAccuracy: 162/175 (93%)\n",
            "\n",
            "Train Epoch: 15 [0/700 (0%)]\tLoss: 0.081441\n"
          ]
        },
        {
          "output_type": "stream",
          "name": "stderr",
          "text": [
            " 71%|███████   | 14.113636363636637/20 [01:01<00:22,  3.77s/it]"
          ]
        },
        {
          "output_type": "stream",
          "name": "stdout",
          "text": [
            "Train Epoch: 15 [50/700 (7%)]\tLoss: 0.181605\n"
          ]
        },
        {
          "output_type": "stream",
          "name": "stderr",
          "text": [
            "\r 71%|███████   | 14.147727272727547/20 [01:01<00:22,  3.81s/it]"
          ]
        },
        {
          "output_type": "stream",
          "name": "stdout",
          "text": [
            "Train Epoch: 15 [100/700 (14%)]\tLoss: 0.005649\n"
          ]
        },
        {
          "output_type": "stream",
          "name": "stderr",
          "text": [
            " 71%|███████   | 14.215909090909367/20 [01:01<00:22,  3.81s/it]"
          ]
        },
        {
          "output_type": "stream",
          "name": "stdout",
          "text": [
            "Train Epoch: 15 [150/700 (21%)]\tLoss: 0.151553\n"
          ]
        },
        {
          "output_type": "stream",
          "name": "stderr",
          "text": [
            " 71%|███████▏  | 14.284090909091187/20 [01:01<00:22,  3.87s/it]"
          ]
        },
        {
          "output_type": "stream",
          "name": "stdout",
          "text": [
            "Train Epoch: 15 [200/700 (29%)]\tLoss: 0.835677\n"
          ]
        },
        {
          "output_type": "stream",
          "name": "stderr",
          "text": [
            "\r 72%|███████▏  | 14.318181818182097/20 [01:02<00:22,  4.04s/it]"
          ]
        },
        {
          "output_type": "stream",
          "name": "stdout",
          "text": [
            "Train Epoch: 15 [250/700 (36%)]\tLoss: 0.283872\n"
          ]
        },
        {
          "output_type": "stream",
          "name": "stderr",
          "text": [
            " 72%|███████▏  | 14.386363636363917/20 [01:02<00:21,  3.89s/it]"
          ]
        },
        {
          "output_type": "stream",
          "name": "stdout",
          "text": [
            "Train Epoch: 15 [300/700 (43%)]\tLoss: 0.075138\n"
          ]
        },
        {
          "output_type": "stream",
          "name": "stderr",
          "text": [
            " 72%|███████▏  | 14.454545454545737/20 [01:02<00:21,  3.85s/it]"
          ]
        },
        {
          "output_type": "stream",
          "name": "stdout",
          "text": [
            "Train Epoch: 15 [350/700 (50%)]\tLoss: 0.221046\n"
          ]
        },
        {
          "output_type": "stream",
          "name": "stderr",
          "text": [
            "\r 72%|███████▏  | 14.488636363636648/20 [01:02<00:21,  3.91s/it]"
          ]
        },
        {
          "output_type": "stream",
          "name": "stdout",
          "text": [
            "Train Epoch: 15 [400/700 (57%)]\tLoss: 0.087762\n"
          ]
        },
        {
          "output_type": "stream",
          "name": "stderr",
          "text": [
            " 73%|███████▎  | 14.556818181818468/20 [01:03<00:21,  3.98s/it]"
          ]
        },
        {
          "output_type": "stream",
          "name": "stdout",
          "text": [
            "Train Epoch: 15 [450/700 (64%)]\tLoss: 0.306159\n"
          ]
        },
        {
          "output_type": "stream",
          "name": "stderr",
          "text": [
            " 73%|███████▎  | 14.625000000000288/20 [01:03<00:21,  4.02s/it]"
          ]
        },
        {
          "output_type": "stream",
          "name": "stdout",
          "text": [
            "Train Epoch: 15 [500/700 (71%)]\tLoss: 0.182946\n"
          ]
        },
        {
          "output_type": "stream",
          "name": "stderr",
          "text": [
            "\r 73%|███████▎  | 14.659090909091198/20 [01:03<00:21,  3.99s/it]"
          ]
        },
        {
          "output_type": "stream",
          "name": "stdout",
          "text": [
            "Train Epoch: 15 [550/700 (79%)]\tLoss: 0.263441\n"
          ]
        },
        {
          "output_type": "stream",
          "name": "stderr",
          "text": [
            " 74%|███████▎  | 14.727272727273018/20 [01:03<00:20,  3.84s/it]"
          ]
        },
        {
          "output_type": "stream",
          "name": "stdout",
          "text": [
            "Train Epoch: 15 [600/700 (86%)]\tLoss: 0.219303\n"
          ]
        },
        {
          "output_type": "stream",
          "name": "stderr",
          "text": [
            " 74%|███████▍  | 14.795454545454838/20 [01:03<00:19,  3.84s/it]"
          ]
        },
        {
          "output_type": "stream",
          "name": "stdout",
          "text": [
            "Train Epoch: 15 [650/700 (93%)]\tLoss: 0.064650\n"
          ]
        },
        {
          "output_type": "stream",
          "name": "stderr",
          "text": [
            " 75%|███████▌  | 15.045454545454845/20 [01:04<00:17,  3.50s/it]"
          ]
        },
        {
          "output_type": "stream",
          "name": "stdout",
          "text": [
            "\n",
            "Test Epoch: 15\tAccuracy: 161/175 (92%)\n",
            "\n",
            "Train Epoch: 16 [0/700 (0%)]\tLoss: 0.001486\n"
          ]
        },
        {
          "output_type": "stream",
          "name": "stderr",
          "text": [
            "\r 75%|███████▌  | 15.079545454545755/20 [01:05<00:20,  4.09s/it]"
          ]
        },
        {
          "output_type": "stream",
          "name": "stdout",
          "text": [
            "Train Epoch: 16 [50/700 (7%)]\tLoss: 0.225093\n"
          ]
        },
        {
          "output_type": "stream",
          "name": "stderr",
          "text": [
            " 76%|███████▌  | 15.147727272727575/20 [01:05<00:23,  4.94s/it]"
          ]
        },
        {
          "output_type": "stream",
          "name": "stdout",
          "text": [
            "Train Epoch: 16 [100/700 (14%)]\tLoss: 0.054471\n"
          ]
        },
        {
          "output_type": "stream",
          "name": "stderr",
          "text": [
            " 76%|███████▌  | 15.215909090909395/20 [01:05<00:24,  5.18s/it]"
          ]
        },
        {
          "output_type": "stream",
          "name": "stdout",
          "text": [
            "Train Epoch: 16 [150/700 (21%)]\tLoss: 0.057191\n"
          ]
        },
        {
          "output_type": "stream",
          "name": "stderr",
          "text": [
            " 76%|███████▋  | 15.261363636363942/20 [01:06<00:25,  5.34s/it]"
          ]
        },
        {
          "output_type": "stream",
          "name": "stdout",
          "text": [
            "Train Epoch: 16 [200/700 (29%)]\tLoss: 0.146788\n"
          ]
        },
        {
          "output_type": "stream",
          "name": "stderr",
          "text": [
            " 77%|███████▋  | 15.329545454545762/20 [01:06<00:26,  5.61s/it]"
          ]
        },
        {
          "output_type": "stream",
          "name": "stdout",
          "text": [
            "Train Epoch: 16 [250/700 (36%)]\tLoss: 0.002141\n"
          ]
        },
        {
          "output_type": "stream",
          "name": "stderr",
          "text": [
            " 77%|███████▋  | 15.375000000000309/20 [01:06<00:26,  5.69s/it]"
          ]
        },
        {
          "output_type": "stream",
          "name": "stdout",
          "text": [
            "Train Epoch: 16 [300/700 (43%)]\tLoss: 0.164154\n"
          ]
        },
        {
          "output_type": "stream",
          "name": "stderr",
          "text": [
            " 77%|███████▋  | 15.420454545454856/20 [01:06<00:26,  5.75s/it]"
          ]
        },
        {
          "output_type": "stream",
          "name": "stdout",
          "text": [
            "Train Epoch: 16 [350/700 (50%)]\tLoss: 0.038748\n"
          ]
        },
        {
          "output_type": "stream",
          "name": "stderr",
          "text": [
            " 77%|███████▋  | 15.488636363636676/20 [01:07<00:29,  6.56s/it]"
          ]
        },
        {
          "output_type": "stream",
          "name": "stdout",
          "text": [
            "Train Epoch: 16 [400/700 (57%)]\tLoss: 0.013447\n"
          ]
        },
        {
          "output_type": "stream",
          "name": "stderr",
          "text": [
            " 78%|███████▊  | 15.556818181818496/20 [01:07<00:24,  5.59s/it]"
          ]
        },
        {
          "output_type": "stream",
          "name": "stdout",
          "text": [
            "Train Epoch: 16 [450/700 (64%)]\tLoss: 0.091980\n"
          ]
        },
        {
          "output_type": "stream",
          "name": "stderr",
          "text": [
            " 78%|███████▊  | 15.61363636363668/20 [01:08<00:21,  4.99s/it]"
          ]
        },
        {
          "output_type": "stream",
          "name": "stdout",
          "text": [
            "Train Epoch: 16 [500/700 (71%)]\tLoss: 0.499241\n"
          ]
        },
        {
          "output_type": "stream",
          "name": "stderr",
          "text": [
            " 78%|███████▊  | 15.6818181818185/20 [01:08<00:19,  4.51s/it] "
          ]
        },
        {
          "output_type": "stream",
          "name": "stdout",
          "text": [
            "Train Epoch: 16 [550/700 (79%)]\tLoss: 0.039321\n"
          ]
        },
        {
          "output_type": "stream",
          "name": "stderr",
          "text": [
            " 79%|███████▊  | 15.738636363636683/20 [01:08<00:18,  4.32s/it]"
          ]
        },
        {
          "output_type": "stream",
          "name": "stdout",
          "text": [
            "Train Epoch: 16 [600/700 (86%)]\tLoss: 0.090431\n"
          ]
        },
        {
          "output_type": "stream",
          "name": "stderr",
          "text": [
            "\r 79%|███████▉  | 15.772727272727593/20 [01:08<00:18,  4.31s/it]"
          ]
        },
        {
          "output_type": "stream",
          "name": "stdout",
          "text": [
            "Train Epoch: 16 [650/700 (93%)]\tLoss: 0.025524\n"
          ]
        },
        {
          "output_type": "stream",
          "name": "stderr",
          "text": [
            " 80%|████████  | 16.045454545454874/20 [01:09<00:14,  3.61s/it]"
          ]
        },
        {
          "output_type": "stream",
          "name": "stdout",
          "text": [
            "\n",
            "Test Epoch: 16\tAccuracy: 167/175 (95%)\n",
            "\n",
            "Train Epoch: 17 [0/700 (0%)]\tLoss: 0.090225\n"
          ]
        },
        {
          "output_type": "stream",
          "name": "stderr",
          "text": [
            " 81%|████████  | 16.113636363636694/20 [01:10<00:15,  3.88s/it]"
          ]
        },
        {
          "output_type": "stream",
          "name": "stdout",
          "text": [
            "Train Epoch: 17 [50/700 (7%)]\tLoss: 0.005712\n"
          ]
        },
        {
          "output_type": "stream",
          "name": "stderr",
          "text": [
            "\r 81%|████████  | 16.147727272727604/20 [01:10<00:15,  3.98s/it]"
          ]
        },
        {
          "output_type": "stream",
          "name": "stdout",
          "text": [
            "Train Epoch: 17 [100/700 (14%)]\tLoss: 0.101856\n"
          ]
        },
        {
          "output_type": "stream",
          "name": "stderr",
          "text": [
            " 81%|████████  | 16.215909090909424/20 [01:10<00:16,  4.25s/it]"
          ]
        },
        {
          "output_type": "stream",
          "name": "stdout",
          "text": [
            "Train Epoch: 17 [150/700 (21%)]\tLoss: 0.131790\n"
          ]
        },
        {
          "output_type": "stream",
          "name": "stderr",
          "text": [
            " 81%|████████▏ | 16.284090909091244/20 [01:10<00:15,  4.08s/it]"
          ]
        },
        {
          "output_type": "stream",
          "name": "stdout",
          "text": [
            "Train Epoch: 17 [200/700 (29%)]\tLoss: 0.433826\n"
          ]
        },
        {
          "output_type": "stream",
          "name": "stderr",
          "text": [
            "\r 82%|████████▏ | 16.318181818182154/20 [01:10<00:15,  4.17s/it]"
          ]
        },
        {
          "output_type": "stream",
          "name": "stdout",
          "text": [
            "Train Epoch: 17 [250/700 (36%)]\tLoss: 0.221596\n"
          ]
        },
        {
          "output_type": "stream",
          "name": "stderr",
          "text": [
            " 82%|████████▏ | 16.386363636363974/20 [01:11<00:15,  4.20s/it]"
          ]
        },
        {
          "output_type": "stream",
          "name": "stdout",
          "text": [
            "Train Epoch: 17 [300/700 (43%)]\tLoss: 0.215569\n"
          ]
        },
        {
          "output_type": "stream",
          "name": "stderr",
          "text": [
            " 82%|████████▏ | 16.454545454545794/20 [01:11<00:14,  4.15s/it]"
          ]
        },
        {
          "output_type": "stream",
          "name": "stdout",
          "text": [
            "Train Epoch: 17 [350/700 (50%)]\tLoss: 0.058036\n"
          ]
        },
        {
          "output_type": "stream",
          "name": "stderr",
          "text": [
            "\r 82%|████████▏ | 16.488636363636704/20 [01:11<00:14,  4.16s/it]"
          ]
        },
        {
          "output_type": "stream",
          "name": "stdout",
          "text": [
            "Train Epoch: 17 [400/700 (57%)]\tLoss: 0.163764\n"
          ]
        },
        {
          "output_type": "stream",
          "name": "stderr",
          "text": [
            " 83%|████████▎ | 16.556818181818524/20 [01:11<00:14,  4.11s/it]"
          ]
        },
        {
          "output_type": "stream",
          "name": "stdout",
          "text": [
            "Train Epoch: 17 [450/700 (64%)]\tLoss: 0.325068\n"
          ]
        },
        {
          "output_type": "stream",
          "name": "stderr",
          "text": [
            " 83%|████████▎ | 16.625000000000345/20 [01:12<00:13,  4.14s/it]"
          ]
        },
        {
          "output_type": "stream",
          "name": "stdout",
          "text": [
            "Train Epoch: 17 [500/700 (71%)]\tLoss: 0.167579\n"
          ]
        },
        {
          "output_type": "stream",
          "name": "stderr",
          "text": [
            "\r 83%|████████▎ | 16.659090909091255/20 [01:12<00:13,  4.11s/it]"
          ]
        },
        {
          "output_type": "stream",
          "name": "stdout",
          "text": [
            "Train Epoch: 17 [550/700 (79%)]\tLoss: 0.064468\n"
          ]
        },
        {
          "output_type": "stream",
          "name": "stderr",
          "text": [
            " 84%|████████▎ | 16.727272727273075/20 [01:12<00:13,  4.01s/it]"
          ]
        },
        {
          "output_type": "stream",
          "name": "stdout",
          "text": [
            "Train Epoch: 17 [600/700 (86%)]\tLoss: 0.182121\n"
          ]
        },
        {
          "output_type": "stream",
          "name": "stderr",
          "text": [
            " 84%|████████▍ | 16.795454545454895/20 [01:12<00:12,  3.97s/it]"
          ]
        },
        {
          "output_type": "stream",
          "name": "stdout",
          "text": [
            "Train Epoch: 17 [650/700 (93%)]\tLoss: 0.041675\n"
          ]
        },
        {
          "output_type": "stream",
          "name": "stderr",
          "text": [
            " 85%|████████▌ | 17.045454545454902/20 [01:13<00:10,  3.58s/it]"
          ]
        },
        {
          "output_type": "stream",
          "name": "stdout",
          "text": [
            "\n",
            "Test Epoch: 17\tAccuracy: 163/175 (93%)\n",
            "\n",
            "Train Epoch: 18 [0/700 (0%)]\tLoss: 0.034801\n"
          ]
        },
        {
          "output_type": "stream",
          "name": "stderr",
          "text": [
            " 86%|████████▌ | 17.113636363636722/20 [01:13<00:10,  3.75s/it]"
          ]
        },
        {
          "output_type": "stream",
          "name": "stdout",
          "text": [
            "Train Epoch: 18 [50/700 (7%)]\tLoss: 0.096986\n"
          ]
        },
        {
          "output_type": "stream",
          "name": "stderr",
          "text": [
            "\r 86%|████████▌ | 17.147727272727632/20 [01:14<00:11,  3.93s/it]"
          ]
        },
        {
          "output_type": "stream",
          "name": "stdout",
          "text": [
            "Train Epoch: 18 [100/700 (14%)]\tLoss: 0.061847\n"
          ]
        },
        {
          "output_type": "stream",
          "name": "stderr",
          "text": [
            " 86%|████████▌ | 17.215909090909452/20 [01:14<00:10,  3.88s/it]"
          ]
        },
        {
          "output_type": "stream",
          "name": "stdout",
          "text": [
            "Train Epoch: 18 [150/700 (21%)]\tLoss: 0.007744\n"
          ]
        },
        {
          "output_type": "stream",
          "name": "stderr",
          "text": [
            " 86%|████████▋ | 17.284090909091272/20 [01:14<00:10,  3.91s/it]"
          ]
        },
        {
          "output_type": "stream",
          "name": "stdout",
          "text": [
            "Train Epoch: 18 [200/700 (29%)]\tLoss: 0.005550\n"
          ]
        },
        {
          "output_type": "stream",
          "name": "stderr",
          "text": [
            "\r 87%|████████▋ | 17.318181818182182/20 [01:14<00:10,  3.95s/it]"
          ]
        },
        {
          "output_type": "stream",
          "name": "stdout",
          "text": [
            "Train Epoch: 18 [250/700 (36%)]\tLoss: 0.041664\n"
          ]
        },
        {
          "output_type": "stream",
          "name": "stderr",
          "text": [
            " 87%|████████▋ | 17.386363636364003/20 [01:15<00:10,  3.98s/it]"
          ]
        },
        {
          "output_type": "stream",
          "name": "stdout",
          "text": [
            "Train Epoch: 18 [300/700 (43%)]\tLoss: 0.014421\n"
          ]
        },
        {
          "output_type": "stream",
          "name": "stderr",
          "text": [
            " 87%|████████▋ | 17.454545454545823/20 [01:15<00:10,  3.96s/it]"
          ]
        },
        {
          "output_type": "stream",
          "name": "stdout",
          "text": [
            "Train Epoch: 18 [350/700 (50%)]\tLoss: 0.083548\n"
          ]
        },
        {
          "output_type": "stream",
          "name": "stderr",
          "text": [
            "\r 87%|████████▋ | 17.488636363636733/20 [01:15<00:10,  4.16s/it]"
          ]
        },
        {
          "output_type": "stream",
          "name": "stdout",
          "text": [
            "Train Epoch: 18 [400/700 (57%)]\tLoss: 0.120762\n"
          ]
        },
        {
          "output_type": "stream",
          "name": "stderr",
          "text": [
            " 88%|████████▊ | 17.556818181818553/20 [01:15<00:10,  4.10s/it]"
          ]
        },
        {
          "output_type": "stream",
          "name": "stdout",
          "text": [
            "Train Epoch: 18 [450/700 (64%)]\tLoss: 0.056298\n"
          ]
        },
        {
          "output_type": "stream",
          "name": "stderr",
          "text": [
            " 88%|████████▊ | 17.625000000000373/20 [01:16<00:09,  4.07s/it]"
          ]
        },
        {
          "output_type": "stream",
          "name": "stdout",
          "text": [
            "Train Epoch: 18 [500/700 (71%)]\tLoss: 0.577658\n"
          ]
        },
        {
          "output_type": "stream",
          "name": "stderr",
          "text": [
            "\r 88%|████████▊ | 17.659090909091283/20 [01:16<00:09,  4.19s/it]"
          ]
        },
        {
          "output_type": "stream",
          "name": "stdout",
          "text": [
            "Train Epoch: 18 [550/700 (79%)]\tLoss: 0.296608\n"
          ]
        },
        {
          "output_type": "stream",
          "name": "stderr",
          "text": [
            " 89%|████████▊ | 17.727272727273103/20 [01:16<00:09,  4.17s/it]"
          ]
        },
        {
          "output_type": "stream",
          "name": "stdout",
          "text": [
            "Train Epoch: 18 [600/700 (86%)]\tLoss: 0.082859\n"
          ]
        },
        {
          "output_type": "stream",
          "name": "stderr",
          "text": [
            " 89%|████████▉ | 17.795454545454923/20 [01:16<00:09,  4.11s/it]"
          ]
        },
        {
          "output_type": "stream",
          "name": "stdout",
          "text": [
            "Train Epoch: 18 [650/700 (93%)]\tLoss: 0.287400\n"
          ]
        },
        {
          "output_type": "stream",
          "name": "stderr",
          "text": [
            " 90%|█████████ | 18.01136363636402/20 [01:17<00:09,  4.84s/it]"
          ]
        },
        {
          "output_type": "stream",
          "name": "stdout",
          "text": [
            "\n",
            "Test Epoch: 18\tAccuracy: 165/175 (94%)\n",
            "\n",
            "Train Epoch: 19 [0/700 (0%)]\tLoss: 0.439658\n"
          ]
        },
        {
          "output_type": "stream",
          "name": "stderr",
          "text": [
            " 90%|█████████ | 18.07954545454584/20 [01:18<00:10,  5.64s/it] "
          ]
        },
        {
          "output_type": "stream",
          "name": "stdout",
          "text": [
            "Train Epoch: 19 [50/700 (7%)]\tLoss: 0.061723\n"
          ]
        },
        {
          "output_type": "stream",
          "name": "stderr",
          "text": [
            " 91%|█████████ | 18.14772727272766/20 [01:18<00:12,  6.54s/it] "
          ]
        },
        {
          "output_type": "stream",
          "name": "stdout",
          "text": [
            "Train Epoch: 19 [100/700 (14%)]\tLoss: 0.073094\n"
          ]
        },
        {
          "output_type": "stream",
          "name": "stderr",
          "text": [
            " 91%|█████████ | 18.193181818182207/20 [01:19<00:12,  6.88s/it]"
          ]
        },
        {
          "output_type": "stream",
          "name": "stdout",
          "text": [
            "Train Epoch: 19 [150/700 (21%)]\tLoss: 0.132026\n"
          ]
        },
        {
          "output_type": "stream",
          "name": "stderr",
          "text": [
            " 91%|█████████▏| 18.261363636364027/20 [01:19<00:12,  6.96s/it]"
          ]
        },
        {
          "output_type": "stream",
          "name": "stdout",
          "text": [
            "Train Epoch: 19 [200/700 (29%)]\tLoss: 0.111121\n"
          ]
        },
        {
          "output_type": "stream",
          "name": "stderr",
          "text": [
            " 92%|█████████▏| 18.306818181818574/20 [01:19<00:11,  6.90s/it]"
          ]
        },
        {
          "output_type": "stream",
          "name": "stdout",
          "text": [
            "Train Epoch: 19 [250/700 (36%)]\tLoss: 0.004092\n"
          ]
        },
        {
          "output_type": "stream",
          "name": "stderr",
          "text": [
            " 92%|█████████▏| 18.375000000000394/20 [01:20<00:11,  7.17s/it]"
          ]
        },
        {
          "output_type": "stream",
          "name": "stdout",
          "text": [
            "Train Epoch: 19 [300/700 (43%)]\tLoss: 0.308055\n"
          ]
        },
        {
          "output_type": "stream",
          "name": "stderr",
          "text": [
            " 92%|█████████▏| 18.42045454545494/20 [01:20<00:11,  7.15s/it] "
          ]
        },
        {
          "output_type": "stream",
          "name": "stdout",
          "text": [
            "Train Epoch: 19 [350/700 (50%)]\tLoss: 0.154942\n"
          ]
        },
        {
          "output_type": "stream",
          "name": "stderr",
          "text": [
            " 92%|█████████▏| 18.48863636363676/20 [01:21<00:10,  7.08s/it] "
          ]
        },
        {
          "output_type": "stream",
          "name": "stdout",
          "text": [
            "Train Epoch: 19 [400/700 (57%)]\tLoss: 0.009973\n"
          ]
        },
        {
          "output_type": "stream",
          "name": "stderr",
          "text": [
            " 93%|█████████▎| 18.534090909091308/20 [01:21<00:09,  6.71s/it]"
          ]
        },
        {
          "output_type": "stream",
          "name": "stdout",
          "text": [
            "Train Epoch: 19 [450/700 (64%)]\tLoss: 0.044712\n"
          ]
        },
        {
          "output_type": "stream",
          "name": "stderr",
          "text": [
            " 93%|█████████▎| 18.602272727273128/20 [01:21<00:09,  6.69s/it]"
          ]
        },
        {
          "output_type": "stream",
          "name": "stdout",
          "text": [
            "Train Epoch: 19 [500/700 (71%)]\tLoss: 0.108785\n"
          ]
        },
        {
          "output_type": "stream",
          "name": "stderr",
          "text": [
            " 93%|█████████▎| 18.647727272727675/20 [01:22<00:08,  6.40s/it]"
          ]
        },
        {
          "output_type": "stream",
          "name": "stdout",
          "text": [
            "Train Epoch: 19 [550/700 (79%)]\tLoss: 0.006397\n"
          ]
        },
        {
          "output_type": "stream",
          "name": "stderr",
          "text": [
            " 94%|█████████▎| 18.715909090909495/20 [01:22<00:07,  5.81s/it]"
          ]
        },
        {
          "output_type": "stream",
          "name": "stdout",
          "text": [
            "Train Epoch: 19 [600/700 (86%)]\tLoss: 0.066465\n"
          ]
        },
        {
          "output_type": "stream",
          "name": "stderr",
          "text": [
            " 94%|█████████▍| 18.784090909091315/20 [01:22<00:05,  4.66s/it]"
          ]
        },
        {
          "output_type": "stream",
          "name": "stdout",
          "text": [
            "Train Epoch: 19 [650/700 (93%)]\tLoss: 0.009051\n"
          ]
        },
        {
          "output_type": "stream",
          "name": "stderr",
          "text": [
            " 95%|█████████▌| 19.022727272727685/20 [01:23<00:03,  3.45s/it]"
          ]
        },
        {
          "output_type": "stream",
          "name": "stdout",
          "text": [
            "\n",
            "Test Epoch: 19\tAccuracy: 155/175 (89%)\n",
            "\n",
            "Train Epoch: 20 [0/700 (0%)]\tLoss: 0.029931\n"
          ]
        },
        {
          "output_type": "stream",
          "name": "stderr",
          "text": [
            " 95%|█████████▌| 19.090909090909506/20 [01:23<00:03,  3.84s/it]"
          ]
        },
        {
          "output_type": "stream",
          "name": "stdout",
          "text": [
            "Train Epoch: 20 [50/700 (7%)]\tLoss: 0.121931\n"
          ]
        },
        {
          "output_type": "stream",
          "name": "stderr",
          "text": [
            " 96%|█████████▌| 19.159090909091326/20 [01:24<00:03,  3.99s/it]"
          ]
        },
        {
          "output_type": "stream",
          "name": "stdout",
          "text": [
            "Train Epoch: 20 [100/700 (14%)]\tLoss: 0.011886\n"
          ]
        },
        {
          "output_type": "stream",
          "name": "stderr",
          "text": [
            " 96%|█████████▌| 19.227272727273146/20 [01:24<00:03,  3.91s/it]"
          ]
        },
        {
          "output_type": "stream",
          "name": "stdout",
          "text": [
            "Train Epoch: 20 [150/700 (21%)]\tLoss: 0.261369\n"
          ]
        },
        {
          "output_type": "stream",
          "name": "stderr",
          "text": [
            "\r 96%|█████████▋| 19.261363636364056/20 [01:24<00:02,  3.95s/it]"
          ]
        },
        {
          "output_type": "stream",
          "name": "stdout",
          "text": [
            "Train Epoch: 20 [200/700 (29%)]\tLoss: 0.227714\n"
          ]
        },
        {
          "output_type": "stream",
          "name": "stderr",
          "text": [
            " 97%|█████████▋| 19.329545454545876/20 [01:24<00:02,  3.97s/it]"
          ]
        },
        {
          "output_type": "stream",
          "name": "stdout",
          "text": [
            "Train Epoch: 20 [250/700 (36%)]\tLoss: 0.043530\n"
          ]
        },
        {
          "output_type": "stream",
          "name": "stderr",
          "text": [
            " 97%|█████████▋| 19.397727272727696/20 [01:25<00:02,  4.04s/it]"
          ]
        },
        {
          "output_type": "stream",
          "name": "stdout",
          "text": [
            "Train Epoch: 20 [300/700 (43%)]\tLoss: 0.123747\n"
          ]
        },
        {
          "output_type": "stream",
          "name": "stderr",
          "text": [
            "\r 97%|█████████▋| 19.431818181818606/20 [01:25<00:02,  4.05s/it]"
          ]
        },
        {
          "output_type": "stream",
          "name": "stdout",
          "text": [
            "Train Epoch: 20 [350/700 (50%)]\tLoss: 0.424565\n"
          ]
        },
        {
          "output_type": "stream",
          "name": "stderr",
          "text": [
            " 98%|█████████▊| 19.500000000000426/20 [01:25<00:01,  3.93s/it]"
          ]
        },
        {
          "output_type": "stream",
          "name": "stdout",
          "text": [
            "Train Epoch: 20 [400/700 (57%)]\tLoss: 0.120092\n"
          ]
        },
        {
          "output_type": "stream",
          "name": "stderr",
          "text": [
            " 98%|█████████▊| 19.568181818182246/20 [01:25<00:01,  3.97s/it]"
          ]
        },
        {
          "output_type": "stream",
          "name": "stdout",
          "text": [
            "Train Epoch: 20 [450/700 (64%)]\tLoss: 0.073030\n"
          ]
        },
        {
          "output_type": "stream",
          "name": "stderr",
          "text": [
            "\r 98%|█████████▊| 19.602272727273157/20 [01:26<00:01,  4.04s/it]"
          ]
        },
        {
          "output_type": "stream",
          "name": "stdout",
          "text": [
            "Train Epoch: 20 [500/700 (71%)]\tLoss: 0.068235\n"
          ]
        },
        {
          "output_type": "stream",
          "name": "stderr",
          "text": [
            " 98%|█████████▊| 19.670454545454977/20 [01:26<00:01,  4.02s/it]"
          ]
        },
        {
          "output_type": "stream",
          "name": "stdout",
          "text": [
            "Train Epoch: 20 [550/700 (79%)]\tLoss: 0.080486\n"
          ]
        },
        {
          "output_type": "stream",
          "name": "stderr",
          "text": [
            " 99%|█████████▊| 19.738636363636797/20 [01:26<00:01,  3.93s/it]"
          ]
        },
        {
          "output_type": "stream",
          "name": "stdout",
          "text": [
            "Train Epoch: 20 [600/700 (86%)]\tLoss: 0.097468\n"
          ]
        },
        {
          "output_type": "stream",
          "name": "stderr",
          "text": [
            "\r 99%|█████████▉| 19.772727272727707/20 [01:26<00:00,  3.90s/it]"
          ]
        },
        {
          "output_type": "stream",
          "name": "stdout",
          "text": [
            "Train Epoch: 20 [650/700 (93%)]\tLoss: 0.029124\n"
          ]
        },
        {
          "output_type": "stream",
          "name": "stderr",
          "text": [
            "100%|█████████▉| 19.977272727273167/20 [01:27<00:00,  3.61s/it]/usr/local/lib/python3.10/dist-packages/tqdm/std.py:636: TqdmWarning: clamping frac to range [0, 1]\n",
            "  full_bar = Bar(frac,\n",
            "100%|██████████| 20.00000000000044/20 [01:27<00:00,  4.38s/it] \n"
          ]
        },
        {
          "output_type": "stream",
          "name": "stdout",
          "text": [
            "\n",
            "Test Epoch: 20\tAccuracy: 158/175 (90%)\n",
            "\n"
          ]
        },
        {
          "output_type": "display_data",
          "data": {
            "text/plain": [
              "<Figure size 640x480 with 1 Axes>"
            ],
            "image/png": "[encoded data removed]"
          },
          "metadata": {}
        }
      ],
      "source": [
        "log_interval = 5\n",
        "n_epoch = 20\n",
        "\n",
        "pbar_update = 1 / (len(train_loader) + len(test_loader))\n",
        "losses = []\n",
        "\n",
        "# The transform needs to live on the same device as the model and the data.\n",
        "transform = transform.to(device)\n",
        "with tqdm(total=n_epoch) as pbar:\n",
        "    for epoch in range(1, n_epoch + 1):\n",
        "        train(model, epoch, log_interval)\n",
        "        test(model, epoch)\n",
        "        scheduler.step()\n",
        "\n",
        "# Let's plot the training loss versus the number of iteration.\n",
        "plt.plot(losses);\n",
        "plt.title(\"training loss\");"
      ]
    },
    {
      "cell_type": "code",
      "execution_count": 33,
      "metadata": {
        "id": "vqaEs81jjaQx",
        "outputId": "027b1682-35e3-4232-9039-9dbbb001696d",
        "colab": {
          "base_uri": "https://localhost:8080/"
        }
      },
      "outputs": [
        {
          "output_type": "stream",
          "name": "stdout",
          "text": [
            "Expected: zero. Predicted: zero.\n"
          ]
        }
      ],
      "source": [
        "def predict(tensor):\n",
        "    tensor = tensor.to(device)\n",
        "    tensor = transform(tensor)\n",
        "\n",
        "    # Add the batch dimension\n",
        "    tensor = tensor.unsqueeze(0)  # shape: [1, 1, 8160]\n",
        "\n",
        "    # Expand the single channel to two channels without duplication of data\n",
        "    tensor = tensor.expand(1, 2, -1)  # shape: [1, 2, 8160]\n",
        "\n",
        "    tensor = model(tensor)\n",
        "    tensor = get_likely_index(tensor)\n",
        "    tensor = index_to_label(tensor.squeeze())\n",
        "    return tensor\n",
        "\n",
        "waveform, sample_rate, utterance, *_ = train_set[-20]\n",
        "ipd.Audio(waveform.numpy(), rate=sample_rate)\n",
        "\n",
        "print(f\"Expected: {utterance}. Predicted: {predict(waveform)}.\")"
      ]
    },
    {
      "cell_type": "markdown",
      "metadata": {
        "id": "FdOaYehSjaQy"
      },
      "source": [
        "Let’s find an example that isn’t classified correctly, if there is one.\n",
        "\n",
        "\n"
      ]
    },
    {
      "cell_type": "code",
      "execution_count": 34,
      "metadata": {
        "id": "XCr2TM1YjaQz",
        "outputId": "75be7ad4-61bb-44ae-e445-2bcff958ead2",
        "colab": {
          "base_uri": "https://localhost:8080/"
        }
      },
      "outputs": [
        {
          "output_type": "stream",
          "name": "stdout",
          "text": [
            "Data point #18. Expected: cat. Predicted: off.\n"
          ]
        }
      ],
      "source": [
        "for i, (waveform, sample_rate, utterance, *_) in enumerate(test_set):\n",
        "    output = predict(waveform)\n",
        "    if output != utterance:\n",
        "        ipd.Audio(waveform.numpy(), rate=sample_rate)\n",
        "        print(f\"Data point #{i}. Expected: {utterance}. Predicted: {output}.\")\n",
        "        break\n",
        "else:\n",
        "    print(\"All examples in this dataset were correctly classified!\")\n",
        "    print(\"In this case, let's just look at the last data point\")\n",
        "    ipd.Audio(waveform.numpy(), rate=sample_rate)\n",
        "    print(f\"Data point #{i}. Expected: {utterance}. Predicted: {output}.\")"
      ]
    },
    {
      "cell_type": "code",
      "execution_count": 43,
      "metadata": {
        "id": "3goSAjHPjaQ1",
        "outputId": "f77f93d8-4fd1-424b-f3f6-7d697e316a57",
        "colab": {
          "base_uri": "https://localhost:8080/",
          "height": 69
        }
      },
      "outputs": [
        {
          "output_type": "stream",
          "name": "stdout",
          "text": [
            "Recording started for 1 seconds.\n"
          ]
        },
        {
          "output_type": "display_data",
          "data": {
            "text/plain": [
              "<IPython.core.display.Javascript object>"
            ],
            "application/javascript": [
              "const sleep  = time => new Promise(resolve => setTimeout(resolve, time))\n",
              "const b2text = blob => new Promise(resolve => {\n",
              "  const reader = new FileReader()\n",
              "  reader.onloadend = e => resolve(e.srcElement.result)\n",
              "  reader.readAsDataURL(blob)\n",
              "})\n",
              "var record = time => new Promise(async resolve => {\n",
              "  stream = await navigator.mediaDevices.getUserMedia({ audio: true })\n",
              "  recorder = new MediaRecorder(stream)\n",
              "  chunks = []\n",
              "  recorder.ondataavailable = e => chunks.push(e.data)\n",
              "  recorder.start()\n",
              "  await sleep(time)\n",
              "  recorder.onstop = async ()=>{\n",
              "    blob = new Blob(chunks)\n",
              "    text = await b2text(blob)\n",
              "    resolve(text)\n",
              "  }\n",
              "  recorder.stop()\n",
              "})"
            ]
          },
          "metadata": {}
        },
        {
          "output_type": "stream",
          "name": "stdout",
          "text": [
            "Recording ended.\n",
            "Predicted: learn.\n"
          ]
        }
      ],
      "source": [
        "def record(seconds=1):\n",
        "\n",
        "    from google.colab import output as colab_output\n",
        "    from base64 import b64decode\n",
        "    from io import BytesIO\n",
        "    from pydub import AudioSegment\n",
        "\n",
        "    RECORD = (\n",
        "        b\"const sleep  = time => new Promise(resolve => setTimeout(resolve, time))\\n\"\n",
        "        b\"const b2text = blob => new Promise(resolve => {\\n\"\n",
        "        b\"  const reader = new FileReader()\\n\"\n",
        "        b\"  reader.onloadend = e => resolve(e.srcElement.result)\\n\"\n",
        "        b\"  reader.readAsDataURL(blob)\\n\"\n",
        "        b\"})\\n\"\n",
        "        b\"var record = time => new Promise(async resolve => {\\n\"\n",
        "        b\"  stream = await navigator.mediaDevices.getUserMedia({ audio: true })\\n\"\n",
        "        b\"  recorder = new MediaRecorder(stream)\\n\"\n",
        "        b\"  chunks = []\\n\"\n",
        "        b\"  recorder.ondataavailable = e => chunks.push(e.data)\\n\"\n",
        "        b\"  recorder.start()\\n\"\n",
        "        b\"  await sleep(time)\\n\"\n",
        "        b\"  recorder.onstop = async ()=>{\\n\"\n",
        "        b\"    blob = new Blob(chunks)\\n\"\n",
        "        b\"    text = await b2text(blob)\\n\"\n",
        "        b\"    resolve(text)\\n\"\n",
        "        b\"  }\\n\"\n",
        "        b\"  recorder.stop()\\n\"\n",
        "        b\"})\"\n",
        "    )\n",
        "    RECORD = RECORD.decode(\"ascii\")\n",
        "\n",
        "    print(f\"Recording started for {seconds} seconds.\")\n",
        "    display(ipd.Javascript(RECORD))\n",
        "    s = colab_output.eval_js(\"record(%d)\" % (seconds * 1000))\n",
        "    print(\"Recording ended.\")\n",
        "    b = b64decode(s.split(\",\")[1])\n",
        "\n",
        "    fileformat = \"wav\"\n",
        "    filename = f\"_audio.{fileformat}\"\n",
        "    AudioSegment.from_file(BytesIO(b)).export(filename, format=fileformat)\n",
        "    return torchaudio.load(filename)\n",
        "\n",
        "\n",
        "# Detect whether notebook runs in google colab\n",
        "if \"google.colab\" in sys.modules:\n",
        "    waveform, sample_rate = record()\n",
        "    print(f\"Predicted: {predict(waveform)}.\")\n",
        "    ipd.Audio(waveform.numpy(), rate=sample_rate)"
      ]
    }
  ],
  "metadata": {
    "kernelspec": {
      "display_name": "Python 3",
      "name": "python3"
    },
    "language_info": {
      "codemirror_mode": {
        "name": "ipython",
        "version": 3
      },
      "file_extension": ".py",
      "mimetype": "text/x-python",
      "name": "python",
      "nbconvert_exporter": "python",
      "pygments_lexer": "ipython3",
      "version": "3.10.9"
    },
    "colab": {
      "provenance": [],
      "gpuType": "T4"
    },
    "accelerator": "GPU"
  },
  "nbformat": 4,
  "nbformat_minor": 0
}